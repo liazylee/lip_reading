{
 "cells": [
  {
   "cell_type": "code",
   "execution_count": 1,
   "metadata": {
    "collapsed": true
   },
   "outputs": [],
   "source": [
    "import os\n",
    "import cv2\n",
    "import tensorflow as tf\n",
    "import numpy as np\n",
    "from typing import List\n",
    "from matplotlib import pyplot as plt\n",
    "import imageio"
   ]
  },
  {
   "cell_type": "code",
   "execution_count": 2,
   "outputs": [],
   "source": [
    "tf.config.list_physical_devices('GPU')\n",
    "physical_devices = tf.config.list_physical_devices('GPU')\n",
    "# use only 1 GPU\n",
    "tf.config.set_visible_devices(physical_devices[0], 'GPU')\n",
    "tf.config.experimental.set_memory_growth(physical_devices[0], True)\n"
   ],
   "metadata": {
    "collapsed": false
   }
  },
  {
   "cell_type": "code",
   "execution_count": 3,
   "outputs": [],
   "source": [
    "def load_video(path:str) -> List[float]:\n",
    "\n",
    "    cap = cv2.VideoCapture(path)\n",
    "    frames = []\n",
    "    for _ in range(int(cap.get(cv2.CAP_PROP_FRAME_COUNT))):\n",
    "        ret, frame = cap.read()\n",
    "        frame = tf.image.rgb_to_grayscale(frame)\n",
    "        frames.append(frame[190:236,80:220,:])\n",
    "    cap.release()  # close the video file\n",
    "\n",
    "    mean = tf.math.reduce_mean(frames)  # compute the mean\n",
    "    std = tf.math.reduce_std(tf.cast(frames, tf.float32)) # compute the standard deviation\n",
    "    return tf.cast((frames - mean), tf.float32) / std # normalize to zero mean and unit variance\n"
   ],
   "metadata": {
    "collapsed": false
   }
  },
  {
   "cell_type": "code",
   "execution_count": 4,
   "outputs": [],
   "source": [
    "vocab = [x for x in \"abcdefghijklmnopqrstuvwxyz'?!123456789 \"]"
   ],
   "metadata": {
    "collapsed": false
   }
  },
  {
   "cell_type": "code",
   "execution_count": 5,
   "outputs": [
    {
     "name": "stdout",
     "output_type": "stream",
     "text": [
      "The vocabulary is: ['', 'a', 'b', 'c', 'd', 'e', 'f', 'g', 'h', 'i', 'j', 'k', 'l', 'm', 'n', 'o', 'p', 'q', 'r', 's', 't', 'u', 'v', 'w', 'x', 'y', 'z', \"'\", '?', '!', '1', '2', '3', '4', '5', '6', '7', '8', '9', ' '] (size =40)\n"
     ]
    },
    {
     "name": "stderr",
     "output_type": "stream",
     "text": [
      "2023-12-06 15:35:29.708502: I metal_plugin/src/device/metal_device.cc:1154] Metal device set to: Apple M1 Pro\n",
      "2023-12-06 15:35:29.708530: I metal_plugin/src/device/metal_device.cc:296] systemMemory: 16.00 GB\n",
      "2023-12-06 15:35:29.708535: I metal_plugin/src/device/metal_device.cc:313] maxCacheSize: 5.33 GB\n",
      "2023-12-06 15:35:29.708576: I tensorflow/core/common_runtime/pluggable_device/pluggable_device_factory.cc:306] Could not identify NUMA node of platform GPU ID 0, defaulting to 0. Your kernel may not have been built with NUMA support.\n",
      "2023-12-06 15:35:29.708591: I tensorflow/core/common_runtime/pluggable_device/pluggable_device_factory.cc:272] Created TensorFlow device (/job:localhost/replica:0/task:0/device:GPU:0 with 0 MB memory) -> physical PluggableDevice (device: 0, name: METAL, pci bus id: <undefined>)\n"
     ]
    }
   ],
   "source": [
    "char_to_num = tf.keras.layers.StringLookup(vocabulary=vocab, oov_token=\"\")\n",
    "num_to_char = tf.keras.layers.StringLookup(\n",
    "    vocabulary=char_to_num.get_vocabulary(), oov_token=\"\", invert=True\n",
    ")\n",
    "\n",
    "print(\n",
    "    f\"The vocabulary is: {char_to_num.get_vocabulary()} \"\n",
    "    f\"(size ={char_to_num.vocabulary_size()})\"\n",
    ")"
   ],
   "metadata": {
    "collapsed": false
   }
  },
  {
   "cell_type": "code",
   "execution_count": 115,
   "outputs": [
    {
     "data": {
      "text/plain": "<tf.Tensor: shape=(4,), dtype=string, numpy=array([b'n', b'i', b'c', b'k'], dtype=object)>"
     },
     "execution_count": 115,
     "metadata": {},
     "output_type": "execute_result"
    }
   ],
   "source": [
    "char_to_num.get_vocabulary()\n",
    "char_to_num(['n','i','c','k'])\n",
    "num_to_char([14,  9,  3, 11])\n"
   ],
   "metadata": {
    "collapsed": false
   }
  },
  {
   "cell_type": "code",
   "execution_count": 6,
   "outputs": [],
   "source": [
    "def load_alignments(path:str) ->  List[str]:\n",
    "    with open(path, 'r') as f:\n",
    "        alignments = f.readlines()\n",
    "    tokens =[]\n",
    "    for line in alignments:\n",
    "        line = line.split()\n",
    "        if line[2] !='sil':\n",
    "            tokens=[*tokens,' ', line[2]]\n",
    "    return char_to_num(tf.reshape(tf.strings.unicode_split(tokens, input_encoding='UTF-8'), (-1)))[1:]\n"
   ],
   "metadata": {
    "collapsed": false
   }
  },
  {
   "cell_type": "code",
   "execution_count": 7,
   "outputs": [],
   "source": [
    "def load_data(path:str):\n",
    "    path = path.numpy().decode('utf-8')\n",
    "    file_name = path.split('/')[-1].split('.')[0]\n",
    "    video_path=os.path.join('data','s1',f'{file_name}.mpg')\n",
    "    alignment_path=os.path.join('data','alignments','s1',f'{file_name}.align')\n",
    "    frames=load_video(video_path)\n",
    "    alignments=load_alignments(alignment_path)\n",
    "    return frames, alignments"
   ],
   "metadata": {
    "collapsed": false
   }
  },
  {
   "cell_type": "code",
   "execution_count": 118,
   "outputs": [
    {
     "ename": "AttributeError",
     "evalue": "'str' object has no attribute 'numpy'",
     "output_type": "error",
     "traceback": [
      "\u001B[0;31m---------------------------------------------------------------------------\u001B[0m",
      "\u001B[0;31mAttributeError\u001B[0m                            Traceback (most recent call last)",
      "Cell \u001B[0;32mIn[118], line 4\u001B[0m\n\u001B[1;32m      1\u001B[0m \u001B[38;5;66;03m# test a single video\u001B[39;00m\n\u001B[1;32m      2\u001B[0m test_path\u001B[38;5;241m=\u001B[39m\u001B[38;5;124m'\u001B[39m\u001B[38;5;124mdata/s1/bbifzp.mpg\u001B[39m\u001B[38;5;124m'\u001B[39m\n\u001B[0;32m----> 4\u001B[0m frames, alignments \u001B[38;5;241m=\u001B[39m \u001B[43mload_data\u001B[49m\u001B[43m(\u001B[49m\u001B[43mtest_path\u001B[49m\u001B[43m)\u001B[49m\n",
      "Cell \u001B[0;32mIn[117], line 2\u001B[0m, in \u001B[0;36mload_data\u001B[0;34m(path)\u001B[0m\n\u001B[1;32m      1\u001B[0m \u001B[38;5;28;01mdef\u001B[39;00m \u001B[38;5;21mload_data\u001B[39m(path:\u001B[38;5;28mstr\u001B[39m):\n\u001B[0;32m----> 2\u001B[0m     path \u001B[38;5;241m=\u001B[39m \u001B[43mpath\u001B[49m\u001B[38;5;241;43m.\u001B[39;49m\u001B[43mnumpy\u001B[49m()\u001B[38;5;241m.\u001B[39mdecode(\u001B[38;5;124m'\u001B[39m\u001B[38;5;124mutf-8\u001B[39m\u001B[38;5;124m'\u001B[39m)\n\u001B[1;32m      3\u001B[0m     file_name \u001B[38;5;241m=\u001B[39m path\u001B[38;5;241m.\u001B[39msplit(\u001B[38;5;124m'\u001B[39m\u001B[38;5;124m/\u001B[39m\u001B[38;5;124m'\u001B[39m)[\u001B[38;5;241m-\u001B[39m\u001B[38;5;241m1\u001B[39m]\u001B[38;5;241m.\u001B[39msplit(\u001B[38;5;124m'\u001B[39m\u001B[38;5;124m.\u001B[39m\u001B[38;5;124m'\u001B[39m)[\u001B[38;5;241m0\u001B[39m]\n\u001B[1;32m      4\u001B[0m     video_path\u001B[38;5;241m=\u001B[39mos\u001B[38;5;241m.\u001B[39mpath\u001B[38;5;241m.\u001B[39mjoin(\u001B[38;5;124m'\u001B[39m\u001B[38;5;124mdata\u001B[39m\u001B[38;5;124m'\u001B[39m,\u001B[38;5;124m'\u001B[39m\u001B[38;5;124ms1\u001B[39m\u001B[38;5;124m'\u001B[39m,\u001B[38;5;124mf\u001B[39m\u001B[38;5;124m'\u001B[39m\u001B[38;5;132;01m{\u001B[39;00mfile_name\u001B[38;5;132;01m}\u001B[39;00m\u001B[38;5;124m.mpg\u001B[39m\u001B[38;5;124m'\u001B[39m)\n",
      "\u001B[0;31mAttributeError\u001B[0m: 'str' object has no attribute 'numpy'"
     ]
    }
   ],
   "source": [
    "# test a single video\n",
    "test_path='data/s1/bbifzp.mpg'\n",
    "\n",
    "frames, alignments = load_data(test_path)\n",
    "\n",
    "\n"
   ],
   "metadata": {
    "collapsed": false
   }
  },
  {
   "cell_type": "code",
   "execution_count": 119,
   "outputs": [
    {
     "ename": "IndexError",
     "evalue": "index 40 is out of bounds for axis 0 with size 2",
     "output_type": "error",
     "traceback": [
      "\u001B[0;31m---------------------------------------------------------------------------\u001B[0m",
      "\u001B[0;31mIndexError\u001B[0m                                Traceback (most recent call last)",
      "Cell \u001B[0;32mIn[119], line 1\u001B[0m\n\u001B[0;32m----> 1\u001B[0m plt\u001B[38;5;241m.\u001B[39mimshow(\u001B[43mframes\u001B[49m\u001B[43m[\u001B[49m\u001B[38;5;241;43m40\u001B[39;49m\u001B[43m]\u001B[49m)\n",
      "\u001B[0;31mIndexError\u001B[0m: index 40 is out of bounds for axis 0 with size 2"
     ]
    }
   ],
   "source": [
    "plt.imshow(frames[40])\n"
   ],
   "metadata": {
    "collapsed": false
   }
  },
  {
   "cell_type": "code",
   "execution_count": 120,
   "outputs": [
    {
     "data": {
      "text/plain": "array([[16, 12,  1,  3,  5, 39,  2, 12, 21,  5, 39,  9, 14, 39,  9, 39,\n        26,  5, 18, 15, 39, 14, 15, 23,  0,  0,  0,  0,  0,  0,  0,  0,\n         0,  0,  0,  0,  0,  0,  0,  0],\n       [16, 12,  1,  3,  5, 39, 23,  8,  9, 20,  5, 39,  1, 20, 39, 17,\n        39, 15, 14,  5, 39, 19, 15, 15, 14,  0,  0,  0,  0,  0,  0,  0,\n         0,  0,  0,  0,  0,  0,  0,  0]])"
     },
     "execution_count": 120,
     "metadata": {},
     "output_type": "execute_result"
    }
   ],
   "source": [
    "alignments"
   ],
   "metadata": {
    "collapsed": false
   }
  },
  {
   "cell_type": "code",
   "execution_count": 121,
   "outputs": [
    {
     "ename": "AttributeError",
     "evalue": "'numpy.ndarray' object has no attribute 'numpy'",
     "output_type": "error",
     "traceback": [
      "\u001B[0;31m---------------------------------------------------------------------------\u001B[0m",
      "\u001B[0;31mAttributeError\u001B[0m                            Traceback (most recent call last)",
      "Cell \u001B[0;32mIn[121], line 1\u001B[0m\n\u001B[0;32m----> 1\u001B[0m tf\u001B[38;5;241m.\u001B[39mstrings\u001B[38;5;241m.\u001B[39mreduce_join([\u001B[38;5;28mbytes\u001B[39m\u001B[38;5;241m.\u001B[39mdecode(x) \u001B[38;5;28;01mfor\u001B[39;00m x \u001B[38;5;129;01min\u001B[39;00m num_to_char(\u001B[43malignments\u001B[49m\u001B[38;5;241;43m.\u001B[39;49m\u001B[43mnumpy\u001B[49m())\u001B[38;5;241m.\u001B[39mnumpy()])\n",
      "\u001B[0;31mAttributeError\u001B[0m: 'numpy.ndarray' object has no attribute 'numpy'"
     ]
    }
   ],
   "source": [
    "tf.strings.reduce_join([bytes.decode(x) for x in num_to_char(alignments.numpy()).numpy()])"
   ],
   "metadata": {
    "collapsed": false
   }
  },
  {
   "cell_type": "code",
   "execution_count": 8,
   "outputs": [],
   "source": [
    "def mappable_function(path:str) ->List[str]:  # mappable_function is a function that takes a path and returns a tuple of (frames, alignments)\n",
    "    return tf.py_function(load_data, [path], [tf.float32, tf.int64])\n"
   ],
   "metadata": {
    "collapsed": false
   }
  },
  {
   "cell_type": "code",
   "execution_count": 9,
   "outputs": [],
   "source": [
    "from matplotlib import pyplot as plt\n",
    "\n",
    "# import glob\n",
    "#\n",
    "# files = glob.glob('./data/s1/*.mpg')\n",
    "\n",
    "data = tf.data.Dataset.list_files('./data/s1/*.mpg')\n",
    "\n",
    "data = data.shuffle(500, reshuffle_each_iteration=False)\n",
    "#\n",
    "data = data.map(mappable_function)\n",
    "#\n",
    "data = data.padded_batch(2, padded_shapes=([75,None,None,None],[40]))\n",
    "# #\n",
    "data = data.prefetch(tf.data.AUTOTUNE)\n",
    "# #\n",
    "# Added for split\n",
    "train = data.take(450)\n",
    "#\n",
    "test = data.skip(450)\n",
    "\n"
   ],
   "metadata": {
    "collapsed": false
   }
  },
  {
   "cell_type": "code",
   "execution_count": 124,
   "outputs": [],
   "source": [
    "frames,alignments=data.as_numpy_iterator().next()\n"
   ],
   "metadata": {
    "collapsed": false
   }
  },
  {
   "cell_type": "code",
   "execution_count": 125,
   "outputs": [
    {
     "data": {
      "text/plain": "array([[[[[1.4231664 ],\n          [1.5000943 ],\n          [1.4616303 ],\n          ...,\n          [0.30771166],\n          [0.2692477 ],\n          [0.2692477 ]],\n\n         [[1.5000943 ],\n          [1.5385582 ],\n          [1.4616303 ],\n          ...,\n          [0.30771166],\n          [0.2692477 ],\n          [0.2692477 ]],\n\n         [[1.5000943 ],\n          [1.5000943 ],\n          [1.4616303 ],\n          ...,\n          [0.3461756 ],\n          [0.30771166],\n          [0.30771166]],\n\n         ...,\n\n         [[1.0769908 ],\n          [1.0385268 ],\n          [1.0385268 ],\n          ...,\n          [0.03846396],\n          [0.03846396],\n          [0.03846396]],\n\n         [[1.0385268 ],\n          [1.0385268 ],\n          [1.0385268 ],\n          ...,\n          [0.03846396],\n          [0.03846396],\n          [0.03846396]],\n\n         [[1.0385268 ],\n          [1.0385268 ],\n          [1.0385268 ],\n          ...,\n          [0.03846396],\n          [0.03846396],\n          [0.        ]]],\n\n\n        [[[1.6154861 ],\n          [1.6154861 ],\n          [1.4616303 ],\n          ...,\n          [0.2692477 ],\n          [0.23078375],\n          [0.23078375]],\n\n         [[1.6154861 ],\n          [1.5385582 ],\n          [1.4616303 ],\n          ...,\n          [0.2692477 ],\n          [0.23078375],\n          [0.23078375]],\n\n         [[1.5000943 ],\n          [1.5000943 ],\n          [1.4231664 ],\n          ...,\n          [0.3461756 ],\n          [0.3461756 ],\n          [0.30771166]],\n\n         ...,\n\n         [[1.0385268 ],\n          [1.0000628 ],\n          [1.0000628 ],\n          ...,\n          [0.        ],\n          [0.        ],\n          [9.808309  ]],\n\n         [[1.0000628 ],\n          [1.0000628 ],\n          [1.0000628 ],\n          ...,\n          [0.        ],\n          [9.808309  ],\n          [9.808309  ]],\n\n         [[1.0000628 ],\n          [1.0000628 ],\n          [1.0000628 ],\n          ...,\n          [9.808309  ],\n          [9.808309  ],\n          [9.808309  ]]],\n\n\n        [[[1.5770222 ],\n          [1.5770222 ],\n          [1.4616303 ],\n          ...,\n          [0.30771166],\n          [0.30771166],\n          [0.30771166]],\n\n         [[1.5770222 ],\n          [1.5000943 ],\n          [1.4616303 ],\n          ...,\n          [0.30771166],\n          [0.30771166],\n          [0.30771166]],\n\n         [[1.5000943 ],\n          [1.5000943 ],\n          [1.4231664 ],\n          ...,\n          [0.30771166],\n          [0.3461756 ],\n          [0.2692477 ]],\n\n         ...,\n\n         [[1.0385268 ],\n          [1.0000628 ],\n          [1.0000628 ],\n          ...,\n          [0.03846396],\n          [0.03846396],\n          [9.808309  ]],\n\n         [[1.0000628 ],\n          [1.0000628 ],\n          [1.0000628 ],\n          ...,\n          [0.        ],\n          [0.        ],\n          [0.        ]],\n\n         [[1.0000628 ],\n          [1.0000628 ],\n          [1.0000628 ],\n          ...,\n          [0.        ],\n          [9.808309  ],\n          [9.808309  ]]],\n\n\n        ...,\n\n\n        [[[1.5000943 ],\n          [1.5385582 ],\n          [1.5385582 ],\n          ...,\n          [0.30771166],\n          [0.3461756 ],\n          [0.3461756 ]],\n\n         [[1.4616303 ],\n          [1.5385582 ],\n          [1.5770222 ],\n          ...,\n          [0.30771166],\n          [0.3461756 ],\n          [0.3461756 ]],\n\n         [[1.4231664 ],\n          [1.4231664 ],\n          [1.4231664 ],\n          ...,\n          [0.30771166],\n          [0.30771166],\n          [0.30771166]],\n\n         ...,\n\n         [[1.0769908 ],\n          [1.0385268 ],\n          [1.0385268 ],\n          ...,\n          [0.03846396],\n          [0.03846396],\n          [0.03846396]],\n\n         [[1.0385268 ],\n          [1.0385268 ],\n          [1.0385268 ],\n          ...,\n          [0.03846396],\n          [0.        ],\n          [9.808309  ]],\n\n         [[1.0385268 ],\n          [1.0385268 ],\n          [1.0385268 ],\n          ...,\n          [0.03846396],\n          [9.808309  ],\n          [9.808309  ]]],\n\n\n        [[[1.5770222 ],\n          [1.4231664 ],\n          [1.4231664 ],\n          ...,\n          [0.30771166],\n          [0.3461756 ],\n          [0.3461756 ]],\n\n         [[1.5770222 ],\n          [1.4616303 ],\n          [1.4231664 ],\n          ...,\n          [0.30771166],\n          [0.3461756 ],\n          [0.3461756 ]],\n\n         [[1.4231664 ],\n          [1.4231664 ],\n          [1.4616303 ],\n          ...,\n          [0.30771166],\n          [0.30771166],\n          [0.30771166]],\n\n         ...,\n\n         [[1.0769908 ],\n          [1.0385268 ],\n          [1.0385268 ],\n          ...,\n          [0.        ],\n          [0.        ],\n          [0.        ]],\n\n         [[1.0385268 ],\n          [1.0385268 ],\n          [1.0385268 ],\n          ...,\n          [0.        ],\n          [9.808309  ],\n          [9.769845  ]],\n\n         [[1.0385268 ],\n          [1.0385268 ],\n          [1.0385268 ],\n          ...,\n          [0.        ],\n          [9.769845  ],\n          [9.769845  ]]],\n\n\n        [[[1.6154861 ],\n          [1.5000943 ],\n          [1.4231664 ],\n          ...,\n          [0.3461756 ],\n          [0.3461756 ],\n          [0.3461756 ]],\n\n         [[1.5770222 ],\n          [1.5770222 ],\n          [1.4616303 ],\n          ...,\n          [0.3461756 ],\n          [0.3461756 ],\n          [0.3461756 ]],\n\n         [[1.4616303 ],\n          [1.4616303 ],\n          [1.4231664 ],\n          ...,\n          [0.3461756 ],\n          [0.30771166],\n          [0.30771166]],\n\n         ...,\n\n         [[1.0769908 ],\n          [1.0769908 ],\n          [1.0385268 ],\n          ...,\n          [0.03846396],\n          [0.03846396],\n          [0.03846396]],\n\n         [[1.0769908 ],\n          [1.0385268 ],\n          [1.0385268 ],\n          ...,\n          [0.03846396],\n          [9.808309  ],\n          [9.808309  ]],\n\n         [[1.0385268 ],\n          [1.0385268 ],\n          [1.0385268 ],\n          ...,\n          [0.03846396],\n          [9.808309  ],\n          [9.769845  ]]]],\n\n\n\n       [[[[1.3613865 ],\n          [1.3613865 ],\n          [1.3613865 ],\n          ...,\n          [9.879777  ],\n          [9.9186735 ],\n          [9.1407385 ]],\n\n         [[1.3613865 ],\n          [1.3613865 ],\n          [1.3613865 ],\n          ...,\n          [9.4908085 ],\n          [9.374119  ],\n          [8.751771  ]],\n\n         [[1.283593  ],\n          [1.283593  ],\n          [1.283593  ],\n          ...,\n          [9.218532  ],\n          [9.4908085 ],\n          [9.4908085 ]],\n\n         ...,\n\n         [[0.8946254 ],\n          [0.8946254 ],\n          [0.8946254 ],\n          ...,\n          [9.72419   ],\n          [9.685293  ],\n          [9.685293  ]],\n\n         [[0.8946254 ],\n          [0.8946254 ],\n          [0.8946254 ],\n          ...,\n          [9.646396  ],\n          [9.685293  ],\n          [9.685293  ]],\n\n         [[0.8946254 ],\n          [0.8946254 ],\n          [0.8946254 ],\n          ...,\n          [9.685293  ],\n          [9.685293  ],\n          [9.607499  ]]],\n\n\n        [[[1.283593  ],\n          [1.283593  ],\n          [1.283593  ],\n          ...,\n          [0.        ],\n          [0.03889676],\n          [9.1407385 ]],\n\n         [[1.283593  ],\n          [1.283593  ],\n          [1.283593  ],\n          ...,\n          [9.374119  ],\n          [9.296325  ],\n          [8.946255  ]],\n\n         [[1.283593  ],\n          [1.283593  ],\n          [1.283593  ],\n          ...,\n          [9.101841  ],\n          [9.4908085 ],\n          [9.4908085 ]],\n\n         ...,\n\n         [[0.8946254 ],\n          [0.8946254 ],\n          [0.8946254 ],\n          ...,\n          [9.840879  ],\n          [9.801983  ],\n          [9.801983  ]],\n\n         [[0.8946254 ],\n          [0.8946254 ],\n          [0.8946254 ],\n          ...,\n          [9.763086  ],\n          [9.72419   ],\n          [9.763086  ]],\n\n         [[0.81683195],\n          [0.81683195],\n          [0.81683195],\n          ...,\n          [9.801983  ],\n          [9.72419   ],\n          [9.646396  ]]],\n\n\n        [[[1.283593  ],\n          [1.283593  ],\n          [1.283593  ],\n          ...,\n          [0.03889676],\n          [0.07779352],\n          [9.218532  ]],\n\n         [[1.283593  ],\n          [1.283593  ],\n          [1.283593  ],\n          ...,\n          [9.335222  ],\n          [9.218532  ],\n          [8.946255  ]],\n\n         [[1.283593  ],\n          [1.283593  ],\n          [1.283593  ],\n          ...,\n          [9.1407385 ],\n          [9.4908085 ],\n          [9.4908085 ]],\n\n         ...,\n\n         [[0.8946254 ],\n          [0.8946254 ],\n          [0.8946254 ],\n          ...,\n          [9.840879  ],\n          [9.801983  ],\n          [9.801983  ]],\n\n         [[0.8946254 ],\n          [0.8946254 ],\n          [0.8946254 ],\n          ...,\n          [9.763086  ],\n          [9.72419   ],\n          [9.763086  ]],\n\n         [[0.8946254 ],\n          [0.8557287 ],\n          [0.81683195],\n          ...,\n          [9.801983  ],\n          [9.72419   ],\n          [9.72419   ]]],\n\n\n        ...,\n\n\n        [[[1.4002833 ],\n          [1.4002833 ],\n          [1.3613865 ],\n          ...,\n          [9.1407385 ],\n          [9.72419   ],\n          [9.879777  ]],\n\n         [[1.3613865 ],\n          [1.3613865 ],\n          [1.3224897 ],\n          ...,\n          [9.296325  ],\n          [9.879777  ],\n          [9.840879  ]],\n\n         [[1.2446963 ],\n          [1.2446963 ],\n          [1.2446963 ],\n          ...,\n          [9.879777  ],\n          [9.9186735 ],\n          [9.9186735 ]],\n\n         ...,\n\n         [[0.97241896],\n          [0.8946254 ],\n          [0.8946254 ],\n          ...,\n          [9.801983  ],\n          [9.840879  ],\n          [9.72419   ]],\n\n         [[0.93352216],\n          [0.8946254 ],\n          [0.8946254 ],\n          ...,\n          [9.72419   ],\n          [9.840879  ],\n          [9.801983  ]],\n\n         [[0.93352216],\n          [0.8946254 ],\n          [0.8946254 ],\n          ...,\n          [9.72419   ],\n          [9.801983  ],\n          [9.801983  ]]],\n\n\n        [[[1.3224897 ],\n          [1.3613865 ],\n          [1.3224897 ],\n          ...,\n          [9.101841  ],\n          [9.840879  ],\n          [9.801983  ]],\n\n         [[1.283593  ],\n          [1.283593  ],\n          [1.283593  ],\n          ...,\n          [9.296325  ],\n          [9.879777  ],\n          [9.72419   ]],\n\n         [[1.3613865 ],\n          [1.3224897 ],\n          [1.3224897 ],\n          ...,\n          [0.        ],\n          [0.07779352],\n          [0.07779352]],\n\n         ...,\n\n         [[0.97241896],\n          [0.8946254 ],\n          [0.8946254 ],\n          ...,\n          [9.801983  ],\n          [9.840879  ],\n          [9.801983  ]],\n\n         [[0.93352216],\n          [0.8946254 ],\n          [0.8946254 ],\n          ...,\n          [9.763086  ],\n          [9.840879  ],\n          [9.840879  ]],\n\n         [[0.93352216],\n          [0.8946254 ],\n          [0.8946254 ],\n          ...,\n          [9.763086  ],\n          [9.801983  ],\n          [9.840879  ]]],\n\n\n        [[[1.3224897 ],\n          [1.3224897 ],\n          [1.3224897 ],\n          ...,\n          [9.179635  ],\n          [9.840879  ],\n          [9.763086  ]],\n\n         [[1.3224897 ],\n          [1.3224897 ],\n          [1.3224897 ],\n          ...,\n          [9.257428  ],\n          [9.9186735 ],\n          [9.763086  ]],\n\n         [[1.283593  ],\n          [1.3613865 ],\n          [1.283593  ],\n          ...,\n          [0.03889676],\n          [0.03889676],\n          [0.03889676]],\n\n         ...,\n\n         [[0.97241896],\n          [0.8946254 ],\n          [0.8557287 ],\n          ...,\n          [9.801983  ],\n          [9.840879  ],\n          [9.801983  ]],\n\n         [[0.8946254 ],\n          [0.8946254 ],\n          [0.8557287 ],\n          ...,\n          [9.763086  ],\n          [9.72419   ],\n          [9.72419   ]],\n\n         [[0.8946254 ],\n          [0.8946254 ],\n          [0.8557287 ],\n          ...,\n          [9.72419   ],\n          [9.685293  ],\n          [9.72419   ]]]]], dtype=float32)"
     },
     "execution_count": 125,
     "metadata": {},
     "output_type": "execute_result"
    }
   ],
   "source": [
    "frames"
   ],
   "metadata": {
    "collapsed": false
   }
  },
  {
   "cell_type": "code",
   "execution_count": 126,
   "outputs": [
    {
     "data": {
      "text/plain": "2"
     },
     "execution_count": 126,
     "metadata": {},
     "output_type": "execute_result"
    }
   ],
   "source": [
    "len(frames)"
   ],
   "metadata": {
    "collapsed": false
   }
  },
  {
   "cell_type": "code",
   "execution_count": 14,
   "outputs": [],
   "source": [
    "sample = data.as_numpy_iterator()\n"
   ],
   "metadata": {
    "collapsed": false
   }
  },
  {
   "cell_type": "code",
   "execution_count": 15,
   "outputs": [
    {
     "data": {
      "text/plain": "array([[[[[ 1.4295566 ],\n          [ 1.270717  ],\n          [ 0.7544882 ],\n          ...,\n          [ 0.31767926],\n          [ 0.23825945],\n          [ 0.23825945]],\n\n         [[ 1.2310071 ],\n          [ 1.0721675 ],\n          [ 0.5559387 ],\n          ...,\n          [ 0.31767926],\n          [ 0.23825945],\n          [ 0.23825945]],\n\n         [[ 1.4295566 ],\n          [ 1.4295566 ],\n          [ 1.310427  ],\n          ...,\n          [ 0.31767926],\n          [ 0.23825945],\n          [ 0.23825945]],\n\n         ...,\n\n         [[ 1.1515874 ],\n          [ 1.1515874 ],\n          [ 1.1515874 ],\n          ...,\n          [10.126026  ],\n          [10.086316  ],\n          [10.086316  ]],\n\n         [[ 1.1515874 ],\n          [ 1.1515874 ],\n          [ 1.1118774 ],\n          ...,\n          [10.126026  ],\n          [10.086316  ],\n          [10.086316  ]],\n\n         [[ 1.1515874 ],\n          [ 1.1515874 ],\n          [ 1.1118774 ],\n          ...,\n          [10.126026  ],\n          [10.086316  ],\n          [10.086316  ]]],\n\n\n        [[[ 1.4692665 ],\n          [ 1.310427  ],\n          [ 0.8339081 ],\n          ...,\n          [ 0.27796936],\n          [ 0.23825945],\n          [ 0.27796936]],\n\n         [[ 1.310427  ],\n          [ 1.1912972 ],\n          [ 0.5956486 ],\n          ...,\n          [ 0.27796936],\n          [ 0.23825945],\n          [ 0.27796936]],\n\n         [[ 1.4295566 ],\n          [ 1.4295566 ],\n          [ 1.310427  ],\n          ...,\n          [ 0.19854954],\n          [ 0.19854954],\n          [ 0.15883963]],\n\n         ...,\n\n         [[ 1.1912972 ],\n          [ 1.1912972 ],\n          [ 1.1515874 ],\n          ...,\n          [ 0.        ],\n          [10.126026  ],\n          [10.126026  ]],\n\n         [[ 1.1912972 ],\n          [ 1.1912972 ],\n          [ 1.1118774 ],\n          ...,\n          [ 0.        ],\n          [10.126026  ],\n          [10.126026  ]],\n\n         [[ 1.1912972 ],\n          [ 1.1912972 ],\n          [ 1.1118774 ],\n          ...,\n          [ 0.        ],\n          [10.126026  ],\n          [10.126026  ]]],\n\n\n        [[[ 1.4692665 ],\n          [ 1.270717  ],\n          [ 0.87361795],\n          ...,\n          [ 0.27796936],\n          [ 0.23825945],\n          [ 0.27796936]],\n\n         [[ 1.3501369 ],\n          [ 1.270717  ],\n          [ 0.6353585 ],\n          ...,\n          [ 0.27796936],\n          [ 0.23825945],\n          [ 0.27796936]],\n\n         [[ 1.3501369 ],\n          [ 1.310427  ],\n          [ 1.1912972 ],\n          ...,\n          [ 0.31767926],\n          [ 0.19854954],\n          [ 0.19854954]],\n\n         ...,\n\n         [[ 1.1912972 ],\n          [ 1.1912972 ],\n          [ 1.1515874 ],\n          ...,\n          [10.126026  ],\n          [10.086316  ],\n          [10.086316  ]],\n\n         [[ 1.1515874 ],\n          [ 1.1515874 ],\n          [ 1.1118774 ],\n          ...,\n          [10.126026  ],\n          [10.086316  ],\n          [10.086316  ]],\n\n         [[ 1.1515874 ],\n          [ 1.1515874 ],\n          [ 1.1118774 ],\n          ...,\n          [10.126026  ],\n          [10.086316  ],\n          [10.086316  ]]],\n\n\n        ...,\n\n\n        [[[ 1.270717  ],\n          [ 1.310427  ],\n          [ 0.7147783 ],\n          ...,\n          [ 0.19854954],\n          [ 0.19854954],\n          [ 0.19854954]],\n\n         [[ 1.3501369 ],\n          [ 1.270717  ],\n          [ 0.67506844],\n          ...,\n          [ 0.23825945],\n          [ 0.23825945],\n          [ 0.23825945]],\n\n         [[ 1.5089765 ],\n          [ 1.5089765 ],\n          [ 1.310427  ],\n          ...,\n          [ 0.19854954],\n          [ 0.19854954],\n          [ 0.19854954]],\n\n         ...,\n\n         [[ 1.1515874 ],\n          [ 1.1118774 ],\n          [ 1.1118774 ],\n          ...,\n          [10.126026  ],\n          [10.126026  ],\n          [10.086316  ]],\n\n         [[ 1.1118774 ],\n          [ 1.1118774 ],\n          [ 1.1118774 ],\n          ...,\n          [10.126026  ],\n          [10.126026  ],\n          [10.126026  ]],\n\n         [[ 1.1118774 ],\n          [ 1.1118774 ],\n          [ 1.1118774 ],\n          ...,\n          [10.086316  ],\n          [10.126026  ],\n          [10.086316  ]]],\n\n\n        [[[ 1.310427  ],\n          [ 1.310427  ],\n          [ 0.7147783 ],\n          ...,\n          [ 0.31767926],\n          [ 0.23825945],\n          [ 0.23825945]],\n\n         [[ 1.3898468 ],\n          [ 1.270717  ],\n          [ 0.7147783 ],\n          ...,\n          [ 0.31767926],\n          [ 0.23825945],\n          [ 0.23825945]],\n\n         [[ 1.5089765 ],\n          [ 1.5089765 ],\n          [ 1.3501369 ],\n          ...,\n          [ 0.23825945],\n          [ 0.23825945],\n          [ 0.23825945]],\n\n         ...,\n\n         [[ 1.1515874 ],\n          [ 1.1118774 ],\n          [ 1.0721675 ],\n          ...,\n          [10.126026  ],\n          [10.126026  ],\n          [10.086316  ]],\n\n         [[ 1.1118774 ],\n          [ 1.1118774 ],\n          [ 1.0721675 ],\n          ...,\n          [10.126026  ],\n          [10.126026  ],\n          [10.126026  ]],\n\n         [[ 1.1118774 ],\n          [ 1.1118774 ],\n          [ 1.0721675 ],\n          ...,\n          [10.086316  ],\n          [10.126026  ],\n          [10.086316  ]]],\n\n\n        [[[ 1.310427  ],\n          [ 1.3501369 ],\n          [ 0.79419816],\n          ...,\n          [ 0.23825945],\n          [ 0.23825945],\n          [ 0.23825945]],\n\n         [[ 1.3898468 ],\n          [ 1.3501369 ],\n          [ 0.79419816],\n          ...,\n          [ 0.31767926],\n          [ 0.23825945],\n          [ 0.23825945]],\n\n         [[ 1.4692665 ],\n          [ 1.4692665 ],\n          [ 1.310427  ],\n          ...,\n          [ 0.23825945],\n          [ 0.23825945],\n          [ 0.23825945]],\n\n         ...,\n\n         [[ 1.1515874 ],\n          [ 1.1118774 ],\n          [ 1.0721675 ],\n          ...,\n          [10.126026  ],\n          [10.126026  ],\n          [10.126026  ]],\n\n         [[ 1.1118774 ],\n          [ 1.1118774 ],\n          [ 1.0721675 ],\n          ...,\n          [10.126026  ],\n          [ 0.        ],\n          [10.126026  ]],\n\n         [[ 1.1118774 ],\n          [ 1.1118774 ],\n          [ 1.0721675 ],\n          ...,\n          [10.126026  ],\n          [10.126026  ],\n          [10.126026  ]]]],\n\n\n\n       [[[[ 1.5109689 ],\n          [ 1.5109689 ],\n          [ 1.4334834 ],\n          ...,\n          [ 0.23245676],\n          [ 9.801927  ],\n          [ 9.29827   ]],\n\n         [[ 1.5109689 ],\n          [ 1.5109689 ],\n          [ 1.4334834 ],\n          ...,\n          [ 9.84067   ],\n          [ 9.530727  ],\n          [ 9.375755  ]],\n\n         [[ 1.2785121 ],\n          [ 1.2785121 ],\n          [ 1.2785121 ],\n          ...,\n          [ 9.414498  ],\n          [ 9.414498  ],\n          [ 9.491984  ]],\n\n         ...,\n\n         [[ 0.92982703],\n          [ 0.92982703],\n          [ 0.92982703],\n          ...,\n          [ 0.03874279],\n          [ 0.        ],\n          [ 9.879412  ]],\n\n         [[ 0.89108425],\n          [ 0.89108425],\n          [ 0.89108425],\n          ...,\n          [ 0.        ],\n          [ 9.879412  ],\n          [ 9.879412  ]],\n\n         [[ 0.89108425],\n          [ 0.89108425],\n          [ 0.89108425],\n          ...,\n          [ 9.879412  ],\n          [ 9.879412  ],\n          [ 9.801927  ]]],\n\n\n        [[[ 1.3947406 ],\n          [ 1.3947406 ],\n          [ 1.3947406 ],\n          ...,\n          [ 0.6973703 ],\n          [ 9.569469  ],\n          [ 9.491984  ]],\n\n         [[ 1.3559977 ],\n          [ 1.3559977 ],\n          [ 1.3172549 ],\n          ...,\n          [ 9.84067   ],\n          [ 9.337013  ],\n          [ 9.491984  ]],\n\n         [[ 1.2785121 ],\n          [ 1.2785121 ],\n          [ 1.2785121 ],\n          ...,\n          [ 9.143299  ],\n          [ 9.375755  ],\n          [ 9.6856985 ]],\n\n         ...,\n\n         [[ 0.92982703],\n          [ 0.92982703],\n          [ 0.89108425],\n          ...,\n          [ 0.03874279],\n          [ 0.03874279],\n          [ 0.        ]],\n\n         [[ 0.92982703],\n          [ 0.92982703],\n          [ 0.89108425],\n          ...,\n          [ 0.03874279],\n          [ 0.        ],\n          [ 0.        ]],\n\n         [[ 0.92982703],\n          [ 0.92982703],\n          [ 0.89108425],\n          ...,\n          [ 9.879412  ],\n          [ 0.        ],\n          [ 9.84067   ]]],\n\n\n        [[[ 1.3947406 ],\n          [ 1.3947406 ],\n          [ 1.3559977 ],\n          ...,\n          [ 0.65862745],\n          [ 9.569469  ],\n          [ 9.491984  ]],\n\n         [[ 1.3559977 ],\n          [ 1.3559977 ],\n          [ 1.2785121 ],\n          ...,\n          [ 9.763184  ],\n          [ 9.29827   ],\n          [ 9.453241  ]],\n\n         [[ 1.3559977 ],\n          [ 1.3559977 ],\n          [ 1.3559977 ],\n          ...,\n          [ 9.143299  ],\n          [ 9.491984  ],\n          [ 9.84067   ]],\n\n         ...,\n\n         [[ 0.9685698 ],\n          [ 0.9685698 ],\n          [ 0.92982703],\n          ...,\n          [ 0.        ],\n          [ 9.879412  ],\n          [ 9.879412  ]],\n\n         [[ 0.92982703],\n          [ 0.92982703],\n          [ 0.89108425],\n          ...,\n          [ 9.84067   ],\n          [ 9.879412  ],\n          [ 9.879412  ]],\n\n         [[ 0.92982703],\n          [ 0.92982703],\n          [ 0.89108425],\n          ...,\n          [ 9.84067   ],\n          [ 9.879412  ],\n          [ 9.801927  ]]],\n\n\n        ...,\n\n\n        [[[ 1.4334834 ],\n          [ 1.4334834 ],\n          [ 1.3947406 ],\n          ...,\n          [ 0.89108425],\n          [ 1.0847982 ],\n          [ 0.27119955]],\n\n         [[ 1.4334834 ],\n          [ 1.4334834 ],\n          [ 1.3947406 ],\n          ...,\n          [ 0.65862745],\n          [ 1.2397693 ],\n          [ 9.530727  ]],\n\n         [[ 1.3559977 ],\n          [ 1.3559977 ],\n          [ 1.3559977 ],\n          ...,\n          [ 0.6973703 ],\n          [ 0.5423991 ],\n          [ 9.491984  ]],\n\n         ...,\n\n         [[ 0.9685698 ],\n          [ 0.9685698 ],\n          [ 0.9685698 ],\n          ...,\n          [ 0.15497117],\n          [ 0.11622838],\n          [ 0.07748558]],\n\n         [[ 0.9685698 ],\n          [ 0.9685698 ],\n          [ 0.9685698 ],\n          ...,\n          [ 0.07748558],\n          [ 0.07748558],\n          [ 0.03874279]],\n\n         [[ 0.9685698 ],\n          [ 0.9685698 ],\n          [ 0.9685698 ],\n          ...,\n          [ 0.07748558],\n          [ 0.03874279],\n          [ 0.        ]]],\n\n\n        [[[ 1.3947406 ],\n          [ 1.3947406 ],\n          [ 1.3947406 ],\n          ...,\n          [ 0.89108425],\n          [ 1.1622838 ],\n          [ 0.38742793]],\n\n         [[ 1.3947406 ],\n          [ 1.3947406 ],\n          [ 1.3947406 ],\n          ...,\n          [ 0.7361131 ],\n          [ 1.2010266 ],\n          [ 9.6856985 ]],\n\n         [[ 1.4334834 ],\n          [ 1.3947406 ],\n          [ 1.3947406 ],\n          ...,\n          [ 0.8523414 ],\n          [ 0.38742793],\n          [ 9.220784  ]],\n\n         ...,\n\n         [[ 0.9685698 ],\n          [ 0.9685698 ],\n          [ 1.0073127 ],\n          ...,\n          [ 0.15497117],\n          [ 0.07748558],\n          [ 0.03874279]],\n\n         [[ 0.9685698 ],\n          [ 0.9685698 ],\n          [ 1.0073127 ],\n          ...,\n          [ 0.03874279],\n          [ 0.03874279],\n          [ 0.        ]],\n\n         [[ 0.9685698 ],\n          [ 0.9685698 ],\n          [ 1.0073127 ],\n          ...,\n          [ 0.03874279],\n          [ 0.        ],\n          [ 9.879412  ]]],\n\n\n        [[[ 1.3947406 ],\n          [ 1.3947406 ],\n          [ 1.4334834 ],\n          ...,\n          [ 0.9685698 ],\n          [ 1.2010266 ],\n          [ 0.38742793]],\n\n         [[ 1.3947406 ],\n          [ 1.3947406 ],\n          [ 1.4334834 ],\n          ...,\n          [ 0.61988467],\n          [ 1.0847982 ],\n          [ 9.414498  ]],\n\n         [[ 1.3559977 ],\n          [ 1.3559977 ],\n          [ 1.3559977 ],\n          ...,\n          [ 0.77485585],\n          [ 0.34868515],\n          [ 9.182042  ]],\n\n         ...,\n\n         [[ 0.9685698 ],\n          [ 0.9685698 ],\n          [ 0.9685698 ],\n          ...,\n          [ 0.15497117],\n          [ 0.15497117],\n          [ 0.11622838]],\n\n         [[ 0.9685698 ],\n          [ 0.9685698 ],\n          [ 0.9685698 ],\n          ...,\n          [ 0.11622838],\n          [ 0.03874279],\n          [ 0.03874279]],\n\n         [[ 0.9685698 ],\n          [ 0.9685698 ],\n          [ 0.9685698 ],\n          ...,\n          [ 0.07748558],\n          [ 0.03874279],\n          [ 0.        ]]]]], dtype=float32)"
     },
     "execution_count": 15,
     "metadata": {},
     "output_type": "execute_result"
    }
   ],
   "source": [
    "val = sample.next()\n",
    "val[0]"
   ],
   "metadata": {
    "collapsed": false
   }
  },
  {
   "cell_type": "code",
   "execution_count": 132,
   "outputs": [
    {
     "data": {
      "text/plain": "<matplotlib.image.AxesImage at 0x2899b2100>"
     },
     "execution_count": 132,
     "metadata": {},
     "output_type": "execute_result"
    },
    {
     "data": {
      "text/plain": "<Figure size 640x480 with 1 Axes>",
      "image/png": "[encoded data removed]"
     },
     "metadata": {},
     "output_type": "display_data"
    }
   ],
   "source": [
    "plt.imshow(val[0][0][30])\n",
    "\n",
    "\n"
   ],
   "metadata": {
    "collapsed": false
   }
  },
  {
   "cell_type": "code",
   "execution_count": 133,
   "outputs": [
    {
     "data": {
      "text/plain": "<tf.Tensor: shape=(), dtype=string, numpy=b'bin white by t six now'>"
     },
     "execution_count": 133,
     "metadata": {},
     "output_type": "execute_result"
    }
   ],
   "source": [
    "tf.strings.reduce_join([num_to_char(word) for word in val[1][0]])\n"
   ],
   "metadata": {
    "collapsed": false
   }
  },
  {
   "cell_type": "code",
   "execution_count": 10,
   "outputs": [],
   "source": [
    "from tensorflow.keras.models import Sequential\n",
    "from tensorflow.keras.layers import Conv3D, LSTM, Dense, Dropout, Bidirectional, MaxPool3D, Activation, Reshape, SpatialDropout3D, BatchNormalization, TimeDistributed, Flatten\n",
    "from tensorflow.keras.optimizers import Adam\n",
    "from tensorflow.keras.callbacks import ModelCheckpoint, LearningRateScheduler"
   ],
   "metadata": {
    "collapsed": false
   }
  },
  {
   "cell_type": "code",
   "execution_count": 11,
   "outputs": [
    {
     "data": {
      "text/plain": "(75, 46, 140, 1)"
     },
     "execution_count": 11,
     "metadata": {},
     "output_type": "execute_result"
    }
   ],
   "source": [
    "data.as_numpy_iterator().next()[0][0].shape"
   ],
   "metadata": {
    "collapsed": false
   }
  },
  {
   "cell_type": "code",
   "execution_count": 12,
   "outputs": [],
   "source": [
    "model = Sequential()\n",
    "model.add(Conv3D(128, 3, input_shape=(75,46,140,1), padding='same'))\n",
    "model.add(Activation('relu'))\n",
    "model.add(MaxPool3D((1,2,2)))\n",
    "\n",
    "model.add(Conv3D(256, 3, padding='same'))\n",
    "model.add(Activation('relu'))\n",
    "model.add(MaxPool3D((1,2,2)))\n",
    "\n",
    "model.add(Conv3D(75, 3, padding='same'))\n",
    "model.add(Activation('relu'))\n",
    "model.add(MaxPool3D((1,2,2)))\n",
    "\n",
    "model.add(TimeDistributed(Flatten()))\n",
    "\n",
    "model.add(Bidirectional(LSTM(128, kernel_initializer='Orthogonal', return_sequences=True)))\n",
    "model.add(Dropout(.5))\n",
    "\n",
    "model.add(Bidirectional(LSTM(128, kernel_initializer='Orthogonal', return_sequences=True)))\n",
    "model.add(Dropout(.5))\n",
    "\n",
    "model.add(Dense(char_to_num.vocabulary_size()+1, kernel_initializer='he_normal', activation='softmax'))"
   ],
   "metadata": {
    "collapsed": false
   }
  },
  {
   "cell_type": "code",
   "execution_count": 137,
   "outputs": [
    {
     "name": "stdout",
     "output_type": "stream",
     "text": [
      "Model: \"sequential\"\n",
      "_________________________________________________________________\n",
      " Layer (type)                Output Shape              Param #   \n",
      "=================================================================\n",
      " conv3d (Conv3D)             (None, 75, 46, 140, 128   3584      \n",
      "                             )                                   \n",
      "                                                                 \n",
      " activation (Activation)     (None, 75, 46, 140, 128   0         \n",
      "                             )                                   \n",
      "                                                                 \n",
      " max_pooling3d (MaxPooling3  (None, 75, 23, 70, 128)   0         \n",
      " D)                                                              \n",
      "                                                                 \n",
      " conv3d_1 (Conv3D)           (None, 75, 23, 70, 256)   884992    \n",
      "                                                                 \n",
      " activation_1 (Activation)   (None, 75, 23, 70, 256)   0         \n",
      "                                                                 \n",
      " max_pooling3d_1 (MaxPoolin  (None, 75, 11, 35, 256)   0         \n",
      " g3D)                                                            \n",
      "                                                                 \n",
      " conv3d_2 (Conv3D)           (None, 75, 11, 35, 75)    518475    \n",
      "                                                                 \n",
      " activation_2 (Activation)   (None, 75, 11, 35, 75)    0         \n",
      "                                                                 \n",
      " max_pooling3d_2 (MaxPoolin  (None, 75, 5, 17, 75)     0         \n",
      " g3D)                                                            \n",
      "                                                                 \n",
      " time_distributed (TimeDist  (None, 75, 6375)          0         \n",
      " ributed)                                                        \n",
      "                                                                 \n",
      " bidirectional (Bidirection  (None, 75, 256)           6660096   \n",
      " al)                                                             \n",
      "                                                                 \n",
      " dropout (Dropout)           (None, 75, 256)           0         \n",
      "                                                                 \n",
      " bidirectional_1 (Bidirecti  (None, 75, 256)           394240    \n",
      " onal)                                                           \n",
      "                                                                 \n",
      " dropout_1 (Dropout)         (None, 75, 256)           0         \n",
      "                                                                 \n",
      " dense (Dense)               (None, 75, 41)            10537     \n",
      "                                                                 \n",
      "=================================================================\n",
      "Total params: 8471924 (32.32 MB)\n",
      "Trainable params: 8471924 (32.32 MB)\n",
      "Non-trainable params: 0 (0.00 Byte)\n",
      "_________________________________________________________________\n"
     ]
    }
   ],
   "source": [
    "model.summary()"
   ],
   "metadata": {
    "collapsed": false
   }
  },
  {
   "cell_type": "code",
   "execution_count": null,
   "outputs": [],
   "source": [
    "5*17*75"
   ],
   "metadata": {
    "collapsed": false
   }
  },
  {
   "cell_type": "code",
   "execution_count": 16,
   "outputs": [
    {
     "name": "stderr",
     "output_type": "stream",
     "text": [
      "2023-12-06 15:37:04.608970: I tensorflow/core/grappler/optimizers/custom_graph_optimizer_registry.cc:117] Plugin optimizer for device_type GPU is enabled.\n"
     ]
    },
    {
     "name": "stdout",
     "output_type": "stream",
     "text": [
      "1/1 [==============================] - 3s 3s/step\n"
     ]
    }
   ],
   "source": [
    "yhat = model.predict(val[0])\n"
   ],
   "metadata": {
    "collapsed": false
   }
  },
  {
   "cell_type": "code",
   "execution_count": 17,
   "outputs": [
    {
     "data": {
      "text/plain": "<tf.Tensor: shape=(), dtype=string, numpy=b'eeeeeeeeeeeeeeeeeeeeeeeeeeee7vvvvvvvvvvveeeeeeeeeeeeeeeeeeeeeeeeeeeeeeeeeee'>"
     },
     "execution_count": 17,
     "metadata": {},
     "output_type": "execute_result"
    }
   ],
   "source": [
    "tf.strings.reduce_join([num_to_char(x) for x in tf.argmax(yhat[0],axis=1)])\n"
   ],
   "metadata": {
    "collapsed": false
   }
  },
  {
   "cell_type": "code",
   "execution_count": 18,
   "outputs": [
    {
     "data": {
      "text/plain": "<tf.Tensor: shape=(), dtype=string, numpy=b'eeeeeeeeeeeeeeeeeeeeeeeeeeee7vvvvvvvvvvveeeeeeeeeeeeeeeeeeeeeeeeeeeeeeeeeee'>"
     },
     "execution_count": 18,
     "metadata": {},
     "output_type": "execute_result"
    }
   ],
   "source": [
    "tf.strings.reduce_join([num_to_char(tf.argmax(x)) for x in yhat[0]])\n"
   ],
   "metadata": {
    "collapsed": false
   }
  },
  {
   "cell_type": "code",
   "execution_count": 19,
   "outputs": [
    {
     "data": {
      "text/plain": "(None, 75, 46, 140, 1)"
     },
     "execution_count": 19,
     "metadata": {},
     "output_type": "execute_result"
    }
   ],
   "source": [
    "model.input_shape\n"
   ],
   "metadata": {
    "collapsed": false
   }
  },
  {
   "cell_type": "code",
   "execution_count": 20,
   "outputs": [
    {
     "data": {
      "text/plain": "(None, 75, 41)"
     },
     "execution_count": 20,
     "metadata": {},
     "output_type": "execute_result"
    }
   ],
   "source": [
    "model.output_shape\n"
   ],
   "metadata": {
    "collapsed": false
   }
  },
  {
   "cell_type": "code",
   "execution_count": 21,
   "outputs": [],
   "source": [
    "def scheduler(epoch, lr):\n",
    "    if epoch < 30:\n",
    "        return lr\n",
    "    else:\n",
    "        return lr * tf.math.exp(-0.1)"
   ],
   "metadata": {
    "collapsed": false
   }
  },
  {
   "cell_type": "code",
   "execution_count": 22,
   "outputs": [],
   "source": [
    "def CTCLoss(y_true, y_pred):\n",
    "    batch_len = tf.cast(tf.shape(y_true)[0], dtype=\"int64\")\n",
    "    input_length = tf.cast(tf.shape(y_pred)[1], dtype=\"int64\")\n",
    "    label_length = tf.cast(tf.shape(y_true)[1], dtype=\"int64\")\n",
    "\n",
    "    input_length = input_length * tf.ones(shape=(batch_len, 1), dtype=\"int64\")\n",
    "    label_length = label_length * tf.ones(shape=(batch_len, 1), dtype=\"int64\")\n",
    "\n",
    "    loss = tf.keras.backend.ctc_batch_cost(y_true, y_pred, input_length, label_length)\n",
    "    return loss"
   ],
   "metadata": {
    "collapsed": false
   }
  },
  {
   "cell_type": "code",
   "execution_count": 23,
   "outputs": [],
   "source": [
    "class ProduceExample(tf.keras.callbacks.Callback):\n",
    "    def __init__(self, dataset) -> None:\n",
    "        self.dataset = dataset.as_numpy_iterator()\n",
    "\n",
    "    def on_epoch_end(self, epoch, logs=None) -> None:\n",
    "        data = self.dataset.next()\n",
    "        yhat = self.model.predict(data[0])\n",
    "        decoded = tf.keras.backend.ctc_decode(yhat, [75,75], greedy=False)[0][0].numpy()\n",
    "        for x in range(len(yhat)):\n",
    "            print('Original:', tf.strings.reduce_join(num_to_char(data[1][x])).numpy().decode('utf-8'))\n",
    "            print('Prediction:', tf.strings.reduce_join(num_to_char(decoded[x])).numpy().decode('utf-8'))\n",
    "            print('~'*100)"
   ],
   "metadata": {
    "collapsed": false
   }
  },
  {
   "cell_type": "code",
   "execution_count": 24,
   "outputs": [
    {
     "name": "stderr",
     "output_type": "stream",
     "text": [
      "WARNING:absl:At this time, the v2.11+ optimizer `tf.keras.optimizers.Adam` runs slowly on M1/M2 Macs, please use the legacy Keras optimizer instead, located at `tf.keras.optimizers.legacy.Adam`.\n"
     ]
    }
   ],
   "source": [
    "model.compile(optimizer=Adam(learning_rate=0.0001), loss=CTCLoss)\n"
   ],
   "metadata": {
    "collapsed": false
   }
  },
  {
   "cell_type": "code",
   "execution_count": 25,
   "outputs": [],
   "source": [
    "checkpoint_callback = ModelCheckpoint(os.path.join('models','checkpoint'), monitor='loss', save_weights_only=True)\n"
   ],
   "metadata": {
    "collapsed": false
   }
  },
  {
   "cell_type": "code",
   "execution_count": 26,
   "outputs": [],
   "source": [
    "schedule_callback = LearningRateScheduler(scheduler)\n"
   ],
   "metadata": {
    "collapsed": false
   }
  },
  {
   "cell_type": "code",
   "execution_count": 27,
   "outputs": [],
   "source": [
    "example_callback = ProduceExample(test)\n"
   ],
   "metadata": {
    "collapsed": false
   }
  },
  {
   "cell_type": "code",
   "execution_count": 31,
   "outputs": [
    {
     "name": "stdout",
     "output_type": "stream",
     "text": [
      "Num GPUs Available:  1\n"
     ]
    }
   ],
   "source": [
    "tf.config.list_physical_devices()\n",
    "print(\"Num GPUs Available: \", len(tf.config.list_physical_devices('GPU')))\n",
    "# set GPU\n",
    "tf.config.set_visible_devices(physical_devices[0], 'GPU')"
   ],
   "metadata": {
    "collapsed": false
   }
  },
  {
   "cell_type": "code",
   "execution_count": 32,
   "outputs": [
    {
     "name": "stdout",
     "output_type": "stream",
     "text": [
      "Epoch 1/100\n",
      " 47/450 [==>...........................] - ETA: 1:49:22 - loss: 101.4370"
     ]
    },
    {
     "ename": "KeyboardInterrupt",
     "evalue": "",
     "output_type": "error",
     "traceback": [
      "\u001B[0;31m---------------------------------------------------------------------------\u001B[0m",
      "\u001B[0;31mKeyboardInterrupt\u001B[0m                         Traceback (most recent call last)",
      "Cell \u001B[0;32mIn[32], line 3\u001B[0m\n\u001B[1;32m      1\u001B[0m \u001B[38;5;66;03m# run the model with GPU in macos\u001B[39;00m\n\u001B[1;32m      2\u001B[0m \u001B[38;5;28;01mwith\u001B[39;00m tf\u001B[38;5;241m.\u001B[39mdevice(\u001B[38;5;124m'\u001B[39m\u001B[38;5;124m/GPU:0\u001B[39m\u001B[38;5;124m'\u001B[39m):\n\u001B[0;32m----> 3\u001B[0m     \u001B[43mmodel\u001B[49m\u001B[38;5;241;43m.\u001B[39;49m\u001B[43mfit\u001B[49m\u001B[43m(\u001B[49m\u001B[43mtrain\u001B[49m\u001B[43m,\u001B[49m\u001B[43m \u001B[49m\u001B[43mvalidation_data\u001B[49m\u001B[38;5;241;43m=\u001B[39;49m\u001B[43mtest\u001B[49m\u001B[43m,\u001B[49m\u001B[43m \u001B[49m\u001B[43mepochs\u001B[49m\u001B[38;5;241;43m=\u001B[39;49m\u001B[38;5;241;43m100\u001B[39;49m\u001B[43m,\u001B[49m\u001B[43m \u001B[49m\u001B[43mcallbacks\u001B[49m\u001B[38;5;241;43m=\u001B[39;49m\u001B[43m[\u001B[49m\u001B[43mcheckpoint_callback\u001B[49m\u001B[43m,\u001B[49m\u001B[43m \u001B[49m\u001B[43mschedule_callback\u001B[49m\u001B[43m,\u001B[49m\u001B[43m \u001B[49m\u001B[43mexample_callback\u001B[49m\u001B[43m]\u001B[49m\u001B[43m)\u001B[49m\n",
      "File \u001B[0;32m~/jobs/python/venv/ml-stable-diffusion/lib/python3.9/site-packages/keras/src/utils/traceback_utils.py:65\u001B[0m, in \u001B[0;36mfilter_traceback.<locals>.error_handler\u001B[0;34m(*args, **kwargs)\u001B[0m\n\u001B[1;32m     63\u001B[0m filtered_tb \u001B[38;5;241m=\u001B[39m \u001B[38;5;28;01mNone\u001B[39;00m\n\u001B[1;32m     64\u001B[0m \u001B[38;5;28;01mtry\u001B[39;00m:\n\u001B[0;32m---> 65\u001B[0m     \u001B[38;5;28;01mreturn\u001B[39;00m \u001B[43mfn\u001B[49m\u001B[43m(\u001B[49m\u001B[38;5;241;43m*\u001B[39;49m\u001B[43margs\u001B[49m\u001B[43m,\u001B[49m\u001B[43m \u001B[49m\u001B[38;5;241;43m*\u001B[39;49m\u001B[38;5;241;43m*\u001B[39;49m\u001B[43mkwargs\u001B[49m\u001B[43m)\u001B[49m\n\u001B[1;32m     66\u001B[0m \u001B[38;5;28;01mexcept\u001B[39;00m \u001B[38;5;167;01mException\u001B[39;00m \u001B[38;5;28;01mas\u001B[39;00m e:\n\u001B[1;32m     67\u001B[0m     filtered_tb \u001B[38;5;241m=\u001B[39m _process_traceback_frames(e\u001B[38;5;241m.\u001B[39m__traceback__)\n",
      "File \u001B[0;32m~/jobs/python/venv/ml-stable-diffusion/lib/python3.9/site-packages/keras/src/engine/training.py:1807\u001B[0m, in \u001B[0;36mModel.fit\u001B[0;34m(self, x, y, batch_size, epochs, verbose, callbacks, validation_split, validation_data, shuffle, class_weight, sample_weight, initial_epoch, steps_per_epoch, validation_steps, validation_batch_size, validation_freq, max_queue_size, workers, use_multiprocessing)\u001B[0m\n\u001B[1;32m   1799\u001B[0m \u001B[38;5;28;01mwith\u001B[39;00m tf\u001B[38;5;241m.\u001B[39mprofiler\u001B[38;5;241m.\u001B[39mexperimental\u001B[38;5;241m.\u001B[39mTrace(\n\u001B[1;32m   1800\u001B[0m     \u001B[38;5;124m\"\u001B[39m\u001B[38;5;124mtrain\u001B[39m\u001B[38;5;124m\"\u001B[39m,\n\u001B[1;32m   1801\u001B[0m     epoch_num\u001B[38;5;241m=\u001B[39mepoch,\n\u001B[0;32m   (...)\u001B[0m\n\u001B[1;32m   1804\u001B[0m     _r\u001B[38;5;241m=\u001B[39m\u001B[38;5;241m1\u001B[39m,\n\u001B[1;32m   1805\u001B[0m ):\n\u001B[1;32m   1806\u001B[0m     callbacks\u001B[38;5;241m.\u001B[39mon_train_batch_begin(step)\n\u001B[0;32m-> 1807\u001B[0m     tmp_logs \u001B[38;5;241m=\u001B[39m \u001B[38;5;28;43mself\u001B[39;49m\u001B[38;5;241;43m.\u001B[39;49m\u001B[43mtrain_function\u001B[49m\u001B[43m(\u001B[49m\u001B[43miterator\u001B[49m\u001B[43m)\u001B[49m\n\u001B[1;32m   1808\u001B[0m     \u001B[38;5;28;01mif\u001B[39;00m data_handler\u001B[38;5;241m.\u001B[39mshould_sync:\n\u001B[1;32m   1809\u001B[0m         context\u001B[38;5;241m.\u001B[39masync_wait()\n",
      "File \u001B[0;32m~/jobs/python/venv/ml-stable-diffusion/lib/python3.9/site-packages/tensorflow/python/util/traceback_utils.py:150\u001B[0m, in \u001B[0;36mfilter_traceback.<locals>.error_handler\u001B[0;34m(*args, **kwargs)\u001B[0m\n\u001B[1;32m    148\u001B[0m filtered_tb \u001B[38;5;241m=\u001B[39m \u001B[38;5;28;01mNone\u001B[39;00m\n\u001B[1;32m    149\u001B[0m \u001B[38;5;28;01mtry\u001B[39;00m:\n\u001B[0;32m--> 150\u001B[0m   \u001B[38;5;28;01mreturn\u001B[39;00m \u001B[43mfn\u001B[49m\u001B[43m(\u001B[49m\u001B[38;5;241;43m*\u001B[39;49m\u001B[43margs\u001B[49m\u001B[43m,\u001B[49m\u001B[43m \u001B[49m\u001B[38;5;241;43m*\u001B[39;49m\u001B[38;5;241;43m*\u001B[39;49m\u001B[43mkwargs\u001B[49m\u001B[43m)\u001B[49m\n\u001B[1;32m    151\u001B[0m \u001B[38;5;28;01mexcept\u001B[39;00m \u001B[38;5;167;01mException\u001B[39;00m \u001B[38;5;28;01mas\u001B[39;00m e:\n\u001B[1;32m    152\u001B[0m   filtered_tb \u001B[38;5;241m=\u001B[39m _process_traceback_frames(e\u001B[38;5;241m.\u001B[39m__traceback__)\n",
      "File \u001B[0;32m~/jobs/python/venv/ml-stable-diffusion/lib/python3.9/site-packages/tensorflow/python/eager/polymorphic_function/polymorphic_function.py:832\u001B[0m, in \u001B[0;36mFunction.__call__\u001B[0;34m(self, *args, **kwds)\u001B[0m\n\u001B[1;32m    829\u001B[0m compiler \u001B[38;5;241m=\u001B[39m \u001B[38;5;124m\"\u001B[39m\u001B[38;5;124mxla\u001B[39m\u001B[38;5;124m\"\u001B[39m \u001B[38;5;28;01mif\u001B[39;00m \u001B[38;5;28mself\u001B[39m\u001B[38;5;241m.\u001B[39m_jit_compile \u001B[38;5;28;01melse\u001B[39;00m \u001B[38;5;124m\"\u001B[39m\u001B[38;5;124mnonXla\u001B[39m\u001B[38;5;124m\"\u001B[39m\n\u001B[1;32m    831\u001B[0m \u001B[38;5;28;01mwith\u001B[39;00m OptionalXlaContext(\u001B[38;5;28mself\u001B[39m\u001B[38;5;241m.\u001B[39m_jit_compile):\n\u001B[0;32m--> 832\u001B[0m   result \u001B[38;5;241m=\u001B[39m \u001B[38;5;28;43mself\u001B[39;49m\u001B[38;5;241;43m.\u001B[39;49m\u001B[43m_call\u001B[49m\u001B[43m(\u001B[49m\u001B[38;5;241;43m*\u001B[39;49m\u001B[43margs\u001B[49m\u001B[43m,\u001B[49m\u001B[43m \u001B[49m\u001B[38;5;241;43m*\u001B[39;49m\u001B[38;5;241;43m*\u001B[39;49m\u001B[43mkwds\u001B[49m\u001B[43m)\u001B[49m\n\u001B[1;32m    834\u001B[0m new_tracing_count \u001B[38;5;241m=\u001B[39m \u001B[38;5;28mself\u001B[39m\u001B[38;5;241m.\u001B[39mexperimental_get_tracing_count()\n\u001B[1;32m    835\u001B[0m without_tracing \u001B[38;5;241m=\u001B[39m (tracing_count \u001B[38;5;241m==\u001B[39m new_tracing_count)\n",
      "File \u001B[0;32m~/jobs/python/venv/ml-stable-diffusion/lib/python3.9/site-packages/tensorflow/python/eager/polymorphic_function/polymorphic_function.py:868\u001B[0m, in \u001B[0;36mFunction._call\u001B[0;34m(self, *args, **kwds)\u001B[0m\n\u001B[1;32m    865\u001B[0m   \u001B[38;5;28mself\u001B[39m\u001B[38;5;241m.\u001B[39m_lock\u001B[38;5;241m.\u001B[39mrelease()\n\u001B[1;32m    866\u001B[0m   \u001B[38;5;66;03m# In this case we have created variables on the first call, so we run the\u001B[39;00m\n\u001B[1;32m    867\u001B[0m   \u001B[38;5;66;03m# defunned version which is guaranteed to never create variables.\u001B[39;00m\n\u001B[0;32m--> 868\u001B[0m   \u001B[38;5;28;01mreturn\u001B[39;00m \u001B[43mtracing_compilation\u001B[49m\u001B[38;5;241;43m.\u001B[39;49m\u001B[43mcall_function\u001B[49m\u001B[43m(\u001B[49m\n\u001B[1;32m    869\u001B[0m \u001B[43m      \u001B[49m\u001B[43margs\u001B[49m\u001B[43m,\u001B[49m\u001B[43m \u001B[49m\u001B[43mkwds\u001B[49m\u001B[43m,\u001B[49m\u001B[43m \u001B[49m\u001B[38;5;28;43mself\u001B[39;49m\u001B[38;5;241;43m.\u001B[39;49m\u001B[43m_no_variable_creation_config\u001B[49m\n\u001B[1;32m    870\u001B[0m \u001B[43m  \u001B[49m\u001B[43m)\u001B[49m\n\u001B[1;32m    871\u001B[0m \u001B[38;5;28;01melif\u001B[39;00m \u001B[38;5;28mself\u001B[39m\u001B[38;5;241m.\u001B[39m_variable_creation_config \u001B[38;5;129;01mis\u001B[39;00m \u001B[38;5;129;01mnot\u001B[39;00m \u001B[38;5;28;01mNone\u001B[39;00m:\n\u001B[1;32m    872\u001B[0m   \u001B[38;5;66;03m# Release the lock early so that multiple threads can perform the call\u001B[39;00m\n\u001B[1;32m    873\u001B[0m   \u001B[38;5;66;03m# in parallel.\u001B[39;00m\n\u001B[1;32m    874\u001B[0m   \u001B[38;5;28mself\u001B[39m\u001B[38;5;241m.\u001B[39m_lock\u001B[38;5;241m.\u001B[39mrelease()\n",
      "File \u001B[0;32m~/jobs/python/venv/ml-stable-diffusion/lib/python3.9/site-packages/tensorflow/python/eager/polymorphic_function/tracing_compilation.py:139\u001B[0m, in \u001B[0;36mcall_function\u001B[0;34m(args, kwargs, tracing_options)\u001B[0m\n\u001B[1;32m    137\u001B[0m bound_args \u001B[38;5;241m=\u001B[39m function\u001B[38;5;241m.\u001B[39mfunction_type\u001B[38;5;241m.\u001B[39mbind(\u001B[38;5;241m*\u001B[39margs, \u001B[38;5;241m*\u001B[39m\u001B[38;5;241m*\u001B[39mkwargs)\n\u001B[1;32m    138\u001B[0m flat_inputs \u001B[38;5;241m=\u001B[39m function\u001B[38;5;241m.\u001B[39mfunction_type\u001B[38;5;241m.\u001B[39munpack_inputs(bound_args)\n\u001B[0;32m--> 139\u001B[0m \u001B[38;5;28;01mreturn\u001B[39;00m \u001B[43mfunction\u001B[49m\u001B[38;5;241;43m.\u001B[39;49m\u001B[43m_call_flat\u001B[49m\u001B[43m(\u001B[49m\u001B[43m  \u001B[49m\u001B[38;5;66;43;03m# pylint: disable=protected-access\u001B[39;49;00m\n\u001B[1;32m    140\u001B[0m \u001B[43m    \u001B[49m\u001B[43mflat_inputs\u001B[49m\u001B[43m,\u001B[49m\u001B[43m \u001B[49m\u001B[43mcaptured_inputs\u001B[49m\u001B[38;5;241;43m=\u001B[39;49m\u001B[43mfunction\u001B[49m\u001B[38;5;241;43m.\u001B[39;49m\u001B[43mcaptured_inputs\u001B[49m\n\u001B[1;32m    141\u001B[0m \u001B[43m\u001B[49m\u001B[43m)\u001B[49m\n",
      "File \u001B[0;32m~/jobs/python/venv/ml-stable-diffusion/lib/python3.9/site-packages/tensorflow/python/eager/polymorphic_function/concrete_function.py:1323\u001B[0m, in \u001B[0;36mConcreteFunction._call_flat\u001B[0;34m(self, tensor_inputs, captured_inputs)\u001B[0m\n\u001B[1;32m   1319\u001B[0m possible_gradient_type \u001B[38;5;241m=\u001B[39m gradients_util\u001B[38;5;241m.\u001B[39mPossibleTapeGradientTypes(args)\n\u001B[1;32m   1320\u001B[0m \u001B[38;5;28;01mif\u001B[39;00m (possible_gradient_type \u001B[38;5;241m==\u001B[39m gradients_util\u001B[38;5;241m.\u001B[39mPOSSIBLE_GRADIENT_TYPES_NONE\n\u001B[1;32m   1321\u001B[0m     \u001B[38;5;129;01mand\u001B[39;00m executing_eagerly):\n\u001B[1;32m   1322\u001B[0m   \u001B[38;5;66;03m# No tape is watching; skip to running the function.\u001B[39;00m\n\u001B[0;32m-> 1323\u001B[0m   \u001B[38;5;28;01mreturn\u001B[39;00m \u001B[38;5;28;43mself\u001B[39;49m\u001B[38;5;241;43m.\u001B[39;49m\u001B[43m_inference_function\u001B[49m\u001B[38;5;241;43m.\u001B[39;49m\u001B[43mcall_preflattened\u001B[49m\u001B[43m(\u001B[49m\u001B[43margs\u001B[49m\u001B[43m)\u001B[49m\n\u001B[1;32m   1324\u001B[0m forward_backward \u001B[38;5;241m=\u001B[39m \u001B[38;5;28mself\u001B[39m\u001B[38;5;241m.\u001B[39m_select_forward_and_backward_functions(\n\u001B[1;32m   1325\u001B[0m     args,\n\u001B[1;32m   1326\u001B[0m     possible_gradient_type,\n\u001B[1;32m   1327\u001B[0m     executing_eagerly)\n\u001B[1;32m   1328\u001B[0m forward_function, args_with_tangents \u001B[38;5;241m=\u001B[39m forward_backward\u001B[38;5;241m.\u001B[39mforward()\n",
      "File \u001B[0;32m~/jobs/python/venv/ml-stable-diffusion/lib/python3.9/site-packages/tensorflow/python/eager/polymorphic_function/atomic_function.py:216\u001B[0m, in \u001B[0;36mAtomicFunction.call_preflattened\u001B[0;34m(self, args)\u001B[0m\n\u001B[1;32m    214\u001B[0m \u001B[38;5;28;01mdef\u001B[39;00m \u001B[38;5;21mcall_preflattened\u001B[39m(\u001B[38;5;28mself\u001B[39m, args: Sequence[core\u001B[38;5;241m.\u001B[39mTensor]) \u001B[38;5;241m-\u001B[39m\u001B[38;5;241m>\u001B[39m Any:\n\u001B[1;32m    215\u001B[0m \u001B[38;5;250m  \u001B[39m\u001B[38;5;124;03m\"\"\"Calls with flattened tensor inputs and returns the structured output.\"\"\"\u001B[39;00m\n\u001B[0;32m--> 216\u001B[0m   flat_outputs \u001B[38;5;241m=\u001B[39m \u001B[38;5;28;43mself\u001B[39;49m\u001B[38;5;241;43m.\u001B[39;49m\u001B[43mcall_flat\u001B[49m\u001B[43m(\u001B[49m\u001B[38;5;241;43m*\u001B[39;49m\u001B[43margs\u001B[49m\u001B[43m)\u001B[49m\n\u001B[1;32m    217\u001B[0m   \u001B[38;5;28;01mreturn\u001B[39;00m \u001B[38;5;28mself\u001B[39m\u001B[38;5;241m.\u001B[39mfunction_type\u001B[38;5;241m.\u001B[39mpack_output(flat_outputs)\n",
      "File \u001B[0;32m~/jobs/python/venv/ml-stable-diffusion/lib/python3.9/site-packages/tensorflow/python/eager/polymorphic_function/atomic_function.py:251\u001B[0m, in \u001B[0;36mAtomicFunction.call_flat\u001B[0;34m(self, *args)\u001B[0m\n\u001B[1;32m    249\u001B[0m \u001B[38;5;28;01mwith\u001B[39;00m record\u001B[38;5;241m.\u001B[39mstop_recording():\n\u001B[1;32m    250\u001B[0m   \u001B[38;5;28;01mif\u001B[39;00m \u001B[38;5;28mself\u001B[39m\u001B[38;5;241m.\u001B[39m_bound_context\u001B[38;5;241m.\u001B[39mexecuting_eagerly():\n\u001B[0;32m--> 251\u001B[0m     outputs \u001B[38;5;241m=\u001B[39m \u001B[38;5;28;43mself\u001B[39;49m\u001B[38;5;241;43m.\u001B[39;49m\u001B[43m_bound_context\u001B[49m\u001B[38;5;241;43m.\u001B[39;49m\u001B[43mcall_function\u001B[49m\u001B[43m(\u001B[49m\n\u001B[1;32m    252\u001B[0m \u001B[43m        \u001B[49m\u001B[38;5;28;43mself\u001B[39;49m\u001B[38;5;241;43m.\u001B[39;49m\u001B[43mname\u001B[49m\u001B[43m,\u001B[49m\n\u001B[1;32m    253\u001B[0m \u001B[43m        \u001B[49m\u001B[38;5;28;43mlist\u001B[39;49m\u001B[43m(\u001B[49m\u001B[43margs\u001B[49m\u001B[43m)\u001B[49m\u001B[43m,\u001B[49m\n\u001B[1;32m    254\u001B[0m \u001B[43m        \u001B[49m\u001B[38;5;28;43mlen\u001B[39;49m\u001B[43m(\u001B[49m\u001B[38;5;28;43mself\u001B[39;49m\u001B[38;5;241;43m.\u001B[39;49m\u001B[43mfunction_type\u001B[49m\u001B[38;5;241;43m.\u001B[39;49m\u001B[43mflat_outputs\u001B[49m\u001B[43m)\u001B[49m\u001B[43m,\u001B[49m\n\u001B[1;32m    255\u001B[0m \u001B[43m    \u001B[49m\u001B[43m)\u001B[49m\n\u001B[1;32m    256\u001B[0m   \u001B[38;5;28;01melse\u001B[39;00m:\n\u001B[1;32m    257\u001B[0m     outputs \u001B[38;5;241m=\u001B[39m make_call_op_in_graph(\n\u001B[1;32m    258\u001B[0m         \u001B[38;5;28mself\u001B[39m,\n\u001B[1;32m    259\u001B[0m         \u001B[38;5;28mlist\u001B[39m(args),\n\u001B[1;32m    260\u001B[0m         \u001B[38;5;28mself\u001B[39m\u001B[38;5;241m.\u001B[39m_bound_context\u001B[38;5;241m.\u001B[39mfunction_call_options\u001B[38;5;241m.\u001B[39mas_attrs(),\n\u001B[1;32m    261\u001B[0m     )\n",
      "File \u001B[0;32m~/jobs/python/venv/ml-stable-diffusion/lib/python3.9/site-packages/tensorflow/python/eager/context.py:1486\u001B[0m, in \u001B[0;36mContext.call_function\u001B[0;34m(self, name, tensor_inputs, num_outputs)\u001B[0m\n\u001B[1;32m   1484\u001B[0m cancellation_context \u001B[38;5;241m=\u001B[39m cancellation\u001B[38;5;241m.\u001B[39mcontext()\n\u001B[1;32m   1485\u001B[0m \u001B[38;5;28;01mif\u001B[39;00m cancellation_context \u001B[38;5;129;01mis\u001B[39;00m \u001B[38;5;28;01mNone\u001B[39;00m:\n\u001B[0;32m-> 1486\u001B[0m   outputs \u001B[38;5;241m=\u001B[39m \u001B[43mexecute\u001B[49m\u001B[38;5;241;43m.\u001B[39;49m\u001B[43mexecute\u001B[49m\u001B[43m(\u001B[49m\n\u001B[1;32m   1487\u001B[0m \u001B[43m      \u001B[49m\u001B[43mname\u001B[49m\u001B[38;5;241;43m.\u001B[39;49m\u001B[43mdecode\u001B[49m\u001B[43m(\u001B[49m\u001B[38;5;124;43m\"\u001B[39;49m\u001B[38;5;124;43mutf-8\u001B[39;49m\u001B[38;5;124;43m\"\u001B[39;49m\u001B[43m)\u001B[49m\u001B[43m,\u001B[49m\n\u001B[1;32m   1488\u001B[0m \u001B[43m      \u001B[49m\u001B[43mnum_outputs\u001B[49m\u001B[38;5;241;43m=\u001B[39;49m\u001B[43mnum_outputs\u001B[49m\u001B[43m,\u001B[49m\n\u001B[1;32m   1489\u001B[0m \u001B[43m      \u001B[49m\u001B[43minputs\u001B[49m\u001B[38;5;241;43m=\u001B[39;49m\u001B[43mtensor_inputs\u001B[49m\u001B[43m,\u001B[49m\n\u001B[1;32m   1490\u001B[0m \u001B[43m      \u001B[49m\u001B[43mattrs\u001B[49m\u001B[38;5;241;43m=\u001B[39;49m\u001B[43mattrs\u001B[49m\u001B[43m,\u001B[49m\n\u001B[1;32m   1491\u001B[0m \u001B[43m      \u001B[49m\u001B[43mctx\u001B[49m\u001B[38;5;241;43m=\u001B[39;49m\u001B[38;5;28;43mself\u001B[39;49m\u001B[43m,\u001B[49m\n\u001B[1;32m   1492\u001B[0m \u001B[43m  \u001B[49m\u001B[43m)\u001B[49m\n\u001B[1;32m   1493\u001B[0m \u001B[38;5;28;01melse\u001B[39;00m:\n\u001B[1;32m   1494\u001B[0m   outputs \u001B[38;5;241m=\u001B[39m execute\u001B[38;5;241m.\u001B[39mexecute_with_cancellation(\n\u001B[1;32m   1495\u001B[0m       name\u001B[38;5;241m.\u001B[39mdecode(\u001B[38;5;124m\"\u001B[39m\u001B[38;5;124mutf-8\u001B[39m\u001B[38;5;124m\"\u001B[39m),\n\u001B[1;32m   1496\u001B[0m       num_outputs\u001B[38;5;241m=\u001B[39mnum_outputs,\n\u001B[0;32m   (...)\u001B[0m\n\u001B[1;32m   1500\u001B[0m       cancellation_manager\u001B[38;5;241m=\u001B[39mcancellation_context,\n\u001B[1;32m   1501\u001B[0m   )\n",
      "File \u001B[0;32m~/jobs/python/venv/ml-stable-diffusion/lib/python3.9/site-packages/tensorflow/python/eager/execute.py:53\u001B[0m, in \u001B[0;36mquick_execute\u001B[0;34m(op_name, num_outputs, inputs, attrs, ctx, name)\u001B[0m\n\u001B[1;32m     51\u001B[0m \u001B[38;5;28;01mtry\u001B[39;00m:\n\u001B[1;32m     52\u001B[0m   ctx\u001B[38;5;241m.\u001B[39mensure_initialized()\n\u001B[0;32m---> 53\u001B[0m   tensors \u001B[38;5;241m=\u001B[39m \u001B[43mpywrap_tfe\u001B[49m\u001B[38;5;241;43m.\u001B[39;49m\u001B[43mTFE_Py_Execute\u001B[49m\u001B[43m(\u001B[49m\u001B[43mctx\u001B[49m\u001B[38;5;241;43m.\u001B[39;49m\u001B[43m_handle\u001B[49m\u001B[43m,\u001B[49m\u001B[43m \u001B[49m\u001B[43mdevice_name\u001B[49m\u001B[43m,\u001B[49m\u001B[43m \u001B[49m\u001B[43mop_name\u001B[49m\u001B[43m,\u001B[49m\n\u001B[1;32m     54\u001B[0m \u001B[43m                                      \u001B[49m\u001B[43minputs\u001B[49m\u001B[43m,\u001B[49m\u001B[43m \u001B[49m\u001B[43mattrs\u001B[49m\u001B[43m,\u001B[49m\u001B[43m \u001B[49m\u001B[43mnum_outputs\u001B[49m\u001B[43m)\u001B[49m\n\u001B[1;32m     55\u001B[0m \u001B[38;5;28;01mexcept\u001B[39;00m core\u001B[38;5;241m.\u001B[39m_NotOkStatusException \u001B[38;5;28;01mas\u001B[39;00m e:\n\u001B[1;32m     56\u001B[0m   \u001B[38;5;28;01mif\u001B[39;00m name \u001B[38;5;129;01mis\u001B[39;00m \u001B[38;5;129;01mnot\u001B[39;00m \u001B[38;5;28;01mNone\u001B[39;00m:\n",
      "\u001B[0;31mKeyboardInterrupt\u001B[0m: "
     ]
    }
   ],
   "source": [
    "# run the model with GPU in macos\n",
    "with tf.device('/GPU:0'):\n",
    "    model.fit(train, validation_data=test, epochs=100, callbacks=[checkpoint_callback, schedule_callback, example_callback])\n"
   ],
   "metadata": {
    "collapsed": false
   }
  },
  {
   "cell_type": "markdown",
   "source": [
    "Make a prediction"
   ],
   "metadata": {
    "collapsed": false
   }
  },
  {
   "cell_type": "code",
   "execution_count": 151,
   "outputs": [
    {
     "name": "stderr",
     "output_type": "stream",
     "text": [
      "Downloading...\n",
      "From (uriginal): https://drive.google.com/uc?id=1vWscXs4Vt0a_1IH1-ct2TCgXAZT-N3_Y\n",
      "From (redirected): https://drive.google.com/uc?id=1vWscXs4Vt0a_1IH1-ct2TCgXAZT-N3_Y&confirm=t&uuid=30b1366d-51d7-449e-95bc-b3369b4feb00\n",
      "To: /Users/zhenyili/research project/src/lipNet/checkpoints.zip\n",
      "100%|██████████| 94.5M/94.5M [00:29<00:00, 3.16MB/s]\n"
     ]
    },
    {
     "data": {
      "text/plain": "['models/checkpoint.index',\n 'models/__MACOSX/._checkpoint.index',\n 'models/checkpoint.data-00000-of-00001',\n 'models/__MACOSX/._checkpoint.data-00000-of-00001',\n 'models/checkpoint',\n 'models/__MACOSX/._checkpoint']"
     },
     "execution_count": 151,
     "metadata": {},
     "output_type": "execute_result"
    }
   ],
   "source": [
    "import gdown\n",
    "\n",
    "url = 'https://drive.google.com/uc?id=1vWscXs4Vt0a_1IH1-ct2TCgXAZT-N3_Y'\n",
    "output = 'checkpoints.zip'\n",
    "gdown.download(url, output, quiet=False)\n",
    "gdown.extractall('checkpoints.zip', 'models')"
   ],
   "metadata": {
    "collapsed": false
   }
  },
  {
   "cell_type": "code",
   "execution_count": null,
   "outputs": [],
   "source": [
    "model.load_weights('models/checkpoint')"
   ],
   "metadata": {
    "collapsed": false
   }
  },
  {
   "cell_type": "code",
   "execution_count": null,
   "outputs": [],
   "source": [
    "test_data = test.as_numpy_iterator()"
   ],
   "metadata": {
    "collapsed": false
   }
  },
  {
   "cell_type": "code",
   "execution_count": null,
   "outputs": [],
   "source": [
    "sample = test_data.next()"
   ],
   "metadata": {
    "collapsed": false
   }
  },
  {
   "cell_type": "code",
   "execution_count": null,
   "outputs": [],
   "source": [
    "yhat = model.predict(sample[0])"
   ],
   "metadata": {
    "collapsed": false
   }
  },
  {
   "cell_type": "code",
   "execution_count": null,
   "outputs": [],
   "source": [
    "print('~'*100, 'REAL TEXT')\n",
    "[tf.strings.reduce_join([num_to_char(word) for word in sentence]) for sentence in sample[1]]"
   ],
   "metadata": {
    "collapsed": false
   }
  },
  {
   "cell_type": "code",
   "execution_count": null,
   "outputs": [],
   "source": [
    "decoded = tf.keras.backend.ctc_decode(yhat, input_length=[75,75], greedy=True)[0][0].numpy()"
   ],
   "metadata": {
    "collapsed": false
   }
  },
  {
   "cell_type": "code",
   "execution_count": null,
   "outputs": [],
   "source": [
    "print('~'*100, 'PREDICTIONS')\n",
    "[tf.strings.reduce_join([num_to_char(word) for word in sentence]) for sentence in decoded]"
   ],
   "metadata": {
    "collapsed": false
   }
  }
 ],
 "metadata": {
  "kernelspec": {
   "display_name": "Python 3",
   "language": "python",
   "name": "python3"
  },
  "language_info": {
   "codemirror_mode": {
    "name": "ipython",
    "version": 2
   },
   "file_extension": ".py",
   "mimetype": "text/x-python",
   "name": "python",
   "nbconvert_exporter": "python",
   "pygments_lexer": "ipython2",
   "version": "2.7.6"
  }
 },
 "nbformat": 4,
 "nbformat_minor": 0
}
