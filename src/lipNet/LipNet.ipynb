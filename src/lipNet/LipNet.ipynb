{
 "cells": [
  {
   "cell_type": "markdown",
   "id": "a3573a47-3689-4668-b62f-5c8451b2b4e9",
   "metadata": {
    "tags": []
   },
   "source": [
    "    # 0. Install and Import Dependencies"
   ]
  },
  {
   "cell_type": "code",
   "execution_count": null,
   "id": "ddfbccbe-41ae-4c23-98b1-a13868e2b499",
   "metadata": {
    "scrolled": true,
    "tags": []
   },
   "outputs": [],
   "source": [
    "!pip list"
   ]
  },
  {
   "cell_type": "code",
   "execution_count": null,
   "id": "02f907ea-f669-46c7-adcf-7f257e663448",
   "metadata": {
    "tags": []
   },
   "outputs": [],
   "source": [
    "!pip install opencv-python matplotlib imageio gdown tensorflow"
   ]
  },
  {
   "cell_type": "code",
   "execution_count": 2,
   "id": "b24af50c-20b8-409d-ad78-30a933fdd669",
   "metadata": {
    "tags": [],
    "pycharm": {
     "is_executing": true
    },
    "ExecuteTime": {
     "end_time": "2024-04-10T15:10:51.527956912Z",
     "start_time": "2024-04-10T15:10:51.524198986Z"
    }
   },
   "outputs": [],
   "source": [
    "import os\n",
    "from typing import List\n",
    "\n",
    "import cv2\n",
    "import tensorflow as tf\n",
    "from matplotlib import pyplot as plt"
   ]
  },
  {
   "cell_type": "code",
   "execution_count": 4,
   "id": "1e3db0b0-e559-4ad6-91fd-e7414b7d75e6",
   "metadata": {
    "ExecuteTime": {
     "end_time": "2024-04-10T15:10:55.616409324Z",
     "start_time": "2024-04-10T15:10:55.568806865Z"
    }
   },
   "outputs": [
    {
     "data": {
      "text/plain": "[PhysicalDevice(name='/physical_device:GPU:0', device_type='GPU')]"
     },
     "execution_count": 4,
     "metadata": {},
     "output_type": "execute_result"
    }
   ],
   "source": [
    "\n",
    "gpu_devices = tf.config.experimental.list_physical_devices('GPU')\n",
    "for device in gpu_devices:\n",
    "    tf.config.experimental.set_memory_growth(device, True)\n",
    "tf.config.list_physical_devices('GPU')"
   ]
  },
  {
   "cell_type": "code",
   "execution_count": 4,
   "id": "378d045a-3003-4f93-b7d2-a25a97774a68",
   "metadata": {
    "tags": [],
    "ExecuteTime": {
     "end_time": "2024-03-17T19:43:55.909243878Z",
     "start_time": "2024-03-17T19:43:55.896910873Z"
    }
   },
   "outputs": [],
   "source": [
    "physical_devices = tf.config.list_physical_devices('GPU')\n",
    "try:\n",
    "    tf.config.experimental.set_memory_growth(physical_devices[0], True)\n",
    "except:\n",
    "    pass"
   ]
  },
  {
   "cell_type": "markdown",
   "id": "7a19e88e-c7b9-45c1-ae1e-f2109329c71b",
   "metadata": {
    "tags": []
   },
   "source": [
    "# 1. Build Data Loading Functions"
   ]
  },
  {
   "cell_type": "code",
   "execution_count": null,
   "id": "8fb99c90-e05a-437f-839d-6e772f8c1dd5",
   "metadata": {
    "tags": []
   },
   "outputs": [],
   "source": []
  },
  {
   "cell_type": "code",
   "outputs": [],
   "source": [
    "# url = 'https://drive.google.com/uc?id=1YlvpDLix3S-U8fd-gqRwPcWXAXm8JwjL'\n",
    "# output = 'data.zip'\n",
    "# gdown.download(url, output, quiet=False)\n",
    "# gdown.extractall('data.zip')\n",
    "def generate_video_dict(path: str) -> dict[str:List[float]]:\n",
    "    video_dict = {}\n",
    "    if not os.path.exists(path):\n",
    "        raise FileNotFoundError(f'{path} does not exist')\n",
    "    for file in os.listdir(path):\n",
    "        if file.endswith('.mpg'):\n",
    "            cap = cv2.VideoCapture(os.path.join(path, file))\n",
    "            frames = []\n",
    "            for _ in range(int(cap.get(cv2.CAP_PROP_FRAME_COUNT))):\n",
    "                ret, frame = cap.read()\n",
    "                frame = tf.image.rgb_to_grayscale(frame)\n",
    "                frames.append(frame[190:236, 80:220, :])\n",
    "            cap.release()\n",
    "            mean = tf.math.reduce_mean(frames)\n",
    "            std = tf.math.reduce_std(tf.cast(frames, tf.float16))\n",
    "            video_dict[file] = tf.cast((frames - mean), tf.float16) / std\n",
    "    return video_dict\n",
    "\n",
    "\n",
    "cv2_base_dir = os.path.dirname(os.path.abspath(cv2.__file__))\n",
    "haar_model = os.path.join(cv2_base_dir, 'data/haarcascade_frontalface_default.xml')\n",
    "\n",
    "lip_cascade = cv2.CascadeClassifier(haar_model)\n",
    "\n",
    "\n",
    "def generate_mounth_video_dict(path: str) -> dict[str:List[float]]:\n",
    "    video_dict = {}\n",
    "    if not os.path.exists(path):\n",
    "        raise FileNotFoundError(f'{path} does not exist')\n",
    "    for file in os.listdir(path):\n",
    "        if file.endswith('.mpg'):\n",
    "            print(file)\n",
    "            cap = cv2.VideoCapture(os.path.join(path, file))\n",
    "            frames = []\n",
    "            for _ in range(int(cap.get(cv2.CAP_PROP_FRAME_COUNT))):\n",
    "                ret, frame = cap.read()\n",
    "\n",
    "                faces = lip_cascade.detectMultiScale(frame, 1.1, 5)\n",
    "                # if not recognized, try to ignore the frame\n",
    "                if len(faces) == 0:\n",
    "                    continue\n",
    "                for (x, y, w, h) in faces:\n",
    "                    mouth_roi = frame[y + int(h / 2):y + h, x:x + w, :]\n",
    "                    frame = cv2.resize(mouth_roi, (140, 46))\n",
    "                    frame = tf.image.rgb_to_grayscale(frame)\n",
    "                frames.append(frame)\n",
    "            cap.release()\n",
    "            print(frames[0].shape)\n",
    "            mean = tf.math.reduce_mean(frames)\n",
    "            std = tf.math.reduce_std(tf.cast(frames, tf.float16))\n",
    "            video_dict[file] = tf.cast((frames - mean), tf.float16) / std\n",
    "    return video_dict\n",
    "\n",
    "\n",
    "def load_video(path: str) -> List[float]:\n",
    "    cap = cv2.VideoCapture(path)\n",
    "    frames = []\n",
    "    for _ in range(int(cap.get(cv2.CAP_PROP_FRAME_COUNT))):\n",
    "        ret, frame = cap.read()\n",
    "        frame = tf.image.rgb_to_grayscale(frame)\n",
    "        frames.append(frame[190:236, 80:220, :])\n",
    "    cap.release()  # close the video file\n",
    "\n",
    "    mean = tf.math.reduce_mean(frames)  # compute the mean\n",
    "    std = tf.math.reduce_std(tf.cast(frames, tf.float32))  # compute the standard deviation\n",
    "    return tf.cast((frames - mean), tf.float32) / std  # normalize to zero mean and unit variance\n",
    "\n",
    "\n",
    "video_dict = None"
   ],
   "metadata": {
    "collapsed": false,
    "ExecuteTime": {
     "end_time": "2024-04-10T15:13:18.374628923Z",
     "start_time": "2024-04-10T15:13:17.716257132Z"
    }
   },
   "id": "3ae1b4dc5043a59a",
   "execution_count": 6
  },
  {
   "cell_type": "code",
   "execution_count": 7,
   "id": "8548cc59-6dfc-4acc-abc3-3e65212db02e",
   "metadata": {
    "tags": [],
    "ExecuteTime": {
     "end_time": "2024-04-10T15:18:30.624598437Z",
     "start_time": "2024-04-10T15:13:21.639730672Z"
    }
   },
   "outputs": [
    {
     "name": "stdout",
     "output_type": "stream",
     "text": [
      "pgad8n.mpg\n"
     ]
    },
    {
     "name": "stderr",
     "output_type": "stream",
     "text": [
      "2024-04-10 16:13:21.770799: I external/local_xla/xla/stream_executor/cuda/cuda_executor.cc:901] successful NUMA node read from SysFS had negative value (-1), but there must be at least one NUMA node, so returning NUMA node zero. See more at https://github.com/torvalds/linux/blob/v6.0/Documentation/ABI/testing/sysfs-bus-pci#L344-L355\n",
      "2024-04-10 16:13:21.770965: I external/local_xla/xla/stream_executor/cuda/cuda_executor.cc:901] successful NUMA node read from SysFS had negative value (-1), but there must be at least one NUMA node, so returning NUMA node zero. See more at https://github.com/torvalds/linux/blob/v6.0/Documentation/ABI/testing/sysfs-bus-pci#L344-L355\n",
      "2024-04-10 16:13:21.771080: I external/local_xla/xla/stream_executor/cuda/cuda_executor.cc:901] successful NUMA node read from SysFS had negative value (-1), but there must be at least one NUMA node, so returning NUMA node zero. See more at https://github.com/torvalds/linux/blob/v6.0/Documentation/ABI/testing/sysfs-bus-pci#L344-L355\n",
      "2024-04-10 16:13:21.819722: I external/local_xla/xla/stream_executor/cuda/cuda_executor.cc:901] successful NUMA node read from SysFS had negative value (-1), but there must be at least one NUMA node, so returning NUMA node zero. See more at https://github.com/torvalds/linux/blob/v6.0/Documentation/ABI/testing/sysfs-bus-pci#L344-L355\n",
      "2024-04-10 16:13:21.819874: I external/local_xla/xla/stream_executor/cuda/cuda_executor.cc:901] successful NUMA node read from SysFS had negative value (-1), but there must be at least one NUMA node, so returning NUMA node zero. See more at https://github.com/torvalds/linux/blob/v6.0/Documentation/ABI/testing/sysfs-bus-pci#L344-L355\n",
      "2024-04-10 16:13:21.819998: I external/local_xla/xla/stream_executor/cuda/cuda_executor.cc:901] successful NUMA node read from SysFS had negative value (-1), but there must be at least one NUMA node, so returning NUMA node zero. See more at https://github.com/torvalds/linux/blob/v6.0/Documentation/ABI/testing/sysfs-bus-pci#L344-L355\n",
      "2024-04-10 16:13:21.820096: I tensorflow/core/common_runtime/gpu/gpu_device.cc:1929] Created device /job:localhost/replica:0/task:0/device:GPU:0 with 14288 MB memory:  -> device: 0, name: NVIDIA GeForce RTX 4060 Ti, pci bus id: 0000:01:00.0, compute capability: 8.9\n"
     ]
    },
    {
     "name": "stdout",
     "output_type": "stream",
     "text": [
      "(46, 140, 1)\n"
     ]
    },
    {
     "name": "stderr",
     "output_type": "stream",
     "text": [
      "2024-04-10 16:13:22.598247: I external/local_tsl/tsl/platform/default/subprocess.cc:304] Start cannot spawn child process: No such file or directory\n"
     ]
    },
    {
     "name": "stdout",
     "output_type": "stream",
     "text": [
      "srwvzn.mpg\n",
      "(46, 140, 1)\n",
      "bgwh9s.mpg\n",
      "(46, 140, 1)\n",
      "lrik4p.mpg\n",
      "(46, 140, 1)\n",
      "pbav3s.mpg\n",
      "(46, 140, 1)\n",
      "sgac2n.mpg\n",
      "(46, 140, 1)\n",
      "lrid9s.mpg\n",
      "(46, 140, 1)\n",
      "pbbj1a.mpg\n",
      "(46, 140, 1)\n",
      "pgij9s.mpg\n",
      "(46, 140, 1)\n",
      "sbwo1s.mpg\n",
      "(46, 140, 1)\n",
      "pwbk3a.mpg\n",
      "(46, 140, 1)\n",
      "swwv6n.mpg\n",
      "(46, 140, 1)\n",
      "pwic9s.mpg\n",
      "(46, 140, 1)\n",
      "srbo4p.mpg\n",
      "(46, 140, 1)\n",
      "bgbb2p.mpg\n",
      "(46, 140, 1)\n",
      "srin7a.mpg\n",
      "(46, 140, 1)\n",
      "lwie7a.mpg\n",
      "(46, 140, 1)\n",
      "pgbr3a.mpg\n",
      "(46, 140, 1)\n",
      "lgbf9s.mpg\n",
      "(46, 140, 1)\n",
      "pgby5s.mpg\n",
      "(46, 140, 1)\n",
      "pwwe2p.mpg\n",
      "(46, 140, 1)\n",
      "prax1a.mpg\n",
      "(46, 140, 1)\n",
      "lgir9s.mpg\n",
      "(46, 140, 1)\n",
      "lwafzp.mpg\n",
      "(46, 140, 1)\n",
      "bbwgzn.mpg\n",
      "(46, 140, 1)\n",
      "srwi2n.mpg\n",
      "(46, 140, 1)\n",
      "swwv9a.mpg\n",
      "(46, 140, 1)\n",
      "prip1s.mpg\n",
      "(46, 140, 1)\n",
      "bram2n.mpg\n",
      "(46, 140, 1)\n",
      "lbid2n.mpg\n",
      "(46, 140, 1)\n",
      "prwj8n.mpg\n",
      "(46, 140, 1)\n",
      "lgil7a.mpg\n",
      "(46, 140, 1)\n",
      "swbv4p.mpg\n",
      "(46, 140, 1)\n",
      "prii9a.mpg\n",
      "(46, 140, 1)\n",
      "lbwr3s.mpg\n",
      "(46, 140, 1)\n",
      "prap6p.mpg\n",
      "(46, 140, 1)\n",
      "prap7a.mpg\n",
      "(46, 140, 1)\n",
      "srbh9s.mpg\n",
      "(46, 140, 1)\n",
      "pgaq7s.mpg\n",
      "(46, 140, 1)\n",
      "lwws6p.mpg\n",
      "(46, 140, 1)\n",
      "bgan5s.mpg\n",
      "(46, 140, 1)\n",
      "pgid6p.mpg\n",
      "(46, 140, 1)\n",
      "brbt2p.mpg\n",
      "(46, 140, 1)\n",
      "bbal7s.mpg\n",
      "(46, 140, 1)\n",
      "pgbe4p.mpg\n",
      "(46, 140, 1)\n",
      "pgbe3s.mpg\n",
      "(46, 140, 1)\n",
      "pwij3s.mpg\n",
      "(46, 140, 1)\n",
      "lbwr5a.mpg\n",
      "(46, 140, 1)\n",
      "prii8p.mpg\n",
      "(46, 140, 1)\n",
      "lrblzn.mpg\n",
      "(46, 140, 1)\n",
      "bwbh1a.mpg\n",
      "(46, 140, 1)\n",
      "sgio8p.mpg\n",
      "(46, 140, 1)\n",
      "lbid3s.mpg\n",
      "(46, 140, 1)\n",
      "bgat9s.mpg\n",
      "(46, 140, 1)\n",
      "sran9s.mpg\n",
      "(46, 140, 1)\n",
      "bwig2p.mpg\n",
      "(46, 140, 1)\n",
      "lrae5a.mpg\n",
      "(46, 140, 1)\n",
      "bbws9s.mpg\n",
      "(46, 140, 1)\n",
      "lwazzn.mpg\n",
      "(46, 140, 1)\n",
      "sgwqzp.mpg\n",
      "(46, 140, 1)\n",
      "pwbd8p.mpg\n",
      "(46, 140, 1)\n",
      "prwk1a.mpg\n",
      "(46, 140, 1)\n",
      "sbin1a.mpg\n",
      "(46, 140, 1)\n",
      "sbwu4n.mpg\n",
      "(46, 140, 1)\n",
      "swai2p.mpg\n",
      "(46, 140, 1)\n",
      "lrby9s.mpg\n",
      "(46, 140, 1)\n",
      "bwwh2n.mpg\n",
      "(46, 140, 1)\n",
      "pbwdzp.mpg\n",
      "(46, 140, 1)\n",
      "pwaqzn.mpg\n",
      "(46, 140, 1)\n",
      "swih8p.mpg\n",
      "(46, 140, 1)\n",
      "prwd5s.mpg\n",
      "(46, 140, 1)\n",
      "bgit6p.mpg\n",
      "(46, 140, 1)\n",
      "lrar3a.mpg\n",
      "(46, 140, 1)\n",
      "sgbc6n.mpg\n",
      "(46, 140, 1)\n",
      "lwal4p.mpg\n",
      "(46, 140, 1)\n",
      "lwil1a.mpg\n",
      "(46, 140, 1)\n",
      "bbil5a.mpg\n",
      "(46, 140, 1)\n",
      "lbix4n.mpg\n",
      "(46, 140, 1)\n",
      "bgaa6n.mpg\n",
      "(46, 140, 1)\n",
      "bwwh4p.mpg\n",
      "(46, 140, 1)\n",
      "swwp3s.mpg\n",
      "(46, 140, 1)\n",
      "lbij6n.mpg\n",
      "(46, 140, 1)\n",
      "pbbv9a.mpg\n",
      "(46, 140, 1)\n",
      "prwd4n.mpg\n",
      "(46, 140, 1)\n",
      "bgwo4p.mpg\n",
      "(46, 140, 1)\n",
      "srwv1s.mpg\n",
      "(46, 140, 1)\n",
      "sbwh6n.mpg\n",
      "(46, 140, 1)\n",
      "swai1s.mpg\n",
      "(46, 140, 1)\n",
      "bwaa1s.mpg\n",
      "(46, 140, 1)\n",
      "lray5s.mpg\n",
      "(46, 140, 1)\n",
      "bram4p.mpg\n",
      "(46, 140, 1)\n",
      "lrbr4n.mpg\n",
      "(46, 140, 1)\n",
      "pbii2p.mpg\n",
      "(46, 140, 1)\n",
      "bbwm7a.mpg\n",
      "(46, 140, 1)\n",
      "pbwj4p.mpg\n",
      "(46, 140, 1)\n",
      "lrbl2p.mpg\n",
      "(46, 140, 1)\n",
      "bgbh6p.mpg\n",
      "(46, 140, 1)\n",
      "prbj4n.mpg\n",
      "(46, 140, 1)\n",
      "pgay3a.mpg\n",
      "(46, 140, 1)\n",
      "lgifzn.mpg\n",
      "(46, 140, 1)\n",
      "sbbh2n.mpg\n",
      "(46, 140, 1)\n",
      "sgai8p.mpg\n",
      "(46, 140, 1)\n",
      "bbwm4n.mpg\n",
      "(46, 140, 1)\n",
      "swbv3s.mpg\n",
      "(46, 140, 1)\n",
      "bbbz8n.mpg\n",
      "(46, 140, 1)\n",
      "pgaq8p.mpg\n",
      "(46, 140, 1)\n",
      "srau5a.mpg\n",
      "(46, 140, 1)\n",
      "swbc2p.mpg\n",
      "(46, 140, 1)\n",
      "lbbq8n.mpg\n",
      "(46, 140, 1)\n",
      "pwwy5a.mpg\n",
      "(46, 140, 1)\n",
      "lbbk6p.mpg\n",
      "(46, 140, 1)\n",
      "srbo5a.mpg\n",
      "(46, 140, 1)\n",
      "lgwm6n.mpg\n",
      "(46, 140, 1)\n",
      "srao1a.mpg\n",
      "(46, 140, 1)\n",
      "bwigzn.mpg\n",
      "(46, 140, 1)\n",
      "praj2p.mpg\n",
      "(46, 140, 1)\n",
      "sbwozn.mpg\n",
      "(46, 140, 1)\n",
      "srwczp.mpg\n",
      "(46, 140, 1)\n",
      "bbaz7a.mpg\n",
      "(46, 140, 1)\n",
      "pwbq7a.mpg\n",
      "(46, 140, 1)\n",
      "sgav4n.mpg\n",
      "(46, 140, 1)\n",
      "bgau1a.mpg\n",
      "(46, 140, 1)\n",
      "praj1s.mpg\n",
      "(46, 140, 1)\n",
      "bwbt9a.mpg\n",
      "(46, 140, 1)\n",
      "lgwg5a.mpg\n",
      "(46, 140, 1)\n",
      "pbib6n.mpg\n",
      "(46, 140, 1)\n",
      "pbap1a.mpg\n",
      "(46, 140, 1)\n",
      "sbaa7a.mpg\n",
      "(46, 140, 1)\n",
      "pric5a.mpg\n",
      "(46, 140, 1)\n",
      "bbir6n.mpg\n",
      "(46, 140, 1)\n",
      "bbbs6p.mpg\n",
      "(46, 140, 1)\n",
      "sgbc8p.mpg\n",
      "(46, 140, 1)\n",
      "prbp9s.mpg\n",
      "(46, 140, 1)\n",
      "bbil3s.mpg\n",
      "(46, 140, 1)\n",
      "prbd1s.mpg\n",
      "(46, 140, 1)\n",
      "swai3a.mpg\n",
      "(46, 140, 1)\n",
      "pwad5a.mpg\n",
      "(46, 140, 1)\n",
      "bgaa7s.mpg\n",
      "(46, 140, 1)\n",
      "pbbp5a.mpg\n",
      "(46, 140, 1)\n",
      "swih6n.mpg\n",
      "(46, 140, 1)\n",
      "lrwr9s.mpg\n",
      "(46, 140, 1)\n",
      "bbaz4n.mpg\n",
      "(46, 140, 1)\n",
      "prac6n.mpg\n",
      "(46, 140, 1)\n",
      "sbbh4p.mpg\n",
      "(46, 140, 1)\n",
      "brbg4p.mpg\n",
      "(46, 140, 1)\n",
      "srah7a.mpg\n",
      "(46, 140, 1)\n",
      "lrwl4n.mpg\n",
      "(46, 140, 1)\n",
      "lbax9s.mpg\n",
      "(46, 140, 1)\n",
      "pwbd9a.mpg\n",
      "(46, 140, 1)\n",
      "pwwy3s.mpg\n",
      "(46, 140, 1)\n",
      "pbwx2p.mpg\n",
      "(46, 140, 1)\n",
      "bwwuzn.mpg\n",
      "(46, 140, 1)\n",
      "sbwo3a.mpg\n",
      "(46, 140, 1)\n",
      "bgat8n.mpg\n",
      "(46, 140, 1)\n",
      "lwbz7a.mpg\n",
      "(46, 140, 1)\n",
      "lwir5a.mpg\n",
      "(46, 140, 1)\n",
      "pbwd1a.mpg\n",
      "(46, 140, 1)\n",
      "pgbk6n.mpg\n",
      "(46, 140, 1)\n",
      "lwbszn.mpg\n",
      "(46, 140, 1)\n",
      "lbby5a.mpg\n",
      "(46, 140, 1)\n",
      "pgak3s.mpg\n",
      "(46, 140, 1)\n",
      "pbio6p.mpg\n",
      "(46, 140, 1)\n",
      "lwaf1a.mpg\n",
      "(46, 140, 1)\n",
      "bwit1a.mpg\n",
      "(46, 140, 1)\n",
      "bwwa8n.mpg\n",
      "(46, 140, 1)\n",
      "sbim9s.mpg\n",
      "(46, 140, 1)\n",
      "sgwp9s.mpg\n",
      "(46, 140, 1)\n",
      "lrbr6p.mpg\n",
      "(46, 140, 1)\n",
      "brwa2n.mpg\n",
      "(46, 140, 1)\n",
      "bgwizp.mpg\n",
      "(46, 140, 1)\n",
      "lgaf4n.mpg\n",
      "(46, 140, 1)\n",
      "lgif3a.mpg\n",
      "(46, 140, 1)\n",
      "bwim5s.mpg\n",
      "(46, 140, 1)\n",
      "sgapzn.mpg\n",
      "(46, 140, 1)\n",
      "prwx9a.mpg\n",
      "(46, 140, 1)\n",
      "lwwm1s.mpg\n",
      "(46, 140, 1)\n",
      "pwixzn.mpg\n",
      "(46, 140, 1)\n",
      "bwwu1s.mpg\n",
      "(46, 140, 1)\n",
      "bbiz2p.mpg\n",
      "(46, 140, 1)\n",
      "lriq8p.mpg\n",
      "(46, 140, 1)\n",
      "sgbp7a.mpg\n",
      "(46, 140, 1)\n",
      "bbas3a.mpg\n",
      "(46, 140, 1)\n",
      "swao7a.mpg\n",
      "(46, 140, 1)\n",
      "pgaq9a.mpg\n",
      "(46, 140, 1)\n",
      "brwg8p.mpg\n",
      "(46, 140, 1)\n",
      "bgan6p.mpg\n",
      "(46, 140, 1)\n",
      "lwwmzn.mpg\n",
      "(46, 140, 1)\n",
      "lwbf5a.mpg\n",
      "(46, 140, 1)\n",
      "brbm9a.mpg\n",
      "(46, 140, 1)\n",
      "bwbg8n.mpg\n",
      "(46, 140, 1)\n",
      "pwwy2n.mpg\n",
      "(46, 140, 1)\n",
      "pgbr2p.mpg\n",
      "(46, 140, 1)\n",
      "pbbc5s.mpg\n",
      "(46, 140, 1)\n",
      "brwt7a.mpg\n",
      "(46, 140, 1)\n",
      "bbbf9a.mpg\n",
      "(46, 140, 1)\n",
      "lbaq5s.mpg\n",
      "(46, 140, 1)\n",
      "sbwb4p.mpg\n",
      "(46, 140, 1)\n",
      "lrwz2n.mpg\n",
      "(46, 140, 1)\n",
      "pgiq4p.mpg\n",
      "(46, 140, 1)\n",
      "pwwr1a.mpg\n",
      "(46, 140, 1)\n",
      "bbws8n.mpg\n",
      "(46, 140, 1)\n",
      "sria6n.mpg\n",
      "(46, 140, 1)\n",
      "pbbp2n.mpg\n",
      "(46, 140, 1)\n",
      "lbwe4n.mpg\n",
      "(46, 140, 1)\n",
      "sbag8n.mpg\n",
      "(46, 140, 1)\n",
      "pwad2n.mpg\n",
      "(46, 140, 1)\n",
      "prwq5a.mpg\n",
      "(46, 140, 1)\n",
      "swbo8n.mpg\n",
      "(46, 140, 1)\n",
      "lriezp.mpg\n",
      "(46, 140, 1)\n",
      "bwwn8p.mpg\n",
      "(46, 140, 1)\n",
      "prbqzp.mpg\n",
      "(46, 140, 1)\n",
      "pgwe8p.mpg\n",
      "(46, 140, 1)\n",
      "bbaszn.mpg\n",
      "(46, 140, 1)\n",
      "praxzp.mpg\n",
      "(46, 140, 1)\n",
      "prwx7s.mpg\n",
      "(46, 140, 1)\n",
      "swib5a.mpg\n",
      "(46, 140, 1)\n",
      "priv5s.mpg\n",
      "(46, 140, 1)\n",
      "pgay1s.mpg\n",
      "(46, 140, 1)\n",
      "prbq1a.mpg\n",
      "(46, 140, 1)\n",
      "pwidzp.mpg\n",
      "(46, 140, 1)\n",
      "lrbe8p.mpg\n",
      "(46, 140, 1)\n",
      "bgwb5s.mpg\n",
      "(46, 140, 1)\n",
      "prbx4p.mpg\n",
      "(46, 140, 1)\n",
      "bbwg1s.mpg\n",
      "(46, 140, 1)\n",
      "bwwu2p.mpg\n",
      "(46, 140, 1)\n",
      "srah6p.mpg\n",
      "(46, 140, 1)\n",
      "prbj5s.mpg\n",
      "(46, 140, 1)\n",
      "lgaz8p.mpg\n",
      "(46, 140, 1)\n",
      "lbbk5s.mpg\n",
      "(46, 140, 1)\n",
      "pwid1a.mpg\n",
      "(46, 140, 1)\n",
      "prwq3s.mpg\n",
      "(46, 140, 1)\n",
      "sbbb1a.mpg\n",
      "(46, 140, 1)\n",
      "swbi4n.mpg\n",
      "(46, 140, 1)\n",
      "pwic8n.mpg\n",
      "(46, 140, 1)\n",
      "lwwz9s.mpg\n",
      "(46, 140, 1)\n",
      "sgbc9a.mpg\n",
      "(46, 140, 1)\n",
      "lbak1s.mpg\n",
      "(46, 140, 1)\n",
      "pbwp9a.mpg\n",
      "(46, 140, 1)\n",
      "sbba8n.mpg\n",
      "(46, 140, 1)\n",
      "pbbc7a.mpg\n",
      "(46, 140, 1)\n",
      "sbbn7s.mpg\n",
      "(46, 140, 1)\n",
      "brwg6n.mpg\n",
      "(46, 140, 1)\n",
      "bwbn3s.mpg\n",
      "(46, 140, 1)\n",
      "pbwxzn.mpg\n",
      "(46, 140, 1)\n",
      "pgiq2n.mpg\n",
      "(46, 140, 1)\n",
      "bgbn9s.mpg\n",
      "(46, 140, 1)\n",
      "brbt3a.mpg\n",
      "(46, 140, 1)\n",
      "swiu5s.mpg\n",
      "(46, 140, 1)\n",
      "lgwt3a.mpg\n",
      "(46, 140, 1)\n",
      "sbig4n.mpg\n",
      "(46, 140, 1)\n",
      "pbwx1s.mpg\n",
      "(46, 140, 1)\n",
      "lriq9a.mpg\n",
      "(46, 140, 1)\n",
      "lgbm5a.mpg\n",
      "(46, 140, 1)\n",
      "bgbu4p.mpg\n",
      "(46, 140, 1)\n",
      "bwwu3a.mpg\n",
      "(46, 140, 1)\n",
      "pbwx3a.mpg\n",
      "(46, 140, 1)\n",
      "sgivzn.mpg\n",
      "(46, 140, 1)\n",
      "sbbu1s.mpg\n",
      "(46, 140, 1)\n",
      "prwj9s.mpg\n",
      "(46, 140, 1)\n",
      "swib3s.mpg\n",
      "(46, 140, 1)\n",
      "sgwx2n.mpg\n",
      "(46, 140, 1)\n",
      "prwd7a.mpg\n",
      "(46, 140, 1)\n",
      "swab6n.mpg\n",
      "(46, 140, 1)\n",
      "sgio9a.mpg\n",
      "(46, 140, 1)\n",
      "srau2n.mpg\n",
      "(46, 140, 1)\n",
      "sgiv2p.mpg\n",
      "(46, 140, 1)\n",
      "bwaa3a.mpg\n",
      "(46, 140, 1)\n",
      "pwij5a.mpg\n",
      "(46, 140, 1)\n",
      "brwa4p.mpg\n",
      "(46, 140, 1)\n",
      "srbi1a.mpg\n",
      "(46, 140, 1)\n",
      "swio3a.mpg\n",
      "(46, 140, 1)\n",
      "lrwl7a.mpg\n",
      "(46, 140, 1)\n",
      "bras8p.mpg\n",
      "(46, 140, 1)\n",
      "swbi7a.mpg\n",
      "(46, 140, 1)\n",
      "lwbs3a.mpg\n",
      "(46, 140, 1)\n",
      "sbig7a.mpg\n",
      "(46, 140, 1)\n",
      "prac9a.mpg\n",
      "(46, 140, 1)\n",
      "pwij4p.mpg\n",
      "(46, 140, 1)\n",
      "prbj7a.mpg\n",
      "(46, 140, 1)\n",
      "lgiz5a.mpg\n",
      "(46, 140, 1)\n",
      "pbib8p.mpg\n",
      "(46, 140, 1)\n",
      "lgiz4p.mpg\n",
      "(46, 140, 1)\n",
      "bbwm6p.mpg\n",
      "(46, 140, 1)\n",
      "pbwp8p.mpg\n",
      "(46, 140, 1)\n",
      "lgiz3s.mpg\n",
      "(46, 140, 1)\n",
      "lrak9a.mpg\n",
      "(46, 140, 1)\n",
      "brbm8p.mpg\n",
      "(46, 140, 1)\n",
      "pwwq8n.mpg\n",
      "(46, 140, 1)\n",
      "prwkzp.mpg\n",
      "(46, 140, 1)\n",
      "srwi5a.mpg\n",
      "(46, 140, 1)\n",
      "lgas2n.mpg\n",
      "(46, 140, 1)\n",
      "lgbf8n.mpg\n",
      "(46, 140, 1)\n",
      "bbil2n.mpg\n",
      "(46, 140, 1)\n",
      "bbbf7s.mpg\n",
      "(46, 140, 1)\n",
      "bbbmzn.mpg\n",
      "(46, 140, 1)\n",
      "lwiy6n.mpg\n",
      "(46, 140, 1)\n",
      "lbwy7s.mpg\n",
      "(46, 140, 1)\n",
      "lriq7s.mpg\n",
      "(46, 140, 1)\n",
      "lriy1s.mpg\n",
      "(46, 140, 1)\n",
      "bgia4p.mpg\n",
      "(46, 140, 1)\n",
      "bwbg9s.mpg\n",
      "(46, 140, 1)\n",
      "pgayzn.mpg\n",
      "(46, 140, 1)\n",
      "bgia2n.mpg\n",
      "(46, 140, 1)\n",
      "pbib7s.mpg\n",
      "(46, 140, 1)\n",
      "bras6n.mpg\n",
      "(46, 140, 1)\n",
      "srit9s.mpg\n",
      "(46, 140, 1)\n",
      "pbii3a.mpg\n",
      "(46, 140, 1)\n",
      "bgwo3s.mpg\n",
      "(46, 140, 1)\n",
      "lgwm8p.mpg\n",
      "(46, 140, 1)\n",
      "lgwm9a.mpg\n",
      "(46, 140, 1)\n",
      "pgaezp.mpg\n",
      "(46, 140, 1)\n",
      "brbazp.mpg\n",
      "(46, 140, 1)\n",
      "praj3a.mpg\n",
      "(46, 140, 1)\n",
      "bras7s.mpg\n",
      "(46, 140, 1)\n",
      "swau9s.mpg\n",
      "(46, 140, 1)\n",
      "lwiy8p.mpg\n",
      "(46, 140, 1)\n",
      "sbia2p.mpg\n",
      "(46, 140, 1)\n",
      "lwbs1s.mpg\n",
      "(46, 140, 1)\n",
      "bwag7a.mpg\n",
      "(46, 140, 1)\n",
      "sbat8p.mpg\n",
      "(46, 140, 1)\n",
      "sria9a.mpg\n",
      "(46, 140, 1)\n",
      "bbwt1a.mpg\n",
      "(46, 140, 1)\n",
      "lrbl3a.mpg\n",
      "(46, 140, 1)\n",
      "sbim8n.mpg\n",
      "(46, 140, 1)\n",
      "pbiizn.mpg\n",
      "(46, 140, 1)\n",
      "lwaz3a.mpg\n",
      "(46, 140, 1)\n",
      "lwaz2p.mpg\n",
      "(46, 140, 1)\n",
      "lrbe9a.mpg\n",
      "(46, 140, 1)\n",
      "lgas3s.mpg\n",
      "(46, 140, 1)\n",
      "lwilzp.mpg\n",
      "(46, 140, 1)\n",
      "prwq2n.mpg\n",
      "(46, 140, 1)\n",
      "bwat4p.mpg\n",
      "(46, 140, 1)\n",
      "lgwazp.mpg\n",
      "(46, 140, 1)\n",
      "lbwy6n.mpg\n",
      "(46, 140, 1)\n",
      "sbia1s.mpg\n",
      "(46, 140, 1)\n",
      "lgiszp.mpg\n",
      "(46, 140, 1)\n",
      "bbaf5a.mpg\n",
      "(46, 140, 1)\n",
      "lbay1a.mpg\n",
      "(46, 140, 1)\n",
      "bril8n.mpg\n",
      "(46, 140, 1)\n",
      "prajzn.mpg\n",
      "(46, 140, 1)\n",
      "bwbt7s.mpg\n",
      "(46, 140, 1)\n",
      "srit8n.mpg\n",
      "(46, 140, 1)\n",
      "bwwbzp.mpg\n",
      "(46, 140, 1)\n",
      "bwam9s.mpg\n",
      "(46, 140, 1)\n",
      "lbbr1a.mpg\n",
      "(46, 140, 1)\n",
      "sria7s.mpg\n",
      "(46, 140, 1)\n",
      "prii7s.mpg\n",
      "(46, 140, 1)\n",
      "pwax7a.mpg\n",
      "(46, 140, 1)\n",
      "swbi6p.mpg\n",
      "(46, 140, 1)\n",
      "sgwd2p.mpg\n",
      "(46, 140, 1)\n",
      "bwwn7s.mpg\n",
      "(46, 140, 1)\n",
      "brbg2n.mpg\n",
      "(46, 140, 1)\n",
      "pgwl2p.mpg\n",
      "(46, 140, 1)\n",
      "sbig5s.mpg\n",
      "(46, 140, 1)\n",
      "swiu4n.mpg\n",
      "(46, 140, 1)\n",
      "swbp1a.mpg\n",
      "(46, 140, 1)\n",
      "bgia5a.mpg\n",
      "(46, 140, 1)\n",
      "sgai7s.mpg\n",
      "(46, 140, 1)\n",
      "bbal8p.mpg\n",
      "(46, 140, 1)\n",
      "lrbe6n.mpg\n",
      "(46, 140, 1)\n",
      "lgbs7s.mpg\n",
      "(46, 140, 1)\n",
      "lbby3s.mpg\n",
      "(46, 140, 1)\n",
      "lrak6n.mpg\n",
      "(46, 140, 1)\n",
      "lgwg3s.mpg\n",
      "(46, 140, 1)\n",
      "lbix6p.mpg\n",
      "(46, 140, 1)\n",
      "lbwe6p.mpg\n",
      "(46, 140, 1)\n",
      "lrbr5s.mpg\n",
      "(46, 140, 1)\n",
      "bgaa8p.mpg\n",
      "(46, 140, 1)\n",
      "briz7s.mpg\n",
      "(46, 140, 1)\n",
      "lrbl1s.mpg\n",
      "(46, 140, 1)\n",
      "bgig6n.mpg\n",
      "(46, 140, 1)\n",
      "bbaf2n.mpg\n",
      "(46, 140, 1)\n",
      "bragzp.mpg\n",
      "(46, 140, 1)\n",
      "lgbs6n.mpg\n",
      "(46, 140, 1)\n",
      "swao5s.mpg\n",
      "(46, 140, 1)\n",
      "lbwk8n.mpg\n",
      "(46, 140, 1)\n",
      "srbh8n.mpg\n",
      "(46, 140, 1)\n",
      "lwir2n.mpg\n",
      "(46, 140, 1)\n",
      "bwat5a.mpg\n",
      "(46, 140, 1)\n",
      "pbaczn.mpg\n",
      "(46, 140, 1)\n",
      "sgio6n.mpg\n",
      "(46, 140, 1)\n",
      "bbwg3a.mpg\n",
      "(46, 140, 1)\n",
      "pgix6n.mpg\n",
      "(46, 140, 1)\n",
      "bbbz9s.mpg\n",
      "(46, 140, 1)\n",
      "sgic1a.mpg\n",
      "(46, 140, 1)\n",
      "sgai9a.mpg\n",
      "(46, 140, 1)\n",
      "sgii4p.mpg\n",
      "(46, 140, 1)\n",
      "brba1a.mpg\n",
      "(46, 140, 1)\n",
      "prbj6p.mpg\n",
      "(46, 140, 1)\n",
      "bbaf3s.mpg\n",
      "(46, 140, 1)\n",
      "lgam1a.mpg\n",
      "(46, 140, 1)\n",
      "bbbm2p.mpg\n",
      "(46, 140, 1)\n",
      "srab1s.mpg\n",
      "(46, 140, 1)\n",
      "prbx5a.mpg\n",
      "(46, 140, 1)\n",
      "pgwl1s.mpg\n",
      "(46, 140, 1)\n",
      "lrwz4p.mpg\n",
      "(46, 140, 1)\n",
      "lwar7s.mpg\n",
      "(46, 140, 1)\n",
      "sgwd1s.mpg\n",
      "(46, 140, 1)\n",
      "srwv2p.mpg\n",
      "(46, 140, 1)\n",
      "bwis8n.mpg\n",
      "(46, 140, 1)\n",
      "bbaz6p.mpg\n",
      "(46, 140, 1)\n",
      "lgaz6n.mpg\n",
      "(46, 140, 1)\n",
      "bwbt8p.mpg\n",
      "(46, 140, 1)\n",
      "pbbp3s.mpg\n",
      "(46, 140, 1)\n",
      "swbv5a.mpg\n",
      "(46, 140, 1)\n",
      "bram3s.mpg\n",
      "(46, 140, 1)\n",
      "lgaf5s.mpg\n",
      "(46, 140, 1)\n",
      "lgwt2p.mpg\n",
      "(46, 140, 1)\n",
      "pgbk9a.mpg\n",
      "(46, 140, 1)\n",
      "brif5s.mpg\n",
      "(46, 140, 1)\n",
      "pbiu8n.mpg\n",
      "(46, 140, 1)\n",
      "pric3s.mpg\n",
      "(46, 140, 1)\n",
      "pbav5a.mpg\n",
      "(46, 140, 1)\n",
      "brwn3a.mpg\n",
      "(46, 140, 1)\n",
      "pwwrzp.mpg\n",
      "(46, 140, 1)\n",
      "brwt4n.mpg\n",
      "(46, 140, 1)\n",
      "lrws1a.mpg\n",
      "(46, 140, 1)\n",
      "sbia3a.mpg\n",
      "(46, 140, 1)\n",
      "swwj1a.mpg\n",
      "(46, 140, 1)\n",
      "lwiy7s.mpg\n",
      "(46, 140, 1)\n",
      "sbbu3a.mpg\n",
      "(46, 140, 1)\n",
      "sbbuzn.mpg\n",
      "(46, 140, 1)\n",
      "lrwf1s.mpg\n",
      "(46, 140, 1)\n",
      "sbbh5a.mpg\n",
      "(46, 140, 1)\n",
      "brwa5a.mpg\n",
      "(46, 140, 1)\n",
      "lgal8n.mpg\n",
      "(46, 140, 1)\n",
      "bgah3a.mpg\n",
      "(46, 140, 1)\n",
      "lrbzzp.mpg\n",
      "(46, 140, 1)\n",
      "lrak7s.mpg\n",
      "(46, 140, 1)\n",
      "sbahzp.mpg\n",
      "(46, 140, 1)\n",
      "lbbq9s.mpg\n",
      "(46, 140, 1)\n",
      "pbav2n.mpg\n",
      "(46, 140, 1)\n",
      "sgav6p.mpg\n",
      "(46, 140, 1)\n",
      "srah5s.mpg\n",
      "(46, 140, 1)\n",
      "lrae4p.mpg\n",
      "(46, 140, 1)\n",
      "bginzn.mpg\n",
      "(46, 140, 1)\n",
      "lbak3a.mpg\n",
      "(46, 140, 1)\n",
      "lrid8n.mpg\n",
      "(46, 140, 1)\n",
      "srih1s.mpg\n",
      "(46, 140, 1)\n",
      "pwaq3a.mpg\n",
      "(46, 140, 1)\n",
      "lbid5a.mpg\n",
      "(46, 140, 1)\n",
      "srih2p.mpg\n",
      "(46, 140, 1)\n",
      "lwae8n.mpg\n",
      "(46, 140, 1)\n",
      "sraozp.mpg\n",
      "(46, 140, 1)\n",
      "sgwj4n.mpg\n",
      "(46, 140, 1)\n",
      "bgwi1a.mpg\n",
      "(46, 140, 1)\n",
      "sgbc7s.mpg\n",
      "(46, 140, 1)\n",
      "lbbk4n.mpg\n",
      "(46, 140, 1)\n",
      "brif7a.mpg\n",
      "(46, 140, 1)\n",
      "bbaz5s.mpg\n",
      "(46, 140, 1)\n",
      "lwar6n.mpg\n",
      "(46, 140, 1)\n",
      "pwwy4p.mpg\n",
      "(46, 140, 1)\n",
      "pbwc8n.mpg\n",
      "(46, 140, 1)\n",
      "lrarzn.mpg\n",
      "(46, 140, 1)\n",
      "srwc1a.mpg\n",
      "(46, 140, 1)\n",
      "bgin3a.mpg\n",
      "(46, 140, 1)\n",
      "srwb9s.mpg\n",
      "(46, 140, 1)\n",
      "prap5s.mpg\n",
      "(46, 140, 1)\n",
      "swao6p.mpg\n",
      "(46, 140, 1)\n",
      "bgbu3s.mpg\n",
      "(46, 140, 1)\n",
      "bbbs4n.mpg\n",
      "(46, 140, 1)\n",
      "lwbf4p.mpg\n",
      "(46, 140, 1)\n",
      "lbix7a.mpg\n",
      "(46, 140, 1)\n",
      "sgbv8n.mpg\n",
      "(46, 140, 1)\n",
      "bwwn9a.mpg\n",
      "(46, 140, 1)\n",
      "sgbp5s.mpg\n",
      "(46, 140, 1)\n",
      "brwn1s.mpg\n",
      "(46, 140, 1)\n",
      "sbaa4n.mpg\n",
      "(46, 140, 1)\n",
      "swwv7s.mpg\n",
      "(46, 140, 1)\n",
      "lgbs8p.mpg\n",
      "(46, 140, 1)\n",
      "sbwo2p.mpg\n",
      "(46, 140, 1)\n",
      "prwd6p.mpg\n",
      "(46, 140, 1)\n",
      "lwir3s.mpg\n",
      "(46, 140, 1)\n",
      "bwat3s.mpg\n",
      "(46, 140, 1)\n",
      "pbio5s.mpg\n",
      "(46, 140, 1)\n",
      "pbwp7s.mpg\n",
      "(46, 140, 1)\n",
      "lrwl5s.mpg\n",
      "(46, 140, 1)\n",
      "bris3s.mpg\n",
      "(46, 140, 1)\n",
      "sgwj7a.mpg\n",
      "(46, 140, 1)\n",
      "briz8p.mpg\n",
      "(46, 140, 1)\n",
      "bbir8p.mpg\n",
      "(46, 140, 1)\n",
      "pgwe6n.mpg\n",
      "(46, 140, 1)\n",
      "srbu8p.mpg\n",
      "(46, 140, 1)\n",
      "brwnzn.mpg\n",
      "(46, 140, 1)\n",
      "sgav7a.mpg\n",
      "(46, 140, 1)\n",
      "pgwz1a.mpg\n",
      "(46, 140, 1)\n",
      "bwim4n.mpg\n",
      "(46, 140, 1)\n",
      "lbad7s.mpg\n",
      "(46, 140, 1)\n",
      "pric4p.mpg\n",
      "(46, 140, 1)\n",
      "swwc5s.mpg\n",
      "(46, 140, 1)\n",
      "sbit4p.mpg\n",
      "(46, 140, 1)\n",
      "bgwb6p.mpg\n",
      "(46, 140, 1)\n",
      "lgir8n.mpg\n",
      "(46, 140, 1)\n",
      "pwwezn.mpg\n",
      "(46, 140, 1)\n",
      "bwag6p.mpg\n",
      "(46, 140, 1)\n",
      "lbbezn.mpg\n",
      "(46, 140, 1)\n",
      "sban2n.mpg\n",
      "(46, 140, 1)\n",
      "sgwx5a.mpg\n",
      "(46, 140, 1)\n",
      "sgwj5s.mpg\n",
      "(46, 140, 1)\n",
      "lbwl1a.mpg\n",
      "(46, 140, 1)\n",
      "swwv8p.mpg\n",
      "(46, 140, 1)\n",
      "pbac2p.mpg\n",
      "(46, 140, 1)\n",
      "pbai7a.mpg\n",
      "(46, 140, 1)\n",
      "brbtzn.mpg\n",
      "(46, 140, 1)\n",
      "pbbjzp.mpg\n",
      "(46, 140, 1)\n",
      "prbd3a.mpg\n",
      "(46, 140, 1)\n",
      "bgah1s.mpg\n",
      "(46, 140, 1)\n",
      "lrie1a.mpg\n",
      "(46, 140, 1)\n",
      "bbwtzp.mpg\n",
      "(46, 140, 1)\n",
      "bgbh4n.mpg\n",
      "(46, 140, 1)\n",
      "pgby6p.mpg\n",
      "(46, 140, 1)\n",
      "lwie4n.mpg\n",
      "(46, 140, 1)\n",
      "pwbq6p.mpg\n",
      "(46, 140, 1)\n",
      "lriq6n.mpg\n",
      "(46, 140, 1)\n",
      "pwbk1s.mpg\n",
      "(46, 140, 1)\n",
      "sbiazn.mpg\n",
      "(46, 140, 1)\n",
      "sbwh8p.mpg\n",
      "(46, 140, 1)\n",
      "priv4n.mpg\n",
      "(46, 140, 1)\n",
      "lbad6n.mpg\n",
      "(46, 140, 1)\n",
      "pwaq1s.mpg\n",
      "(46, 140, 1)\n",
      "swbpzp.mpg\n",
      "(46, 140, 1)\n",
      "sgac4p.mpg\n",
      "(46, 140, 1)\n",
      "pwip6n.mpg\n",
      "(46, 140, 1)\n",
      "lbix5s.mpg\n",
      "(46, 140, 1)\n",
      "sbbn9a.mpg\n",
      "(46, 140, 1)\n",
      "sgap2p.mpg\n",
      "(46, 140, 1)\n",
      "prbx3s.mpg\n",
      "(46, 140, 1)\n",
      "bgig9a.mpg\n",
      "(46, 140, 1)\n",
      "prwx8p.mpg\n",
      "(46, 140, 1)\n",
      "sbwu5s.mpg\n",
      "(46, 140, 1)\n",
      "pgwr6p.mpg\n",
      "(46, 140, 1)\n",
      "bbas2p.mpg\n",
      "(46, 140, 1)\n",
      "sbba9s.mpg\n",
      "(46, 140, 1)\n",
      "lgbg1a.mpg\n",
      "(46, 140, 1)\n",
      "bwig3a.mpg\n",
      "(46, 140, 1)\n",
      "lbwe5s.mpg\n",
      "(46, 140, 1)\n",
      "lgil5s.mpg\n",
      "(46, 140, 1)\n",
      "pgby7a.mpg\n",
      "(46, 140, 1)\n",
      "prap4n.mpg\n",
      "(46, 140, 1)\n",
      "lbakzn.mpg\n",
      "(46, 140, 1)\n",
      "bgin2p.mpg\n",
      "(46, 140, 1)\n",
      "sgap1s.mpg\n",
      "(46, 140, 1)\n",
      "lgas5a.mpg\n",
      "(46, 140, 1)\n",
      "lwws5s.mpg\n",
      "(46, 140, 1)\n",
      "lgas4p.mpg\n",
      "(46, 140, 1)\n",
      "lbak2p.mpg\n",
      "(46, 140, 1)\n",
      "brwt6p.mpg\n",
      "(46, 140, 1)\n",
      "pwax4n.mpg\n",
      "(46, 140, 1)\n",
      "pwip7s.mpg\n",
      "(46, 140, 1)\n",
      "bgig8p.mpg\n",
      "(46, 140, 1)\n",
      "sgib9s.mpg\n",
      "(46, 140, 1)\n",
      "lrae2n.mpg\n",
      "(46, 140, 1)\n",
      "swau8n.mpg\n",
      "(46, 140, 1)\n",
      "lwbz5s.mpg\n",
      "(46, 140, 1)\n",
      "pbio7a.mpg\n"
     ]
    },
    {
     "ename": "error",
     "evalue": "OpenCV(4.9.0) :-1: error: (-5:Bad argument) in function 'resize'\n> Overload resolution failed:\n>  - src is not a numpy array, neither a scalar\n>  - Expected Ptr<cv::UMat> for argument 'src'\n",
     "output_type": "error",
     "traceback": [
      "\u001B[0;31m---------------------------------------------------------------------------\u001B[0m",
      "\u001B[0;31merror\u001B[0m                                     Traceback (most recent call last)",
      "Cell \u001B[0;32mIn[7], line 3\u001B[0m\n\u001B[1;32m      1\u001B[0m \u001B[38;5;28;01mimport\u001B[39;00m \u001B[38;5;21;01msys\u001B[39;00m\n\u001B[0;32m----> 3\u001B[0m video_dict \u001B[38;5;241m=\u001B[39m \u001B[43mgenerate_mounth_video_dict\u001B[49m\u001B[43m(\u001B[49m\u001B[38;5;124;43m'\u001B[39;49m\u001B[38;5;124;43m./data/s1\u001B[39;49m\u001B[38;5;124;43m'\u001B[39;49m\u001B[43m)\u001B[49m\n\u001B[1;32m      4\u001B[0m \u001B[38;5;28mprint\u001B[39m(\u001B[38;5;28mlen\u001B[39m(video_dict))\n\u001B[1;32m      5\u001B[0m \u001B[38;5;66;03m# print memory in video_dict\u001B[39;00m\n",
      "Cell \u001B[0;32mIn[6], line 48\u001B[0m, in \u001B[0;36mgenerate_mounth_video_dict\u001B[0;34m(path)\u001B[0m\n\u001B[1;32m     46\u001B[0m \u001B[38;5;28;01mfor\u001B[39;00m (x, y, w, h) \u001B[38;5;129;01min\u001B[39;00m faces:\n\u001B[1;32m     47\u001B[0m     mouth_roi \u001B[38;5;241m=\u001B[39m frame[y \u001B[38;5;241m+\u001B[39m \u001B[38;5;28mint\u001B[39m(h \u001B[38;5;241m/\u001B[39m \u001B[38;5;241m2\u001B[39m):y \u001B[38;5;241m+\u001B[39m h, x:x \u001B[38;5;241m+\u001B[39m w, :]\n\u001B[0;32m---> 48\u001B[0m     frame \u001B[38;5;241m=\u001B[39m \u001B[43mcv2\u001B[49m\u001B[38;5;241;43m.\u001B[39;49m\u001B[43mresize\u001B[49m\u001B[43m(\u001B[49m\u001B[43mmouth_roi\u001B[49m\u001B[43m,\u001B[49m\u001B[43m \u001B[49m\u001B[43m(\u001B[49m\u001B[38;5;241;43m140\u001B[39;49m\u001B[43m,\u001B[49m\u001B[43m \u001B[49m\u001B[38;5;241;43m46\u001B[39;49m\u001B[43m)\u001B[49m\u001B[43m)\u001B[49m\n\u001B[1;32m     49\u001B[0m     frame \u001B[38;5;241m=\u001B[39m tf\u001B[38;5;241m.\u001B[39mimage\u001B[38;5;241m.\u001B[39mrgb_to_grayscale(frame)\n\u001B[1;32m     50\u001B[0m frames\u001B[38;5;241m.\u001B[39mappend(frame)\n",
      "\u001B[0;31merror\u001B[0m: OpenCV(4.9.0) :-1: error: (-5:Bad argument) in function 'resize'\n> Overload resolution failed:\n>  - src is not a numpy array, neither a scalar\n>  - Expected Ptr<cv::UMat> for argument 'src'\n"
     ]
    }
   ],
   "source": [
    "import sys\n",
    "\n",
    "video_dict = generate_mounth_video_dict('./data/s1')\n",
    "print(len(video_dict))\n",
    "# print memory in video_dict\n",
    "dict_size = sys.getsizeof(video_dict)\n",
    "print(f\"Size of video_dict: {dict_size} bytes\")\n"
   ]
  },
  {
   "cell_type": "code",
   "outputs": [
    {
     "ename": "AttributeError",
     "evalue": "'NoneType' object has no attribute 'keys'",
     "output_type": "error",
     "traceback": [
      "\u001B[0;31m---------------------------------------------------------------------------\u001B[0m",
      "\u001B[0;31mAttributeError\u001B[0m                            Traceback (most recent call last)",
      "Cell \u001B[0;32mIn[23], line 1\u001B[0m\n\u001B[0;32m----> 1\u001B[0m \u001B[38;5;28mprint\u001B[39m(\u001B[43mvideo_dict\u001B[49m\u001B[38;5;241;43m.\u001B[39;49m\u001B[43mkeys\u001B[49m())\n",
      "\u001B[0;31mAttributeError\u001B[0m: 'NoneType' object has no attribute 'keys'"
     ]
    }
   ],
   "source": [],
   "metadata": {
    "collapsed": false,
    "ExecuteTime": {
     "end_time": "2024-04-02T10:17:47.757435132Z",
     "start_time": "2024-04-02T10:17:47.247949701Z"
    }
   },
   "id": "7089e65e064cb7cd",
   "execution_count": 23
  },
  {
   "cell_type": "code",
   "outputs": [],
   "source": [
    "vocab = [x for x in \"abcdefghijklmnopqrstuvwxyz \"]"
   ],
   "metadata": {
    "collapsed": false,
    "ExecuteTime": {
     "end_time": "2024-04-02T11:12:59.611147827Z",
     "start_time": "2024-04-02T11:12:59.526141379Z"
    }
   },
   "id": "a9a23f64ae4ee129",
   "execution_count": 42
  },
  {
   "cell_type": "code",
   "execution_count": 43,
   "id": "ec735e0b-ec98-4eb0-8f49-c35527d6670a",
   "metadata": {
    "tags": [],
    "ExecuteTime": {
     "end_time": "2024-04-02T11:13:00.288823746Z",
     "start_time": "2024-04-02T11:13:00.260001599Z"
    }
   },
   "outputs": [
    {
     "name": "stdout",
     "output_type": "stream",
     "text": [
      "The vocabulary is: ['', 'a', 'b', 'c', 'd', 'e', 'f', 'g', 'h', 'i', 'j', 'k', 'l', 'm', 'n', 'o', 'p', 'q', 'r', 's', 't', 'u', 'v', 'w', 'x', 'y', 'z', ' '] (size =28)\n"
     ]
    }
   ],
   "source": [
    "char_to_num = tf.keras.layers.StringLookup(vocabulary=vocab, oov_token=\"\")\n",
    "num_to_char = tf.keras.layers.StringLookup(\n",
    "    vocabulary=char_to_num.get_vocabulary(), oov_token=\"\", invert=True\n",
    ")\n",
    "\n",
    "print(\n",
    "    f\"The vocabulary is: {char_to_num.get_vocabulary()} \"\n",
    "    f\"(size ={char_to_num.vocabulary_size()})\"\n",
    ")"
   ]
  },
  {
   "cell_type": "code",
   "execution_count": 44,
   "id": "be04e972-d7a5-4a72-82d8-a6bdde1f3ce6",
   "metadata": {
    "tags": [],
    "ExecuteTime": {
     "end_time": "2024-04-02T11:13:01.184493486Z",
     "start_time": "2024-04-02T11:13:01.151707352Z"
    }
   },
   "outputs": [
    {
     "data": {
      "text/plain": "['',\n 'a',\n 'b',\n 'c',\n 'd',\n 'e',\n 'f',\n 'g',\n 'h',\n 'i',\n 'j',\n 'k',\n 'l',\n 'm',\n 'n',\n 'o',\n 'p',\n 'q',\n 'r',\n 's',\n 't',\n 'u',\n 'v',\n 'w',\n 'x',\n 'y',\n 'z',\n ' ']"
     },
     "execution_count": 44,
     "metadata": {},
     "output_type": "execute_result"
    }
   ],
   "source": [
    "char_to_num.get_vocabulary()"
   ]
  },
  {
   "cell_type": "code",
   "execution_count": 45,
   "id": "559f7420-6802-45fa-9ca0-b1ff209b461c",
   "metadata": {
    "tags": [],
    "ExecuteTime": {
     "end_time": "2024-04-02T11:13:02.839728029Z",
     "start_time": "2024-04-02T11:13:02.797004304Z"
    }
   },
   "outputs": [
    {
     "data": {
      "text/plain": "<tf.Tensor: shape=(4,), dtype=int64, numpy=array([14,  9,  3, 11])>"
     },
     "execution_count": 45,
     "metadata": {},
     "output_type": "execute_result"
    }
   ],
   "source": [
    "char_to_num(['n', 'i', 'c', 'k'])"
   ]
  },
  {
   "cell_type": "code",
   "execution_count": 46,
   "id": "797ff78b-b48f-4e14-bb62-8cd0ebf9501a",
   "metadata": {
    "tags": [],
    "ExecuteTime": {
     "end_time": "2024-04-02T11:13:03.789495235Z",
     "start_time": "2024-04-02T11:13:03.758379576Z"
    }
   },
   "outputs": [
    {
     "data": {
      "text/plain": "<tf.Tensor: shape=(4,), dtype=string, numpy=array([b'n', b'i', b'c', b'k'], dtype=object)>"
     },
     "execution_count": 46,
     "metadata": {},
     "output_type": "execute_result"
    }
   ],
   "source": [
    "num_to_char([14, 9, 3, 11])"
   ]
  },
  {
   "cell_type": "code",
   "execution_count": 47,
   "id": "8cd7f4f4-ae77-4509-a4f4-c723787ebad1",
   "metadata": {
    "ExecuteTime": {
     "end_time": "2024-04-02T11:13:07.694581027Z",
     "start_time": "2024-04-02T11:13:06.183241411Z"
    }
   },
   "outputs": [],
   "source": [
    "# def load_alignments(path:str) -> List[str]: \n",
    "#     with open(path, 'r') as f: \n",
    "#         lines = f.readlines() \n",
    "#     tokens = []\n",
    "#     for line in lines:\n",
    "#         line = line.split()\n",
    "#         if line[2] != 'sil': \n",
    "#             tokens = [*tokens,' ',line[2]]\n",
    "#     return char_to_num(tf.reshape(tf.strings.unicode_split(tokens, input_encoding='UTF-8'), (-1)))[1:]\n",
    "def init_alignments(path: str) -> dict[str:List[str]]:\n",
    "    alignments = {}\n",
    "    if not os.path.exists(path):\n",
    "        raise FileNotFoundError(f'{path} does not exist')\n",
    "    for file in os.listdir(path):\n",
    "        if file.endswith('.align'):\n",
    "            with open(os.path.join(path, file), 'r') as f:\n",
    "                lines = f.readlines()\n",
    "            tokens = []\n",
    "            for line in lines:\n",
    "                line = line.split()\n",
    "                if line[2] != 'sil':\n",
    "                    tokens = [*tokens, ' ', line[2]]\n",
    "            alignments[file] = char_to_num(tf.reshape(tf.strings.unicode_split(tokens, input_encoding='UTF-8'), (-1)))[\n",
    "                               1:]\n",
    "    return alignments\n",
    "\n",
    "\n",
    "alignments_dict = init_alignments('./data/alignments/s1')\n"
   ]
  },
  {
   "cell_type": "code",
   "execution_count": 48,
   "id": "9491bab5-6a3c-4f79-879a-8f9fbe73ae2e",
   "metadata": {
    "tags": [],
    "ExecuteTime": {
     "end_time": "2024-04-02T11:13:09.219579968Z",
     "start_time": "2024-04-02T11:13:09.176019106Z"
    }
   },
   "outputs": [
    {
     "name": "stdout",
     "output_type": "stream",
     "text": [
      "1000\n"
     ]
    }
   ],
   "source": [
    "print(len(alignments_dict))"
   ]
  },
  {
   "cell_type": "code",
   "outputs": [],
   "source": [
    "def load_data(path: str):\n",
    "    path = bytes.decode(path.numpy())\n",
    "    file_name = path.split('/')[-1].split('.')[0]\n",
    "    # File name splitting for windows\n",
    "    # file_name = path.split('\\\\')[-1].split('.')[0]\n",
    "    video_path = f'{file_name}.mpg'\n",
    "    alignment_path = f'{file_name}.align'\n",
    "    frames = video_dict.get(video_path)\n",
    "    alignments = alignments_dict.get(alignment_path)\n",
    "\n",
    "    return frames, alignments"
   ],
   "metadata": {
    "collapsed": false,
    "ExecuteTime": {
     "end_time": "2024-04-02T11:13:10.420863965Z",
     "start_time": "2024-04-02T11:13:10.376813366Z"
    }
   },
   "id": "255d533c5140ad12",
   "execution_count": 49
  },
  {
   "cell_type": "code",
   "execution_count": 50,
   "id": "dd01ca9f-77fb-4643-a2aa-47dd82c5d66b",
   "metadata": {
    "tags": [],
    "ExecuteTime": {
     "end_time": "2024-04-02T11:13:11.845838011Z",
     "start_time": "2024-04-02T11:13:11.807816254Z"
    }
   },
   "outputs": [],
   "source": [
    "test_path = './data/s1/bbal6n.mpg'"
   ]
  },
  {
   "cell_type": "code",
   "execution_count": 51,
   "id": "8cb7cc58-31ae-4904-a805-1177a82717d2",
   "metadata": {
    "tags": [],
    "ExecuteTime": {
     "end_time": "2024-04-02T11:13:12.058525866Z",
     "start_time": "2024-04-02T11:13:12.012460723Z"
    }
   },
   "outputs": [
    {
     "data": {
      "text/plain": "'bbal6n'"
     },
     "execution_count": 51,
     "metadata": {},
     "output_type": "execute_result"
    }
   ],
   "source": [
    "tf.convert_to_tensor(test_path).numpy().decode('utf-8').split('/')[-1].split('.')[0]"
   ]
  },
  {
   "cell_type": "code",
   "execution_count": 52,
   "id": "76aa964f-0c84-490d-897a-d00e3966e2c9",
   "metadata": {
    "ExecuteTime": {
     "end_time": "2024-04-02T11:13:12.336240536Z",
     "start_time": "2024-04-02T11:13:12.308893180Z"
    }
   },
   "outputs": [],
   "source": [
    "frames, alignments = load_data(tf.convert_to_tensor(test_path))"
   ]
  },
  {
   "cell_type": "code",
   "execution_count": 53,
   "id": "eb602c71-8560-4f9e-b26b-08202febb937",
   "metadata": {
    "scrolled": true,
    "tags": [],
    "ExecuteTime": {
     "end_time": "2024-04-02T11:13:12.993624496Z",
     "start_time": "2024-04-02T11:13:12.960076370Z"
    }
   },
   "outputs": [
    {
     "name": "stdout",
     "output_type": "stream",
     "text": [
      "75\n"
     ]
    }
   ],
   "source": [
    "print(len(frames))"
   ]
  },
  {
   "cell_type": "code",
   "outputs": [
    {
     "data": {
      "text/plain": "<matplotlib.image.AxesImage at 0x796dac65c0a0>"
     },
     "execution_count": 54,
     "metadata": {},
     "output_type": "execute_result"
    },
    {
     "data": {
      "text/plain": "<Figure size 640x480 with 1 Axes>",
      "image/png": "[encoded data removed]"
     },
     "metadata": {},
     "output_type": "display_data"
    }
   ],
   "source": [
    "plt.imshow(frames[40][:, :, 0])\n"
   ],
   "metadata": {
    "collapsed": false,
    "ExecuteTime": {
     "end_time": "2024-04-02T11:13:14.605258593Z",
     "start_time": "2024-04-02T11:13:14.507152725Z"
    }
   },
   "id": "823ce0542f1d954d",
   "execution_count": 54
  },
  {
   "cell_type": "code",
   "execution_count": 23,
   "id": "0e3184a1-6b02-4b4f-84a8-a0a65f951ea2",
   "metadata": {
    "ExecuteTime": {
     "end_time": "2024-03-31T11:10:42.307357626Z",
     "start_time": "2024-03-31T11:10:42.256770098Z"
    }
   },
   "outputs": [
    {
     "data": {
      "text/plain": "<tf.Tensor: shape=(21,), dtype=int64, numpy=\narray([ 2,  9, 14, 27,  2, 12, 21,  5, 27,  1, 20, 27, 12, 27, 19,  9, 24,\n       27, 14, 15, 23])>"
     },
     "execution_count": 23,
     "metadata": {},
     "output_type": "execute_result"
    }
   ],
   "source": [
    "alignments"
   ]
  },
  {
   "cell_type": "code",
   "execution_count": 55,
   "id": "d7ec0833-d54b-4073-84cf-92d011c60ec1",
   "metadata": {
    "ExecuteTime": {
     "end_time": "2024-04-02T11:13:20.468248180Z",
     "start_time": "2024-04-02T11:13:20.429397754Z"
    }
   },
   "outputs": [
    {
     "data": {
      "text/plain": "<tf.Tensor: shape=(), dtype=string, numpy=b'bin blue at l six now'>"
     },
     "execution_count": 55,
     "metadata": {},
     "output_type": "execute_result"
    }
   ],
   "source": [
    "tf.strings.reduce_join([bytes.decode(x) for x in num_to_char(alignments.numpy()).numpy()])"
   ]
  },
  {
   "cell_type": "code",
   "execution_count": 56,
   "id": "fe1ad370-b287-4b46-85a2-7c45b0bd9b10",
   "metadata": {
    "ExecuteTime": {
     "end_time": "2024-04-02T11:13:21.070581061Z",
     "start_time": "2024-04-02T11:13:21.039024662Z"
    }
   },
   "outputs": [],
   "source": [
    "def mappable_function(path: str) -> List[str]:\n",
    "    result = tf.py_function(load_data, [path], (\n",
    "        tf.float16, tf.int64))  # py_function is used to convert a python function to a tensorflow function\n",
    "    return result"
   ]
  },
  {
   "cell_type": "markdown",
   "source": [
    "# 2. Create Data Pipeline"
   ],
   "metadata": {
    "collapsed": false
   },
   "id": "df3f59140fe002b5"
  },
  {
   "cell_type": "code",
   "outputs": [],
   "source": [
    "from matplotlib import pyplot as plt"
   ],
   "metadata": {
    "collapsed": false,
    "ExecuteTime": {
     "end_time": "2024-04-02T11:13:24.765086482Z",
     "start_time": "2024-04-02T11:13:24.729849475Z"
    }
   },
   "id": "ca426bc98f41070d",
   "execution_count": 57
  },
  {
   "cell_type": "code",
   "execution_count": 58,
   "id": "7686355d-45aa-4c85-ad9c-053e6a9b4d81",
   "metadata": {
    "tags": [],
    "ExecuteTime": {
     "end_time": "2024-04-02T11:13:25.419050770Z",
     "start_time": "2024-04-02T11:13:25.220339187Z"
    }
   },
   "outputs": [],
   "source": [
    "data = tf.data.Dataset.list_files('./data/s1/*.mpg')  # list all the files\n",
    "data = data.shuffle(500, reshuffle_each_iteration=False)  # shuffle is used to shuffle the data\n",
    "data = data.map(mappable_function)  # 75 frames, 46x140 pixels, 1 channel\n",
    "data = data.padded_batch(8, padded_shapes=([75, None, None, None], [40]))  # pad the data 75 frames 40 characters\n",
    "data = data.prefetch(tf.data.AUTOTUNE)  # prefetch the data\n",
    "# Added for split \n",
    "train = data.take(100)\n",
    "test = data.skip(100)"
   ]
  },
  {
   "cell_type": "code",
   "execution_count": 59,
   "id": "f066fea2-91b1-42ed-a67d-00566a1a53ff",
   "metadata": {
    "tags": [],
    "ExecuteTime": {
     "end_time": "2024-04-02T11:13:26.125528561Z",
     "start_time": "2024-04-02T11:13:26.091038763Z"
    }
   },
   "outputs": [
    {
     "name": "stdout",
     "output_type": "stream",
     "text": [
      "125\n",
      "100\n",
      "25\n"
     ]
    }
   ],
   "source": [
    "print(len(data))\n",
    "print(len(train))\n",
    "print(len(test))"
   ]
  },
  {
   "cell_type": "code",
   "execution_count": 60,
   "id": "6b1365bd-7742-41d1-95d4-247021751c3a",
   "metadata": {
    "ExecuteTime": {
     "end_time": "2024-04-02T11:13:29.401327077Z",
     "start_time": "2024-04-02T11:13:29.365714349Z"
    }
   },
   "outputs": [],
   "source": [
    "frames, alignments = data.as_numpy_iterator().next()"
   ]
  },
  {
   "cell_type": "code",
   "execution_count": 30,
   "id": "5281bde8-fdc8-4da1-bd55-5a7929a9e80c",
   "metadata": {
    "ExecuteTime": {
     "end_time": "2024-03-31T11:11:36.039203175Z",
     "start_time": "2024-03-31T11:11:36.008750606Z"
    }
   },
   "outputs": [
    {
     "data": {
      "text/plain": "4"
     },
     "execution_count": 30,
     "metadata": {},
     "output_type": "execute_result"
    }
   ],
   "source": [
    "len(frames)"
   ]
  },
  {
   "cell_type": "code",
   "execution_count": 31,
   "id": "cbebe683-6afd-47fd-bba4-c83b4b13bb32",
   "metadata": {
    "ExecuteTime": {
     "end_time": "2024-03-31T11:11:39.519402981Z",
     "start_time": "2024-03-31T11:11:39.488172967Z"
    }
   },
   "outputs": [],
   "source": [
    "sample = data.as_numpy_iterator()"
   ]
  },
  {
   "cell_type": "code",
   "execution_count": 32,
   "id": "5cf2d676-93a9-434c-b3c7-bdcc2577b2e7",
   "metadata": {
    "tags": [],
    "ExecuteTime": {
     "end_time": "2024-03-31T11:11:40.957696227Z",
     "start_time": "2024-03-31T11:11:40.916065915Z"
    }
   },
   "outputs": [
    {
     "data": {
      "text/plain": "array([[[[[ 1.433  ],\n          [ 1.433  ],\n          [ 1.433  ],\n          ...,\n          [ 0.3843 ],\n          [ 0.3843 ],\n          [ 0.3843 ]],\n\n         [[ 1.433  ],\n          [ 1.433  ],\n          [ 1.433  ],\n          ...,\n          [ 0.3843 ],\n          [ 0.3843 ],\n          [ 0.3843 ]],\n\n         [[ 1.362  ],\n          [ 1.362  ],\n          [ 1.362  ],\n          ...,\n          [ 0.3843 ],\n          [ 0.3494 ],\n          [ 0.3494 ]],\n\n         ...,\n\n         [[ 0.978  ],\n          [ 0.978  ],\n          [ 0.978  ],\n          ...,\n          [ 0.03494],\n          [ 0.     ],\n          [ 0.     ]],\n\n         [[ 0.978  ],\n          [ 0.978  ],\n          [ 0.978  ],\n          ...,\n          [ 0.     ],\n          [ 0.     ],\n          [ 0.     ]],\n\n         [[ 0.978  ],\n          [ 0.978  ],\n          [ 0.978  ],\n          ...,\n          [ 0.     ],\n          [ 0.     ],\n          [ 8.91   ]]],\n\n\n        [[[ 1.327  ],\n          [ 1.327  ],\n          [ 1.362  ],\n          ...,\n          [ 0.3494 ],\n          [ 0.3145 ],\n          [ 0.3145 ]],\n\n         [[ 1.327  ],\n          [ 1.327  ],\n          [ 1.362  ],\n          ...,\n          [ 0.3494 ],\n          [ 0.3145 ],\n          [ 0.3145 ]],\n\n         [[ 1.397  ],\n          [ 1.397  ],\n          [ 1.362  ],\n          ...,\n          [ 0.3843 ],\n          [ 0.3843 ],\n          [ 0.3494 ]],\n\n         ...,\n\n         [[ 1.013  ],\n          [ 1.013  ],\n          [ 1.013  ],\n          ...,\n          [ 0.     ],\n          [ 0.03494],\n          [ 0.03494]],\n\n         [[ 1.013  ],\n          [ 1.013  ],\n          [ 0.978  ],\n          ...,\n          [ 0.     ],\n          [ 0.     ],\n          [ 0.     ]],\n\n         [[ 0.978  ],\n          [ 0.978  ],\n          [ 0.978  ],\n          ...,\n          [ 0.     ],\n          [ 0.     ],\n          [ 8.91   ]]],\n\n\n        [[[ 1.293  ],\n          [ 1.293  ],\n          [ 1.397  ],\n          ...,\n          [ 0.3494 ],\n          [ 0.3145 ],\n          [ 0.3145 ]],\n\n         [[ 1.293  ],\n          [ 1.293  ],\n          [ 1.397  ],\n          ...,\n          [ 0.3494 ],\n          [ 0.3145 ],\n          [ 0.3145 ]],\n\n         [[ 1.362  ],\n          [ 1.362  ],\n          [ 1.362  ],\n          ...,\n          [ 0.3843 ],\n          [ 0.3843 ],\n          [ 0.3494 ]],\n\n         ...,\n\n         [[ 1.013  ],\n          [ 1.013  ],\n          [ 1.013  ],\n          ...,\n          [ 0.03494],\n          [ 0.0699 ],\n          [ 0.03494]],\n\n         [[ 1.013  ],\n          [ 1.013  ],\n          [ 0.978  ],\n          ...,\n          [ 0.03494],\n          [ 0.03494],\n          [ 0.03494]],\n\n         [[ 0.978  ],\n          [ 0.978  ],\n          [ 0.978  ],\n          ...,\n          [ 0.     ],\n          [ 0.03494],\n          [ 0.     ]]],\n\n\n        ...,\n\n\n        [[[ 1.467  ],\n          [ 1.397  ],\n          [ 1.467  ],\n          ...,\n          [ 0.3145 ],\n          [ 0.3145 ],\n          [ 0.3145 ]],\n\n         [[ 1.537  ],\n          [ 1.397  ],\n          [ 1.467  ],\n          ...,\n          [ 0.3145 ],\n          [ 0.3145 ],\n          [ 0.3145 ]],\n\n         [[ 1.467  ],\n          [ 1.467  ],\n          [ 1.433  ],\n          ...,\n          [ 0.3494 ],\n          [ 0.3494 ],\n          [ 0.3494 ]],\n\n         ...,\n\n         [[ 1.048  ],\n          [ 1.048  ],\n          [ 1.048  ],\n          ...,\n          [ 0.03494],\n          [ 0.     ],\n          [ 0.     ]],\n\n         [[ 1.048  ],\n          [ 1.048  ],\n          [ 1.048  ],\n          ...,\n          [ 0.03494],\n          [ 0.     ],\n          [ 0.     ]],\n\n         [[ 1.048  ],\n          [ 1.048  ],\n          [ 1.013  ],\n          ...,\n          [ 0.0699 ],\n          [ 0.03494],\n          [ 0.03494]]],\n\n\n        [[[ 1.433  ],\n          [ 1.362  ],\n          [ 1.397  ],\n          ...,\n          [ 0.3145 ],\n          [ 0.3145 ],\n          [ 0.3145 ]],\n\n         [[ 1.467  ],\n          [ 1.362  ],\n          [ 1.397  ],\n          ...,\n          [ 0.3145 ],\n          [ 0.3145 ],\n          [ 0.3145 ]],\n\n         [[ 1.362  ],\n          [ 1.362  ],\n          [ 1.327  ],\n          ...,\n          [ 0.3494 ],\n          [ 0.3145 ],\n          [ 0.3145 ]],\n\n         ...,\n\n         [[ 1.048  ],\n          [ 1.048  ],\n          [ 1.048  ],\n          ...,\n          [ 0.0699 ],\n          [ 0.03494],\n          [ 0.03494]],\n\n         [[ 1.048  ],\n          [ 1.048  ],\n          [ 1.048  ],\n          ...,\n          [ 0.0699 ],\n          [ 0.03494],\n          [ 0.03494]],\n\n         [[ 1.048  ],\n          [ 1.048  ],\n          [ 1.013  ],\n          ...,\n          [ 0.1048 ],\n          [ 0.0699 ],\n          [ 0.03494]]],\n\n\n        [[[ 1.467  ],\n          [ 1.433  ],\n          [ 1.433  ],\n          ...,\n          [ 0.3494 ],\n          [ 0.3494 ],\n          [ 0.3494 ]],\n\n         [[ 1.467  ],\n          [ 1.362  ],\n          [ 1.397  ],\n          ...,\n          [ 0.3494 ],\n          [ 0.3494 ],\n          [ 0.3494 ]],\n\n         [[ 1.433  ],\n          [ 1.433  ],\n          [ 1.397  ],\n          ...,\n          [ 0.3494 ],\n          [ 0.3145 ],\n          [ 0.3145 ]],\n\n         ...,\n\n         [[ 1.048  ],\n          [ 1.048  ],\n          [ 1.048  ],\n          ...,\n          [ 0.0699 ],\n          [ 0.03494],\n          [ 0.03494]],\n\n         [[ 1.048  ],\n          [ 1.048  ],\n          [ 1.048  ],\n          ...,\n          [ 0.0699 ],\n          [ 0.03494],\n          [ 0.03494]],\n\n         [[ 1.048  ],\n          [ 1.048  ],\n          [ 1.013  ],\n          ...,\n          [ 0.1048 ],\n          [ 0.0699 ],\n          [ 0.03494]]]],\n\n\n\n       [[[[ 1.449  ],\n          [ 1.449  ],\n          [ 1.527  ],\n          ...,\n          [ 0.03915],\n          [ 0.03915],\n          [ 0.03915]],\n\n         [[ 1.449  ],\n          [ 1.449  ],\n          [ 1.527  ],\n          ...,\n          [ 0.03915],\n          [ 0.03915],\n          [ 0.03915]],\n\n         [[ 1.371  ],\n          [ 1.371  ],\n          [ 1.371  ],\n          ...,\n          [ 0.03915],\n          [ 0.     ],\n          [ 0.     ]],\n\n         ...,\n\n         [[ 0.979  ],\n          [ 0.979  ],\n          [ 0.979  ],\n          ...,\n          [ 9.83   ],\n          [ 9.79   ],\n          [ 9.79   ]],\n\n         [[ 0.979  ],\n          [ 0.979  ],\n          [ 0.979  ],\n          ...,\n          [ 9.79   ],\n          [ 9.75   ],\n          [ 9.75   ]],\n\n         [[ 0.979  ],\n          [ 0.979  ],\n          [ 0.979  ],\n          ...,\n          [ 9.79   ],\n          [ 9.75   ],\n          [ 9.75   ]]],\n\n\n        [[[ 1.527  ],\n          [ 1.527  ],\n          [ 1.488  ],\n          ...,\n          [ 0.0783 ],\n          [ 0.03915],\n          [ 0.03915]],\n\n         [[ 1.527  ],\n          [ 1.527  ],\n          [ 1.488  ],\n          ...,\n          [ 0.0783 ],\n          [ 0.03915],\n          [ 0.03915]],\n\n         [[ 1.41   ],\n          [ 1.41   ],\n          [ 1.41   ],\n          ...,\n          [ 0.03915],\n          [ 0.03915],\n          [ 0.03915]],\n\n         ...,\n\n         [[ 0.979  ],\n          [ 0.94   ],\n          [ 0.94   ],\n          ...,\n          [ 9.79   ],\n          [ 9.75   ],\n          [ 9.75   ]],\n\n         [[ 0.979  ],\n          [ 0.94   ],\n          [ 0.94   ],\n          ...,\n          [ 9.75   ],\n          [ 9.75   ],\n          [ 9.75   ]],\n\n         [[ 0.979  ],\n          [ 0.94   ],\n          [ 0.94   ],\n          ...,\n          [ 9.75   ],\n          [ 9.75   ],\n          [ 9.75   ]]],\n\n\n        [[[ 1.449  ],\n          [ 1.449  ],\n          [ 1.41   ],\n          ...,\n          [ 0.03915],\n          [ 0.0783 ],\n          [ 0.0783 ]],\n\n         [[ 1.449  ],\n          [ 1.449  ],\n          [ 1.41   ],\n          ...,\n          [ 0.03915],\n          [ 0.0783 ],\n          [ 0.0783 ]],\n\n         [[ 1.449  ],\n          [ 1.449  ],\n          [ 1.449  ],\n          ...,\n          [ 0.03915],\n          [ 0.03915],\n          [ 0.     ]],\n\n         ...,\n\n         [[ 0.979  ],\n          [ 0.94   ],\n          [ 0.94   ],\n          ...,\n          [ 9.79   ],\n          [ 9.75   ],\n          [ 9.75   ]],\n\n         [[ 0.979  ],\n          [ 0.94   ],\n          [ 0.94   ],\n          ...,\n          [ 9.75   ],\n          [ 9.71   ],\n          [ 9.71   ]],\n\n         [[ 0.979  ],\n          [ 0.94   ],\n          [ 0.94   ],\n          ...,\n          [ 9.75   ],\n          [ 9.71   ],\n          [ 9.71   ]]],\n\n\n        ...,\n\n\n        [[[ 1.371  ],\n          [ 1.371  ],\n          [ 1.449  ],\n          ...,\n          [ 0.03915],\n          [ 0.     ],\n          [ 0.     ]],\n\n         [[ 1.371  ],\n          [ 1.371  ],\n          [ 1.449  ],\n          ...,\n          [ 0.03915],\n          [ 0.     ],\n          [ 0.     ]],\n\n         [[ 1.371  ],\n          [ 1.371  ],\n          [ 1.371  ],\n          ...,\n          [ 0.03915],\n          [ 0.03915],\n          [ 0.03915]],\n\n         ...,\n\n         [[ 1.019  ],\n          [ 0.979  ],\n          [ 0.979  ],\n          ...,\n          [ 9.75   ],\n          [ 9.75   ],\n          [ 9.75   ]],\n\n         [[ 1.019  ],\n          [ 0.979  ],\n          [ 0.979  ],\n          ...,\n          [ 9.75   ],\n          [ 9.75   ],\n          [ 9.71   ]],\n\n         [[ 1.019  ],\n          [ 0.979  ],\n          [ 0.979  ],\n          ...,\n          [ 9.75   ],\n          [ 9.71   ],\n          [ 9.71   ]]],\n\n\n        [[[ 1.41   ],\n          [ 1.41   ],\n          [ 1.527  ],\n          ...,\n          [ 0.0783 ],\n          [ 0.0783 ],\n          [ 0.0783 ]],\n\n         [[ 1.41   ],\n          [ 1.41   ],\n          [ 1.527  ],\n          ...,\n          [ 0.0783 ],\n          [ 0.0783 ],\n          [ 0.0783 ]],\n\n         [[ 1.371  ],\n          [ 1.371  ],\n          [ 1.371  ],\n          ...,\n          [ 0.     ],\n          [ 0.     ],\n          [ 0.     ]],\n\n         ...,\n\n         [[ 1.019  ],\n          [ 0.979  ],\n          [ 0.979  ],\n          ...,\n          [ 9.75   ],\n          [ 9.75   ],\n          [ 9.75   ]],\n\n         [[ 1.019  ],\n          [ 0.979  ],\n          [ 0.979  ],\n          ...,\n          [ 9.75   ],\n          [ 9.75   ],\n          [ 9.71   ]],\n\n         [[ 1.019  ],\n          [ 0.979  ],\n          [ 0.979  ],\n          ...,\n          [ 9.75   ],\n          [ 9.71   ],\n          [ 9.71   ]]],\n\n\n        [[[ 1.371  ],\n          [ 1.371  ],\n          [ 1.449  ],\n          ...,\n          [ 0.0783 ],\n          [ 0.03915],\n          [ 0.03915]],\n\n         [[ 1.371  ],\n          [ 1.371  ],\n          [ 1.449  ],\n          ...,\n          [ 0.03915],\n          [ 0.     ],\n          [ 0.     ]],\n\n         [[ 1.371  ],\n          [ 1.371  ],\n          [ 1.371  ],\n          ...,\n          [ 0.03915],\n          [ 0.03915],\n          [ 0.03915]],\n\n         ...,\n\n         [[ 1.019  ],\n          [ 0.979  ],\n          [ 0.979  ],\n          ...,\n          [ 9.71   ],\n          [ 9.71   ],\n          [ 9.67   ]],\n\n         [[ 1.019  ],\n          [ 0.979  ],\n          [ 0.979  ],\n          ...,\n          [ 9.75   ],\n          [ 9.67   ],\n          [ 9.67   ]],\n\n         [[ 1.019  ],\n          [ 0.979  ],\n          [ 0.979  ],\n          ...,\n          [ 9.71   ],\n          [ 9.67   ],\n          [ 9.67   ]]]],\n\n\n\n       [[[[ 1.408  ],\n          [ 1.408  ],\n          [ 1.371  ],\n          ...,\n          [ 0.5557 ],\n          [ 0.4817 ],\n          [ 9.16   ]],\n\n         [[ 1.408  ],\n          [ 1.408  ],\n          [ 1.371  ],\n          ...,\n          [ 0.2964 ],\n          [ 9.414  ],\n          [ 8.59   ]],\n\n         [[ 1.371  ],\n          [ 1.371  ],\n          [ 1.371  ],\n          ...,\n          [ 9.19   ],\n          [ 9.336  ],\n          [ 9.19   ]],\n\n         ...,\n\n         [[ 0.9263 ],\n          [ 0.9263 ],\n          [ 0.889  ],\n          ...,\n          [ 9.375  ],\n          [ 0.03705],\n          [ 0.0741 ]],\n\n         [[ 0.9263 ],\n          [ 0.9263 ],\n          [ 0.889  ],\n          ...,\n          [ 9.23   ],\n          [ 9.45   ],\n          [ 0.0741 ]],\n\n         [[ 0.9263 ],\n          [ 0.9263 ],\n          [ 0.889  ],\n          ...,\n          [ 9.266  ],\n          [ 9.336  ],\n          [ 9.414  ]]],\n\n\n        [[[ 1.371  ],\n          [ 1.371  ],\n          [ 1.371  ],\n          ...,\n          [ 0.519  ],\n          [ 0.5557 ],\n          [ 9.336  ]],\n\n         [[ 1.297  ],\n          [ 1.297  ],\n          [ 1.297  ],\n          ...,\n          [ 0.2223 ],\n          [ 0.03705],\n          [ 8.59   ]],\n\n         [[ 1.297  ],\n          [ 1.297  ],\n          [ 1.297  ],\n          ...,\n          [ 9.19   ],\n          [ 9.266  ],\n          [ 9.01   ]],\n\n         ...,\n\n         [[ 0.9634 ],\n          [ 0.9263 ],\n          [ 0.9263 ],\n          ...,\n          [ 9.45   ],\n          [ 9.45   ],\n          [ 0.     ]],\n\n         [[ 0.9634 ],\n          [ 0.9263 ],\n          [ 0.9263 ],\n          ...,\n          [ 9.375  ],\n          [ 9.414  ],\n          [ 0.     ]],\n\n         [[ 0.9634 ],\n          [ 0.9263 ],\n          [ 0.9263 ],\n          ...,\n          [ 9.45   ],\n          [ 9.414  ],\n          [ 9.375  ]]],\n\n\n        [[[ 1.371  ],\n          [ 1.371  ],\n          [ 1.371  ],\n          ...,\n          [ 0.5557 ],\n          [ 0.593  ],\n          [ 9.414  ]],\n\n         [[ 1.297  ],\n          [ 1.297  ],\n          [ 1.297  ],\n          ...,\n          [ 0.1482 ],\n          [ 0.     ],\n          [ 8.71   ]],\n\n         [[ 1.297  ],\n          [ 1.297  ],\n          [ 1.297  ],\n          ...,\n          [ 9.23   ],\n          [ 9.336  ],\n          [ 9.04   ]],\n\n         ...,\n\n         [[ 1.038  ],\n          [ 0.9634 ],\n          [ 0.9634 ],\n          ...,\n          [ 0.0741 ],\n          [ 0.     ],\n          [ 0.     ]],\n\n         [[ 1.038  ],\n          [ 0.9634 ],\n          [ 0.9634 ],\n          ...,\n          [ 9.305  ],\n          [ 9.45   ],\n          [ 9.45   ]],\n\n         [[ 1.038  ],\n          [ 0.9634 ],\n          [ 0.9634 ],\n          ...,\n          [ 9.305  ],\n          [ 0.     ],\n          [ 9.45   ]]],\n\n\n        ...,\n\n\n        [[[ 1.371  ],\n          [ 1.371  ],\n          [ 1.408  ],\n          ...,\n          [ 9.12   ],\n          [ 9.305  ],\n          [ 9.12   ]],\n\n         [[ 1.371  ],\n          [ 1.371  ],\n          [ 1.408  ],\n          ...,\n          [ 8.59   ],\n          [ 9.12   ],\n          [ 9.336  ]],\n\n         [[ 1.371  ],\n          [ 1.371  ],\n          [ 1.371  ],\n          ...,\n          [ 9.12   ],\n          [ 0.     ],\n          [ 0.     ]],\n\n         ...,\n\n         [[ 1.001  ],\n          [ 0.9634 ],\n          [ 0.9263 ],\n          ...,\n          [ 0.03705],\n          [ 0.0741 ],\n          [ 0.03705]],\n\n         [[ 1.001  ],\n          [ 0.9634 ],\n          [ 0.9263 ],\n          ...,\n          [ 9.414  ],\n          [ 0.     ],\n          [ 0.     ]],\n\n         [[ 1.001  ],\n          [ 0.9634 ],\n          [ 0.9263 ],\n          ...,\n          [ 9.414  ],\n          [ 9.45   ],\n          [ 9.414  ]]],\n\n\n        [[[ 1.334  ],\n          [ 1.334  ],\n          [ 1.371  ],\n          ...,\n          [ 9.266  ],\n          [ 9.19   ],\n          [ 9.19   ]],\n\n         [[ 1.334  ],\n          [ 1.334  ],\n          [ 1.371  ],\n          ...,\n          [ 8.59   ],\n          [ 9.19   ],\n          [ 9.23   ]],\n\n         [[ 1.408  ],\n          [ 1.371  ],\n          [ 1.297  ],\n          ...,\n          [ 9.19   ],\n          [ 0.     ],\n          [ 0.     ]],\n\n         ...,\n\n         [[ 1.001  ],\n          [ 0.9634 ],\n          [ 0.9263 ],\n          ...,\n          [ 0.0741 ],\n          [ 0.1853 ],\n          [ 0.0741 ]],\n\n         [[ 1.001  ],\n          [ 0.9634 ],\n          [ 0.9263 ],\n          ...,\n          [ 0.     ],\n          [ 0.03705],\n          [ 0.     ]],\n\n         [[ 1.001  ],\n          [ 0.9634 ],\n          [ 0.9263 ],\n          ...,\n          [ 9.414  ],\n          [ 9.45   ],\n          [ 9.414  ]]],\n\n\n        [[[ 1.297  ],\n          [ 1.297  ],\n          [ 1.297  ],\n          ...,\n          [ 9.19   ],\n          [ 9.08   ],\n          [ 9.16   ]],\n\n         [[ 1.297  ],\n          [ 1.297  ],\n          [ 1.297  ],\n          ...,\n          [ 8.52   ],\n          [ 9.04   ],\n          [ 9.19   ]],\n\n         [[ 1.371  ],\n          [ 1.371  ],\n          [ 1.371  ],\n          ...,\n          [ 9.12   ],\n          [ 0.     ],\n          [ 0.     ]],\n\n         ...,\n\n         [[ 0.9634 ],\n          [ 0.9263 ],\n          [ 0.9263 ],\n          ...,\n          [ 0.2223 ],\n          [ 0.1853 ],\n          [ 0.0741 ]],\n\n         [[ 0.9634 ],\n          [ 0.9263 ],\n          [ 0.9263 ],\n          ...,\n          [ 0.1853 ],\n          [ 0.     ],\n          [ 0.03705]],\n\n         [[ 0.9634 ],\n          [ 0.9263 ],\n          [ 0.9263 ],\n          ...,\n          [ 0.     ],\n          [ 9.45   ],\n          [ 9.414  ]]]],\n\n\n\n       [[[[ 1.387  ],\n          [ 1.387  ],\n          [ 1.387  ],\n          ...,\n          [ 0.1981 ],\n          [ 0.1189 ],\n          [ 0.1189 ]],\n\n         [[ 1.387  ],\n          [ 1.387  ],\n          [ 1.387  ],\n          ...,\n          [ 0.1981 ],\n          [ 0.1189 ],\n          [ 0.1189 ]],\n\n         [[ 1.427  ],\n          [ 1.427  ],\n          [ 1.387  ],\n          ...,\n          [ 0.2378 ],\n          [ 0.1586 ],\n          [ 0.1586 ]],\n\n         ...,\n\n         [[ 1.03   ],\n          [ 0.9907 ],\n          [ 0.9907 ],\n          ...,\n          [10.06   ],\n          [10.06   ],\n          [10.06   ]],\n\n         [[ 0.9907 ],\n          [ 0.9907 ],\n          [ 0.9907 ],\n          ...,\n          [10.02   ],\n          [10.02   ],\n          [10.02   ]],\n\n         [[ 0.9907 ],\n          [ 0.9907 ],\n          [ 0.9907 ],\n          ...,\n          [10.02   ],\n          [10.02   ],\n          [10.02   ]]],\n\n\n        [[[ 1.348  ],\n          [ 1.348  ],\n          [ 1.348  ],\n          ...,\n          [ 0.1586 ],\n          [ 0.1189 ],\n          [ 0.1189 ]],\n\n         [[ 1.348  ],\n          [ 1.348  ],\n          [ 1.348  ],\n          ...,\n          [ 0.1586 ],\n          [ 0.1189 ],\n          [ 0.1189 ]],\n\n         [[ 1.466  ],\n          [ 1.466  ],\n          [ 1.427  ],\n          ...,\n          [ 0.1586 ],\n          [ 0.1586 ],\n          [ 0.1189 ]],\n\n         ...,\n\n         [[ 0.9907 ],\n          [ 0.9907 ],\n          [ 0.951  ],\n          ...,\n          [10.06   ],\n          [10.06   ],\n          [10.06   ]],\n\n         [[ 0.951  ],\n          [ 0.951  ],\n          [ 0.951  ],\n          ...,\n          [10.06   ],\n          [10.06   ],\n          [10.06   ]],\n\n         [[ 0.951  ],\n          [ 0.951  ],\n          [ 0.951  ],\n          ...,\n          [10.06   ],\n          [10.06   ],\n          [10.06   ]]],\n\n\n        [[[ 1.348  ],\n          [ 1.348  ],\n          [ 1.348  ],\n          ...,\n          [ 0.1586 ],\n          [ 0.1189 ],\n          [ 0.1189 ]],\n\n         [[ 1.348  ],\n          [ 1.348  ],\n          [ 1.348  ],\n          ...,\n          [ 0.1586 ],\n          [ 0.1189 ],\n          [ 0.1189 ]],\n\n         [[ 1.387  ],\n          [ 1.387  ],\n          [ 1.387  ],\n          ...,\n          [ 0.1586 ],\n          [ 0.1586 ],\n          [ 0.1189 ]],\n\n         ...,\n\n         [[ 0.9907 ],\n          [ 0.9907 ],\n          [ 0.9907 ],\n          ...,\n          [10.06   ],\n          [10.02   ],\n          [10.02   ]],\n\n         [[ 0.9907 ],\n          [ 0.9907 ],\n          [ 0.951  ],\n          ...,\n          [10.06   ],\n          [10.02   ],\n          [10.02   ]],\n\n         [[ 0.951  ],\n          [ 0.951  ],\n          [ 0.951  ],\n          ...,\n          [10.06   ],\n          [10.02   ],\n          [10.02   ]]],\n\n\n        ...,\n\n\n        [[[ 1.427  ],\n          [ 1.427  ],\n          [ 1.387  ],\n          ...,\n          [ 0.1981 ],\n          [ 0.2378 ],\n          [ 0.1586 ]],\n\n         [[ 1.427  ],\n          [ 1.427  ],\n          [ 1.387  ],\n          ...,\n          [ 0.1981 ],\n          [ 0.2378 ],\n          [ 0.1586 ]],\n\n         [[ 1.387  ],\n          [ 1.387  ],\n          [ 1.387  ],\n          ...,\n          [ 0.1586 ],\n          [ 0.1586 ],\n          [ 0.1586 ]],\n\n         ...,\n\n         [[ 0.951  ],\n          [ 0.951  ],\n          [ 0.951  ],\n          ...,\n          [10.06   ],\n          [10.06   ],\n          [10.06   ]],\n\n         [[ 0.951  ],\n          [ 0.951  ],\n          [ 0.951  ],\n          ...,\n          [10.06   ],\n          [10.06   ],\n          [10.02   ]],\n\n         [[ 0.951  ],\n          [ 0.951  ],\n          [ 0.951  ],\n          ...,\n          [10.06   ],\n          [10.02   ],\n          [10.02   ]]],\n\n\n        [[[ 1.427  ],\n          [ 1.427  ],\n          [ 1.387  ],\n          ...,\n          [ 0.2378 ],\n          [ 0.2773 ],\n          [ 0.1981 ]],\n\n         [[ 1.427  ],\n          [ 1.427  ],\n          [ 1.387  ],\n          ...,\n          [ 0.2378 ],\n          [ 0.2773 ],\n          [ 0.1981 ]],\n\n         [[ 1.427  ],\n          [ 1.427  ],\n          [ 1.427  ],\n          ...,\n          [ 0.2378 ],\n          [ 0.2378 ],\n          [ 0.1586 ]],\n\n         ...,\n\n         [[ 0.951  ],\n          [ 0.951  ],\n          [ 0.951  ],\n          ...,\n          [10.06   ],\n          [10.06   ],\n          [10.06   ]],\n\n         [[ 0.951  ],\n          [ 0.951  ],\n          [ 0.951  ],\n          ...,\n          [10.06   ],\n          [10.06   ],\n          [10.02   ]],\n\n         [[ 0.951  ],\n          [ 0.951  ],\n          [ 0.951  ],\n          ...,\n          [10.06   ],\n          [10.02   ],\n          [10.02   ]]],\n\n\n        [[[ 1.466  ],\n          [ 1.466  ],\n          [ 1.427  ],\n          ...,\n          [ 0.2378 ],\n          [ 0.2773 ],\n          [ 0.1981 ]],\n\n         [[ 1.466  ],\n          [ 1.466  ],\n          [ 1.427  ],\n          ...,\n          [ 0.2378 ],\n          [ 0.2773 ],\n          [ 0.1981 ]],\n\n         [[ 1.427  ],\n          [ 1.427  ],\n          [ 1.387  ],\n          ...,\n          [ 0.1586 ],\n          [ 0.1586 ],\n          [ 0.1586 ]],\n\n         ...,\n\n         [[ 0.951  ],\n          [ 0.951  ],\n          [ 0.951  ],\n          ...,\n          [10.06   ],\n          [10.06   ],\n          [10.06   ]],\n\n         [[ 0.951  ],\n          [ 0.951  ],\n          [ 0.951  ],\n          ...,\n          [10.06   ],\n          [10.06   ],\n          [10.02   ]],\n\n         [[ 0.951  ],\n          [ 0.951  ],\n          [ 0.951  ],\n          ...,\n          [10.06   ],\n          [10.02   ],\n          [10.02   ]]]]], dtype=float16)"
     },
     "execution_count": 32,
     "metadata": {},
     "output_type": "execute_result"
    }
   ],
   "source": [
    "val = sample.next();\n",
    "val[0]"
   ]
  },
  {
   "cell_type": "code",
   "execution_count": 32,
   "id": "efa6cd46-7079-46c0-b45b-832f339f6cb0",
   "metadata": {
    "scrolled": true,
    "tags": [],
    "ExecuteTime": {
     "end_time": "2024-03-17T21:39:12.158415754Z",
     "start_time": "2024-03-17T21:39:12.138395952Z"
    }
   },
   "outputs": [],
   "source": [
    "# imageio.mimsave('./animation.gif', val[0][0], fps=10) # can't handle this data type:(1,1,1), <f4\n",
    "# imageio.mimsave('./animation.gif', val[0][0].astype(np.uint8), fps=10)\n"
   ]
  },
  {
   "cell_type": "code",
   "execution_count": 33,
   "id": "acf5eb4f-a0da-4a9a-bf24-af13e9cc2fbe",
   "metadata": {
    "tags": [],
    "ExecuteTime": {
     "end_time": "2024-03-31T11:11:55.428022782Z",
     "start_time": "2024-03-31T11:11:55.355760154Z"
    }
   },
   "outputs": [
    {
     "data": {
      "text/plain": "<matplotlib.image.AxesImage at 0x74d94c410910>"
     },
     "execution_count": 33,
     "metadata": {},
     "output_type": "execute_result"
    },
    {
     "data": {
      "text/plain": "<Figure size 640x480 with 1 Axes>",
      "image/png": "[encoded data removed]"
     },
     "metadata": {},
     "output_type": "display_data"
    }
   ],
   "source": [
    "# 0:videos, 0: 1st video out of the batch,  0: return the first frame in the video \n",
    "plt.imshow(val[0][0][35])"
   ]
  },
  {
   "cell_type": "code",
   "execution_count": 34,
   "id": "c33a87a2-d5e0-4ec9-b174-73ebf41bf03a",
   "metadata": {
    "tags": [],
    "ExecuteTime": {
     "end_time": "2024-03-31T11:12:06.086220111Z",
     "start_time": "2024-03-31T11:12:05.996315418Z"
    }
   },
   "outputs": [
    {
     "data": {
      "text/plain": "<tf.Tensor: shape=(), dtype=string, numpy=b'set green at p three again'>"
     },
     "execution_count": 34,
     "metadata": {},
     "output_type": "execute_result"
    }
   ],
   "source": [
    "tf.strings.reduce_join([num_to_char(word) for word in val[1][0]])"
   ]
  },
  {
   "cell_type": "markdown",
   "source": [
    "# 3. Design the Deep Neural Network"
   ],
   "metadata": {
    "collapsed": false
   },
   "id": "9d39042b159dcd84"
  },
  {
   "cell_type": "code",
   "outputs": [],
   "source": [
    "from tensorflow.keras.models import Sequential\n",
    "from tensorflow.keras.layers import Conv3D, LSTM, Dense, Dropout, Bidirectional, MaxPool3D, Activation, TimeDistributed, \\\n",
    "    Flatten\n",
    "from tensorflow.keras.optimizers import Adam\n",
    "from tensorflow.keras.callbacks import ModelCheckpoint, LearningRateScheduler\n",
    "from keras.src.applications import ResNet50"
   ],
   "metadata": {
    "collapsed": false,
    "ExecuteTime": {
     "end_time": "2024-04-02T11:12:01.540490213Z",
     "start_time": "2024-04-02T11:12:01.509854207Z"
    }
   },
   "id": "f02926768b94ee79",
   "execution_count": 39
  },
  {
   "cell_type": "code",
   "execution_count": 36,
   "id": "d8e9a497-191b-4842-afbd-26f5e13c43ba",
   "metadata": {
    "tags": [],
    "ExecuteTime": {
     "end_time": "2024-03-31T11:12:12.952723893Z",
     "start_time": "2024-03-31T11:12:12.918760679Z"
    }
   },
   "outputs": [
    {
     "data": {
      "text/plain": "(75, 46, 140, 1)"
     },
     "execution_count": 36,
     "metadata": {},
     "output_type": "execute_result"
    }
   ],
   "source": [
    "data.as_numpy_iterator().next()[0][0].shape"
   ]
  },
  {
   "cell_type": "code",
   "execution_count": 37,
   "id": "b1f6f071c0da5cda",
   "metadata": {
    "collapsed": false,
    "ExecuteTime": {
     "end_time": "2024-03-31T11:13:19.630140949Z",
     "start_time": "2024-03-31T11:13:18.701279122Z"
    }
   },
   "outputs": [],
   "source": [
    "model = Sequential()\n",
    "model.add(Conv3D(128, 3, input_shape=(75, 46, 140, 1), padding='same'))  # 128 filters, 3x3 kernel\n",
    "model.add(Activation('relu'))  # activation function\n",
    "model.add(MaxPool3D((1, 2, 2)))  # max pooling\n",
    "\n",
    "model.add(Conv3D(256, 3, padding='same'))  # 256 filters, 3x3 kernel\n",
    "model.add(Activation('relu'))\n",
    "model.add(MaxPool3D((1, 2, 2)))\n",
    "\n",
    "model.add(Conv3D(75, 3, padding='same'))\n",
    "model.add(Activation('relu'))\n",
    "model.add(MaxPool3D((1, 2, 2)))\n",
    "\n",
    "model.add(TimeDistributed(Flatten()))  # flatten the output of the previous layer\n",
    "\n",
    "model.add(Bidirectional(LSTM(128, kernel_initializer='Orthogonal', return_sequences=True)))  # bidirectional LSTM\n",
    "model.add(Dropout(0.5))  # dropout layer\n",
    "\n",
    "model.add(Bidirectional(LSTM(128, kernel_initializer='Orthogonal', return_sequences=True)))\n",
    "model.add(Dropout(0.5))\n",
    "\n",
    "model.add(\n",
    "    Dense(char_to_num.vocabulary_size() + 1, kernel_initializer='he_normal', activation='softmax'))  # output layer\n"
   ]
  },
  {
   "cell_type": "code",
   "outputs": [],
   "source": [
    "\n",
    "\n",
    "base_model = ResNet50(weights=None, include_top=False, input_shape=(46, 140, 1))\n",
    "\n",
    "# If you wish to Freeze layers\n",
    "for layer in base_model.layers:\n",
    "    layer.trainable = True\n",
    "\n",
    "model = Sequential()\n",
    "model.add(base_model)\n",
    "# model = Sequential()\n",
    "# model.add(Conv3D(128, 3, input_shape=(75, 46, 140, 1), padding='same'))\n",
    "# model.add(Activation('relu'))\n",
    "# model.add(MaxPool3D((1, 2, 2)))\n",
    "# \n",
    "# model.add(Conv3D(256, 3, padding='same'))\n",
    "# model.add(Activation('relu'))\n",
    "# model.add(MaxPool3D((1, 2, 2)))\n",
    "# \n",
    "# model.add(Conv3D(75, 3, padding='same'))\n",
    "# model.add(Activation('relu'))\n",
    "# model.add(MaxPool3D((1, 2, 2)))\n",
    "\n",
    "model.add(TimeDistributed(Flatten()))\n",
    "\n",
    "model.add(Bidirectional(LSTM(128, kernel_initializer='Orthogonal', return_sequences=True)))\n",
    "model.add(Dropout(.5))\n",
    "\n",
    "model.add(Bidirectional(LSTM(128, kernel_initializer='Orthogonal', return_sequences=True)))\n",
    "model.add(Dropout(.5))\n",
    "\n",
    "model.add(Dense(char_to_num.vocabulary_size() + 1, kernel_initializer='he_normal', activation='softmax'))"
   ],
   "metadata": {
    "collapsed": false,
    "ExecuteTime": {
     "end_time": "2024-04-02T11:13:42.871823876Z",
     "start_time": "2024-04-02T11:13:41.070617568Z"
    }
   },
   "id": "80e588f5a179d75a",
   "execution_count": 61
  },
  {
   "cell_type": "code",
   "outputs": [
    {
     "name": "stdout",
     "output_type": "stream",
     "text": [
      "Model: \"sequential_2\"\n",
      "_________________________________________________________________\n",
      " Layer (type)                Output Shape              Param #   \n",
      "=================================================================\n",
      " resnet50 (Functional)       (None, 2, 5, 2048)        23581440  \n",
      "                                                                 \n",
      " time_distributed_1 (TimeDi  (None, 2, 10240)          0         \n",
      " stributed)                                                      \n",
      "                                                                 \n",
      " bidirectional_3 (Bidirecti  (None, 2, 256)            10617856  \n",
      " onal)                                                           \n",
      "                                                                 \n",
      " dropout_2 (Dropout)         (None, 2, 256)            0         \n",
      "                                                                 \n",
      " bidirectional_4 (Bidirecti  (None, 2, 256)            394240    \n",
      " onal)                                                           \n",
      "                                                                 \n",
      " dropout_3 (Dropout)         (None, 2, 256)            0         \n",
      "                                                                 \n",
      " dense (Dense)               (None, 2, 29)             7453      \n",
      "                                                                 \n",
      "=================================================================\n",
      "Total params: 34600989 (131.99 MB)\n",
      "Trainable params: 34547869 (131.79 MB)\n",
      "Non-trainable params: 53120 (207.50 KB)\n",
      "_________________________________________________________________\n"
     ]
    },
    {
     "data": {
      "image/png": "[encoded data removed]",
      "text/plain": "<IPython.core.display.Image object>"
     },
     "execution_count": 62,
     "metadata": {},
     "output_type": "execute_result"
    }
   ],
   "source": [
    "\n",
    "model.summary()\n",
    "# save as a picture\n",
    "from tensorflow.keras.utils import plot_model\n",
    "\n",
    "plot_model(model, to_file='model_resnet50.png', show_shapes=True, show_layer_names=True)"
   ],
   "id": "6316ae2ab31d02a7",
   "metadata": {
    "ExecuteTime": {
     "end_time": "2024-04-02T11:14:00.045003085Z",
     "start_time": "2024-04-02T11:13:59.295278277Z"
    }
   },
   "execution_count": 62
  },
  {
   "cell_type": "code",
   "execution_count": 1,
   "id": "78851825-2bcd-42a9-b7f2-28bb5a6bf43a",
   "metadata": {
    "collapsed": true,
    "jupyter": {
     "outputs_hidden": true
    },
    "tags": [],
    "ExecuteTime": {
     "end_time": "2024-03-06T11:35:45.080370053Z",
     "start_time": "2024-03-06T11:35:45.078133259Z"
    }
   },
   "outputs": [
    {
     "data": {
      "text/plain": "6375"
     },
     "execution_count": 1,
     "metadata": {},
     "output_type": "execute_result"
    }
   ],
   "source": [
    "5 * 17 * 75"
   ]
  },
  {
   "cell_type": "code",
   "execution_count": 63,
   "id": "f4b4798c-a65a-4c47-9e2a-3b09dc98d320",
   "metadata": {
    "ExecuteTime": {
     "end_time": "2024-04-02T11:14:13.123459436Z",
     "start_time": "2024-04-02T11:14:12.996768614Z"
    }
   },
   "outputs": [
    {
     "ename": "NameError",
     "evalue": "name 'val' is not defined",
     "output_type": "error",
     "traceback": [
      "\u001B[0;31m---------------------------------------------------------------------------\u001B[0m",
      "\u001B[0;31mNameError\u001B[0m                                 Traceback (most recent call last)",
      "Cell \u001B[0;32mIn[63], line 1\u001B[0m\n\u001B[0;32m----> 1\u001B[0m yhat \u001B[38;5;241m=\u001B[39m model\u001B[38;5;241m.\u001B[39mpredict(\u001B[43mval\u001B[49m[\u001B[38;5;241m0\u001B[39m])\n",
      "\u001B[0;31mNameError\u001B[0m: name 'val' is not defined"
     ]
    }
   ],
   "source": [
    "yhat = model.predict(val[0])"
   ]
  },
  {
   "cell_type": "code",
   "execution_count": 64,
   "id": "e5c2eae0-c359-41a4-97a0-75c44dccb7d1",
   "metadata": {
    "tags": [],
    "ExecuteTime": {
     "end_time": "2024-04-02T11:14:18.932885033Z",
     "start_time": "2024-04-02T11:14:18.859942786Z"
    }
   },
   "outputs": [
    {
     "ename": "NameError",
     "evalue": "name 'yhat' is not defined",
     "output_type": "error",
     "traceback": [
      "\u001B[0;31m---------------------------------------------------------------------------\u001B[0m",
      "\u001B[0;31mNameError\u001B[0m                                 Traceback (most recent call last)",
      "Cell \u001B[0;32mIn[64], line 1\u001B[0m\n\u001B[0;32m----> 1\u001B[0m tf\u001B[38;5;241m.\u001B[39mstrings\u001B[38;5;241m.\u001B[39mreduce_join([num_to_char(x) \u001B[38;5;28;01mfor\u001B[39;00m x \u001B[38;5;129;01min\u001B[39;00m tf\u001B[38;5;241m.\u001B[39margmax(\u001B[43myhat\u001B[49m[\u001B[38;5;241m0\u001B[39m], axis\u001B[38;5;241m=\u001B[39m\u001B[38;5;241m1\u001B[39m)])\n",
      "\u001B[0;31mNameError\u001B[0m: name 'yhat' is not defined"
     ]
    }
   ],
   "source": [
    "tf.strings.reduce_join([num_to_char(x) for x in tf.argmax(yhat[0], axis=1)])"
   ]
  },
  {
   "cell_type": "code",
   "execution_count": 41,
   "id": "ffdc7319-0d69-4f7e-a6d4-ce72deb81c0b",
   "metadata": {
    "ExecuteTime": {
     "end_time": "2024-03-31T11:14:15.893754066Z",
     "start_time": "2024-03-31T11:14:15.856896156Z"
    }
   },
   "outputs": [
    {
     "data": {
      "text/plain": "<tf.Tensor: shape=(), dtype=string, numpy=b'ttttttttttttttttttttttttttttttttttttttttttttttttttttttttttttttttttttttttttt'>"
     },
     "execution_count": 41,
     "metadata": {},
     "output_type": "execute_result"
    }
   ],
   "source": [
    "tf.strings.reduce_join([num_to_char(tf.argmax(x)) for x in yhat[0]])"
   ]
  },
  {
   "cell_type": "code",
   "execution_count": 67,
   "id": "6ed47531-8317-4255-9a12-b757642258e6",
   "metadata": {
    "tags": [],
    "ExecuteTime": {
     "end_time": "2024-04-02T11:14:31.401648009Z",
     "start_time": "2024-04-02T11:14:31.362166926Z"
    }
   },
   "outputs": [
    {
     "data": {
      "text/plain": "(None, 46, 140, 1)"
     },
     "execution_count": 67,
     "metadata": {},
     "output_type": "execute_result"
    }
   ],
   "source": [
    "model.input_shape"
   ]
  },
  {
   "cell_type": "code",
   "execution_count": 66,
   "id": "7c37b9b9-5298-4038-9c33-5031d1b457f0",
   "metadata": {
    "tags": [],
    "ExecuteTime": {
     "end_time": "2024-04-02T11:14:26.254525721Z",
     "start_time": "2024-04-02T11:14:26.210466893Z"
    }
   },
   "outputs": [
    {
     "data": {
      "text/plain": "(None, 2, 29)"
     },
     "execution_count": 66,
     "metadata": {},
     "output_type": "execute_result"
    }
   ],
   "source": [
    "model.output_shape"
   ]
  },
  {
   "cell_type": "markdown",
   "source": [
    "# 4. Setup Training Options and Train"
   ],
   "metadata": {
    "collapsed": false
   },
   "id": "512b49b76d6cdd37"
  },
  {
   "cell_type": "code",
   "outputs": [],
   "source": [
    "def scheduler(epoch, lr):  # learning rate scheduler\n",
    "    if epoch < 30:\n",
    "        return lr\n",
    "    else:\n",
    "        return lr * tf.math.exp(-0.1)"
   ],
   "metadata": {
    "collapsed": false,
    "ExecuteTime": {
     "end_time": "2024-04-02T11:14:35.974171957Z",
     "start_time": "2024-04-02T11:14:35.944966571Z"
    }
   },
   "id": "3379cebe0d6a247f",
   "execution_count": 68
  },
  {
   "cell_type": "code",
   "execution_count": 69,
   "id": "ab015fd0-7fb4-4d5d-9fa2-30a05dbd515a",
   "metadata": {
    "tags": [],
    "ExecuteTime": {
     "end_time": "2024-04-02T11:14:36.497971993Z",
     "start_time": "2024-04-02T11:14:36.467162773Z"
    }
   },
   "outputs": [],
   "source": [
    "def CTCLoss(y_true, y_pred):\n",
    "    batch_len = tf.cast(tf.shape(y_true)[0], dtype=\"int64\")\n",
    "    input_length = tf.cast(tf.shape(y_pred)[1], dtype=\"int64\")\n",
    "    label_length = tf.cast(tf.shape(y_true)[1], dtype=\"int64\")\n",
    "\n",
    "    input_length = input_length * tf.ones(shape=(batch_len, 1), dtype=\"int64\")\n",
    "    label_length = label_length * tf.ones(shape=(batch_len, 1), dtype=\"int64\")\n",
    "\n",
    "    loss = tf.keras.backend.ctc_batch_cost(y_true, y_pred, input_length, label_length)\n",
    "    return loss"
   ]
  },
  {
   "cell_type": "code",
   "execution_count": 70,
   "id": "c564d5c9-db54-4e88-b311-9aeab7fb3e69",
   "metadata": {
    "tags": [],
    "ExecuteTime": {
     "end_time": "2024-04-02T11:14:37.133546469Z",
     "start_time": "2024-04-02T11:14:37.098381054Z"
    }
   },
   "outputs": [],
   "source": [
    "class ProduceExample(tf.keras.callbacks.Callback):\n",
    "    def __init__(self, dataset) -> None:\n",
    "        self.dataset = dataset.as_numpy_iterator()\n",
    "\n",
    "    def on_epoch_end(self, epoch, logs=None):\n",
    "        try:\n",
    "            data = self.dataset.next()\n",
    "            yhat = self.model.predict(data[0])\n",
    "            decoded = tf.keras.backend.ctc_decode(yhat, [75, 75, 75, 75], greedy=False)[0][0].numpy()\n",
    "            for x in range(len(yhat)):\n",
    "                print('Original:', tf.strings.reduce_join(num_to_char(data[1][x])).numpy().decode('utf-8'))\n",
    "                print('Prediction:', tf.strings.reduce_join(num_to_char(decoded[x])).numpy().decode('utf-8'))\n",
    "                print('~' * 100)\n",
    "        except StopIteration:\n",
    "            self.dataset = self.dataset.as_numpy_iterator()\n",
    "            data = self.dataset.next()\n",
    "            yhat = self.model.predict(data[0])\n",
    "            decoded = tf.keras.backend.ctc_decode(yhat, [75, 75, 75, 75], greedy=False)[0][0].numpy()\n",
    "            for x in range(len(yhat)):\n",
    "                print('Original:', tf.strings.reduce_join(num_to_char(data[1][x])).numpy().decode('utf-8'))\n",
    "                print('Prediction:', tf.strings.reduce_join(num_to_char(decoded[x])).numpy().decode('utf-8'))\n",
    "                print('~' * 100)"
   ]
  },
  {
   "cell_type": "code",
   "execution_count": 71,
   "id": "a26dc3fc-a19c-4378-bd8c-e2b597a1d15c",
   "metadata": {
    "tags": [],
    "ExecuteTime": {
     "end_time": "2024-04-02T11:14:38.287388680Z",
     "start_time": "2024-04-02T11:14:38.259872254Z"
    }
   },
   "outputs": [],
   "source": [
    "model.compile(optimizer=Adam(learning_rate=0.0001), loss=CTCLoss)"
   ]
  },
  {
   "cell_type": "code",
   "execution_count": 73,
   "id": "04be90d8-2482-46f9-b513-d5f4f8001c7e",
   "metadata": {
    "tags": [],
    "ExecuteTime": {
     "end_time": "2024-04-02T11:14:50.480626091Z",
     "start_time": "2024-04-02T11:14:49.913572667Z"
    }
   },
   "outputs": [],
   "source": [
    "checkpoint_callback = ModelCheckpoint(os.path.join('models', 'checkpoint50'), monitor='loss',\n",
    "                                      save_weights_only=True, )"
   ]
  },
  {
   "cell_type": "code",
   "execution_count": 74,
   "id": "eab49367-3f1e-4464-ae76-dbd07549d97e",
   "metadata": {
    "tags": [],
    "ExecuteTime": {
     "end_time": "2024-04-02T11:14:52.557753004Z",
     "start_time": "2024-04-02T11:14:52.487884044Z"
    }
   },
   "outputs": [],
   "source": [
    "schedule_callback = LearningRateScheduler(scheduler)"
   ]
  },
  {
   "cell_type": "code",
   "execution_count": 75,
   "id": "e085a632-d464-46ef-8777-959cad4adb2c",
   "metadata": {
    "tags": [],
    "ExecuteTime": {
     "end_time": "2024-04-02T11:14:55.963523594Z",
     "start_time": "2024-04-02T11:14:55.929528161Z"
    }
   },
   "outputs": [],
   "source": [
    "example_callback = ProduceExample(test)"
   ]
  },
  {
   "cell_type": "code",
   "execution_count": 76,
   "id": "48eca991-90ab-4592-8a79-b50e9ca015b6",
   "metadata": {
    "tags": [],
    "ExecuteTime": {
     "end_time": "2024-04-02T11:14:57.117214578Z",
     "start_time": "2024-04-02T11:14:57.034513881Z"
    }
   },
   "outputs": [
    {
     "name": "stdout",
     "output_type": "stream",
     "text": [
      "Epoch 1/60\n"
     ]
    },
    {
     "ename": "ValueError",
     "evalue": "in user code:\n\n    File \"/home/liazylee/jobs/venv_python/lip_reading/lib/python3.10/site-packages/keras/src/engine/training.py\", line 1401, in train_function  *\n        return step_function(self, iterator)\n    File \"/home/liazylee/jobs/venv_python/lip_reading/lib/python3.10/site-packages/keras/src/engine/training.py\", line 1384, in step_function  **\n        outputs = model.distribute_strategy.run(run_step, args=(data,))\n    File \"/home/liazylee/jobs/venv_python/lip_reading/lib/python3.10/site-packages/keras/src/engine/training.py\", line 1373, in run_step  **\n        outputs = model.train_step(data)\n    File \"/home/liazylee/jobs/venv_python/lip_reading/lib/python3.10/site-packages/keras/src/engine/training.py\", line 1150, in train_step\n        y_pred = self(x, training=True)\n    File \"/home/liazylee/jobs/venv_python/lip_reading/lib/python3.10/site-packages/keras/src/utils/traceback_utils.py\", line 70, in error_handler\n        raise e.with_traceback(filtered_tb) from None\n    File \"/home/liazylee/jobs/venv_python/lip_reading/lib/python3.10/site-packages/keras/src/engine/input_spec.py\", line 298, in assert_input_compatibility\n        raise ValueError(\n\n    ValueError: Input 0 of layer \"sequential_2\" is incompatible with the layer: expected shape=(None, 46, 140, 1), found shape=(None, 75, None, None, None)\n",
     "output_type": "error",
     "traceback": [
      "\u001B[0;31m---------------------------------------------------------------------------\u001B[0m",
      "\u001B[0;31mValueError\u001B[0m                                Traceback (most recent call last)",
      "Cell \u001B[0;32mIn[76], line 1\u001B[0m\n\u001B[0;32m----> 1\u001B[0m \u001B[43mmodel\u001B[49m\u001B[38;5;241;43m.\u001B[39;49m\u001B[43mfit\u001B[49m\u001B[43m(\u001B[49m\u001B[43mtrain\u001B[49m\u001B[43m,\u001B[49m\u001B[43m \u001B[49m\u001B[43mvalidation_data\u001B[49m\u001B[38;5;241;43m=\u001B[39;49m\u001B[43mtest\u001B[49m\u001B[43m,\u001B[49m\u001B[43m \u001B[49m\u001B[43mepochs\u001B[49m\u001B[38;5;241;43m=\u001B[39;49m\u001B[38;5;241;43m60\u001B[39;49m\u001B[43m,\u001B[49m\u001B[43m \u001B[49m\u001B[43mcallbacks\u001B[49m\u001B[38;5;241;43m=\u001B[39;49m\u001B[43m[\u001B[49m\u001B[43mcheckpoint_callback\u001B[49m\u001B[43m,\u001B[49m\u001B[43m \u001B[49m\u001B[43mschedule_callback\u001B[49m\u001B[43m]\u001B[49m\u001B[43m)\u001B[49m\n\u001B[1;32m      3\u001B[0m \u001B[38;5;66;03m# caculate the loss\u001B[39;00m\n",
      "File \u001B[0;32m~/jobs/venv_python/lip_reading/lib/python3.10/site-packages/keras/src/utils/traceback_utils.py:70\u001B[0m, in \u001B[0;36mfilter_traceback.<locals>.error_handler\u001B[0;34m(*args, **kwargs)\u001B[0m\n\u001B[1;32m     67\u001B[0m     filtered_tb \u001B[38;5;241m=\u001B[39m _process_traceback_frames(e\u001B[38;5;241m.\u001B[39m__traceback__)\n\u001B[1;32m     68\u001B[0m     \u001B[38;5;66;03m# To get the full stack trace, call:\u001B[39;00m\n\u001B[1;32m     69\u001B[0m     \u001B[38;5;66;03m# `tf.debugging.disable_traceback_filtering()`\u001B[39;00m\n\u001B[0;32m---> 70\u001B[0m     \u001B[38;5;28;01mraise\u001B[39;00m e\u001B[38;5;241m.\u001B[39mwith_traceback(filtered_tb) \u001B[38;5;28;01mfrom\u001B[39;00m \u001B[38;5;28;01mNone\u001B[39;00m\n\u001B[1;32m     71\u001B[0m \u001B[38;5;28;01mfinally\u001B[39;00m:\n\u001B[1;32m     72\u001B[0m     \u001B[38;5;28;01mdel\u001B[39;00m filtered_tb\n",
      "File \u001B[0;32m/tmp/__autograph_generated_filefcvx5cfh.py:15\u001B[0m, in \u001B[0;36mouter_factory.<locals>.inner_factory.<locals>.tf__train_function\u001B[0;34m(iterator)\u001B[0m\n\u001B[1;32m     13\u001B[0m \u001B[38;5;28;01mtry\u001B[39;00m:\n\u001B[1;32m     14\u001B[0m     do_return \u001B[38;5;241m=\u001B[39m \u001B[38;5;28;01mTrue\u001B[39;00m\n\u001B[0;32m---> 15\u001B[0m     retval_ \u001B[38;5;241m=\u001B[39m ag__\u001B[38;5;241m.\u001B[39mconverted_call(ag__\u001B[38;5;241m.\u001B[39mld(step_function), (ag__\u001B[38;5;241m.\u001B[39mld(\u001B[38;5;28mself\u001B[39m), ag__\u001B[38;5;241m.\u001B[39mld(iterator)), \u001B[38;5;28;01mNone\u001B[39;00m, fscope)\n\u001B[1;32m     16\u001B[0m \u001B[38;5;28;01mexcept\u001B[39;00m:\n\u001B[1;32m     17\u001B[0m     do_return \u001B[38;5;241m=\u001B[39m \u001B[38;5;28;01mFalse\u001B[39;00m\n",
      "\u001B[0;31mValueError\u001B[0m: in user code:\n\n    File \"/home/liazylee/jobs/venv_python/lip_reading/lib/python3.10/site-packages/keras/src/engine/training.py\", line 1401, in train_function  *\n        return step_function(self, iterator)\n    File \"/home/liazylee/jobs/venv_python/lip_reading/lib/python3.10/site-packages/keras/src/engine/training.py\", line 1384, in step_function  **\n        outputs = model.distribute_strategy.run(run_step, args=(data,))\n    File \"/home/liazylee/jobs/venv_python/lip_reading/lib/python3.10/site-packages/keras/src/engine/training.py\", line 1373, in run_step  **\n        outputs = model.train_step(data)\n    File \"/home/liazylee/jobs/venv_python/lip_reading/lib/python3.10/site-packages/keras/src/engine/training.py\", line 1150, in train_step\n        y_pred = self(x, training=True)\n    File \"/home/liazylee/jobs/venv_python/lip_reading/lib/python3.10/site-packages/keras/src/utils/traceback_utils.py\", line 70, in error_handler\n        raise e.with_traceback(filtered_tb) from None\n    File \"/home/liazylee/jobs/venv_python/lip_reading/lib/python3.10/site-packages/keras/src/engine/input_spec.py\", line 298, in assert_input_compatibility\n        raise ValueError(\n\n    ValueError: Input 0 of layer \"sequential_2\" is incompatible with the layer: expected shape=(None, 46, 140, 1), found shape=(None, 75, None, None, None)\n"
     ]
    }
   ],
   "source": [
    "model.fit(train, validation_data=test, epochs=60, callbacks=[checkpoint_callback, schedule_callback])\n",
    "\n",
    "# caculate the loss"
   ]
  },
  {
   "cell_type": "code",
   "outputs": [],
   "source": [
    "# model.evaluate(test)\n",
    "loss_history = model.history.history"
   ],
   "metadata": {
    "collapsed": false,
    "ExecuteTime": {
     "end_time": "2024-03-31T22:09:57.784698241Z",
     "start_time": "2024-03-31T22:09:57.741700931Z"
    }
   },
   "id": "fe16ed304f2ec4c6",
   "execution_count": 74
  },
  {
   "cell_type": "code",
   "outputs": [
    {
     "name": "stdout",
     "output_type": "stream",
     "text": [
      "dict_keys(['loss', 'val_loss', 'lr'])\n"
     ]
    },
    {
     "data": {
      "text/plain": "<Figure size 640x480 with 1 Axes>",
      "image/png": "[encoded data removed]"
     },
     "metadata": {},
     "output_type": "display_data"
    }
   ],
   "source": [
    "# draw the loss curve\n",
    "print(loss_history.keys())\n",
    "plt.plot(loss_history['loss'], label='loss')\n",
    "plt.plot(loss_history['val_loss'], label='val_loss')\n",
    "# x label and y label\n",
    "plt.xlabel('Epoch')\n",
    "plt.ylabel('Loss')\n",
    "plt.title('Loss Curve iter 2')\n",
    "plt.legend(loc='upper right')\n",
    "# filename = 'loss_curve_resNet50.png'\n",
    "# plt.savefig(filename)      \n",
    "plt.show()"
   ],
   "metadata": {
    "collapsed": false,
    "ExecuteTime": {
     "end_time": "2024-03-31T22:10:03.495707624Z",
     "start_time": "2024-03-31T22:10:02.756775075Z"
    }
   },
   "id": "ac093f42bf47aa9c",
   "execution_count": 75
  },
  {
   "cell_type": "markdown",
   "source": [
    "\n",
    "# 5. Make a Prediction "
   ],
   "metadata": {
    "collapsed": false
   },
   "id": "691cf1b9fd7203eb"
  },
  {
   "cell_type": "code",
   "outputs": [],
   "source": [
    "# url = 'https://drive.google.com/uc?id=1vWscXs4Vt0a_1IH1-ct2TCgXAZT-N3_Y'\n",
    "# output = 'checkpoints.zip'\n",
    "# gdown.download(url, output, quiet=False)\n",
    "# gdown.extractall('checkpoints.zip', 'models')"
   ],
   "metadata": {
    "collapsed": false
   },
   "id": "4b090fc31aa79104"
  },
  {
   "cell_type": "code",
   "execution_count": 76,
   "id": "01fa7204-ce0e-49a8-8dbd-14fe5dfead40",
   "metadata": {
    "tags": [],
    "ExecuteTime": {
     "end_time": "2024-03-31T22:10:31.493147008Z",
     "start_time": "2024-03-31T22:10:30.892315756Z"
    }
   },
   "outputs": [
    {
     "data": {
      "text/plain": "<tensorflow.python.checkpoint.checkpoint.CheckpointLoadStatus at 0x74d88065a230>"
     },
     "execution_count": 76,
     "metadata": {},
     "output_type": "execute_result"
    }
   ],
   "source": [
    "model.load_weights('models/checkpoint2')\n"
   ]
  },
  {
   "cell_type": "code",
   "execution_count": 77,
   "id": "247f664d-3c87-4e96-946e-930dad0e1c2c",
   "metadata": {
    "tags": [],
    "ExecuteTime": {
     "end_time": "2024-03-31T22:11:47.160101123Z",
     "start_time": "2024-03-31T22:11:21.746354243Z"
    }
   },
   "outputs": [
    {
     "name": "stdout",
     "output_type": "stream",
     "text": [
      "25/25 [==============================] - 5s 201ms/step - loss: 3.1596\n",
      "Baseline The Test loss: 3.1595547199249268\n",
      "Baseline Test accuracy: 96.84044528007507\n",
      "100/100 [==============================] - 20s 201ms/step - loss: 3.2549\n",
      "Baseline The Train loss: 3.2549242973327637\n"
     ]
    }
   ],
   "source": [
    "## test on the test data\n",
    "test_loss = model.evaluate(test)\n",
    "print(f'Baseline The Test loss: {test_loss}')\n",
    "# accuracy\n",
    "accuracy = 100 - test_loss\n",
    "print(f'Baseline Test accuracy: {accuracy}')\n",
    "# test on the train data\n",
    "train_loss = model.evaluate(train)\n",
    "print(f'Baseline The Train loss: {train_loss}')\n"
   ]
  },
  {
   "cell_type": "code",
   "outputs": [],
   "source": [
    "test_data = test.as_numpy_iterator()"
   ],
   "metadata": {
    "collapsed": false,
    "ExecuteTime": {
     "end_time": "2024-03-31T22:18:52.312386277Z",
     "start_time": "2024-03-31T22:18:52.233812258Z"
    }
   },
   "id": "354219c15c43d756",
   "execution_count": 78
  },
  {
   "cell_type": "code",
   "execution_count": 79,
   "id": "7f8d689f-b7bb-443c-9b88-e40c1d800828",
   "metadata": {
    "tags": [],
    "ExecuteTime": {
     "end_time": "2024-03-31T22:18:56.057150929Z",
     "start_time": "2024-03-31T22:18:55.826707813Z"
    }
   },
   "outputs": [],
   "source": [
    "sample = test_data.next()"
   ]
  },
  {
   "cell_type": "code",
   "execution_count": 80,
   "id": "38546dc2-bee9-4837-864b-8a884df40ad7",
   "metadata": {
    "tags": [],
    "ExecuteTime": {
     "end_time": "2024-03-31T22:18:57.067719788Z",
     "start_time": "2024-03-31T22:18:56.817701198Z"
    }
   },
   "outputs": [
    {
     "name": "stdout",
     "output_type": "stream",
     "text": [
      "1/1 [==============================] - 0s 215ms/step\n"
     ]
    }
   ],
   "source": [
    "yhat = model.predict(sample[0])"
   ]
  },
  {
   "cell_type": "code",
   "execution_count": 81,
   "id": "a43621f0-229d-4c0d-9554-9c3a3da9c61a",
   "metadata": {
    "tags": [],
    "ExecuteTime": {
     "end_time": "2024-03-31T22:18:58.211538559Z",
     "start_time": "2024-03-31T22:18:58.122920201Z"
    }
   },
   "outputs": [
    {
     "name": "stdout",
     "output_type": "stream",
     "text": [
      "~~~~~~~~~~~~~~~~~~~~~~~~~~~~~~~~~~~~~~~~~~~~~~~~~~~~~~~~~~~~~~~~~~~~~~~~~~~~~~~~~~~~~~~~~~~~~~~~~~~~ REAL TEXT\n"
     ]
    },
    {
     "data": {
      "text/plain": "[<tf.Tensor: shape=(), dtype=string, numpy=b'bin green by b one soon'>,\n <tf.Tensor: shape=(), dtype=string, numpy=b'set green at v seven again'>,\n <tf.Tensor: shape=(), dtype=string, numpy=b'place green in q three soon'>,\n <tf.Tensor: shape=(), dtype=string, numpy=b'place green at q eight please'>,\n <tf.Tensor: shape=(), dtype=string, numpy=b'lay white by z four now'>,\n <tf.Tensor: shape=(), dtype=string, numpy=b'lay green in l seven again'>,\n <tf.Tensor: shape=(), dtype=string, numpy=b'place blue at o nine soon'>,\n <tf.Tensor: shape=(), dtype=string, numpy=b'bin green with b four now'>]"
     },
     "execution_count": 81,
     "metadata": {},
     "output_type": "execute_result"
    }
   ],
   "source": [
    "print('~' * 100, 'REAL TEXT')\n",
    "[tf.strings.reduce_join([num_to_char(word) for word in sentence]) for sentence in sample[1]]"
   ]
  },
  {
   "cell_type": "code",
   "execution_count": 86,
   "id": "ea462999-f87e-4a7e-a057-5be7b6d8f7d5",
   "metadata": {
    "tags": [],
    "ExecuteTime": {
     "end_time": "2024-03-31T22:21:56.501603657Z",
     "start_time": "2024-03-31T22:21:55.950706714Z"
    }
   },
   "outputs": [],
   "source": [
    "decoded = tf.keras.backend.ctc_decode(yhat, input_length=[75, 75, 75, 75, 75, 75, 75, 75], greedy=True)[0][0].numpy()"
   ]
  },
  {
   "cell_type": "code",
   "execution_count": 87,
   "id": "82bd4c10-dd6e-411e-834b-2a3b43fd12c5",
   "metadata": {
    "tags": [],
    "ExecuteTime": {
     "end_time": "2024-03-31T22:21:56.679208419Z",
     "start_time": "2024-03-31T22:21:56.529143573Z"
    }
   },
   "outputs": [
    {
     "name": "stdout",
     "output_type": "stream",
     "text": [
      "~~~~~~~~~~~~~~~~~~~~~~~~~~~~~~~~~~~~~~~~~~~~~~~~~~~~~~~~~~~~~~~~~~~~~~~~~~~~~~~~~~~~~~~~~~~~~~~~~~~~ PREDICTIONS\n"
     ]
    },
    {
     "data": {
      "text/plain": "[<tf.Tensor: shape=(), dtype=string, numpy=b'bin green by b one soon'>,\n <tf.Tensor: shape=(), dtype=string, numpy=b'set gren at seven again'>,\n <tf.Tensor: shape=(), dtype=string, numpy=b'place green in thre sooon'>,\n <tf.Tensor: shape=(), dtype=string, numpy=b'place gren at eight please'>,\n <tf.Tensor: shape=(), dtype=string, numpy=b'lay white by four now'>,\n <tf.Tensor: shape=(), dtype=string, numpy=b'lay gren in l seven again'>,\n <tf.Tensor: shape=(), dtype=string, numpy=b'place blue at nine soon'>,\n <tf.Tensor: shape=(), dtype=string, numpy=b'bin green with four now'>]"
     },
     "execution_count": 87,
     "metadata": {},
     "output_type": "execute_result"
    }
   ],
   "source": [
    "print('~' * 100, 'PREDICTIONS')\n",
    "[tf.strings.reduce_join([num_to_char(word) for word in sentence]) for sentence in decoded]"
   ]
  },
  {
   "cell_type": "markdown",
   "source": [
    "# Test on a Video"
   ],
   "metadata": {
    "collapsed": false
   },
   "id": "262ccad62384a235"
  },
  {
   "cell_type": "code",
   "outputs": [],
   "source": [
    "sample = load_data(tf.convert_to_tensor('./data/s1/bbal6n.mpg'))"
   ],
   "metadata": {
    "collapsed": false
   },
   "id": "958c9c4b43e74e89"
  },
  {
   "cell_type": "code",
   "execution_count": 158,
   "id": "a8b0c4d0-2031-4331-b91d-d87b1ae6f6e2",
   "metadata": {
    "ExecuteTime": {
     "end_time": "2024-02-12T16:16:24.734922400Z",
     "start_time": "2024-02-12T16:16:24.731180228Z"
    }
   },
   "outputs": [],
   "source": [
    "print('~' * 100, 'REAL TEXT')\n",
    "[tf.strings.reduce_join([num_to_char(word) for word in sentence]) for sentence in [sample[1]]]"
   ]
  },
  {
   "cell_type": "code",
   "execution_count": 159,
   "id": "0cca60e4-47a9-4683-8a75-48f4684f723d",
   "metadata": {
    "ExecuteTime": {
     "end_time": "2024-02-12T16:16:25.299730281Z",
     "start_time": "2024-02-12T16:16:25.268328124Z"
    }
   },
   "outputs": [
    {
     "name": "stdout",
     "output_type": "stream",
     "text": [
      "~~~~~~~~~~~~~~~~~~~~~~~~~~~~~~~~~~~~~~~~~~~~~~~~~~~~~~~~~~~~~~~~~~~~~~~~~~~~~~~~~~~~~~~~~~~~~~~~~~~~ REAL TEXT\n"
     ]
    },
    {
     "data": {
      "text/plain": "[<tf.Tensor: shape=(), dtype=string, numpy=b'bin blue at l six now'>]"
     },
     "execution_count": 159,
     "metadata": {},
     "output_type": "execute_result"
    }
   ],
   "source": [
    "yhat = model.predict(tf.expand_dims(sample[0], axis=0))"
   ]
  },
  {
   "cell_type": "code",
   "execution_count": 160,
   "id": "8cc5037c-1e32-435c-b0cc-01e1fb3b863c",
   "metadata": {
    "ExecuteTime": {
     "end_time": "2024-02-12T16:16:27.165946148Z",
     "start_time": "2024-02-12T16:16:26.526485904Z"
    }
   },
   "outputs": [
    {
     "name": "stdout",
     "output_type": "stream",
     "text": [
      "WARNING:tensorflow:6 out of the last 11 calls to <function Model.make_predict_function.<locals>.predict_function at 0x7ff1ec62bd90> triggered tf.function retracing. Tracing is expensive and the excessive number of tracings could be due to (1) creating @tf.function repeatedly in a loop, (2) passing tensors with different shapes, (3) passing Python objects instead of tensors. For (1), please define your @tf.function outside of the loop. For (2), @tf.function has reduce_retracing=True option that can avoid unnecessary retracing. For (3), please refer to https://www.tensorflow.org/guide/function#controlling_retracing and https://www.tensorflow.org/api_docs/python/tf/function for  more details.\n",
      "1/1 [==============================] - 1s 610ms/step\n"
     ]
    }
   ],
   "source": [
    "decoded = tf.keras.backend.ctc_decode(yhat, input_length=[75], greedy=True)[0][0].numpy()"
   ]
  },
  {
   "cell_type": "code",
   "execution_count": 161,
   "id": "22c4f77d-715d-409f-bc5e-3ebe48704e8f",
   "metadata": {
    "ExecuteTime": {
     "end_time": "2024-02-12T16:16:27.214791467Z",
     "start_time": "2024-02-12T16:16:27.165556587Z"
    }
   },
   "outputs": [],
   "source": [
    "print('~' * 100, 'PREDICTIONS')\n",
    "[tf.strings.reduce_join([num_to_char(word) for word in sentence]) for sentence in decoded]"
   ]
  },
  {
   "cell_type": "code",
   "execution_count": 162,
   "id": "e4d12ecc-b634-499e-a4bc-db9f010835fb",
   "metadata": {
    "ExecuteTime": {
     "end_time": "2024-02-12T16:16:28.583399003Z",
     "start_time": "2024-02-12T16:16:28.551488071Z"
    }
   },
   "outputs": [
    {
     "name": "stdout",
     "output_type": "stream",
     "text": [
      "~~~~~~~~~~~~~~~~~~~~~~~~~~~~~~~~~~~~~~~~~~~~~~~~~~~~~~~~~~~~~~~~~~~~~~~~~~~~~~~~~~~~~~~~~~~~~~~~~~~~ PREDICTIONS\n"
     ]
    },
    {
     "data": {
      "text/plain": "[<tf.Tensor: shape=(), dtype=string, numpy=b'bin blue at l six now'>]"
     },
     "execution_count": 162,
     "metadata": {},
     "output_type": "execute_result"
    }
   ],
   "source": []
  },
  {
   "cell_type": "code",
   "outputs": [],
   "source": [],
   "metadata": {
    "collapsed": false
   },
   "id": "9d22c61452e9e439"
  },
  {
   "cell_type": "code",
   "execution_count": null,
   "id": "551dfea2-de6b-4400-b71a-a17631529e3f",
   "metadata": {
    "ExecuteTime": {
     "start_time": "2024-02-12T01:36:35.237326162Z"
    }
   },
   "outputs": [],
   "source": []
  },
  {
   "cell_type": "code",
   "execution_count": null,
   "id": "fa95863d-3832-47bf-8a77-ebaa38054ace",
   "metadata": {
    "ExecuteTime": {
     "start_time": "2024-02-12T01:36:35.257872173Z"
    }
   },
   "outputs": [],
   "source": []
  }
 ],
 "metadata": {
  "kernelspec": {
   "name": "python3",
   "language": "python",
   "display_name": "Python 3 (ipykernel)"
  },
  "language_info": {
   "codemirror_mode": {
    "name": "ipython",
    "version": 3
   },
   "file_extension": ".py",
   "mimetype": "text/x-python",
   "name": "python",
   "nbconvert_exporter": "python",
   "pygments_lexer": "ipython3",
   "version": "3.9.12"
  }
 },
 "nbformat": 4,
 "nbformat_minor": 5
}
