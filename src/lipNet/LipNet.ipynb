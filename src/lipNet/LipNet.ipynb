{
 "cells": [
  {
   "cell_type": "markdown",
   "id": "a3573a47-3689-4668-b62f-5c8451b2b4e9",
   "metadata": {
    "tags": []
   },
   "source": [
    "# 0. Install and Import Dependencies"
   ]
  },
  {
   "cell_type": "code",
   "execution_count": 246,
   "id": "ddfbccbe-41ae-4c23-98b1-a13868e2b499",
   "metadata": {
    "scrolled": true,
    "tags": [],
    "ExecuteTime": {
     "end_time": "2024-02-11T23:22:16.733901227Z",
     "start_time": "2024-02-11T23:22:16.215288834Z"
    }
   },
   "outputs": [
    {
     "name": "stdout",
     "output_type": "stream",
     "text": [
      "Package                      Version\r\n",
      "---------------------------- ---------------\r\n",
      "absl-py                      2.1.0\r\n",
      "anyio                        4.2.0\r\n",
      "argon2-cffi                  23.1.0\r\n",
      "argon2-cffi-bindings         21.2.0\r\n",
      "arrow                        1.3.0\r\n",
      "asttokens                    2.4.1\r\n",
      "astunparse                   1.6.3\r\n",
      "async-lru                    2.0.4\r\n",
      "attrs                        23.2.0\r\n",
      "Babel                        2.14.0\r\n",
      "beautifulsoup4               4.12.3\r\n",
      "bleach                       6.1.0\r\n",
      "cachetools                   5.3.2\r\n",
      "certifi                      2024.2.2\r\n",
      "cffi                         1.16.0\r\n",
      "charset-normalizer           3.3.2\r\n",
      "comm                         0.2.1\r\n",
      "contourpy                    1.2.0\r\n",
      "cycler                       0.12.1\r\n",
      "debugpy                      1.8.1\r\n",
      "decorator                    5.1.1\r\n",
      "defusedxml                   0.7.1\r\n",
      "exceptiongroup               1.2.0\r\n",
      "executing                    2.0.1\r\n",
      "fastjsonschema               2.19.1\r\n",
      "filelock                     3.13.1\r\n",
      "flatbuffers                  23.5.26\r\n",
      "fonttools                    4.48.1\r\n",
      "fqdn                         1.5.1\r\n",
      "fsspec                       2023.4.0\r\n",
      "gast                         0.5.4\r\n",
      "gdown                        5.1.0\r\n",
      "google-auth                  2.27.0\r\n",
      "google-auth-oauthlib         1.2.0\r\n",
      "google-pasta                 0.2.0\r\n",
      "grpcio                       1.60.1\r\n",
      "h5py                         3.10.0\r\n",
      "idna                         3.6\r\n",
      "imageio                      2.33.1\r\n",
      "ipykernel                    6.29.2\r\n",
      "ipython                      8.21.0\r\n",
      "ipywidgets                   8.1.2\r\n",
      "isoduration                  20.11.0\r\n",
      "jedi                         0.19.1\r\n",
      "Jinja2                       3.1.3\r\n",
      "json5                        0.9.14\r\n",
      "jsonpointer                  2.4\r\n",
      "jsonschema                   4.21.1\r\n",
      "jsonschema-specifications    2023.12.1\r\n",
      "jupyter                      1.0.0\r\n",
      "jupyter_client               8.6.0\r\n",
      "jupyter-console              6.6.3\r\n",
      "jupyter_core                 5.7.1\r\n",
      "jupyter-events               0.9.0\r\n",
      "jupyter-lsp                  2.2.2\r\n",
      "jupyter_server               2.12.5\r\n",
      "jupyter_server_terminals     0.5.2\r\n",
      "jupyterlab                   4.0.12\r\n",
      "jupyterlab_pygments          0.3.0\r\n",
      "jupyterlab_server            2.25.2\r\n",
      "jupyterlab_widgets           3.0.10\r\n",
      "keras                        2.15.0\r\n",
      "kiwisolver                   1.4.5\r\n",
      "libclang                     16.0.6\r\n",
      "Markdown                     3.5.2\r\n",
      "MarkupSafe                   2.1.5\r\n",
      "matplotlib                   3.8.2\r\n",
      "matplotlib-inline            0.1.6\r\n",
      "mistune                      3.0.2\r\n",
      "ml-dtypes                    0.2.0\r\n",
      "mpmath                       1.3.0\r\n",
      "nbclient                     0.9.0\r\n",
      "nbconvert                    7.16.0\r\n",
      "nbformat                     5.9.2\r\n",
      "nest-asyncio                 1.6.0\r\n",
      "networkx                     3.2.1\r\n",
      "notebook                     7.0.8\r\n",
      "notebook_shim                0.2.3\r\n",
      "numpy                        1.26.4\r\n",
      "nvidia-cublas-cu12           12.2.5.6\r\n",
      "nvidia-cuda-cupti-cu12       12.2.142\r\n",
      "nvidia-cuda-nvcc-cu12        12.2.140\r\n",
      "nvidia-cuda-nvrtc-cu12       12.2.140\r\n",
      "nvidia-cuda-runtime-cu12     12.2.140\r\n",
      "nvidia-cudnn-cu12            8.9.4.25\r\n",
      "nvidia-cufft-cu12            11.0.8.103\r\n",
      "nvidia-curand-cu12           10.3.3.141\r\n",
      "nvidia-cusolver-cu12         11.5.2.141\r\n",
      "nvidia-cusparse-cu12         12.1.2.141\r\n",
      "nvidia-nccl-cu12             2.16.5\r\n",
      "nvidia-nvjitlink-cu12        12.2.140\r\n",
      "oauthlib                     3.2.2\r\n",
      "opencv-python                4.9.0.80\r\n",
      "opt-einsum                   3.3.0\r\n",
      "overrides                    7.7.0\r\n",
      "packaging                    23.2\r\n",
      "pandocfilters                1.5.1\r\n",
      "parso                        0.8.3\r\n",
      "pexpect                      4.9.0\r\n",
      "pillow                       10.2.0\r\n",
      "pip                          24.0\r\n",
      "platformdirs                 4.2.0\r\n",
      "prometheus-client            0.19.0\r\n",
      "prompt-toolkit               3.0.43\r\n",
      "protobuf                     4.25.2\r\n",
      "psutil                       5.9.8\r\n",
      "ptyprocess                   0.7.0\r\n",
      "pure-eval                    0.2.2\r\n",
      "pyasn1                       0.5.1\r\n",
      "pyasn1-modules               0.3.0\r\n",
      "pycparser                    2.21\r\n",
      "Pygments                     2.17.2\r\n",
      "pyparsing                    3.1.1\r\n",
      "PySocks                      1.7.1\r\n",
      "python-dateutil              2.8.2\r\n",
      "python-json-logger           2.0.7\r\n",
      "PyYAML                       6.0.1\r\n",
      "pyzmq                        25.1.2\r\n",
      "qtconsole                    5.5.1\r\n",
      "QtPy                         2.4.1\r\n",
      "referencing                  0.33.0\r\n",
      "requests                     2.31.0\r\n",
      "requests-oauthlib            1.3.1\r\n",
      "rfc3339-validator            0.1.4\r\n",
      "rfc3986-validator            0.1.1\r\n",
      "rpds-py                      0.17.1\r\n",
      "rsa                          4.9\r\n",
      "Send2Trash                   1.8.2\r\n",
      "setuptools                   68.2.0\r\n",
      "six                          1.16.0\r\n",
      "sniffio                      1.3.0\r\n",
      "soupsieve                    2.5\r\n",
      "stack-data                   0.6.3\r\n",
      "sympy                        1.12\r\n",
      "tensorboard                  2.15.2\r\n",
      "tensorboard-data-server      0.7.2\r\n",
      "tensorflow                   2.15.0.post1\r\n",
      "tensorflow-estimator         2.15.0\r\n",
      "tensorflow-io-gcs-filesystem 0.36.0\r\n",
      "termcolor                    2.4.0\r\n",
      "terminado                    0.18.0\r\n",
      "tinycss2                     1.2.1\r\n",
      "tomli                        2.0.1\r\n",
      "torch                        2.2.0+cu118\r\n",
      "torchaudio                   2.2.0+cu118\r\n",
      "torchvision                  0.17.0+cu118\r\n",
      "tornado                      6.4\r\n",
      "tqdm                         4.66.2\r\n",
      "traitlets                    5.14.1\r\n",
      "triton                       2.2.0\r\n",
      "types-python-dateutil        2.8.19.20240106\r\n",
      "typing_extensions            4.9.0\r\n",
      "uri-template                 1.3.0\r\n",
      "urllib3                      2.2.0\r\n",
      "wcwidth                      0.2.13\r\n",
      "webcolors                    1.13\r\n",
      "webencodings                 0.5.1\r\n",
      "websocket-client             1.7.0\r\n",
      "Werkzeug                     3.0.1\r\n",
      "wheel                        0.41.2\r\n",
      "widgetsnbextension           4.0.10\r\n",
      "wrapt                        1.14.1\r\n"
     ]
    }
   ],
   "source": [
    "!pip list"
   ]
  },
  {
   "cell_type": "code",
   "execution_count": 247,
   "id": "02f907ea-f669-46c7-adcf-7f257e663448",
   "metadata": {
    "tags": [],
    "ExecuteTime": {
     "end_time": "2024-02-11T23:22:17.635781318Z",
     "start_time": "2024-02-11T23:22:16.727081490Z"
    }
   },
   "outputs": [
    {
     "name": "stdout",
     "output_type": "stream",
     "text": [
      "Requirement already satisfied: opencv-python in /home/liazylee/jobs/venv_python/lip_reading/lib/python3.10/site-packages (4.9.0.80)\r\n",
      "Requirement already satisfied: matplotlib in /home/liazylee/jobs/venv_python/lip_reading/lib/python3.10/site-packages (3.8.2)\r\n",
      "Requirement already satisfied: imageio in /home/liazylee/jobs/venv_python/lip_reading/lib/python3.10/site-packages (2.33.1)\r\n",
      "Requirement already satisfied: gdown in /home/liazylee/jobs/venv_python/lip_reading/lib/python3.10/site-packages (5.1.0)\r\n",
      "Requirement already satisfied: tensorflow in /home/liazylee/jobs/venv_python/lip_reading/lib/python3.10/site-packages (2.15.0.post1)\r\n",
      "Requirement already satisfied: numpy>=1.21.2 in /home/liazylee/jobs/venv_python/lip_reading/lib/python3.10/site-packages (from opencv-python) (1.26.4)\r\n",
      "Requirement already satisfied: contourpy>=1.0.1 in /home/liazylee/jobs/venv_python/lip_reading/lib/python3.10/site-packages (from matplotlib) (1.2.0)\r\n",
      "Requirement already satisfied: cycler>=0.10 in /home/liazylee/jobs/venv_python/lip_reading/lib/python3.10/site-packages (from matplotlib) (0.12.1)\r\n",
      "Requirement already satisfied: fonttools>=4.22.0 in /home/liazylee/jobs/venv_python/lip_reading/lib/python3.10/site-packages (from matplotlib) (4.48.1)\r\n",
      "Requirement already satisfied: kiwisolver>=1.3.1 in /home/liazylee/jobs/venv_python/lip_reading/lib/python3.10/site-packages (from matplotlib) (1.4.5)\r\n",
      "Requirement already satisfied: packaging>=20.0 in /home/liazylee/jobs/venv_python/lip_reading/lib/python3.10/site-packages (from matplotlib) (23.2)\r\n",
      "Requirement already satisfied: pillow>=8 in /home/liazylee/jobs/venv_python/lip_reading/lib/python3.10/site-packages (from matplotlib) (10.2.0)\r\n",
      "Requirement already satisfied: pyparsing>=2.3.1 in /home/liazylee/jobs/venv_python/lip_reading/lib/python3.10/site-packages (from matplotlib) (3.1.1)\r\n",
      "Requirement already satisfied: python-dateutil>=2.7 in /home/liazylee/jobs/venv_python/lip_reading/lib/python3.10/site-packages (from matplotlib) (2.8.2)\r\n",
      "Requirement already satisfied: beautifulsoup4 in /home/liazylee/jobs/venv_python/lip_reading/lib/python3.10/site-packages (from gdown) (4.12.3)\r\n",
      "Requirement already satisfied: filelock in /home/liazylee/jobs/venv_python/lip_reading/lib/python3.10/site-packages (from gdown) (3.13.1)\r\n",
      "Requirement already satisfied: requests[socks] in /home/liazylee/jobs/venv_python/lip_reading/lib/python3.10/site-packages (from gdown) (2.31.0)\r\n",
      "Requirement already satisfied: tqdm in /home/liazylee/jobs/venv_python/lip_reading/lib/python3.10/site-packages (from gdown) (4.66.2)\r\n",
      "Requirement already satisfied: absl-py>=1.0.0 in /home/liazylee/jobs/venv_python/lip_reading/lib/python3.10/site-packages (from tensorflow) (2.1.0)\r\n",
      "Requirement already satisfied: astunparse>=1.6.0 in /home/liazylee/jobs/venv_python/lip_reading/lib/python3.10/site-packages (from tensorflow) (1.6.3)\r\n",
      "Requirement already satisfied: flatbuffers>=23.5.26 in /home/liazylee/jobs/venv_python/lip_reading/lib/python3.10/site-packages (from tensorflow) (23.5.26)\r\n",
      "Requirement already satisfied: gast!=0.5.0,!=0.5.1,!=0.5.2,>=0.2.1 in /home/liazylee/jobs/venv_python/lip_reading/lib/python3.10/site-packages (from tensorflow) (0.5.4)\r\n",
      "Requirement already satisfied: google-pasta>=0.1.1 in /home/liazylee/jobs/venv_python/lip_reading/lib/python3.10/site-packages (from tensorflow) (0.2.0)\r\n",
      "Requirement already satisfied: h5py>=2.9.0 in /home/liazylee/jobs/venv_python/lip_reading/lib/python3.10/site-packages (from tensorflow) (3.10.0)\r\n",
      "Requirement already satisfied: libclang>=13.0.0 in /home/liazylee/jobs/venv_python/lip_reading/lib/python3.10/site-packages (from tensorflow) (16.0.6)\r\n",
      "Requirement already satisfied: ml-dtypes~=0.2.0 in /home/liazylee/jobs/venv_python/lip_reading/lib/python3.10/site-packages (from tensorflow) (0.2.0)\r\n",
      "Requirement already satisfied: opt-einsum>=2.3.2 in /home/liazylee/jobs/venv_python/lip_reading/lib/python3.10/site-packages (from tensorflow) (3.3.0)\r\n",
      "Requirement already satisfied: protobuf!=4.21.0,!=4.21.1,!=4.21.2,!=4.21.3,!=4.21.4,!=4.21.5,<5.0.0dev,>=3.20.3 in /home/liazylee/jobs/venv_python/lip_reading/lib/python3.10/site-packages (from tensorflow) (4.25.2)\r\n",
      "Requirement already satisfied: setuptools in /home/liazylee/jobs/venv_python/lip_reading/lib/python3.10/site-packages (from tensorflow) (68.2.0)\r\n",
      "Requirement already satisfied: six>=1.12.0 in /home/liazylee/jobs/venv_python/lip_reading/lib/python3.10/site-packages (from tensorflow) (1.16.0)\r\n",
      "Requirement already satisfied: termcolor>=1.1.0 in /home/liazylee/jobs/venv_python/lip_reading/lib/python3.10/site-packages (from tensorflow) (2.4.0)\r\n",
      "Requirement already satisfied: typing-extensions>=3.6.6 in /home/liazylee/jobs/venv_python/lip_reading/lib/python3.10/site-packages (from tensorflow) (4.9.0)\r\n",
      "Requirement already satisfied: wrapt<1.15,>=1.11.0 in /home/liazylee/jobs/venv_python/lip_reading/lib/python3.10/site-packages (from tensorflow) (1.14.1)\r\n",
      "Requirement already satisfied: tensorflow-io-gcs-filesystem>=0.23.1 in /home/liazylee/jobs/venv_python/lip_reading/lib/python3.10/site-packages (from tensorflow) (0.36.0)\r\n",
      "Requirement already satisfied: grpcio<2.0,>=1.24.3 in /home/liazylee/jobs/venv_python/lip_reading/lib/python3.10/site-packages (from tensorflow) (1.60.1)\r\n",
      "Requirement already satisfied: tensorboard<2.16,>=2.15 in /home/liazylee/jobs/venv_python/lip_reading/lib/python3.10/site-packages (from tensorflow) (2.15.2)\r\n",
      "Requirement already satisfied: tensorflow-estimator<2.16,>=2.15.0 in /home/liazylee/jobs/venv_python/lip_reading/lib/python3.10/site-packages (from tensorflow) (2.15.0)\r\n",
      "Requirement already satisfied: keras<2.16,>=2.15.0 in /home/liazylee/jobs/venv_python/lip_reading/lib/python3.10/site-packages (from tensorflow) (2.15.0)\r\n",
      "Requirement already satisfied: wheel<1.0,>=0.23.0 in /home/liazylee/jobs/venv_python/lip_reading/lib/python3.10/site-packages (from astunparse>=1.6.0->tensorflow) (0.41.2)\r\n",
      "Requirement already satisfied: google-auth<3,>=1.6.3 in /home/liazylee/jobs/venv_python/lip_reading/lib/python3.10/site-packages (from tensorboard<2.16,>=2.15->tensorflow) (2.27.0)\r\n",
      "Requirement already satisfied: google-auth-oauthlib<2,>=0.5 in /home/liazylee/jobs/venv_python/lip_reading/lib/python3.10/site-packages (from tensorboard<2.16,>=2.15->tensorflow) (1.2.0)\r\n",
      "Requirement already satisfied: markdown>=2.6.8 in /home/liazylee/jobs/venv_python/lip_reading/lib/python3.10/site-packages (from tensorboard<2.16,>=2.15->tensorflow) (3.5.2)\r\n",
      "Requirement already satisfied: tensorboard-data-server<0.8.0,>=0.7.0 in /home/liazylee/jobs/venv_python/lip_reading/lib/python3.10/site-packages (from tensorboard<2.16,>=2.15->tensorflow) (0.7.2)\r\n",
      "Requirement already satisfied: werkzeug>=1.0.1 in /home/liazylee/jobs/venv_python/lip_reading/lib/python3.10/site-packages (from tensorboard<2.16,>=2.15->tensorflow) (3.0.1)\r\n",
      "Requirement already satisfied: soupsieve>1.2 in /home/liazylee/jobs/venv_python/lip_reading/lib/python3.10/site-packages (from beautifulsoup4->gdown) (2.5)\r\n",
      "Requirement already satisfied: charset-normalizer<4,>=2 in /home/liazylee/jobs/venv_python/lip_reading/lib/python3.10/site-packages (from requests[socks]->gdown) (3.3.2)\r\n",
      "Requirement already satisfied: idna<4,>=2.5 in /home/liazylee/jobs/venv_python/lip_reading/lib/python3.10/site-packages (from requests[socks]->gdown) (3.6)\r\n",
      "Requirement already satisfied: urllib3<3,>=1.21.1 in /home/liazylee/jobs/venv_python/lip_reading/lib/python3.10/site-packages (from requests[socks]->gdown) (2.2.0)\r\n",
      "Requirement already satisfied: certifi>=2017.4.17 in /home/liazylee/jobs/venv_python/lip_reading/lib/python3.10/site-packages (from requests[socks]->gdown) (2024.2.2)\r\n",
      "Requirement already satisfied: PySocks!=1.5.7,>=1.5.6 in /home/liazylee/jobs/venv_python/lip_reading/lib/python3.10/site-packages (from requests[socks]->gdown) (1.7.1)\r\n",
      "Requirement already satisfied: cachetools<6.0,>=2.0.0 in /home/liazylee/jobs/venv_python/lip_reading/lib/python3.10/site-packages (from google-auth<3,>=1.6.3->tensorboard<2.16,>=2.15->tensorflow) (5.3.2)\r\n",
      "Requirement already satisfied: pyasn1-modules>=0.2.1 in /home/liazylee/jobs/venv_python/lip_reading/lib/python3.10/site-packages (from google-auth<3,>=1.6.3->tensorboard<2.16,>=2.15->tensorflow) (0.3.0)\r\n",
      "Requirement already satisfied: rsa<5,>=3.1.4 in /home/liazylee/jobs/venv_python/lip_reading/lib/python3.10/site-packages (from google-auth<3,>=1.6.3->tensorboard<2.16,>=2.15->tensorflow) (4.9)\r\n",
      "Requirement already satisfied: requests-oauthlib>=0.7.0 in /home/liazylee/jobs/venv_python/lip_reading/lib/python3.10/site-packages (from google-auth-oauthlib<2,>=0.5->tensorboard<2.16,>=2.15->tensorflow) (1.3.1)\r\n",
      "Requirement already satisfied: MarkupSafe>=2.1.1 in /home/liazylee/jobs/venv_python/lip_reading/lib/python3.10/site-packages (from werkzeug>=1.0.1->tensorboard<2.16,>=2.15->tensorflow) (2.1.5)\r\n",
      "Requirement already satisfied: pyasn1<0.6.0,>=0.4.6 in /home/liazylee/jobs/venv_python/lip_reading/lib/python3.10/site-packages (from pyasn1-modules>=0.2.1->google-auth<3,>=1.6.3->tensorboard<2.16,>=2.15->tensorflow) (0.5.1)\r\n",
      "Requirement already satisfied: oauthlib>=3.0.0 in /home/liazylee/jobs/venv_python/lip_reading/lib/python3.10/site-packages (from requests-oauthlib>=0.7.0->google-auth-oauthlib<2,>=0.5->tensorboard<2.16,>=2.15->tensorflow) (3.2.2)\r\n"
     ]
    }
   ],
   "source": [
    "!pip install opencv-python matplotlib imageio gdown tensorflow"
   ]
  },
  {
   "cell_type": "code",
   "execution_count": 3,
   "id": "b24af50c-20b8-409d-ad78-30a933fdd669",
   "metadata": {
    "tags": [],
    "pycharm": {
     "is_executing": true
    },
    "ExecuteTime": {
     "end_time": "2024-02-12T10:30:39.423802778Z",
     "start_time": "2024-02-12T10:30:39.420237610Z"
    }
   },
   "outputs": [],
   "source": [
    "import os\n",
    "import cv2\n",
    "import tensorflow as tf\n",
    "import numpy as np\n",
    "from typing import List\n",
    "from matplotlib import pyplot as plt\n",
    "import imageio"
   ]
  },
  {
   "cell_type": "code",
   "execution_count": 6,
   "id": "1e3db0b0-e559-4ad6-91fd-e7414b7d75e6",
   "metadata": {
    "ExecuteTime": {
     "end_time": "2024-02-12T10:30:56.622977360Z",
     "start_time": "2024-02-12T10:30:56.604155434Z"
    }
   },
   "outputs": [
    {
     "data": {
      "text/plain": "[PhysicalDevice(name='/physical_device:GPU:0', device_type='GPU')]"
     },
     "execution_count": 6,
     "metadata": {},
     "output_type": "execute_result"
    }
   ],
   "source": [
    "\n",
    "gpu_devices = tf.config.experimental.list_physical_devices('GPU')\n",
    "for device in gpu_devices:\n",
    "    tf.config.experimental.set_memory_growth(device, True)\n",
    "tf.config.list_physical_devices('GPU')"
   ]
  },
  {
   "cell_type": "code",
   "execution_count": 7,
   "id": "378d045a-3003-4f93-b7d2-a25a97774a68",
   "metadata": {
    "tags": [],
    "ExecuteTime": {
     "end_time": "2024-02-12T10:31:14.334557108Z",
     "start_time": "2024-02-12T10:31:14.292689531Z"
    }
   },
   "outputs": [],
   "source": [
    "physical_devices = tf.config.list_physical_devices('GPU')\n",
    "try:\n",
    "    tf.config.experimental.set_memory_growth(physical_devices[0], True)\n",
    "except:\n",
    "    pass"
   ]
  },
  {
   "cell_type": "markdown",
   "id": "7a19e88e-c7b9-45c1-ae1e-f2109329c71b",
   "metadata": {
    "tags": []
   },
   "source": [
    "# 1. Build Data Loading Functions"
   ]
  },
  {
   "cell_type": "code",
   "execution_count": 251,
   "id": "8fb99c90-e05a-437f-839d-6e772f8c1dd5",
   "metadata": {
    "tags": [],
    "ExecuteTime": {
     "end_time": "2024-02-11T23:22:17.680812784Z",
     "start_time": "2024-02-11T23:22:17.677111654Z"
    }
   },
   "outputs": [],
   "source": [
    "import gdown"
   ]
  },
  {
   "cell_type": "code",
   "execution_count": 24,
   "id": "c019e4c6-2af3-4160-99ea-5c8cb009f1a7",
   "metadata": {
    "tags": [],
    "ExecuteTime": {
     "end_time": "2024-02-12T10:37:40.014478407Z",
     "start_time": "2024-02-12T10:37:39.972904055Z"
    }
   },
   "outputs": [],
   "source": [
    "# url = 'https://drive.google.com/uc?id=1YlvpDLix3S-U8fd-gqRwPcWXAXm8JwjL'\n",
    "# output = 'data.zip'\n",
    "# gdown.download(url, output, quiet=False)\n",
    "# gdown.extractall('data.zip')\n",
    "def generate_video_dict(path:str) -> dict[str:List[float]]: \n",
    "    video_dict= {}\n",
    "    if not os.path.exists(path): \n",
    "        raise FileNotFoundError(f'{path} does not exist')\n",
    "    for file in os.listdir(path): \n",
    "        if file.endswith('.mpg'): \n",
    "            cap = cv2.VideoCapture(os.path.join(path, file))\n",
    "            frames = []\n",
    "            for _ in range(int(cap.get(cv2.CAP_PROP_FRAME_COUNT))):  \n",
    "                ret, frame = cap.read()\n",
    "                frame = tf.image.rgb_to_grayscale(frame)\n",
    "                frames.append(frame[190:236,80:220,:])\n",
    "            cap.release()\n",
    "            mean = tf.math.reduce_mean(frames)\n",
    "            std = tf.math.reduce_std(tf.cast(frames, tf.float16))\n",
    "            video_dict[file] = tf.cast((frames - mean), tf.float16) / std\n",
    "    return video_dict\n",
    "    "
   ]
  },
  {
   "cell_type": "code",
   "execution_count": 1,
   "id": "8548cc59-6dfc-4acc-abc3-3e65212db02e",
   "metadata": {
    "tags": [],
    "ExecuteTime": {
     "end_time": "2024-02-12T20:49:48.846179518Z",
     "start_time": "2024-02-12T20:49:48.784058046Z"
    }
   },
   "outputs": [
    {
     "ename": "NameError",
     "evalue": "name 'generate_video_dict' is not defined",
     "output_type": "error",
     "traceback": [
      "\u001B[0;31m---------------------------------------------------------------------------\u001B[0m",
      "\u001B[0;31mNameError\u001B[0m                                 Traceback (most recent call last)",
      "Cell \u001B[0;32mIn[1], line 3\u001B[0m\n\u001B[1;32m      1\u001B[0m \u001B[38;5;28;01mimport\u001B[39;00m \u001B[38;5;21;01msys\u001B[39;00m\n\u001B[0;32m----> 3\u001B[0m video_dict \u001B[38;5;241m=\u001B[39m \u001B[43mgenerate_video_dict\u001B[49m(\u001B[38;5;124m'\u001B[39m\u001B[38;5;124m./data/s10\u001B[39m\u001B[38;5;124m'\u001B[39m)\n\u001B[1;32m      4\u001B[0m \u001B[38;5;28mprint\u001B[39m(\u001B[38;5;28mlen\u001B[39m(video_dict))\n\u001B[1;32m      5\u001B[0m \u001B[38;5;66;03m# print memory in video_dict\u001B[39;00m\n",
      "\u001B[0;31mNameError\u001B[0m: name 'generate_video_dict' is not defined"
     ]
    }
   ],
   "source": [
    "import sys\n",
    "\n",
    "video_dict = generate_video_dict('./data/s1')\n",
    "print(len(video_dict))\n",
    "# print memory in video_dict\n",
    "dict_size = sys.getsizeof(video_dict)\n",
    "print(f\"Size of video_dict: {dict_size} bytes\")\n",
    "    "
   ]
  },
  {
   "cell_type": "code",
   "execution_count": 26,
   "id": "ec735e0b-ec98-4eb0-8f49-c35527d6670a",
   "metadata": {
    "tags": [],
    "ExecuteTime": {
     "end_time": "2024-02-12T10:51:30.874411859Z",
     "start_time": "2024-02-12T10:51:30.833506469Z"
    }
   },
   "outputs": [],
   "source": [
    "vocab = [x for x in \"abcdefghijklmnopqrstuvwxyz \"]"
   ]
  },
  {
   "cell_type": "code",
   "execution_count": 27,
   "id": "be04e972-d7a5-4a72-82d8-a6bdde1f3ce6",
   "metadata": {
    "tags": [],
    "ExecuteTime": {
     "end_time": "2024-02-12T10:51:32.315548427Z",
     "start_time": "2024-02-12T10:51:32.294101887Z"
    }
   },
   "outputs": [
    {
     "name": "stdout",
     "output_type": "stream",
     "text": [
      "The vocabulary is: ['', 'a', 'b', 'c', 'd', 'e', 'f', 'g', 'h', 'i', 'j', 'k', 'l', 'm', 'n', 'o', 'p', 'q', 'r', 's', 't', 'u', 'v', 'w', 'x', 'y', 'z', ' '] (size =28)\n"
     ]
    }
   ],
   "source": [
    "char_to_num = tf.keras.layers.StringLookup(vocabulary=vocab, oov_token=\"\")\n",
    "num_to_char = tf.keras.layers.StringLookup(\n",
    "    vocabulary=char_to_num.get_vocabulary(), oov_token=\"\", invert=True\n",
    ")\n",
    "\n",
    "print(\n",
    "    f\"The vocabulary is: {char_to_num.get_vocabulary()} \"\n",
    "    f\"(size ={char_to_num.vocabulary_size()})\"\n",
    ")"
   ]
  },
  {
   "cell_type": "code",
   "execution_count": 28,
   "id": "559f7420-6802-45fa-9ca0-b1ff209b461c",
   "metadata": {
    "tags": [],
    "ExecuteTime": {
     "end_time": "2024-02-12T10:51:33.229317592Z",
     "start_time": "2024-02-12T10:51:33.221464545Z"
    }
   },
   "outputs": [
    {
     "data": {
      "text/plain": "['',\n 'a',\n 'b',\n 'c',\n 'd',\n 'e',\n 'f',\n 'g',\n 'h',\n 'i',\n 'j',\n 'k',\n 'l',\n 'm',\n 'n',\n 'o',\n 'p',\n 'q',\n 'r',\n 's',\n 't',\n 'u',\n 'v',\n 'w',\n 'x',\n 'y',\n 'z',\n ' ']"
     },
     "execution_count": 28,
     "metadata": {},
     "output_type": "execute_result"
    }
   ],
   "source": [
    "char_to_num.get_vocabulary()"
   ]
  },
  {
   "cell_type": "code",
   "execution_count": 29,
   "id": "797ff78b-b48f-4e14-bb62-8cd0ebf9501a",
   "metadata": {
    "tags": [],
    "ExecuteTime": {
     "end_time": "2024-02-12T10:51:34.495542109Z",
     "start_time": "2024-02-12T10:51:34.490372366Z"
    }
   },
   "outputs": [
    {
     "data": {
      "text/plain": "<tf.Tensor: shape=(4,), dtype=int64, numpy=array([14,  9,  3, 11])>"
     },
     "execution_count": 29,
     "metadata": {},
     "output_type": "execute_result"
    }
   ],
   "source": [
    "char_to_num(['n','i','c','k'])"
   ]
  },
  {
   "cell_type": "code",
   "execution_count": 30,
   "id": "8cd7f4f4-ae77-4509-a4f4-c723787ebad1",
   "metadata": {
    "ExecuteTime": {
     "end_time": "2024-02-12T10:51:35.216148323Z",
     "start_time": "2024-02-12T10:51:35.208502369Z"
    }
   },
   "outputs": [
    {
     "data": {
      "text/plain": "<tf.Tensor: shape=(4,), dtype=string, numpy=array([b'n', b'i', b'c', b'k'], dtype=object)>"
     },
     "execution_count": 30,
     "metadata": {},
     "output_type": "execute_result"
    }
   ],
   "source": [
    "num_to_char([14,  9,  3, 11])"
   ]
  },
  {
   "cell_type": "code",
   "execution_count": 31,
   "id": "9491bab5-6a3c-4f79-879a-8f9fbe73ae2e",
   "metadata": {
    "tags": [],
    "ExecuteTime": {
     "end_time": "2024-02-12T10:51:40.745793830Z",
     "start_time": "2024-02-12T10:51:39.193068309Z"
    }
   },
   "outputs": [],
   "source": [
    "# def load_alignments(path:str) -> List[str]: \n",
    "#     with open(path, 'r') as f: \n",
    "#         lines = f.readlines() \n",
    "#     tokens = []\n",
    "#     for line in lines:\n",
    "#         line = line.split()\n",
    "#         if line[2] != 'sil': \n",
    "#             tokens = [*tokens,' ',line[2]]\n",
    "#     return char_to_num(tf.reshape(tf.strings.unicode_split(tokens, input_encoding='UTF-8'), (-1)))[1:]\n",
    "def init_alignments(path:str) -> dict[str:List[str]]: \n",
    "    alignments = {}\n",
    "    if not os.path.exists(path): \n",
    "        raise FileNotFoundError(f'{path} does not exist')\n",
    "    for file in os.listdir(path): \n",
    "        if file.endswith('.align'): \n",
    "            with open(os.path.join(path, file), 'r') as f: \n",
    "                lines = f.readlines()\n",
    "            tokens = []\n",
    "            for line in lines:\n",
    "                line = line.split()\n",
    "                if line[2] != 'sil': \n",
    "                    tokens = [*tokens,' ',line[2]]\n",
    "            alignments[file] = char_to_num(tf.reshape(tf.strings.unicode_split(tokens, input_encoding='UTF-8'), (-1)))[1:]\n",
    "    return alignments\n",
    "alignments_dict = init_alignments('./data/alignments/s1')\n"
   ]
  },
  {
   "cell_type": "code",
   "outputs": [
    {
     "name": "stdout",
     "output_type": "stream",
     "text": [
      "1000\n"
     ]
    }
   ],
   "source": [
    "print(len(alignments_dict))"
   ],
   "metadata": {
    "collapsed": false,
    "ExecuteTime": {
     "end_time": "2024-02-12T10:51:41.402198228Z",
     "start_time": "2024-02-12T10:51:41.394006149Z"
    }
   },
   "id": "255d533c5140ad12",
   "execution_count": 32
  },
  {
   "cell_type": "code",
   "execution_count": 33,
   "id": "dd01ca9f-77fb-4643-a2aa-47dd82c5d66b",
   "metadata": {
    "tags": [],
    "ExecuteTime": {
     "end_time": "2024-02-12T10:51:44.446581483Z",
     "start_time": "2024-02-12T10:51:44.406151942Z"
    }
   },
   "outputs": [],
   "source": [
    "def load_data(path: str): \n",
    "    path = bytes.decode(path.numpy())\n",
    "    file_name = path.split('/')[-1].split('.')[0]\n",
    "    # File name splitting for windows\n",
    "    # file_name = path.split('\\\\')[-1].split('.')[0]\n",
    "    video_path = f'{file_name}.mpg'\n",
    "    alignment_path = f'{file_name}.align'\n",
    "    frames = video_dict.get(video_path)\n",
    "    alignments = alignments_dict.get(alignment_path)\n",
    "    \n",
    "    return frames, alignments"
   ]
  },
  {
   "cell_type": "code",
   "execution_count": 19,
   "id": "8cb7cc58-31ae-4904-a805-1177a82717d2",
   "metadata": {
    "tags": [],
    "ExecuteTime": {
     "end_time": "2024-02-12T10:36:09.167472845Z",
     "start_time": "2024-02-12T10:36:09.157228153Z"
    }
   },
   "outputs": [],
   "source": [
    "test_path = './data/s1/bbal6n.mpg'"
   ]
  },
  {
   "cell_type": "code",
   "execution_count": 20,
   "id": "76aa964f-0c84-490d-897a-d00e3966e2c9",
   "metadata": {
    "ExecuteTime": {
     "end_time": "2024-02-12T10:36:11.680593815Z",
     "start_time": "2024-02-12T10:36:11.659264314Z"
    }
   },
   "outputs": [
    {
     "data": {
      "text/plain": "'bbal6n'"
     },
     "execution_count": 20,
     "metadata": {},
     "output_type": "execute_result"
    }
   ],
   "source": [
    "tf.convert_to_tensor(test_path).numpy().decode('utf-8').split('/')[-1].split('.')[0] "
   ]
  },
  {
   "cell_type": "code",
   "execution_count": 21,
   "id": "eb602c71-8560-4f9e-b26b-08202febb937",
   "metadata": {
    "scrolled": true,
    "tags": [],
    "ExecuteTime": {
     "end_time": "2024-02-12T10:36:24.490407531Z",
     "start_time": "2024-02-12T10:36:24.450022087Z"
    }
   },
   "outputs": [],
   "source": [
    "frames, alignments = load_data(tf.convert_to_tensor(test_path))"
   ]
  },
  {
   "cell_type": "code",
   "outputs": [
    {
     "name": "stdout",
     "output_type": "stream",
     "text": [
      "75\n"
     ]
    }
   ],
   "source": [
    "print(len(frames))"
   ],
   "metadata": {
    "collapsed": false,
    "ExecuteTime": {
     "end_time": "2024-02-12T10:37:01.544783867Z",
     "start_time": "2024-02-12T10:37:01.534697901Z"
    }
   },
   "id": "823ce0542f1d954d",
   "execution_count": 23
  },
  {
   "cell_type": "code",
   "execution_count": 22,
   "id": "0e3184a1-6b02-4b4f-84a8-a0a65f951ea2",
   "metadata": {
    "ExecuteTime": {
     "end_time": "2024-02-12T10:36:33.722679676Z",
     "start_time": "2024-02-12T10:36:33.639713047Z"
    }
   },
   "outputs": [
    {
     "data": {
      "text/plain": "<matplotlib.image.AxesImage at 0x7ff4518716f0>"
     },
     "execution_count": 22,
     "metadata": {},
     "output_type": "execute_result"
    },
    {
     "data": {
      "text/plain": "<Figure size 640x480 with 1 Axes>",
      "image/png": "[encoded data removed]"
     },
     "metadata": {},
     "output_type": "display_data"
    }
   ],
   "source": [
    "plt.imshow(frames[40])\n"
   ]
  },
  {
   "cell_type": "code",
   "execution_count": 265,
   "id": "d7ec0833-d54b-4073-84cf-92d011c60ec1",
   "metadata": {
    "ExecuteTime": {
     "end_time": "2024-02-11T23:23:27.767609335Z",
     "start_time": "2024-02-11T23:23:27.739047372Z"
    }
   },
   "outputs": [
    {
     "data": {
      "text/plain": "<tf.Tensor: shape=(21,), dtype=int64, numpy=\narray([ 2,  9, 14, 39,  2, 12, 21,  5, 39,  1, 20, 39, 12, 39, 19,  9, 24,\n       39, 14, 15, 23])>"
     },
     "execution_count": 265,
     "metadata": {},
     "output_type": "execute_result"
    }
   ],
   "source": [
    "alignments"
   ]
  },
  {
   "cell_type": "code",
   "execution_count": 266,
   "id": "fe1ad370-b287-4b46-85a2-7c45b0bd9b10",
   "metadata": {
    "ExecuteTime": {
     "end_time": "2024-02-11T23:23:27.801914641Z",
     "start_time": "2024-02-11T23:23:27.755192413Z"
    }
   },
   "outputs": [
    {
     "data": {
      "text/plain": "<tf.Tensor: shape=(), dtype=string, numpy=b'bin blue at l six now'>"
     },
     "execution_count": 266,
     "metadata": {},
     "output_type": "execute_result"
    }
   ],
   "source": [
    "tf.strings.reduce_join([bytes.decode(x) for x in num_to_char(alignments.numpy()).numpy()])"
   ]
  },
  {
   "cell_type": "code",
   "execution_count": 34,
   "id": "6871031a-b0ba-4c76-a852-f6329b0f2606",
   "metadata": {
    "tags": [],
    "ExecuteTime": {
     "end_time": "2024-02-12T10:54:09.171303509Z",
     "start_time": "2024-02-12T10:54:09.162180157Z"
    }
   },
   "outputs": [],
   "source": [
    "def mappable_function(path:str) ->List[str]:\n",
    "    result = tf.py_function(load_data, [path], (tf.float16, tf.int64)) # py_function is used to convert a python function to a tensorflow function\n",
    "    return result"
   ]
  },
  {
   "cell_type": "markdown",
   "id": "c40a7eb4-0c3e-4eab-9291-5611cb68ce08",
   "metadata": {
    "tags": []
   },
   "source": [
    "# 2. Create Data Pipeline"
   ]
  },
  {
   "cell_type": "code",
   "execution_count": 35,
   "id": "7686355d-45aa-4c85-ad9c-053e6a9b4d81",
   "metadata": {
    "tags": [],
    "ExecuteTime": {
     "end_time": "2024-02-12T10:54:14.458487597Z",
     "start_time": "2024-02-12T10:54:14.417429941Z"
    }
   },
   "outputs": [],
   "source": [
    "from matplotlib import pyplot as plt"
   ]
  },
  {
   "cell_type": "code",
   "execution_count": 64,
   "id": "f066fea2-91b1-42ed-a67d-00566a1a53ff",
   "metadata": {
    "tags": [],
    "ExecuteTime": {
     "end_time": "2024-02-12T12:26:14.974650508Z",
     "start_time": "2024-02-12T12:26:14.926456470Z"
    }
   },
   "outputs": [],
   "source": [
    "data = tf.data.Dataset.list_files('./data/s1/*.mpg')  # list all the files\n",
    "data = data.shuffle(500, reshuffle_each_iteration=False)   # shuffle is used to shuffle the data\n",
    "data = data.map(mappable_function) # 75 frames, 46x140 pixels, 1 channel\n",
    "data = data.padded_batch(2, padded_shapes=([75,None,None,None],[40])) # 75 frames, 46x140 pixels, 1 channel\n",
    "data = data.prefetch(tf.data.AUTOTUNE) # prefetch the data\n",
    "# Added for split \n",
    "train = data.take(450) \n",
    "test = data.skip(450)"
   ]
  },
  {
   "cell_type": "code",
   "execution_count": 65,
   "id": "6b1365bd-7742-41d1-95d4-247021751c3a",
   "metadata": {
    "ExecuteTime": {
     "end_time": "2024-02-12T12:26:16.391156996Z",
     "start_time": "2024-02-12T12:26:16.384228921Z"
    }
   },
   "outputs": [
    {
     "name": "stdout",
     "output_type": "stream",
     "text": [
      "500\n",
      "450\n",
      "50\n"
     ]
    }
   ],
   "source": [
    "print(len(data))\n",
    "print(len(train))\n",
    "print(len(test))"
   ]
  },
  {
   "cell_type": "code",
   "execution_count": 271,
   "id": "5281bde8-fdc8-4da1-bd55-5a7929a9e80c",
   "metadata": {
    "ExecuteTime": {
     "end_time": "2024-02-11T23:23:27.817971812Z",
     "start_time": "2024-02-11T23:23:27.801130549Z"
    }
   },
   "outputs": [],
   "source": [
    "frames, alignments = data.as_numpy_iterator().next()"
   ]
  },
  {
   "cell_type": "code",
   "execution_count": 272,
   "id": "cbebe683-6afd-47fd-bba4-c83b4b13bb32",
   "metadata": {
    "ExecuteTime": {
     "end_time": "2024-02-11T23:23:27.857126071Z",
     "start_time": "2024-02-11T23:23:27.809780471Z"
    }
   },
   "outputs": [
    {
     "data": {
      "text/plain": "2"
     },
     "execution_count": 272,
     "metadata": {},
     "output_type": "execute_result"
    }
   ],
   "source": [
    "len(frames)"
   ]
  },
  {
   "cell_type": "code",
   "execution_count": 273,
   "id": "5cf2d676-93a9-434c-b3c7-bdcc2577b2e7",
   "metadata": {
    "tags": [],
    "ExecuteTime": {
     "end_time": "2024-02-11T23:23:27.859411367Z",
     "start_time": "2024-02-11T23:23:27.856978750Z"
    }
   },
   "outputs": [],
   "source": [
    "sample = data.as_numpy_iterator()"
   ]
  },
  {
   "cell_type": "code",
   "execution_count": 274,
   "id": "efa6cd46-7079-46c0-b45b-832f339f6cb0",
   "metadata": {
    "scrolled": true,
    "tags": [],
    "ExecuteTime": {
     "end_time": "2024-02-11T23:23:27.861906073Z",
     "start_time": "2024-02-11T23:23:27.857046831Z"
    }
   },
   "outputs": [
    {
     "data": {
      "text/plain": "array([[[[[ 1.4192083 ],\n          [ 1.4192083 ],\n          [ 1.3786595 ],\n          ...,\n          [ 0.12164643],\n          [ 0.20274405],\n          [ 0.20274405]],\n\n         [[ 1.5408548 ],\n          [ 1.4597572 ],\n          [ 1.3786595 ],\n          ...,\n          [ 0.12164643],\n          [ 0.20274405],\n          [ 0.20274405]],\n\n         [[ 1.4192083 ],\n          [ 1.4192083 ],\n          [ 1.4192083 ],\n          ...,\n          [ 0.20274405],\n          [ 0.16219524],\n          [ 0.16219524]],\n\n         ...,\n\n         [[ 0.9731714 ],\n          [ 0.9731714 ],\n          [ 0.9731714 ],\n          ...,\n          [10.299397  ],\n          [10.299397  ],\n          [10.299397  ]],\n\n         [[ 0.9326226 ],\n          [ 0.9326226 ],\n          [ 0.9326226 ],\n          ...,\n          [10.299397  ],\n          [10.299397  ],\n          [10.299397  ]],\n\n         [[ 0.8920738 ],\n          [ 0.8920738 ],\n          [ 0.8920738 ],\n          ...,\n          [10.299397  ],\n          [10.299397  ],\n          [10.299397  ]]],\n\n\n        [[[ 1.500306  ],\n          [ 1.5408548 ],\n          [ 1.5408548 ],\n          ...,\n          [ 0.20274405],\n          [ 0.16219524],\n          [ 0.16219524]],\n\n         [[ 1.5408548 ],\n          [ 1.6625012 ],\n          [ 1.4192083 ],\n          ...,\n          [ 0.20274405],\n          [ 0.16219524],\n          [ 0.16219524]],\n\n         [[ 1.4597572 ],\n          [ 1.4597572 ],\n          [ 1.4597572 ],\n          ...,\n          [ 0.28384167],\n          [ 0.20274405],\n          [ 0.20274405]],\n\n         ...,\n\n         [[ 0.9326226 ],\n          [ 0.9326226 ],\n          [ 0.9326226 ],\n          ...,\n          [10.299397  ],\n          [10.299397  ],\n          [10.299397  ]],\n\n         [[ 0.9326226 ],\n          [ 0.8920738 ],\n          [ 0.8920738 ],\n          ...,\n          [10.299397  ],\n          [10.299397  ],\n          [10.299397  ]],\n\n         [[ 0.8920738 ],\n          [ 0.8920738 ],\n          [ 0.8920738 ],\n          ...,\n          [10.299397  ],\n          [10.299397  ],\n          [10.299397  ]]],\n\n\n        [[[ 1.4597572 ],\n          [ 1.4597572 ],\n          [ 1.4597572 ],\n          ...,\n          [ 0.20274405],\n          [ 0.16219524],\n          [ 0.16219524]],\n\n         [[ 1.5814036 ],\n          [ 1.5814036 ],\n          [ 1.3786595 ],\n          ...,\n          [ 0.20274405],\n          [ 0.16219524],\n          [ 0.16219524]],\n\n         [[ 1.4192083 ],\n          [ 1.4192083 ],\n          [ 1.4192083 ],\n          ...,\n          [ 0.28384167],\n          [ 0.28384167],\n          [ 0.20274405]],\n\n         ...,\n\n         [[ 0.9731714 ],\n          [ 0.9731714 ],\n          [ 0.9731714 ],\n          ...,\n          [10.299397  ],\n          [10.299397  ],\n          [10.299397  ]],\n\n         [[ 0.9326226 ],\n          [ 0.8920738 ],\n          [ 0.8920738 ],\n          ...,\n          [10.299397  ],\n          [10.299397  ],\n          [10.299397  ]],\n\n         [[ 0.8920738 ],\n          [ 0.8920738 ],\n          [ 0.8920738 ],\n          ...,\n          [10.299397  ],\n          [10.299397  ],\n          [10.299397  ]]],\n\n\n        ...,\n\n\n        [[[ 1.500306  ],\n          [ 1.5814036 ],\n          [ 1.500306  ],\n          ...,\n          [ 0.20274405],\n          [ 0.16219524],\n          [ 0.16219524]],\n\n         [[ 1.500306  ],\n          [ 1.4597572 ],\n          [ 1.5814036 ],\n          ...,\n          [ 0.20274405],\n          [ 0.16219524],\n          [ 0.16219524]],\n\n         [[ 1.500306  ],\n          [ 1.4597572 ],\n          [ 1.500306  ],\n          ...,\n          [ 0.16219524],\n          [ 0.16219524],\n          [ 0.16219524]],\n\n         ...,\n\n         [[ 1.0137203 ],\n          [ 1.0137203 ],\n          [ 1.0137203 ],\n          ...,\n          [10.339947  ],\n          [10.339947  ],\n          [10.339947  ]],\n\n         [[ 1.0137203 ],\n          [ 1.0137203 ],\n          [ 1.0137203 ],\n          ...,\n          [10.339947  ],\n          [10.339947  ],\n          [10.339947  ]],\n\n         [[ 1.0137203 ],\n          [ 1.0137203 ],\n          [ 1.0137203 ],\n          ...,\n          [10.339947  ],\n          [10.339947  ],\n          [10.299397  ]]],\n\n\n        [[[ 1.6219524 ],\n          [ 1.6219524 ],\n          [ 1.500306  ],\n          ...,\n          [ 0.20274405],\n          [ 0.16219524],\n          [ 0.16219524]],\n\n         [[ 1.6219524 ],\n          [ 1.500306  ],\n          [ 1.5408548 ],\n          ...,\n          [ 0.20274405],\n          [ 0.16219524],\n          [ 0.16219524]],\n\n         [[ 1.4597572 ],\n          [ 1.4192083 ],\n          [ 1.4597572 ],\n          ...,\n          [ 0.16219524],\n          [ 0.16219524],\n          [ 0.16219524]],\n\n         ...,\n\n         [[ 1.0137203 ],\n          [ 1.0137203 ],\n          [ 1.0137203 ],\n          ...,\n          [10.299397  ],\n          [10.299397  ],\n          [10.299397  ]],\n\n         [[ 1.0137203 ],\n          [ 1.0137203 ],\n          [ 1.0137203 ],\n          ...,\n          [10.299397  ],\n          [10.299397  ],\n          [10.299397  ]],\n\n         [[ 1.0137203 ],\n          [ 1.0137203 ],\n          [ 1.0137203 ],\n          ...,\n          [10.299397  ],\n          [10.299397  ],\n          [10.2183    ]]],\n\n\n        [[[ 1.5814036 ],\n          [ 1.500306  ],\n          [ 1.4597572 ],\n          ...,\n          [ 0.24329285],\n          [ 0.16219524],\n          [ 0.16219524]],\n\n         [[ 1.6219524 ],\n          [ 1.500306  ],\n          [ 1.5408548 ],\n          ...,\n          [ 0.24329285],\n          [ 0.16219524],\n          [ 0.16219524]],\n\n         [[ 1.500306  ],\n          [ 1.4597572 ],\n          [ 1.500306  ],\n          ...,\n          [ 0.20274405],\n          [ 0.16219524],\n          [ 0.16219524]],\n\n         ...,\n\n         [[ 1.0137203 ],\n          [ 1.0137203 ],\n          [ 1.0137203 ],\n          ...,\n          [10.339947  ],\n          [10.339947  ],\n          [10.339947  ]],\n\n         [[ 1.0137203 ],\n          [ 1.0137203 ],\n          [ 1.0137203 ],\n          ...,\n          [10.339947  ],\n          [10.339947  ],\n          [10.339947  ]],\n\n         [[ 1.0137203 ],\n          [ 1.0137203 ],\n          [ 1.0137203 ],\n          ...,\n          [10.339947  ],\n          [10.339947  ],\n          [10.299397  ]]]],\n\n\n\n       [[[[ 1.2791858 ],\n          [ 1.2791858 ],\n          [ 1.2791858 ],\n          ...,\n          [ 0.34886885],\n          [ 0.34886885],\n          [ 0.46515846]],\n\n         [[ 1.2791858 ],\n          [ 1.2791858 ],\n          [ 1.2791858 ],\n          ...,\n          [ 0.38763204],\n          [ 0.34886885],\n          [ 0.46515846]],\n\n         [[ 1.2016593 ],\n          [ 1.2016593 ],\n          [ 1.2016593 ],\n          ...,\n          [ 0.27134243],\n          [ 0.19381602],\n          [ 0.38763204]],\n\n         ...,\n\n         [[ 0.8915537 ],\n          [ 0.8915537 ],\n          [ 0.8915537 ],\n          ...,\n          [ 0.8527905 ],\n          [ 1.0078433 ],\n          [ 9.613275  ]],\n\n         [[ 0.8140273 ],\n          [ 0.8140273 ],\n          [ 0.8140273 ],\n          ...,\n          [ 0.8527905 ],\n          [ 0.8140273 ],\n          [ 0.15505281]],\n\n         [[ 0.8140273 ],\n          [ 0.8140273 ],\n          [ 0.8140273 ],\n          ...,\n          [ 0.6977377 ],\n          [ 0.8527905 ],\n          [ 0.5039216 ]]],\n\n\n        [[[ 1.2791858 ],\n          [ 1.2791858 ],\n          [ 1.2791858 ],\n          ...,\n          [ 0.31010562],\n          [ 0.34886885],\n          [ 0.38763204]],\n\n         [[ 1.2791858 ],\n          [ 1.2791858 ],\n          [ 1.2791858 ],\n          ...,\n          [ 0.27134243],\n          [ 0.31010562],\n          [ 0.38763204]],\n\n         [[ 1.1628962 ],\n          [ 1.1628962 ],\n          [ 1.1628962 ],\n          ...,\n          [ 0.31010562],\n          [ 0.27134243],\n          [ 0.42639524]],\n\n         ...,\n\n         [[ 0.8915537 ],\n          [ 0.8915537 ],\n          [ 0.8527905 ],\n          ...,\n          [ 0.6977377 ],\n          [ 1.0078433 ],\n          [ 9.458221  ]],\n\n         [[ 0.8140273 ],\n          [ 0.8140273 ],\n          [ 0.7752641 ],\n          ...,\n          [ 0.8140273 ],\n          [ 0.7752641 ],\n          [ 0.11628962]],\n\n         [[ 0.8140273 ],\n          [ 0.8140273 ],\n          [ 0.7752641 ],\n          ...,\n          [ 0.8527905 ],\n          [ 0.8140273 ],\n          [ 0.54268485]]],\n\n\n        [[[ 1.2404225 ],\n          [ 1.2404225 ],\n          [ 1.2404225 ],\n          ...,\n          [ 0.27134243],\n          [ 0.31010562],\n          [ 0.34886885]],\n\n         [[ 1.2404225 ],\n          [ 1.2404225 ],\n          [ 1.2404225 ],\n          ...,\n          [ 0.23257923],\n          [ 0.27134243],\n          [ 0.34886885]],\n\n         [[ 1.2404225 ],\n          [ 1.2404225 ],\n          [ 1.2404225 ],\n          ...,\n          [ 0.31010562],\n          [ 0.31010562],\n          [ 0.46515846]],\n\n         ...,\n\n         [[ 0.8527905 ],\n          [ 0.8527905 ],\n          [ 0.8527905 ],\n          ...,\n          [ 0.8140273 ],\n          [ 0.9303169 ],\n          [ 9.303169  ]],\n\n         [[ 0.7752641 ],\n          [ 0.7752641 ],\n          [ 0.7752641 ],\n          ...,\n          [ 0.73650086],\n          [ 0.73650086],\n          [ 9.884617  ]],\n\n         [[ 0.7752641 ],\n          [ 0.7752641 ],\n          [ 0.7752641 ],\n          ...,\n          [ 0.8140273 ],\n          [ 0.7752641 ],\n          [ 0.54268485]]],\n\n\n        ...,\n\n\n        [[[ 1.2404225 ],\n          [ 1.2404225 ],\n          [ 1.2404225 ],\n          ...,\n          [ 0.34886885],\n          [ 0.34886885],\n          [ 0.27134243]],\n\n         [[ 1.2404225 ],\n          [ 1.2404225 ],\n          [ 1.2404225 ],\n          ...,\n          [ 0.34886885],\n          [ 0.34886885],\n          [ 0.27134243]],\n\n         [[ 1.1628962 ],\n          [ 1.1628962 ],\n          [ 1.1628962 ],\n          ...,\n          [ 0.31010562],\n          [ 0.19381602],\n          [ 0.34886885]],\n\n         ...,\n\n         [[ 0.8140273 ],\n          [ 0.8140273 ],\n          [ 0.8140273 ],\n          ...,\n          [ 0.8140273 ],\n          [ 0.8527905 ],\n          [ 8.9543    ]],\n\n         [[ 0.8140273 ],\n          [ 0.8140273 ],\n          [ 0.8140273 ],\n          ...,\n          [ 0.8140273 ],\n          [ 0.7752641 ],\n          [ 9.5357485 ]],\n\n         [[ 0.8140273 ],\n          [ 0.8140273 ],\n          [ 0.8140273 ],\n          ...,\n          [ 0.6977377 ],\n          [ 0.7752641 ],\n          [ 0.15505281]]],\n\n\n        [[[ 1.2404225 ],\n          [ 1.2404225 ],\n          [ 1.2404225 ],\n          ...,\n          [ 0.42639524],\n          [ 0.34886885],\n          [ 0.34886885]],\n\n         [[ 1.2404225 ],\n          [ 1.2404225 ],\n          [ 1.2404225 ],\n          ...,\n          [ 0.46515846],\n          [ 0.34886885],\n          [ 0.38763204]],\n\n         [[ 1.1628962 ],\n          [ 1.1628962 ],\n          [ 1.1628962 ],\n          ...,\n          [ 0.31010562],\n          [ 0.23257923],\n          [ 0.31010562]],\n\n         ...,\n\n         [[ 0.8140273 ],\n          [ 0.8140273 ],\n          [ 0.8140273 ],\n          ...,\n          [ 0.7752641 ],\n          [ 0.8527905 ],\n          [ 8.799248  ]],\n\n         [[ 0.8140273 ],\n          [ 0.8140273 ],\n          [ 0.8140273 ],\n          ...,\n          [ 0.73650086],\n          [ 0.8527905 ],\n          [ 9.380695  ]],\n\n         [[ 0.8140273 ],\n          [ 0.8140273 ],\n          [ 0.8140273 ],\n          ...,\n          [ 0.73650086],\n          [ 0.8140273 ],\n          [ 9.884617  ]]],\n\n\n        [[[ 1.2404225 ],\n          [ 1.2404225 ],\n          [ 1.2404225 ],\n          ...,\n          [ 0.46515846],\n          [ 0.34886885],\n          [ 0.38763204]],\n\n         [[ 1.2404225 ],\n          [ 1.2404225 ],\n          [ 1.2404225 ],\n          ...,\n          [ 0.34886885],\n          [ 0.31010562],\n          [ 0.34886885]],\n\n         [[ 1.1628962 ],\n          [ 1.1628962 ],\n          [ 1.1628962 ],\n          ...,\n          [ 0.34886885],\n          [ 0.31010562],\n          [ 0.34886885]],\n\n         ...,\n\n         [[ 0.8140273 ],\n          [ 0.8140273 ],\n          [ 0.8140273 ],\n          ...,\n          [ 0.62021124],\n          [ 0.7752641 ],\n          [ 8.644195  ]],\n\n         [[ 0.8140273 ],\n          [ 0.8140273 ],\n          [ 0.8140273 ],\n          ...,\n          [ 0.5814481 ],\n          [ 0.8140273 ],\n          [ 9.303169  ]],\n\n         [[ 0.8140273 ],\n          [ 0.8140273 ],\n          [ 0.8140273 ],\n          ...,\n          [ 0.62021124],\n          [ 0.8527905 ],\n          [ 9.807091  ]]]]], dtype=float32)"
     },
     "execution_count": 274,
     "metadata": {},
     "output_type": "execute_result"
    }
   ],
   "source": [
    "val = sample.next(); val[0]"
   ]
  },
  {
   "cell_type": "code",
   "execution_count": 275,
   "id": "acf5eb4f-a0da-4a9a-bf24-af13e9cc2fbe",
   "metadata": {
    "tags": [],
    "ExecuteTime": {
     "end_time": "2024-02-11T23:23:27.863066466Z",
     "start_time": "2024-02-11T23:23:27.857178221Z"
    }
   },
   "outputs": [],
   "source": [
    "# imageio.mimsave('./animation.gif', val[0][0], fps=10) # can't handle this data type:(1,1,1), <f4\n",
    "# imageio.mimsave('./animation.gif', val[0][0].astype(np.uint8), fps=10)\n"
   ]
  },
  {
   "cell_type": "code",
   "execution_count": 276,
   "id": "c33a87a2-d5e0-4ec9-b174-73ebf41bf03a",
   "metadata": {
    "tags": [],
    "ExecuteTime": {
     "end_time": "2024-02-11T23:23:27.877937623Z",
     "start_time": "2024-02-11T23:23:27.857210311Z"
    }
   },
   "outputs": [
    {
     "data": {
      "text/plain": "<matplotlib.image.AxesImage at 0x7fa4940df1c0>"
     },
     "execution_count": 276,
     "metadata": {},
     "output_type": "execute_result"
    },
    {
     "data": {
      "text/plain": "<Figure size 640x480 with 1 Axes>",
      "image/png": "[encoded data removed]"
     },
     "metadata": {},
     "output_type": "display_data"
    }
   ],
   "source": [
    "# 0:videos, 0: 1st video out of the batch,  0: return the first frame in the video \n",
    "plt.imshow(val[0][0][35])"
   ]
  },
  {
   "cell_type": "code",
   "execution_count": 277,
   "id": "84593332-133c-4205-b7a6-8e235d5e2b3b",
   "metadata": {
    "tags": [],
    "ExecuteTime": {
     "end_time": "2024-02-11T23:23:27.906307695Z",
     "start_time": "2024-02-11T23:23:27.879327157Z"
    }
   },
   "outputs": [
    {
     "data": {
      "text/plain": "<tf.Tensor: shape=(), dtype=string, numpy=b'lay white in y nine again'>"
     },
     "execution_count": 277,
     "metadata": {},
     "output_type": "execute_result"
    }
   ],
   "source": [
    "tf.strings.reduce_join([num_to_char(word) for word in val[1][0]])"
   ]
  },
  {
   "cell_type": "markdown",
   "id": "0f47733c-83bc-465c-b118-b198b492ad37",
   "metadata": {
    "tags": []
   },
   "source": [
    "# 3. Design the Deep Neural Network"
   ]
  },
  {
   "cell_type": "code",
   "execution_count": 130,
   "id": "d8e9a497-191b-4842-afbd-26f5e13c43ba",
   "metadata": {
    "tags": [],
    "ExecuteTime": {
     "end_time": "2024-02-12T14:21:56.248543591Z",
     "start_time": "2024-02-12T14:21:56.245154411Z"
    }
   },
   "outputs": [],
   "source": [
    "from tensorflow.keras.models import Sequential \n",
    "from tensorflow.keras.layers import Conv3D, LSTM, Dense, Dropout, Bidirectional, MaxPool3D, Activation, Reshape, SpatialDropout3D, BatchNormalization, TimeDistributed, Flatten\n",
    "from tensorflow.keras.optimizers import Adam\n",
    "from tensorflow.keras.callbacks import ModelCheckpoint, LearningRateScheduler\n",
    "from tensorflow.keras.applications import ResNet50"
   ]
  },
  {
   "cell_type": "code",
   "execution_count": 279,
   "id": "3f753ed2-70b9-4236-8c1c-08ca065dc8bf",
   "metadata": {
    "ExecuteTime": {
     "end_time": "2024-02-11T23:23:27.935179878Z",
     "start_time": "2024-02-11T23:23:27.932999143Z"
    }
   },
   "outputs": [
    {
     "data": {
      "text/plain": "(75, 46, 140, 1)"
     },
     "execution_count": 279,
     "metadata": {},
     "output_type": "execute_result"
    }
   ],
   "source": [
    "data.as_numpy_iterator().next()[0][0].shape"
   ]
  },
  {
   "cell_type": "code",
   "execution_count": 136,
   "id": "f9171056-a352-491a-9ed9-92b28ced268e",
   "metadata": {
    "tags": [],
    "ExecuteTime": {
     "end_time": "2024-02-12T14:26:08.237380096Z",
     "start_time": "2024-02-12T14:26:06.675683902Z"
    }
   },
   "outputs": [],
   "source": [
    "base_model = ResNet50(weights=None, include_top=False, input_shape=(46,140, 3))\n",
    "\n",
    "# If you wish to Freeze layers\n",
    "for layer in base_model.layers:\n",
    "  layer.trainable = True\n",
    "  \n",
    "model = Sequential()\n",
    "model.add(base_model)\n",
    "model = Sequential()\n",
    "model.add(Conv3D(128, 3, input_shape=(75,46,140,1), padding='same'))  # 128 filters, 3x3 kernel input shape is 75 frames, 46x140 pixels, 1 channel \n",
    "model.add(Activation('relu'))  # activation function\n",
    "model.add(MaxPool3D((1,2,2)))  # max pooling\n",
    "\n",
    "model.add(Conv3D(256, 3, padding='same'))  # 256 filters, 3x3 kernel\n",
    "model.add(Activation('relu'))  \n",
    "model.add(MaxPool3D((1,2,2)))\n",
    "\n",
    "model.add(Conv3D(75, 3, padding='same'))\n",
    "model.add(Activation('relu'))\n",
    "model.add(MaxPool3D((1,2,2)))\n",
    "\n",
    "model.add(TimeDistributed(Flatten()))  # flatten the output of the previous layer\n",
    "\n",
    "model.add(Bidirectional(LSTM(128, kernel_initializer='Orthogonal', return_sequences=True)))  # bidirectional LSTM\n",
    "model.add(Dropout(.5))  # dropout layer\n",
    "\n",
    "model.add(Bidirectional(LSTM(128, kernel_initializer='Orthogonal', return_sequences=True)))\n",
    "model.add(Dropout(.5))\n",
    "\n",
    "model.add(Dense(char_to_num.vocabulary_size()+1, kernel_initializer='he_normal', activation='softmax'))  # output layer"
   ]
  },
  {
   "cell_type": "code",
   "execution_count": 137,
   "id": "78851825-2bcd-42a9-b7f2-28bb5a6bf43a",
   "metadata": {
    "collapsed": true,
    "jupyter": {
     "outputs_hidden": true
    },
    "tags": [],
    "ExecuteTime": {
     "end_time": "2024-02-12T14:26:10.703328493Z",
     "start_time": "2024-02-12T14:26:10.654064497Z"
    }
   },
   "outputs": [
    {
     "name": "stdout",
     "output_type": "stream",
     "text": [
      "Model: \"sequential_8\"\n",
      "_________________________________________________________________\n",
      " Layer (type)                Output Shape              Param #   \n",
      "=================================================================\n",
      " conv3d_14 (Conv3D)          (None, 75, 46, 140, 128   3584      \n",
      "                             )                                   \n",
      "                                                                 \n",
      " activation_14 (Activation)  (None, 75, 46, 140, 128   0         \n",
      "                             )                                   \n",
      "                                                                 \n",
      " max_pooling3d_14 (MaxPooli  (None, 75, 23, 70, 128)   0         \n",
      " ng3D)                                                           \n",
      "                                                                 \n",
      " conv3d_15 (Conv3D)          (None, 75, 23, 70, 256)   884992    \n",
      "                                                                 \n",
      " activation_15 (Activation)  (None, 75, 23, 70, 256)   0         \n",
      "                                                                 \n",
      " max_pooling3d_15 (MaxPooli  (None, 75, 11, 35, 256)   0         \n",
      " ng3D)                                                           \n",
      "                                                                 \n",
      " conv3d_16 (Conv3D)          (None, 75, 11, 35, 75)    518475    \n",
      "                                                                 \n",
      " activation_16 (Activation)  (None, 75, 11, 35, 75)    0         \n",
      "                                                                 \n",
      " max_pooling3d_16 (MaxPooli  (None, 75, 5, 17, 75)     0         \n",
      " ng3D)                                                           \n",
      "                                                                 \n",
      " time_distributed_5 (TimeDi  (None, 75, 6375)          0         \n",
      " stributed)                                                      \n",
      "                                                                 \n",
      " bidirectional_10 (Bidirect  (None, 75, 256)           6660096   \n",
      " ional)                                                          \n",
      "                                                                 \n",
      " dropout_10 (Dropout)        (None, 75, 256)           0         \n",
      "                                                                 \n",
      " bidirectional_11 (Bidirect  (None, 75, 256)           394240    \n",
      " ional)                                                          \n",
      "                                                                 \n",
      " dropout_11 (Dropout)        (None, 75, 256)           0         \n",
      "                                                                 \n",
      " dense_5 (Dense)             (None, 75, 29)            7453      \n",
      "                                                                 \n",
      "=================================================================\n",
      "Total params: 8468840 (32.31 MB)\n",
      "Trainable params: 8468840 (32.31 MB)\n",
      "Non-trainable params: 0 (0.00 Byte)\n",
      "_________________________________________________________________\n"
     ]
    }
   ],
   "source": [
    "model.summary()"
   ]
  },
  {
   "cell_type": "code",
   "execution_count": 282,
   "id": "f4b4798c-a65a-4c47-9e2a-3b09dc98d320",
   "metadata": {
    "ExecuteTime": {
     "end_time": "2024-02-11T23:23:29.100668169Z",
     "start_time": "2024-02-11T23:23:29.089079060Z"
    }
   },
   "outputs": [
    {
     "data": {
      "text/plain": "6375"
     },
     "execution_count": 282,
     "metadata": {},
     "output_type": "execute_result"
    }
   ],
   "source": [
    "5*17*75"
   ]
  },
  {
   "cell_type": "code",
   "execution_count": 283,
   "id": "e5c2eae0-c359-41a4-97a0-75c44dccb7d1",
   "metadata": {
    "tags": [],
    "ExecuteTime": {
     "end_time": "2024-02-11T23:23:29.540398130Z",
     "start_time": "2024-02-11T23:23:29.089177660Z"
    }
   },
   "outputs": [
    {
     "name": "stdout",
     "output_type": "stream",
     "text": [
      "WARNING:tensorflow:5 out of the last 56 calls to <function Model.make_predict_function.<locals>.predict_function at 0x7fa49435d750> triggered tf.function retracing. Tracing is expensive and the excessive number of tracings could be due to (1) creating @tf.function repeatedly in a loop, (2) passing tensors with different shapes, (3) passing Python objects instead of tensors. For (1), please define your @tf.function outside of the loop. For (2), @tf.function has reduce_retracing=True option that can avoid unnecessary retracing. For (3), please refer to https://www.tensorflow.org/guide/function#controlling_retracing and https://www.tensorflow.org/api_docs/python/tf/function for  more details.\n",
      "1/1 [==============================] - 0s 474ms/step\n"
     ]
    }
   ],
   "source": [
    "yhat = model.predict(val[0])"
   ]
  },
  {
   "cell_type": "code",
   "execution_count": 284,
   "id": "ffdc7319-0d69-4f7e-a6d4-ce72deb81c0b",
   "metadata": {
    "ExecuteTime": {
     "end_time": "2024-02-11T23:23:29.575123179Z",
     "start_time": "2024-02-11T23:23:29.539984109Z"
    }
   },
   "outputs": [
    {
     "data": {
      "text/plain": "<tf.Tensor: shape=(), dtype=string, numpy=b'bbbbbbbbbbbbbbbbbbbbbbbbbbbbbbbbbbbbbbbbbbbbbbbbbbbbbbbbbbbbbbbbbbbbboooooo'>"
     },
     "execution_count": 284,
     "metadata": {},
     "output_type": "execute_result"
    }
   ],
   "source": [
    "tf.strings.reduce_join([num_to_char(x) for x in tf.argmax(yhat[0],axis=1)])"
   ]
  },
  {
   "cell_type": "code",
   "execution_count": 285,
   "id": "6ed47531-8317-4255-9a12-b757642258e6",
   "metadata": {
    "tags": [],
    "ExecuteTime": {
     "end_time": "2024-02-11T23:23:29.605487247Z",
     "start_time": "2024-02-11T23:23:29.570942617Z"
    }
   },
   "outputs": [
    {
     "data": {
      "text/plain": "<tf.Tensor: shape=(), dtype=string, numpy=b'bbbbbbbbbbbbbbbbbbbbbbbbbbbbbbbbbbbbbbbbbbbbbbbbbbbbbbbbbbbbbbbbbbbbboooooo'>"
     },
     "execution_count": 285,
     "metadata": {},
     "output_type": "execute_result"
    }
   ],
   "source": [
    "tf.strings.reduce_join([num_to_char(tf.argmax(x)) for x in yhat[0]])"
   ]
  },
  {
   "cell_type": "code",
   "execution_count": 138,
   "id": "7c37b9b9-5298-4038-9c33-5031d1b457f0",
   "metadata": {
    "tags": [],
    "ExecuteTime": {
     "end_time": "2024-02-12T14:26:22.883143927Z",
     "start_time": "2024-02-12T14:26:22.830215891Z"
    }
   },
   "outputs": [
    {
     "data": {
      "text/plain": "(None, 75, 46, 140, 1)"
     },
     "execution_count": 138,
     "metadata": {},
     "output_type": "execute_result"
    }
   ],
   "source": [
    "model.input_shape"
   ]
  },
  {
   "cell_type": "code",
   "execution_count": 139,
   "id": "98b316a4-5322-4782-8e36-4b3c1a696d85",
   "metadata": {
    "tags": [],
    "ExecuteTime": {
     "end_time": "2024-02-12T14:26:23.754189143Z",
     "start_time": "2024-02-12T14:26:23.721162455Z"
    }
   },
   "outputs": [
    {
     "data": {
      "text/plain": "(None, 75, 29)"
     },
     "execution_count": 139,
     "metadata": {},
     "output_type": "execute_result"
    }
   ],
   "source": [
    "model.output_shape"
   ]
  },
  {
   "cell_type": "markdown",
   "id": "2ec02176-5c26-46c3-aff7-8352e6563c7d",
   "metadata": {
    "tags": []
   },
   "source": [
    "# 4. Setup Training Options and Train"
   ]
  },
  {
   "cell_type": "code",
   "execution_count": 140,
   "id": "ab015fd0-7fb4-4d5d-9fa2-30a05dbd515a",
   "metadata": {
    "tags": [],
    "ExecuteTime": {
     "end_time": "2024-02-12T14:26:28.010040073Z",
     "start_time": "2024-02-12T14:26:28.006134144Z"
    }
   },
   "outputs": [],
   "source": [
    "def scheduler(epoch, lr):   # learning rate scheduler\n",
    "    if epoch < 30:\n",
    "        return lr\n",
    "    else:\n",
    "        return lr * tf.math.exp(-0.1)  "
   ]
  },
  {
   "cell_type": "code",
   "execution_count": 141,
   "id": "c564d5c9-db54-4e88-b311-9aeab7fb3e69",
   "metadata": {
    "tags": [],
    "ExecuteTime": {
     "end_time": "2024-02-12T14:26:29.276303534Z",
     "start_time": "2024-02-12T14:26:29.266732854Z"
    }
   },
   "outputs": [],
   "source": [
    "def CTCLoss(y_true, y_pred):\n",
    "    batch_len = tf.cast(tf.shape(y_true)[0], dtype=\"int64\")\n",
    "    input_length = tf.cast(tf.shape(y_pred)[1], dtype=\"int64\")\n",
    "    label_length = tf.cast(tf.shape(y_true)[1], dtype=\"int64\")\n",
    "\n",
    "    input_length = input_length * tf.ones(shape=(batch_len, 1), dtype=\"int64\")\n",
    "    label_length = label_length * tf.ones(shape=(batch_len, 1), dtype=\"int64\")\n",
    "\n",
    "    loss = tf.keras.backend.ctc_batch_cost(y_true, y_pred, input_length, label_length)\n",
    "    return loss"
   ]
  },
  {
   "cell_type": "code",
   "execution_count": 142,
   "id": "a26dc3fc-a19c-4378-bd8c-e2b597a1d15c",
   "metadata": {
    "tags": [],
    "ExecuteTime": {
     "end_time": "2024-02-12T14:26:32.136858445Z",
     "start_time": "2024-02-12T14:26:32.125834196Z"
    }
   },
   "outputs": [],
   "source": [
    "class ProduceExample(tf.keras.callbacks.Callback): \n",
    "    def __init__(self, dataset) -> None: \n",
    "        self.dataset = dataset.as_numpy_iterator()\n",
    "    \n",
    "    def on_epoch_end(self, epoch, logs=None) -> None:\n",
    "        try:\n",
    "            data = self.dataset.next()\n",
    "            yhat = self.model.predict(data[0])\n",
    "            decoded = tf.keras.backend.ctc_decode(yhat, [75,75], greedy=False)[0][0].numpy()\n",
    "            for x in range(len(yhat)):           \n",
    "                print('Original:', tf.strings.reduce_join(num_to_char(data[1][x])).numpy().decode('utf-8'))\n",
    "                print('Prediction:', tf.strings.reduce_join(num_to_char(decoded[x])).numpy().decode('utf-8'))\n",
    "                print('~'*100)\n",
    "        except StopIteration:\n",
    "            self.dataset = self.dataset.as_numpy_iterator()\n",
    "            data = self.dataset.next()\n",
    "            yhat = self.model.predict(data[0])\n",
    "            decoded = tf.keras.backend.ctc_decode(yhat, [75,75], greedy=False)[0][0].numpy()\n",
    "            for x in range(len(yhat)):           \n",
    "                print('Original:', tf.strings.reduce_join(num_to_char(data[1][x])).numpy().decode('utf-8'))\n",
    "                print('Prediction:', tf.strings.reduce_join(num_to_char(decoded[x])).numpy().decode('utf-8'))\n",
    "                print('~'*100)"
   ]
  },
  {
   "cell_type": "code",
   "execution_count": 143,
   "id": "04be90d8-2482-46f9-b513-d5f4f8001c7e",
   "metadata": {
    "tags": [],
    "ExecuteTime": {
     "end_time": "2024-02-12T14:26:37.313445687Z",
     "start_time": "2024-02-12T14:26:37.284375450Z"
    }
   },
   "outputs": [],
   "source": [
    "model.compile(optimizer=Adam(learning_rate=0.0001), loss=CTCLoss)"
   ]
  },
  {
   "cell_type": "code",
   "execution_count": 144,
   "id": "eab49367-3f1e-4464-ae76-dbd07549d97e",
   "metadata": {
    "tags": [],
    "ExecuteTime": {
     "end_time": "2024-02-12T14:26:45.640978186Z",
     "start_time": "2024-02-12T14:26:45.629485266Z"
    }
   },
   "outputs": [],
   "source": [
    "checkpoint_callback = ModelCheckpoint(os.path.join('models_4','checkpoint'), monitor='loss', save_weights_only=True) "
   ]
  },
  {
   "cell_type": "code",
   "execution_count": 145,
   "id": "e085a632-d464-46ef-8777-959cad4adb2c",
   "metadata": {
    "tags": [],
    "ExecuteTime": {
     "end_time": "2024-02-12T14:26:50.563238538Z",
     "start_time": "2024-02-12T14:26:50.552561080Z"
    }
   },
   "outputs": [],
   "source": [
    "schedule_callback = LearningRateScheduler(scheduler)"
   ]
  },
  {
   "cell_type": "code",
   "execution_count": 146,
   "id": "48eca991-90ab-4592-8a79-b50e9ca015b6",
   "metadata": {
    "tags": [],
    "ExecuteTime": {
     "end_time": "2024-02-12T14:26:51.155375137Z",
     "start_time": "2024-02-12T14:26:51.144200208Z"
    }
   },
   "outputs": [],
   "source": [
    "example_callback = ProduceExample(train)"
   ]
  },
  {
   "cell_type": "code",
   "outputs": [
    {
     "name": "stdout",
     "output_type": "stream",
     "text": [
      "Epoch 1/60\n",
      "450/450 [==============================] - 80s 178ms/step - loss: 67.9863 - val_loss: 63.7934 - lr: 1.0000e-04\n",
      "Epoch 2/60\n",
      "450/450 [==============================] - 80s 177ms/step - loss: 64.6290 - val_loss: 60.6559 - lr: 1.0000e-04\n",
      "Epoch 3/60\n",
      "450/450 [==============================] - 80s 177ms/step - loss: 62.4332 - val_loss: 59.1229 - lr: 1.0000e-04\n",
      "Epoch 4/60\n",
      "450/450 [==============================] - 80s 177ms/step - loss: 61.0217 - val_loss: 58.1548 - lr: 1.0000e-04\n",
      "Epoch 5/60\n",
      "450/450 [==============================] - 80s 177ms/step - loss: 59.3075 - val_loss: 55.7997 - lr: 1.0000e-04\n",
      "Epoch 6/60\n",
      "450/450 [==============================] - 80s 177ms/step - loss: 56.4110 - val_loss: 52.8423 - lr: 1.0000e-04\n",
      "Epoch 7/60\n",
      "450/450 [==============================] - 80s 177ms/step - loss: 53.9417 - val_loss: 49.6010 - lr: 1.0000e-04\n",
      "Epoch 8/60\n",
      "450/450 [==============================] - 80s 177ms/step - loss: 52.3977 - val_loss: 50.7214 - lr: 1.0000e-04\n",
      "Epoch 9/60\n",
      "450/450 [==============================] - 80s 177ms/step - loss: 50.3075 - val_loss: 46.2986 - lr: 1.0000e-04\n",
      "Epoch 10/60\n",
      "450/450 [==============================] - 80s 177ms/step - loss: 48.4097 - val_loss: 45.6809 - lr: 1.0000e-04\n",
      "Epoch 11/60\n",
      "450/450 [==============================] - 80s 177ms/step - loss: 46.4267 - val_loss: 41.7874 - lr: 1.0000e-04\n",
      "Epoch 12/60\n",
      "450/450 [==============================] - 80s 177ms/step - loss: 43.7498 - val_loss: 38.3765 - lr: 1.0000e-04\n",
      "Epoch 13/60\n",
      "450/450 [==============================] - 80s 177ms/step - loss: 41.7010 - val_loss: 36.7523 - lr: 1.0000e-04\n",
      "Epoch 14/60\n",
      "450/450 [==============================] - 80s 177ms/step - loss: 39.4950 - val_loss: 35.3096 - lr: 1.0000e-04\n",
      "Epoch 15/60\n",
      "450/450 [==============================] - 80s 177ms/step - loss: 37.3213 - val_loss: 32.7104 - lr: 1.0000e-04\n",
      "Epoch 16/60\n",
      "450/450 [==============================] - 80s 177ms/step - loss: 35.1901 - val_loss: 30.0844 - lr: 1.0000e-04\n",
      "Epoch 17/60\n",
      "450/450 [==============================] - 80s 177ms/step - loss: 33.1102 - val_loss: 29.0312 - lr: 1.0000e-04\n",
      "Epoch 18/60\n",
      "450/450 [==============================] - 80s 177ms/step - loss: 30.9106 - val_loss: 24.9652 - lr: 1.0000e-04\n",
      "Epoch 19/60\n",
      "450/450 [==============================] - 80s 177ms/step - loss: 28.7917 - val_loss: 23.1898 - lr: 1.0000e-04\n",
      "Epoch 20/60\n",
      "450/450 [==============================] - 80s 177ms/step - loss: 26.4099 - val_loss: 20.4224 - lr: 1.0000e-04\n",
      "Epoch 21/60\n",
      "450/450 [==============================] - 80s 177ms/step - loss: 24.1885 - val_loss: 19.2431 - lr: 1.0000e-04\n",
      "Epoch 22/60\n",
      "450/450 [==============================] - 80s 177ms/step - loss: 22.0868 - val_loss: 17.0676 - lr: 1.0000e-04\n",
      "Epoch 23/60\n",
      "450/450 [==============================] - 80s 177ms/step - loss: 20.2680 - val_loss: 15.4592 - lr: 1.0000e-04\n",
      "Epoch 24/60\n",
      "450/450 [==============================] - 80s 177ms/step - loss: 18.4148 - val_loss: 14.0474 - lr: 1.0000e-04\n",
      "Epoch 25/60\n",
      "450/450 [==============================] - 80s 177ms/step - loss: 16.9356 - val_loss: 12.9202 - lr: 1.0000e-04\n",
      "Epoch 26/60\n",
      "450/450 [==============================] - 80s 177ms/step - loss: 15.5863 - val_loss: 11.0180 - lr: 1.0000e-04\n",
      "Epoch 27/60\n",
      "450/450 [==============================] - 80s 177ms/step - loss: 14.5997 - val_loss: 10.4138 - lr: 1.0000e-04\n",
      "Epoch 28/60\n",
      "450/450 [==============================] - 80s 177ms/step - loss: 13.5398 - val_loss: 9.7023 - lr: 1.0000e-04\n",
      "Epoch 29/60\n",
      "450/450 [==============================] - 80s 177ms/step - loss: 12.4370 - val_loss: 8.7715 - lr: 1.0000e-04\n",
      "Epoch 30/60\n",
      "450/450 [==============================] - 80s 177ms/step - loss: 11.5803 - val_loss: 8.2856 - lr: 1.0000e-04\n",
      "Epoch 31/60\n",
      "450/450 [==============================] - 80s 177ms/step - loss: 10.7555 - val_loss: 7.0026 - lr: 9.0484e-05\n",
      "Epoch 32/60\n",
      "450/450 [==============================] - 80s 177ms/step - loss: 10.0229 - val_loss: 6.7588 - lr: 8.1873e-05\n",
      "Epoch 33/60\n",
      "450/450 [==============================] - 80s 177ms/step - loss: 9.4011 - val_loss: 6.3438 - lr: 7.4082e-05\n",
      "Epoch 34/60\n",
      "450/450 [==============================] - 80s 177ms/step - loss: 8.7408 - val_loss: 5.5319 - lr: 6.7032e-05\n",
      "Epoch 35/60\n",
      "450/450 [==============================] - 80s 177ms/step - loss: 8.2677 - val_loss: 5.5914 - lr: 6.0653e-05\n",
      "Epoch 36/60\n",
      "450/450 [==============================] - 80s 177ms/step - loss: 7.7417 - val_loss: 4.7988 - lr: 5.4881e-05\n",
      "Epoch 37/60\n",
      "450/450 [==============================] - 80s 177ms/step - loss: 7.3601 - val_loss: 4.6087 - lr: 4.9659e-05\n",
      "Epoch 38/60\n",
      "450/450 [==============================] - 80s 177ms/step - loss: 6.9608 - val_loss: 4.1704 - lr: 4.4933e-05\n",
      "Epoch 39/60\n",
      "450/450 [==============================] - 80s 177ms/step - loss: 6.6621 - val_loss: 3.8788 - lr: 4.0657e-05\n",
      "Epoch 40/60\n",
      "450/450 [==============================] - 80s 177ms/step - loss: 6.2322 - val_loss: 3.9239 - lr: 3.6788e-05\n",
      "Epoch 41/60\n",
      "450/450 [==============================] - 80s 177ms/step - loss: 6.0534 - val_loss: 3.1910 - lr: 3.3287e-05\n",
      "Epoch 42/60\n",
      "450/450 [==============================] - 80s 177ms/step - loss: 5.7942 - val_loss: 3.0138 - lr: 3.0119e-05\n",
      "Epoch 43/60\n",
      "450/450 [==============================] - 80s 177ms/step - loss: 5.4879 - val_loss: 2.9018 - lr: 2.7253e-05\n",
      "Epoch 44/60\n",
      "450/450 [==============================] - 80s 177ms/step - loss: 5.3089 - val_loss: 3.2475 - lr: 2.4660e-05\n",
      "Epoch 45/60\n",
      "450/450 [==============================] - 80s 177ms/step - loss: 5.2008 - val_loss: 2.6194 - lr: 2.2313e-05\n",
      "Epoch 46/60\n",
      "450/450 [==============================] - 80s 177ms/step - loss: 4.9430 - val_loss: 2.3494 - lr: 2.0190e-05\n",
      "Epoch 47/60\n",
      "450/450 [==============================] - 80s 177ms/step - loss: 4.8581 - val_loss: 2.6933 - lr: 1.8268e-05\n",
      "Epoch 48/60\n",
      "450/450 [==============================] - 80s 177ms/step - loss: 4.6869 - val_loss: 2.7154 - lr: 1.6530e-05\n",
      "Epoch 49/60\n",
      "450/450 [==============================] - 80s 177ms/step - loss: 4.5619 - val_loss: 2.4324 - lr: 1.4957e-05\n",
      "Epoch 50/60\n",
      "450/450 [==============================] - 80s 177ms/step - loss: 4.5572 - val_loss: 2.5068 - lr: 1.3534e-05\n",
      "Epoch 51/60\n",
      "450/450 [==============================] - 80s 177ms/step - loss: 4.4051 - val_loss: 2.3828 - lr: 1.2246e-05\n",
      "Epoch 52/60\n",
      "450/450 [==============================] - 80s 177ms/step - loss: 4.3044 - val_loss: 2.0411 - lr: 1.1080e-05\n",
      "Epoch 53/60\n",
      "450/450 [==============================] - 80s 177ms/step - loss: 4.2309 - val_loss: 1.8371 - lr: 1.0026e-05\n",
      "Epoch 54/60\n",
      "450/450 [==============================] - 80s 177ms/step - loss: 4.1564 - val_loss: 1.9098 - lr: 9.0718e-06\n",
      "Epoch 55/60\n",
      "450/450 [==============================] - 80s 177ms/step - loss: 4.0486 - val_loss: 1.8559 - lr: 8.2085e-06\n",
      "Epoch 56/60\n",
      "450/450 [==============================] - 80s 177ms/step - loss: 4.1022 - val_loss: 1.9716 - lr: 7.4273e-06\n",
      "Epoch 57/60\n",
      "450/450 [==============================] - 80s 177ms/step - loss: 3.9954 - val_loss: 1.8398 - lr: 6.7205e-06\n",
      "Epoch 58/60\n",
      "450/450 [==============================] - 80s 177ms/step - loss: 3.8889 - val_loss: 1.8824 - lr: 6.0810e-06\n",
      "Epoch 59/60\n",
      "450/450 [==============================] - 80s 177ms/step - loss: 4.0194 - val_loss: 1.8494 - lr: 5.5023e-06\n",
      "Epoch 60/60\n",
      "450/450 [==============================] - 80s 177ms/step - loss: 3.8173 - val_loss: 1.6660 - lr: 4.9787e-06\n"
     ]
    },
    {
     "data": {
      "text/plain": "<keras.src.callbacks.History at 0x7ff3c43ac880>"
     },
     "execution_count": 148,
     "metadata": {},
     "output_type": "execute_result"
    }
   ],
   "source": [
    "model.fit(train, validation_data=test, epochs=60, callbacks=[checkpoint_callback, schedule_callback],batch_size=400)\n",
    "\n",
    "# caculate the loss"
   ],
   "metadata": {
    "collapsed": false,
    "ExecuteTime": {
     "end_time": "2024-02-12T15:48:39.298001004Z",
     "start_time": "2024-02-12T14:29:00.171151317Z"
    }
   },
   "id": "fe16ed304f2ec4c6",
   "execution_count": 148
  },
  {
   "cell_type": "code",
   "outputs": [],
   "source": [
    "# model.evaluate(test)\n",
    "loss_history = model.history.history"
   ],
   "metadata": {
    "collapsed": false,
    "ExecuteTime": {
     "end_time": "2024-02-12T16:16:47.742268455Z",
     "start_time": "2024-02-12T16:16:47.700935155Z"
    }
   },
   "id": "ac093f42bf47aa9c",
   "execution_count": 163
  },
  {
   "cell_type": "code",
   "outputs": [
    {
     "name": "stdout",
     "output_type": "stream",
     "text": [
      "dict_keys([])\n"
     ]
    },
    {
     "ename": "KeyError",
     "evalue": "'loss'",
     "output_type": "error",
     "traceback": [
      "\u001B[0;31m---------------------------------------------------------------------------\u001B[0m",
      "\u001B[0;31mKeyError\u001B[0m                                  Traceback (most recent call last)",
      "Cell \u001B[0;32mIn[164], line 3\u001B[0m\n\u001B[1;32m      1\u001B[0m \u001B[38;5;66;03m# draw the loss curve\u001B[39;00m\n\u001B[1;32m      2\u001B[0m \u001B[38;5;28mprint\u001B[39m(loss_history\u001B[38;5;241m.\u001B[39mkeys())\n\u001B[0;32m----> 3\u001B[0m plt\u001B[38;5;241m.\u001B[39mplot(\u001B[43mloss_history\u001B[49m\u001B[43m[\u001B[49m\u001B[38;5;124;43m'\u001B[39;49m\u001B[38;5;124;43mloss\u001B[39;49m\u001B[38;5;124;43m'\u001B[39;49m\u001B[43m]\u001B[49m, label\u001B[38;5;241m=\u001B[39m\u001B[38;5;124m'\u001B[39m\u001B[38;5;124mloss\u001B[39m\u001B[38;5;124m'\u001B[39m)\n\u001B[1;32m      4\u001B[0m plt\u001B[38;5;241m.\u001B[39mplot(loss_history[\u001B[38;5;124m'\u001B[39m\u001B[38;5;124mval_loss\u001B[39m\u001B[38;5;124m'\u001B[39m], label\u001B[38;5;241m=\u001B[39m\u001B[38;5;124m'\u001B[39m\u001B[38;5;124mval_loss\u001B[39m\u001B[38;5;124m'\u001B[39m)\n\u001B[1;32m      5\u001B[0m \u001B[38;5;66;03m# x label and y label\u001B[39;00m\n",
      "\u001B[0;31mKeyError\u001B[0m: 'loss'"
     ]
    }
   ],
   "source": [
    "# draw the loss curve\n",
    "print(loss_history.keys())\n",
    "plt.plot(loss_history['loss'], label='loss')\n",
    "plt.plot(loss_history['val_loss'], label='val_loss')\n",
    "# x label and y label\n",
    "plt.xlabel('Epoch')\n",
    "plt.ylabel('Loss')\n",
    "plt.title('Loss Curve for adding resNet50')\n",
    "plt.legend(loc='upper right')\n",
    "# filename = 'loss_curve_resNet50.png'\n",
    "# plt.savefig(filename)      \n",
    "plt.show()"
   ],
   "metadata": {
    "collapsed": false,
    "ExecuteTime": {
     "end_time": "2024-02-12T16:17:07.512467682Z",
     "start_time": "2024-02-12T16:17:07.494599359Z"
    }
   },
   "id": "ab286abf5c64afc1",
   "execution_count": 164
  },
  {
   "cell_type": "markdown",
   "id": "fa8ee94b-89f7-4733-8a0c-a86f86ff590a",
   "metadata": {
    "tags": []
   },
   "source": [
    "\n",
    "# 5. Make a Prediction "
   ]
  },
  {
   "cell_type": "code",
   "execution_count": null,
   "id": "01fa7204-ce0e-49a8-8dbd-14fe5dfead40",
   "metadata": {
    "tags": [],
    "ExecuteTime": {
     "start_time": "2024-02-12T01:36:35.237003281Z"
    }
   },
   "outputs": [],
   "source": [
    "# url = 'https://drive.google.com/uc?id=1vWscXs4Vt0a_1IH1-ct2TCgXAZT-N3_Y'\n",
    "# output = 'checkpoints.zip'\n",
    "# gdown.download(url, output, quiet=False)\n",
    "# gdown.extractall('checkpoints.zip', 'models')"
   ]
  },
  {
   "cell_type": "code",
   "execution_count": 177,
   "id": "247f664d-3c87-4e96-946e-930dad0e1c2c",
   "metadata": {
    "tags": [],
    "ExecuteTime": {
     "end_time": "2024-02-12T16:28:40.636770045Z",
     "start_time": "2024-02-12T16:28:40.577401920Z"
    }
   },
   "outputs": [
    {
     "data": {
      "text/plain": "<tensorflow.python.checkpoint.checkpoint.CheckpointLoadStatus at 0x7ff3841e8160>"
     },
     "execution_count": 177,
     "metadata": {},
     "output_type": "execute_result"
    }
   ],
   "source": [
    "model.load_weights('models_4/checkpoint')\n"
   ]
  },
  {
   "cell_type": "code",
   "outputs": [
    {
     "name": "stdout",
     "output_type": "stream",
     "text": [
      "50/50 [==============================] - 3s 55ms/step - loss: 1.7416\n",
      " adding resNet50 The Test loss: 1.7415916919708252\n",
      " adding resNet50 The Test accuracy: 98.25840830802917\n",
      "450/450 [==============================] - 25s 54ms/step - loss: 1.7813\n",
      " adding resNet50 The Train loss: 1.7813000679016113\n"
     ]
    }
   ],
   "source": [
    "## test on the test data\n",
    "test_loss= model.evaluate(test)\n",
    "print(f' adding resNet50 The Test loss: {test_loss}')\n",
    "# accuracy\n",
    "accuracy = 100 - test_loss\n",
    "print(f' adding resNet50 The Test accuracy: {accuracy}')\n",
    "# test on the train data\n",
    "train_loss= model.evaluate(train)\n",
    "print(f' adding resNet50 The Train loss: {train_loss}')\n"
   ],
   "metadata": {
    "collapsed": false,
    "ExecuteTime": {
     "end_time": "2024-02-12T16:29:08.797274637Z",
     "start_time": "2024-02-12T16:28:41.307257094Z"
    }
   },
   "id": "354219c15c43d756",
   "execution_count": 178
  },
  {
   "cell_type": "code",
   "execution_count": 152,
   "id": "7f8d689f-b7bb-443c-9b88-e40c1d800828",
   "metadata": {
    "tags": [],
    "ExecuteTime": {
     "end_time": "2024-02-12T16:16:06.140454488Z",
     "start_time": "2024-02-12T16:16:06.131411928Z"
    }
   },
   "outputs": [],
   "source": [
    "test_data = test.as_numpy_iterator()"
   ]
  },
  {
   "cell_type": "code",
   "execution_count": 153,
   "id": "38546dc2-bee9-4837-864b-8a884df40ad7",
   "metadata": {
    "tags": [],
    "ExecuteTime": {
     "end_time": "2024-02-12T16:16:06.951747643Z",
     "start_time": "2024-02-12T16:16:06.670238670Z"
    }
   },
   "outputs": [],
   "source": [
    "sample = test_data.next()"
   ]
  },
  {
   "cell_type": "code",
   "execution_count": 154,
   "id": "a43621f0-229d-4c0d-9554-9c3a3da9c61a",
   "metadata": {
    "tags": [],
    "ExecuteTime": {
     "end_time": "2024-02-12T16:16:08.516138476Z",
     "start_time": "2024-02-12T16:16:07.899488508Z"
    }
   },
   "outputs": [
    {
     "name": "stdout",
     "output_type": "stream",
     "text": [
      "WARNING:tensorflow:5 out of the last 10 calls to <function Model.make_predict_function.<locals>.predict_function at 0x7ff1ec62bd90> triggered tf.function retracing. Tracing is expensive and the excessive number of tracings could be due to (1) creating @tf.function repeatedly in a loop, (2) passing tensors with different shapes, (3) passing Python objects instead of tensors. For (1), please define your @tf.function outside of the loop. For (2), @tf.function has reduce_retracing=True option that can avoid unnecessary retracing. For (3), please refer to https://www.tensorflow.org/guide/function#controlling_retracing and https://www.tensorflow.org/api_docs/python/tf/function for  more details.\n",
      "1/1 [==============================] - 1s 593ms/step\n"
     ]
    }
   ],
   "source": [
    "yhat = model.predict(sample[0])"
   ]
  },
  {
   "cell_type": "code",
   "execution_count": 155,
   "id": "ea462999-f87e-4a7e-a057-5be7b6d8f7d5",
   "metadata": {
    "tags": [],
    "ExecuteTime": {
     "end_time": "2024-02-12T16:16:13.077030066Z",
     "start_time": "2024-02-12T16:16:13.049590413Z"
    }
   },
   "outputs": [
    {
     "name": "stdout",
     "output_type": "stream",
     "text": [
      "~~~~~~~~~~~~~~~~~~~~~~~~~~~~~~~~~~~~~~~~~~~~~~~~~~~~~~~~~~~~~~~~~~~~~~~~~~~~~~~~~~~~~~~~~~~~~~~~~~~~ REAL TEXT\n"
     ]
    },
    {
     "data": {
      "text/plain": "[<tf.Tensor: shape=(), dtype=string, numpy=b'bin green at t nine soon'>,\n <tf.Tensor: shape=(), dtype=string, numpy=b'bin blue in z one soon'>]"
     },
     "execution_count": 155,
     "metadata": {},
     "output_type": "execute_result"
    }
   ],
   "source": [
    "print('~'*100, 'REAL TEXT')\n",
    "[tf.strings.reduce_join([num_to_char(word) for word in sentence]) for sentence in sample[1]]"
   ]
  },
  {
   "cell_type": "code",
   "execution_count": 156,
   "id": "82bd4c10-dd6e-411e-834b-2a3b43fd12c5",
   "metadata": {
    "tags": [],
    "ExecuteTime": {
     "end_time": "2024-02-12T16:16:16.970942685Z",
     "start_time": "2024-02-12T16:16:16.925915060Z"
    }
   },
   "outputs": [],
   "source": [
    "decoded = tf.keras.backend.ctc_decode(yhat, input_length=[75,75], greedy=True)[0][0].numpy()"
   ]
  },
  {
   "cell_type": "code",
   "execution_count": 157,
   "id": "5d68ac46-c90b-4eab-a709-f19aee569ff5",
   "metadata": {
    "tags": [],
    "ExecuteTime": {
     "end_time": "2024-02-12T16:16:17.960794568Z",
     "start_time": "2024-02-12T16:16:17.911299482Z"
    }
   },
   "outputs": [
    {
     "name": "stdout",
     "output_type": "stream",
     "text": [
      "~~~~~~~~~~~~~~~~~~~~~~~~~~~~~~~~~~~~~~~~~~~~~~~~~~~~~~~~~~~~~~~~~~~~~~~~~~~~~~~~~~~~~~~~~~~~~~~~~~~~ PREDICTIONS\n"
     ]
    },
    {
     "data": {
      "text/plain": "[<tf.Tensor: shape=(), dtype=string, numpy=b'bin green at t nine soon'>,\n <tf.Tensor: shape=(), dtype=string, numpy=b'bin blue in one soon'>]"
     },
     "execution_count": 157,
     "metadata": {},
     "output_type": "execute_result"
    }
   ],
   "source": [
    "print('~'*100, 'PREDICTIONS')\n",
    "[tf.strings.reduce_join([num_to_char(word) for word in sentence]) for sentence in decoded]"
   ]
  },
  {
   "cell_type": "markdown",
   "id": "64622f98-e99b-4fed-a2cc-f0da82eb5431",
   "metadata": {},
   "source": [
    "# Test on a Video"
   ]
  },
  {
   "cell_type": "code",
   "execution_count": 158,
   "id": "a8b0c4d0-2031-4331-b91d-d87b1ae6f6e2",
   "metadata": {
    "ExecuteTime": {
     "end_time": "2024-02-12T16:16:24.734922400Z",
     "start_time": "2024-02-12T16:16:24.731180228Z"
    }
   },
   "outputs": [],
   "source": [
    "sample = load_data(tf.convert_to_tensor('./data/s1/bbal6n.mpg'))"
   ]
  },
  {
   "cell_type": "code",
   "execution_count": 159,
   "id": "0cca60e4-47a9-4683-8a75-48f4684f723d",
   "metadata": {
    "ExecuteTime": {
     "end_time": "2024-02-12T16:16:25.299730281Z",
     "start_time": "2024-02-12T16:16:25.268328124Z"
    }
   },
   "outputs": [
    {
     "name": "stdout",
     "output_type": "stream",
     "text": [
      "~~~~~~~~~~~~~~~~~~~~~~~~~~~~~~~~~~~~~~~~~~~~~~~~~~~~~~~~~~~~~~~~~~~~~~~~~~~~~~~~~~~~~~~~~~~~~~~~~~~~ REAL TEXT\n"
     ]
    },
    {
     "data": {
      "text/plain": "[<tf.Tensor: shape=(), dtype=string, numpy=b'bin blue at l six now'>]"
     },
     "execution_count": 159,
     "metadata": {},
     "output_type": "execute_result"
    }
   ],
   "source": [
    "print('~'*100, 'REAL TEXT')\n",
    "[tf.strings.reduce_join([num_to_char(word) for word in sentence]) for sentence in [sample[1]]]"
   ]
  },
  {
   "cell_type": "code",
   "execution_count": 160,
   "id": "8cc5037c-1e32-435c-b0cc-01e1fb3b863c",
   "metadata": {
    "ExecuteTime": {
     "end_time": "2024-02-12T16:16:27.165946148Z",
     "start_time": "2024-02-12T16:16:26.526485904Z"
    }
   },
   "outputs": [
    {
     "name": "stdout",
     "output_type": "stream",
     "text": [
      "WARNING:tensorflow:6 out of the last 11 calls to <function Model.make_predict_function.<locals>.predict_function at 0x7ff1ec62bd90> triggered tf.function retracing. Tracing is expensive and the excessive number of tracings could be due to (1) creating @tf.function repeatedly in a loop, (2) passing tensors with different shapes, (3) passing Python objects instead of tensors. For (1), please define your @tf.function outside of the loop. For (2), @tf.function has reduce_retracing=True option that can avoid unnecessary retracing. For (3), please refer to https://www.tensorflow.org/guide/function#controlling_retracing and https://www.tensorflow.org/api_docs/python/tf/function for  more details.\n",
      "1/1 [==============================] - 1s 610ms/step\n"
     ]
    }
   ],
   "source": [
    "yhat = model.predict(tf.expand_dims(sample[0], axis=0))"
   ]
  },
  {
   "cell_type": "code",
   "execution_count": 161,
   "id": "22c4f77d-715d-409f-bc5e-3ebe48704e8f",
   "metadata": {
    "ExecuteTime": {
     "end_time": "2024-02-12T16:16:27.214791467Z",
     "start_time": "2024-02-12T16:16:27.165556587Z"
    }
   },
   "outputs": [],
   "source": [
    "decoded = tf.keras.backend.ctc_decode(yhat, input_length=[75], greedy=True)[0][0].numpy()"
   ]
  },
  {
   "cell_type": "code",
   "execution_count": 162,
   "id": "e4d12ecc-b634-499e-a4bc-db9f010835fb",
   "metadata": {
    "ExecuteTime": {
     "end_time": "2024-02-12T16:16:28.583399003Z",
     "start_time": "2024-02-12T16:16:28.551488071Z"
    }
   },
   "outputs": [
    {
     "name": "stdout",
     "output_type": "stream",
     "text": [
      "~~~~~~~~~~~~~~~~~~~~~~~~~~~~~~~~~~~~~~~~~~~~~~~~~~~~~~~~~~~~~~~~~~~~~~~~~~~~~~~~~~~~~~~~~~~~~~~~~~~~ PREDICTIONS\n"
     ]
    },
    {
     "data": {
      "text/plain": "[<tf.Tensor: shape=(), dtype=string, numpy=b'bin blue at l six now'>]"
     },
     "execution_count": 162,
     "metadata": {},
     "output_type": "execute_result"
    }
   ],
   "source": [
    "print('~'*100, 'PREDICTIONS')\n",
    "[tf.strings.reduce_join([num_to_char(word) for word in sentence]) for sentence in decoded]"
   ]
  },
  {
   "cell_type": "code",
   "outputs": [],
   "source": [],
   "metadata": {
    "collapsed": false
   },
   "id": "9d22c61452e9e439"
  },
  {
   "cell_type": "code",
   "execution_count": null,
   "id": "551dfea2-de6b-4400-b71a-a17631529e3f",
   "metadata": {
    "ExecuteTime": {
     "start_time": "2024-02-12T01:36:35.237326162Z"
    }
   },
   "outputs": [],
   "source": []
  },
  {
   "cell_type": "code",
   "execution_count": null,
   "id": "fa95863d-3832-47bf-8a77-ebaa38054ace",
   "metadata": {
    "ExecuteTime": {
     "start_time": "2024-02-12T01:36:35.257872173Z"
    }
   },
   "outputs": [],
   "source": []
  }
 ],
 "metadata": {
  "kernelspec": {
   "name": "python3",
   "language": "python",
   "display_name": "Python 3 (ipykernel)"
  },
  "language_info": {
   "codemirror_mode": {
    "name": "ipython",
    "version": 3
   },
   "file_extension": ".py",
   "mimetype": "text/x-python",
   "name": "python",
   "nbconvert_exporter": "python",
   "pygments_lexer": "ipython3",
   "version": "3.9.12"
  }
 },
 "nbformat": 4,
 "nbformat_minor": 5
}
