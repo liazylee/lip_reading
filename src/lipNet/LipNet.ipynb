{
 "cells": [
  {
   "cell_type": "markdown",
   "id": "a3573a47-3689-4668-b62f-5c8451b2b4e9",
   "metadata": {
    "tags": []
   },
   "source": [
    "# 0. Install and Import Dependencies"
   ]
  },
  {
   "cell_type": "code",
   "execution_count": 246,
   "id": "ddfbccbe-41ae-4c23-98b1-a13868e2b499",
   "metadata": {
    "scrolled": true,
    "tags": [],
    "ExecuteTime": {
     "end_time": "2024-02-11T23:22:16.733901227Z",
     "start_time": "2024-02-11T23:22:16.215288834Z"
    }
   },
   "outputs": [
    {
     "name": "stdout",
     "output_type": "stream",
     "text": [
      "Package                      Version\r\n",
      "---------------------------- ---------------\r\n",
      "absl-py                      2.1.0\r\n",
      "anyio                        4.2.0\r\n",
      "argon2-cffi                  23.1.0\r\n",
      "argon2-cffi-bindings         21.2.0\r\n",
      "arrow                        1.3.0\r\n",
      "asttokens                    2.4.1\r\n",
      "astunparse                   1.6.3\r\n",
      "async-lru                    2.0.4\r\n",
      "attrs                        23.2.0\r\n",
      "Babel                        2.14.0\r\n",
      "beautifulsoup4               4.12.3\r\n",
      "bleach                       6.1.0\r\n",
      "cachetools                   5.3.2\r\n",
      "certifi                      2024.2.2\r\n",
      "cffi                         1.16.0\r\n",
      "charset-normalizer           3.3.2\r\n",
      "comm                         0.2.1\r\n",
      "contourpy                    1.2.0\r\n",
      "cycler                       0.12.1\r\n",
      "debugpy                      1.8.1\r\n",
      "decorator                    5.1.1\r\n",
      "defusedxml                   0.7.1\r\n",
      "exceptiongroup               1.2.0\r\n",
      "executing                    2.0.1\r\n",
      "fastjsonschema               2.19.1\r\n",
      "filelock                     3.13.1\r\n",
      "flatbuffers                  23.5.26\r\n",
      "fonttools                    4.48.1\r\n",
      "fqdn                         1.5.1\r\n",
      "fsspec                       2023.4.0\r\n",
      "gast                         0.5.4\r\n",
      "gdown                        5.1.0\r\n",
      "google-auth                  2.27.0\r\n",
      "google-auth-oauthlib         1.2.0\r\n",
      "google-pasta                 0.2.0\r\n",
      "grpcio                       1.60.1\r\n",
      "h5py                         3.10.0\r\n",
      "idna                         3.6\r\n",
      "imageio                      2.33.1\r\n",
      "ipykernel                    6.29.2\r\n",
      "ipython                      8.21.0\r\n",
      "ipywidgets                   8.1.2\r\n",
      "isoduration                  20.11.0\r\n",
      "jedi                         0.19.1\r\n",
      "Jinja2                       3.1.3\r\n",
      "json5                        0.9.14\r\n",
      "jsonpointer                  2.4\r\n",
      "jsonschema                   4.21.1\r\n",
      "jsonschema-specifications    2023.12.1\r\n",
      "jupyter                      1.0.0\r\n",
      "jupyter_client               8.6.0\r\n",
      "jupyter-console              6.6.3\r\n",
      "jupyter_core                 5.7.1\r\n",
      "jupyter-events               0.9.0\r\n",
      "jupyter-lsp                  2.2.2\r\n",
      "jupyter_server               2.12.5\r\n",
      "jupyter_server_terminals     0.5.2\r\n",
      "jupyterlab                   4.0.12\r\n",
      "jupyterlab_pygments          0.3.0\r\n",
      "jupyterlab_server            2.25.2\r\n",
      "jupyterlab_widgets           3.0.10\r\n",
      "keras                        2.15.0\r\n",
      "kiwisolver                   1.4.5\r\n",
      "libclang                     16.0.6\r\n",
      "Markdown                     3.5.2\r\n",
      "MarkupSafe                   2.1.5\r\n",
      "matplotlib                   3.8.2\r\n",
      "matplotlib-inline            0.1.6\r\n",
      "mistune                      3.0.2\r\n",
      "ml-dtypes                    0.2.0\r\n",
      "mpmath                       1.3.0\r\n",
      "nbclient                     0.9.0\r\n",
      "nbconvert                    7.16.0\r\n",
      "nbformat                     5.9.2\r\n",
      "nest-asyncio                 1.6.0\r\n",
      "networkx                     3.2.1\r\n",
      "notebook                     7.0.8\r\n",
      "notebook_shim                0.2.3\r\n",
      "numpy                        1.26.4\r\n",
      "nvidia-cublas-cu12           12.2.5.6\r\n",
      "nvidia-cuda-cupti-cu12       12.2.142\r\n",
      "nvidia-cuda-nvcc-cu12        12.2.140\r\n",
      "nvidia-cuda-nvrtc-cu12       12.2.140\r\n",
      "nvidia-cuda-runtime-cu12     12.2.140\r\n",
      "nvidia-cudnn-cu12            8.9.4.25\r\n",
      "nvidia-cufft-cu12            11.0.8.103\r\n",
      "nvidia-curand-cu12           10.3.3.141\r\n",
      "nvidia-cusolver-cu12         11.5.2.141\r\n",
      "nvidia-cusparse-cu12         12.1.2.141\r\n",
      "nvidia-nccl-cu12             2.16.5\r\n",
      "nvidia-nvjitlink-cu12        12.2.140\r\n",
      "oauthlib                     3.2.2\r\n",
      "opencv-python                4.9.0.80\r\n",
      "opt-einsum                   3.3.0\r\n",
      "overrides                    7.7.0\r\n",
      "packaging                    23.2\r\n",
      "pandocfilters                1.5.1\r\n",
      "parso                        0.8.3\r\n",
      "pexpect                      4.9.0\r\n",
      "pillow                       10.2.0\r\n",
      "pip                          24.0\r\n",
      "platformdirs                 4.2.0\r\n",
      "prometheus-client            0.19.0\r\n",
      "prompt-toolkit               3.0.43\r\n",
      "protobuf                     4.25.2\r\n",
      "psutil                       5.9.8\r\n",
      "ptyprocess                   0.7.0\r\n",
      "pure-eval                    0.2.2\r\n",
      "pyasn1                       0.5.1\r\n",
      "pyasn1-modules               0.3.0\r\n",
      "pycparser                    2.21\r\n",
      "Pygments                     2.17.2\r\n",
      "pyparsing                    3.1.1\r\n",
      "PySocks                      1.7.1\r\n",
      "python-dateutil              2.8.2\r\n",
      "python-json-logger           2.0.7\r\n",
      "PyYAML                       6.0.1\r\n",
      "pyzmq                        25.1.2\r\n",
      "qtconsole                    5.5.1\r\n",
      "QtPy                         2.4.1\r\n",
      "referencing                  0.33.0\r\n",
      "requests                     2.31.0\r\n",
      "requests-oauthlib            1.3.1\r\n",
      "rfc3339-validator            0.1.4\r\n",
      "rfc3986-validator            0.1.1\r\n",
      "rpds-py                      0.17.1\r\n",
      "rsa                          4.9\r\n",
      "Send2Trash                   1.8.2\r\n",
      "setuptools                   68.2.0\r\n",
      "six                          1.16.0\r\n",
      "sniffio                      1.3.0\r\n",
      "soupsieve                    2.5\r\n",
      "stack-data                   0.6.3\r\n",
      "sympy                        1.12\r\n",
      "tensorboard                  2.15.2\r\n",
      "tensorboard-data-server      0.7.2\r\n",
      "tensorflow                   2.15.0.post1\r\n",
      "tensorflow-estimator         2.15.0\r\n",
      "tensorflow-io-gcs-filesystem 0.36.0\r\n",
      "termcolor                    2.4.0\r\n",
      "terminado                    0.18.0\r\n",
      "tinycss2                     1.2.1\r\n",
      "tomli                        2.0.1\r\n",
      "torch                        2.2.0+cu118\r\n",
      "torchaudio                   2.2.0+cu118\r\n",
      "torchvision                  0.17.0+cu118\r\n",
      "tornado                      6.4\r\n",
      "tqdm                         4.66.2\r\n",
      "traitlets                    5.14.1\r\n",
      "triton                       2.2.0\r\n",
      "types-python-dateutil        2.8.19.20240106\r\n",
      "typing_extensions            4.9.0\r\n",
      "uri-template                 1.3.0\r\n",
      "urllib3                      2.2.0\r\n",
      "wcwidth                      0.2.13\r\n",
      "webcolors                    1.13\r\n",
      "webencodings                 0.5.1\r\n",
      "websocket-client             1.7.0\r\n",
      "Werkzeug                     3.0.1\r\n",
      "wheel                        0.41.2\r\n",
      "widgetsnbextension           4.0.10\r\n",
      "wrapt                        1.14.1\r\n"
     ]
    }
   ],
   "source": [
    "!pip list"
   ]
  },
  {
   "cell_type": "code",
   "execution_count": 247,
   "id": "02f907ea-f669-46c7-adcf-7f257e663448",
   "metadata": {
    "tags": [],
    "ExecuteTime": {
     "end_time": "2024-02-11T23:22:17.635781318Z",
     "start_time": "2024-02-11T23:22:16.727081490Z"
    }
   },
   "outputs": [
    {
     "name": "stdout",
     "output_type": "stream",
     "text": [
      "Requirement already satisfied: opencv-python in /home/liazylee/jobs/venv_python/lip_reading/lib/python3.10/site-packages (4.9.0.80)\r\n",
      "Requirement already satisfied: matplotlib in /home/liazylee/jobs/venv_python/lip_reading/lib/python3.10/site-packages (3.8.2)\r\n",
      "Requirement already satisfied: imageio in /home/liazylee/jobs/venv_python/lip_reading/lib/python3.10/site-packages (2.33.1)\r\n",
      "Requirement already satisfied: gdown in /home/liazylee/jobs/venv_python/lip_reading/lib/python3.10/site-packages (5.1.0)\r\n",
      "Requirement already satisfied: tensorflow in /home/liazylee/jobs/venv_python/lip_reading/lib/python3.10/site-packages (2.15.0.post1)\r\n",
      "Requirement already satisfied: numpy>=1.21.2 in /home/liazylee/jobs/venv_python/lip_reading/lib/python3.10/site-packages (from opencv-python) (1.26.4)\r\n",
      "Requirement already satisfied: contourpy>=1.0.1 in /home/liazylee/jobs/venv_python/lip_reading/lib/python3.10/site-packages (from matplotlib) (1.2.0)\r\n",
      "Requirement already satisfied: cycler>=0.10 in /home/liazylee/jobs/venv_python/lip_reading/lib/python3.10/site-packages (from matplotlib) (0.12.1)\r\n",
      "Requirement already satisfied: fonttools>=4.22.0 in /home/liazylee/jobs/venv_python/lip_reading/lib/python3.10/site-packages (from matplotlib) (4.48.1)\r\n",
      "Requirement already satisfied: kiwisolver>=1.3.1 in /home/liazylee/jobs/venv_python/lip_reading/lib/python3.10/site-packages (from matplotlib) (1.4.5)\r\n",
      "Requirement already satisfied: packaging>=20.0 in /home/liazylee/jobs/venv_python/lip_reading/lib/python3.10/site-packages (from matplotlib) (23.2)\r\n",
      "Requirement already satisfied: pillow>=8 in /home/liazylee/jobs/venv_python/lip_reading/lib/python3.10/site-packages (from matplotlib) (10.2.0)\r\n",
      "Requirement already satisfied: pyparsing>=2.3.1 in /home/liazylee/jobs/venv_python/lip_reading/lib/python3.10/site-packages (from matplotlib) (3.1.1)\r\n",
      "Requirement already satisfied: python-dateutil>=2.7 in /home/liazylee/jobs/venv_python/lip_reading/lib/python3.10/site-packages (from matplotlib) (2.8.2)\r\n",
      "Requirement already satisfied: beautifulsoup4 in /home/liazylee/jobs/venv_python/lip_reading/lib/python3.10/site-packages (from gdown) (4.12.3)\r\n",
      "Requirement already satisfied: filelock in /home/liazylee/jobs/venv_python/lip_reading/lib/python3.10/site-packages (from gdown) (3.13.1)\r\n",
      "Requirement already satisfied: requests[socks] in /home/liazylee/jobs/venv_python/lip_reading/lib/python3.10/site-packages (from gdown) (2.31.0)\r\n",
      "Requirement already satisfied: tqdm in /home/liazylee/jobs/venv_python/lip_reading/lib/python3.10/site-packages (from gdown) (4.66.2)\r\n",
      "Requirement already satisfied: absl-py>=1.0.0 in /home/liazylee/jobs/venv_python/lip_reading/lib/python3.10/site-packages (from tensorflow) (2.1.0)\r\n",
      "Requirement already satisfied: astunparse>=1.6.0 in /home/liazylee/jobs/venv_python/lip_reading/lib/python3.10/site-packages (from tensorflow) (1.6.3)\r\n",
      "Requirement already satisfied: flatbuffers>=23.5.26 in /home/liazylee/jobs/venv_python/lip_reading/lib/python3.10/site-packages (from tensorflow) (23.5.26)\r\n",
      "Requirement already satisfied: gast!=0.5.0,!=0.5.1,!=0.5.2,>=0.2.1 in /home/liazylee/jobs/venv_python/lip_reading/lib/python3.10/site-packages (from tensorflow) (0.5.4)\r\n",
      "Requirement already satisfied: google-pasta>=0.1.1 in /home/liazylee/jobs/venv_python/lip_reading/lib/python3.10/site-packages (from tensorflow) (0.2.0)\r\n",
      "Requirement already satisfied: h5py>=2.9.0 in /home/liazylee/jobs/venv_python/lip_reading/lib/python3.10/site-packages (from tensorflow) (3.10.0)\r\n",
      "Requirement already satisfied: libclang>=13.0.0 in /home/liazylee/jobs/venv_python/lip_reading/lib/python3.10/site-packages (from tensorflow) (16.0.6)\r\n",
      "Requirement already satisfied: ml-dtypes~=0.2.0 in /home/liazylee/jobs/venv_python/lip_reading/lib/python3.10/site-packages (from tensorflow) (0.2.0)\r\n",
      "Requirement already satisfied: opt-einsum>=2.3.2 in /home/liazylee/jobs/venv_python/lip_reading/lib/python3.10/site-packages (from tensorflow) (3.3.0)\r\n",
      "Requirement already satisfied: protobuf!=4.21.0,!=4.21.1,!=4.21.2,!=4.21.3,!=4.21.4,!=4.21.5,<5.0.0dev,>=3.20.3 in /home/liazylee/jobs/venv_python/lip_reading/lib/python3.10/site-packages (from tensorflow) (4.25.2)\r\n",
      "Requirement already satisfied: setuptools in /home/liazylee/jobs/venv_python/lip_reading/lib/python3.10/site-packages (from tensorflow) (68.2.0)\r\n",
      "Requirement already satisfied: six>=1.12.0 in /home/liazylee/jobs/venv_python/lip_reading/lib/python3.10/site-packages (from tensorflow) (1.16.0)\r\n",
      "Requirement already satisfied: termcolor>=1.1.0 in /home/liazylee/jobs/venv_python/lip_reading/lib/python3.10/site-packages (from tensorflow) (2.4.0)\r\n",
      "Requirement already satisfied: typing-extensions>=3.6.6 in /home/liazylee/jobs/venv_python/lip_reading/lib/python3.10/site-packages (from tensorflow) (4.9.0)\r\n",
      "Requirement already satisfied: wrapt<1.15,>=1.11.0 in /home/liazylee/jobs/venv_python/lip_reading/lib/python3.10/site-packages (from tensorflow) (1.14.1)\r\n",
      "Requirement already satisfied: tensorflow-io-gcs-filesystem>=0.23.1 in /home/liazylee/jobs/venv_python/lip_reading/lib/python3.10/site-packages (from tensorflow) (0.36.0)\r\n",
      "Requirement already satisfied: grpcio<2.0,>=1.24.3 in /home/liazylee/jobs/venv_python/lip_reading/lib/python3.10/site-packages (from tensorflow) (1.60.1)\r\n",
      "Requirement already satisfied: tensorboard<2.16,>=2.15 in /home/liazylee/jobs/venv_python/lip_reading/lib/python3.10/site-packages (from tensorflow) (2.15.2)\r\n",
      "Requirement already satisfied: tensorflow-estimator<2.16,>=2.15.0 in /home/liazylee/jobs/venv_python/lip_reading/lib/python3.10/site-packages (from tensorflow) (2.15.0)\r\n",
      "Requirement already satisfied: keras<2.16,>=2.15.0 in /home/liazylee/jobs/venv_python/lip_reading/lib/python3.10/site-packages (from tensorflow) (2.15.0)\r\n",
      "Requirement already satisfied: wheel<1.0,>=0.23.0 in /home/liazylee/jobs/venv_python/lip_reading/lib/python3.10/site-packages (from astunparse>=1.6.0->tensorflow) (0.41.2)\r\n",
      "Requirement already satisfied: google-auth<3,>=1.6.3 in /home/liazylee/jobs/venv_python/lip_reading/lib/python3.10/site-packages (from tensorboard<2.16,>=2.15->tensorflow) (2.27.0)\r\n",
      "Requirement already satisfied: google-auth-oauthlib<2,>=0.5 in /home/liazylee/jobs/venv_python/lip_reading/lib/python3.10/site-packages (from tensorboard<2.16,>=2.15->tensorflow) (1.2.0)\r\n",
      "Requirement already satisfied: markdown>=2.6.8 in /home/liazylee/jobs/venv_python/lip_reading/lib/python3.10/site-packages (from tensorboard<2.16,>=2.15->tensorflow) (3.5.2)\r\n",
      "Requirement already satisfied: tensorboard-data-server<0.8.0,>=0.7.0 in /home/liazylee/jobs/venv_python/lip_reading/lib/python3.10/site-packages (from tensorboard<2.16,>=2.15->tensorflow) (0.7.2)\r\n",
      "Requirement already satisfied: werkzeug>=1.0.1 in /home/liazylee/jobs/venv_python/lip_reading/lib/python3.10/site-packages (from tensorboard<2.16,>=2.15->tensorflow) (3.0.1)\r\n",
      "Requirement already satisfied: soupsieve>1.2 in /home/liazylee/jobs/venv_python/lip_reading/lib/python3.10/site-packages (from beautifulsoup4->gdown) (2.5)\r\n",
      "Requirement already satisfied: charset-normalizer<4,>=2 in /home/liazylee/jobs/venv_python/lip_reading/lib/python3.10/site-packages (from requests[socks]->gdown) (3.3.2)\r\n",
      "Requirement already satisfied: idna<4,>=2.5 in /home/liazylee/jobs/venv_python/lip_reading/lib/python3.10/site-packages (from requests[socks]->gdown) (3.6)\r\n",
      "Requirement already satisfied: urllib3<3,>=1.21.1 in /home/liazylee/jobs/venv_python/lip_reading/lib/python3.10/site-packages (from requests[socks]->gdown) (2.2.0)\r\n",
      "Requirement already satisfied: certifi>=2017.4.17 in /home/liazylee/jobs/venv_python/lip_reading/lib/python3.10/site-packages (from requests[socks]->gdown) (2024.2.2)\r\n",
      "Requirement already satisfied: PySocks!=1.5.7,>=1.5.6 in /home/liazylee/jobs/venv_python/lip_reading/lib/python3.10/site-packages (from requests[socks]->gdown) (1.7.1)\r\n",
      "Requirement already satisfied: cachetools<6.0,>=2.0.0 in /home/liazylee/jobs/venv_python/lip_reading/lib/python3.10/site-packages (from google-auth<3,>=1.6.3->tensorboard<2.16,>=2.15->tensorflow) (5.3.2)\r\n",
      "Requirement already satisfied: pyasn1-modules>=0.2.1 in /home/liazylee/jobs/venv_python/lip_reading/lib/python3.10/site-packages (from google-auth<3,>=1.6.3->tensorboard<2.16,>=2.15->tensorflow) (0.3.0)\r\n",
      "Requirement already satisfied: rsa<5,>=3.1.4 in /home/liazylee/jobs/venv_python/lip_reading/lib/python3.10/site-packages (from google-auth<3,>=1.6.3->tensorboard<2.16,>=2.15->tensorflow) (4.9)\r\n",
      "Requirement already satisfied: requests-oauthlib>=0.7.0 in /home/liazylee/jobs/venv_python/lip_reading/lib/python3.10/site-packages (from google-auth-oauthlib<2,>=0.5->tensorboard<2.16,>=2.15->tensorflow) (1.3.1)\r\n",
      "Requirement already satisfied: MarkupSafe>=2.1.1 in /home/liazylee/jobs/venv_python/lip_reading/lib/python3.10/site-packages (from werkzeug>=1.0.1->tensorboard<2.16,>=2.15->tensorflow) (2.1.5)\r\n",
      "Requirement already satisfied: pyasn1<0.6.0,>=0.4.6 in /home/liazylee/jobs/venv_python/lip_reading/lib/python3.10/site-packages (from pyasn1-modules>=0.2.1->google-auth<3,>=1.6.3->tensorboard<2.16,>=2.15->tensorflow) (0.5.1)\r\n",
      "Requirement already satisfied: oauthlib>=3.0.0 in /home/liazylee/jobs/venv_python/lip_reading/lib/python3.10/site-packages (from requests-oauthlib>=0.7.0->google-auth-oauthlib<2,>=0.5->tensorboard<2.16,>=2.15->tensorflow) (3.2.2)\r\n"
     ]
    }
   ],
   "source": [
    "!pip install opencv-python matplotlib imageio gdown tensorflow"
   ]
  },
  {
   "cell_type": "code",
   "execution_count": 3,
   "id": "b24af50c-20b8-409d-ad78-30a933fdd669",
   "metadata": {
    "tags": [],
    "pycharm": {
     "is_executing": true
    },
    "ExecuteTime": {
     "end_time": "2024-02-12T21:54:45.856866779Z",
     "start_time": "2024-02-12T21:54:45.844063988Z"
    }
   },
   "outputs": [],
   "source": [
    "import os\n",
    "import cv2\n",
    "import tensorflow as tf\n",
    "import numpy as np\n",
    "from typing import List\n",
    "from matplotlib import pyplot as plt\n",
    "import imageio"
   ]
  },
  {
   "cell_type": "code",
   "execution_count": 20,
   "id": "1e3db0b0-e559-4ad6-91fd-e7414b7d75e6",
   "metadata": {
    "ExecuteTime": {
     "end_time": "2024-02-12T21:47:09.328306926Z",
     "start_time": "2024-02-12T21:47:09.319303141Z"
    }
   },
   "outputs": [
    {
     "data": {
      "text/plain": "[PhysicalDevice(name='/physical_device:GPU:0', device_type='GPU')]"
     },
     "execution_count": 20,
     "metadata": {},
     "output_type": "execute_result"
    }
   ],
   "source": [
    "\n",
    "gpu_devices = tf.config.experimental.list_physical_devices('GPU')\n",
    "for device in gpu_devices:\n",
    "    tf.config.experimental.set_memory_growth(device, True)\n",
    "tf.config.list_physical_devices('GPU')"
   ]
  },
  {
   "cell_type": "code",
   "execution_count": 21,
   "id": "378d045a-3003-4f93-b7d2-a25a97774a68",
   "metadata": {
    "tags": [],
    "ExecuteTime": {
     "end_time": "2024-02-12T21:47:11.032977616Z",
     "start_time": "2024-02-12T21:47:11.023158999Z"
    }
   },
   "outputs": [],
   "source": [
    "physical_devices = tf.config.list_physical_devices('GPU')\n",
    "try:\n",
    "    tf.config.experimental.set_memory_growth(physical_devices[0], True)\n",
    "except:\n",
    "    pass"
   ]
  },
  {
   "cell_type": "markdown",
   "id": "7a19e88e-c7b9-45c1-ae1e-f2109329c71b",
   "metadata": {
    "tags": []
   },
   "source": [
    "# 1. Build Data Loading Functions"
   ]
  },
  {
   "cell_type": "code",
   "execution_count": 251,
   "id": "8fb99c90-e05a-437f-839d-6e772f8c1dd5",
   "metadata": {
    "tags": [],
    "ExecuteTime": {
     "end_time": "2024-02-11T23:22:17.680812784Z",
     "start_time": "2024-02-11T23:22:17.677111654Z"
    }
   },
   "outputs": [],
   "source": [
    "import gdown"
   ]
  },
  {
   "cell_type": "code",
   "execution_count": 4,
   "id": "c019e4c6-2af3-4160-99ea-5c8cb009f1a7",
   "metadata": {
    "tags": [],
    "ExecuteTime": {
     "end_time": "2024-02-12T21:54:50.302204163Z",
     "start_time": "2024-02-12T21:54:50.272555575Z"
    }
   },
   "outputs": [],
   "source": [
    "# url = 'https://drive.google.com/uc?id=1YlvpDLix3S-U8fd-gqRwPcWXAXm8JwjL'\n",
    "# output = 'data.zip'\n",
    "# gdown.download(url, output, quiet=False)\n",
    "# gdown.extractall('data.zip')\n",
    "def generate_video_dict(path:str) -> dict[str:List[float]]: \n",
    "    video_dict= {}\n",
    "    if not os.path.exists(path): \n",
    "        raise FileNotFoundError(f'{path} does not exist')\n",
    "    for file in os.listdir(path): \n",
    "        if file.endswith('.mpg'): \n",
    "            cap = cv2.VideoCapture(os.path.join(path, file))\n",
    "            frames = []\n",
    "            for _ in range(int(cap.get(cv2.CAP_PROP_FRAME_COUNT))):  \n",
    "                ret, frame = cap.read()\n",
    "                frame = tf.image.rgb_to_grayscale(frame)\n",
    "                frames.append(frame[190:236,80:220,:])\n",
    "            cap.release()\n",
    "            mean = tf.math.reduce_mean(frames)\n",
    "            std = tf.math.reduce_std(tf.cast(frames, tf.float16))\n",
    "            video_dict[file] = tf.cast((frames - mean), tf.float16) / std\n",
    "    return video_dict\n",
    "cv2_base_dir = os.path.dirname(os.path.abspath(cv2.__file__))\n",
    "haar_model = os.path.join(cv2_base_dir, 'data/haarcascade_frontalface_default.xml')\n",
    "\n",
    "lip_cascade = cv2.CascadeClassifier(haar_model)\n",
    "\n",
    "def generate_mounth_video_dict(path:str) -> dict[str:List[float]]:\n",
    "    video_dict= {}\n",
    "    if not os.path.exists(path):\n",
    "        raise FileNotFoundError(f'{path} does not exist')\n",
    "    for file in os.listdir(path):\n",
    "        if file.endswith('.mpg'):\n",
    "            cap = cv2.VideoCapture(os.path.join(path, file))\n",
    "            frames = []\n",
    "            for _ in range(int(cap.get(cv2.CAP_PROP_FRAME_COUNT))):\n",
    "                ret, frame = cap.read()\n",
    "                # frame = tf.image.rgb_to_grayscale(frame)\n",
    "                gray_frame = cv2.cvtColor(frame, cv2.COLOR_BGR2GRAY)\n",
    "                lips = lip_cascade.detectMultiScale(gray_frame, 1.1, 4)\n",
    "                for (x, y, w, h) in lips:\n",
    "                    frame = gray_frame[y:y + h, x:x + w]\n",
    "                    frame = tf.image.resize(frame, [46, 140, 1])\n",
    "                frames.append(frame)\n",
    "\n",
    "                frames.append(frame)\n",
    "            cap.release()\n",
    "            mean = tf.math.reduce_mean(frames)\n",
    "            std = tf.math.reduce_std(tf.cast(frames, tf.float16))\n",
    "            video_dict[file] = tf.cast((frames - mean), tf.float16) / std\n",
    "    return video_dict\n",
    "def load_video(path:str) -> List[float]:\n",
    "\n",
    "    cap = cv2.VideoCapture(path)\n",
    "    frames = []\n",
    "    for _ in range(int(cap.get(cv2.CAP_PROP_FRAME_COUNT))):\n",
    "        ret, frame = cap.read()\n",
    "        frame = tf.image.rgb_to_grayscale(frame)\n",
    "        frames.append(frame[190:236,80:220,:])\n",
    "    cap.release()  # close the video file\n",
    "\n",
    "    mean = tf.math.reduce_mean(frames)  # compute the mean\n",
    "    std = tf.math.reduce_std(tf.cast(frames, tf.float32)) # compute the standard deviation\n",
    "    return tf.cast((frames - mean), tf.float32) / std # normalize to zero mean and unit variance\n",
    "video_dict=None"
   ]
  },
  {
   "cell_type": "code",
   "execution_count": 23,
   "id": "8548cc59-6dfc-4acc-abc3-3e65212db02e",
   "metadata": {
    "tags": [],
    "ExecuteTime": {
     "end_time": "2024-02-12T21:47:33.871814592Z",
     "start_time": "2024-02-12T21:47:15.539717315Z"
    }
   },
   "outputs": [
    {
     "name": "stderr",
     "output_type": "stream",
     "text": [
      "2024-02-12 21:47:23.729586: I external/local_xla/xla/stream_executor/cuda/cuda_driver.cc:1101] failed to allocate 199.20MiB (208877824 bytes) from device: CUDA_ERROR_OUT_OF_MEMORY: out of memory\n",
      "2024-02-12 21:47:23.729895: I external/local_xla/xla/stream_executor/cuda/cuda_driver.cc:1101] failed to allocate 199.20MiB (208877824 bytes) from device: CUDA_ERROR_OUT_OF_MEMORY: out of memory\n",
      "2024-02-12 21:47:33.730416: I external/local_xla/xla/stream_executor/cuda/cuda_driver.cc:1101] failed to allocate 199.20MiB (208877824 bytes) from device: CUDA_ERROR_OUT_OF_MEMORY: out of memory\n",
      "2024-02-12 21:47:33.730864: I external/local_xla/xla/stream_executor/cuda/cuda_driver.cc:1101] failed to allocate 199.20MiB (208877824 bytes) from device: CUDA_ERROR_OUT_OF_MEMORY: out of memory\n",
      "2024-02-12 21:47:33.730877: W external/local_tsl/tsl/framework/bfc_allocator.cc:485] Allocator (GPU_0_bfc) ran out of memory trying to allocate 943.4KiB (rounded to 966144)requested by op Square\n",
      "If the cause is memory fragmentation maybe the environment variable 'TF_GPU_ALLOCATOR=cuda_malloc_async' will improve the situation. \n",
      "Current allocation summary follows.\n",
      "Current allocation summary follows.\n",
      "2024-02-12 21:47:33.730897: I external/local_tsl/tsl/framework/bfc_allocator.cc:1039] BFCAllocator dump for GPU_0_bfc\n",
      "2024-02-12 21:47:33.730904: I external/local_tsl/tsl/framework/bfc_allocator.cc:1046] Bin (256): \tTotal Chunks: 6, Chunks in use: 6. 1.5KiB allocated for chunks. 1.5KiB in use in bin. 15B client-requested in use in bin.\n",
      "2024-02-12 21:47:33.730910: I external/local_tsl/tsl/framework/bfc_allocator.cc:1046] Bin (512): \tTotal Chunks: 0, Chunks in use: 0. 0B allocated for chunks. 0B in use in bin. 0B client-requested in use in bin.\n",
      "2024-02-12 21:47:33.730918: I external/local_tsl/tsl/framework/bfc_allocator.cc:1046] Bin (1024): \tTotal Chunks: 1, Chunks in use: 1. 1.2KiB allocated for chunks. 1.2KiB in use in bin. 1.0KiB client-requested in use in bin.\n",
      "2024-02-12 21:47:33.730925: I external/local_tsl/tsl/framework/bfc_allocator.cc:1046] Bin (2048): \tTotal Chunks: 0, Chunks in use: 0. 0B allocated for chunks. 0B in use in bin. 0B client-requested in use in bin.\n",
      "2024-02-12 21:47:33.730933: I external/local_tsl/tsl/framework/bfc_allocator.cc:1046] Bin (4096): \tTotal Chunks: 120, Chunks in use: 120. 780.0KiB allocated for chunks. 780.0KiB in use in bin. 754.7KiB client-requested in use in bin.\n",
      "2024-02-12 21:47:33.730942: I external/local_tsl/tsl/framework/bfc_allocator.cc:1046] Bin (8192): \tTotal Chunks: 2, Chunks in use: 2. 22.2KiB allocated for chunks. 22.2KiB in use in bin. 12.6KiB client-requested in use in bin.\n",
      "2024-02-12 21:47:33.730950: I external/local_tsl/tsl/framework/bfc_allocator.cc:1046] Bin (16384): \tTotal Chunks: 2, Chunks in use: 2. 39.0KiB allocated for chunks. 39.0KiB in use in bin. 38.8KiB client-requested in use in bin.\n",
      "2024-02-12 21:47:33.730957: I external/local_tsl/tsl/framework/bfc_allocator.cc:1046] Bin (32768): \tTotal Chunks: 0, Chunks in use: 0. 0B allocated for chunks. 0B in use in bin. 0B client-requested in use in bin.\n",
      "2024-02-12 21:47:33.730966: I external/local_tsl/tsl/framework/bfc_allocator.cc:1046] Bin (65536): \tTotal Chunks: 2, Chunks in use: 2. 205.2KiB allocated for chunks. 205.2KiB in use in bin. 202.5KiB client-requested in use in bin.\n",
      "2024-02-12 21:47:33.730972: I external/local_tsl/tsl/framework/bfc_allocator.cc:1046] Bin (131072): \tTotal Chunks: 0, Chunks in use: 0. 0B allocated for chunks. 0B in use in bin. 0B client-requested in use in bin.\n",
      "2024-02-12 21:47:33.730980: I external/local_tsl/tsl/framework/bfc_allocator.cc:1046] Bin (262144): \tTotal Chunks: 0, Chunks in use: 0. 0B allocated for chunks. 0B in use in bin. 0B client-requested in use in bin.\n",
      "2024-02-12 21:47:33.730989: I external/local_tsl/tsl/framework/bfc_allocator.cc:1046] Bin (524288): \tTotal Chunks: 903, Chunks in use: 902. 831.94MiB allocated for chunks. 831.09MiB in use in bin. 830.97MiB client-requested in use in bin.\n",
      "2024-02-12 21:47:33.730999: I external/local_tsl/tsl/framework/bfc_allocator.cc:1046] Bin (1048576): \tTotal Chunks: 9, Chunks in use: 9. 12.96MiB allocated for chunks. 12.96MiB in use in bin. 8.29MiB client-requested in use in bin.\n",
      "2024-02-12 21:47:33.731006: I external/local_tsl/tsl/framework/bfc_allocator.cc:1046] Bin (2097152): \tTotal Chunks: 0, Chunks in use: 0. 0B allocated for chunks. 0B in use in bin. 0B client-requested in use in bin.\n",
      "2024-02-12 21:47:33.731012: I external/local_tsl/tsl/framework/bfc_allocator.cc:1046] Bin (4194304): \tTotal Chunks: 0, Chunks in use: 0. 0B allocated for chunks. 0B in use in bin. 0B client-requested in use in bin.\n",
      "2024-02-12 21:47:33.731020: I external/local_tsl/tsl/framework/bfc_allocator.cc:1046] Bin (8388608): \tTotal Chunks: 0, Chunks in use: 0. 0B allocated for chunks. 0B in use in bin. 0B client-requested in use in bin.\n",
      "2024-02-12 21:47:33.731027: I external/local_tsl/tsl/framework/bfc_allocator.cc:1046] Bin (16777216): \tTotal Chunks: 0, Chunks in use: 0. 0B allocated for chunks. 0B in use in bin. 0B client-requested in use in bin.\n",
      "2024-02-12 21:47:33.731034: I external/local_tsl/tsl/framework/bfc_allocator.cc:1046] Bin (33554432): \tTotal Chunks: 0, Chunks in use: 0. 0B allocated for chunks. 0B in use in bin. 0B client-requested in use in bin.\n",
      "2024-02-12 21:47:33.731041: I external/local_tsl/tsl/framework/bfc_allocator.cc:1046] Bin (67108864): \tTotal Chunks: 0, Chunks in use: 0. 0B allocated for chunks. 0B in use in bin. 0B client-requested in use in bin.\n",
      "2024-02-12 21:47:33.731049: I external/local_tsl/tsl/framework/bfc_allocator.cc:1046] Bin (134217728): \tTotal Chunks: 0, Chunks in use: 0. 0B allocated for chunks. 0B in use in bin. 0B client-requested in use in bin.\n",
      "2024-02-12 21:47:33.731056: I external/local_tsl/tsl/framework/bfc_allocator.cc:1046] Bin (268435456): \tTotal Chunks: 0, Chunks in use: 0. 0B allocated for chunks. 0B in use in bin. 0B client-requested in use in bin.\n",
      "2024-02-12 21:47:33.731063: I external/local_tsl/tsl/framework/bfc_allocator.cc:1062] Bin for 943.5KiB was 512.0KiB, Chunk State: \n",
      "2024-02-12 21:47:33.731074: I external/local_tsl/tsl/framework/bfc_allocator.cc:1068]   Size: 866.5KiB | Requested Size: 4.2KiB | in_use: 0 | bin_num: 11, prev:   Size: 256B | Requested Size: 2B | in_use: 1 | bin_num: -1\n",
      "2024-02-12 21:47:33.731080: I external/local_tsl/tsl/framework/bfc_allocator.cc:1075] Next region of size 352241408\n",
      "2024-02-12 21:47:33.731097: I external/local_tsl/tsl/framework/bfc_allocator.cc:1095] InUse at 7f5faa000000 of size 966144 next 607\n",
      "2024-02-12 21:47:33.731103: I external/local_tsl/tsl/framework/bfc_allocator.cc:1095] InUse at 7f5faa0ebe00 of size 966144 next 608\n",
      "2024-02-12 21:47:33.731108: I external/local_tsl/tsl/framework/bfc_allocator.cc:1095] InUse at 7f5faa1d7c00 of size 966144 next 609\n",
      "2024-02-12 21:47:33.731113: I external/local_tsl/tsl/framework/bfc_allocator.cc:1095] InUse at 7f5faa2c3a00 of size 966144 next 610\n",
      "2024-02-12 21:47:33.731119: I external/local_tsl/tsl/framework/bfc_allocator.cc:1095] InUse at 7f5faa3af800 of size 966144 next 611\n",
      "2024-02-12 21:47:33.731124: I external/local_tsl/tsl/framework/bfc_allocator.cc:1095] InUse at 7f5faa49b600 of size 966144 next 612\n",
      "2024-02-12 21:47:33.731129: I external/local_tsl/tsl/framework/bfc_allocator.cc:1095] InUse at 7f5faa587400 of size 966144 next 613\n",
      "2024-02-12 21:47:33.731134: I external/local_tsl/tsl/framework/bfc_allocator.cc:1095] InUse at 7f5faa673200 of size 966144 next 614\n",
      "2024-02-12 21:47:33.731139: I external/local_tsl/tsl/framework/bfc_allocator.cc:1095] InUse at 7f5faa75f000 of size 966144 next 615\n",
      "2024-02-12 21:47:33.731144: I external/local_tsl/tsl/framework/bfc_allocator.cc:1095] InUse at 7f5faa84ae00 of size 966144 next 616\n",
      "2024-02-12 21:47:33.731150: I external/local_tsl/tsl/framework/bfc_allocator.cc:1095] InUse at 7f5faa936c00 of size 966144 next 617\n",
      "2024-02-12 21:47:33.731155: I external/local_tsl/tsl/framework/bfc_allocator.cc:1095] InUse at 7f5faaa22a00 of size 966144 next 618\n",
      "2024-02-12 21:47:33.731161: I external/local_tsl/tsl/framework/bfc_allocator.cc:1095] InUse at 7f5faab0e800 of size 966144 next 619\n",
      "2024-02-12 21:47:33.731165: I external/local_tsl/tsl/framework/bfc_allocator.cc:1095] InUse at 7f5faabfa600 of size 966144 next 620\n",
      "2024-02-12 21:47:33.731170: I external/local_tsl/tsl/framework/bfc_allocator.cc:1095] InUse at 7f5faace6400 of size 966144 next 621\n",
      "2024-02-12 21:47:33.731174: I external/local_tsl/tsl/framework/bfc_allocator.cc:1095] InUse at 7f5faadd2200 of size 966144 next 622\n",
      "2024-02-12 21:47:33.731178: I external/local_tsl/tsl/framework/bfc_allocator.cc:1095] InUse at 7f5faaebe000 of size 966144 next 623\n",
      "2024-02-12 21:47:33.731183: I external/local_tsl/tsl/framework/bfc_allocator.cc:1095] InUse at 7f5faafa9e00 of size 966144 next 624\n",
      "2024-02-12 21:47:33.731187: I external/local_tsl/tsl/framework/bfc_allocator.cc:1095] InUse at 7f5fab095c00 of size 966144 next 625\n",
      "2024-02-12 21:47:33.731192: I external/local_tsl/tsl/framework/bfc_allocator.cc:1095] InUse at 7f5fab181a00 of size 966144 next 626\n",
      "2024-02-12 21:47:33.731197: I external/local_tsl/tsl/framework/bfc_allocator.cc:1095] InUse at 7f5fab26d800 of size 966144 next 627\n",
      "2024-02-12 21:47:33.731203: I external/local_tsl/tsl/framework/bfc_allocator.cc:1095] InUse at 7f5fab359600 of size 966144 next 628\n",
      "2024-02-12 21:47:33.731208: I external/local_tsl/tsl/framework/bfc_allocator.cc:1095] InUse at 7f5fab445400 of size 966144 next 629\n",
      "2024-02-12 21:47:33.731213: I external/local_tsl/tsl/framework/bfc_allocator.cc:1095] InUse at 7f5fab531200 of size 966144 next 630\n",
      "2024-02-12 21:47:33.731219: I external/local_tsl/tsl/framework/bfc_allocator.cc:1095] InUse at 7f5fab61d000 of size 966144 next 631\n",
      "2024-02-12 21:47:33.731224: I external/local_tsl/tsl/framework/bfc_allocator.cc:1095] InUse at 7f5fab708e00 of size 966144 next 632\n",
      "2024-02-12 21:47:33.731229: I external/local_tsl/tsl/framework/bfc_allocator.cc:1095] InUse at 7f5fab7f4c00 of size 966144 next 587\n",
      "2024-02-12 21:47:33.731234: I external/local_tsl/tsl/framework/bfc_allocator.cc:1095] InUse at 7f5fab8e0a00 of size 966144 next 633\n",
      "2024-02-12 21:47:33.731239: I external/local_tsl/tsl/framework/bfc_allocator.cc:1095] InUse at 7f5fab9cc800 of size 966144 next 567\n",
      "2024-02-12 21:47:33.731245: I external/local_tsl/tsl/framework/bfc_allocator.cc:1095] InUse at 7f5fabab8600 of size 966144 next 568\n",
      "2024-02-12 21:47:33.731250: I external/local_tsl/tsl/framework/bfc_allocator.cc:1095] InUse at 7f5fabba4400 of size 966144 next 602\n",
      "2024-02-12 21:47:33.731255: I external/local_tsl/tsl/framework/bfc_allocator.cc:1095] InUse at 7f5fabc90200 of size 966144 next 603\n",
      "2024-02-12 21:47:33.731260: I external/local_tsl/tsl/framework/bfc_allocator.cc:1095] InUse at 7f5fabd7c000 of size 966144 next 604\n",
      "2024-02-12 21:47:33.731265: I external/local_tsl/tsl/framework/bfc_allocator.cc:1095] InUse at 7f5fabe67e00 of size 966144 next 605\n",
      "2024-02-12 21:47:33.731271: I external/local_tsl/tsl/framework/bfc_allocator.cc:1095] InUse at 7f5fabf53c00 of size 966144 next 606\n",
      "2024-02-12 21:47:33.731275: I external/local_tsl/tsl/framework/bfc_allocator.cc:1095] InUse at 7f5fac03fa00 of size 966144 next 561\n",
      "2024-02-12 21:47:33.731280: I external/local_tsl/tsl/framework/bfc_allocator.cc:1095] InUse at 7f5fac12b800 of size 966144 next 562\n",
      "2024-02-12 21:47:33.731285: I external/local_tsl/tsl/framework/bfc_allocator.cc:1095] InUse at 7f5fac217600 of size 966144 next 563\n",
      "2024-02-12 21:47:33.731290: I external/local_tsl/tsl/framework/bfc_allocator.cc:1095] InUse at 7f5fac303400 of size 966144 next 564\n",
      "2024-02-12 21:47:33.731296: I external/local_tsl/tsl/framework/bfc_allocator.cc:1095] InUse at 7f5fac3ef200 of size 966144 next 565\n",
      "2024-02-12 21:47:33.731300: I external/local_tsl/tsl/framework/bfc_allocator.cc:1095] InUse at 7f5fac4db000 of size 966144 next 560\n",
      "2024-02-12 21:47:33.731306: I external/local_tsl/tsl/framework/bfc_allocator.cc:1095] InUse at 7f5fac5c6e00 of size 966144 next 324\n",
      "2024-02-12 21:47:33.731310: I external/local_tsl/tsl/framework/bfc_allocator.cc:1095] InUse at 7f5fac6b2c00 of size 966144 next 591\n",
      "2024-02-12 21:47:33.731314: I external/local_tsl/tsl/framework/bfc_allocator.cc:1095] InUse at 7f5fac79ea00 of size 966144 next 592\n",
      "2024-02-12 21:47:33.731319: I external/local_tsl/tsl/framework/bfc_allocator.cc:1095] InUse at 7f5fac88a800 of size 966144 next 593\n",
      "2024-02-12 21:47:33.731323: I external/local_tsl/tsl/framework/bfc_allocator.cc:1095] InUse at 7f5fac976600 of size 966144 next 594\n",
      "2024-02-12 21:47:33.731327: I external/local_tsl/tsl/framework/bfc_allocator.cc:1095] InUse at 7f5faca62400 of size 966144 next 595\n",
      "2024-02-12 21:47:33.731332: I external/local_tsl/tsl/framework/bfc_allocator.cc:1095] InUse at 7f5facb4e200 of size 966144 next 596\n",
      "2024-02-12 21:47:33.731337: I external/local_tsl/tsl/framework/bfc_allocator.cc:1095] InUse at 7f5facc3a000 of size 966144 next 597\n",
      "2024-02-12 21:47:33.731341: I external/local_tsl/tsl/framework/bfc_allocator.cc:1095] InUse at 7f5facd25e00 of size 966144 next 598\n",
      "2024-02-12 21:47:33.731346: I external/local_tsl/tsl/framework/bfc_allocator.cc:1095] InUse at 7f5face11c00 of size 966144 next 599\n",
      "2024-02-12 21:47:33.731352: I external/local_tsl/tsl/framework/bfc_allocator.cc:1095] InUse at 7f5facefda00 of size 966144 next 600\n",
      "2024-02-12 21:47:33.731357: I external/local_tsl/tsl/framework/bfc_allocator.cc:1095] InUse at 7f5facfe9800 of size 966144 next 588\n",
      "2024-02-12 21:47:33.731362: I external/local_tsl/tsl/framework/bfc_allocator.cc:1095] InUse at 7f5fad0d5600 of size 966144 next 589\n",
      "2024-02-12 21:47:33.731367: I external/local_tsl/tsl/framework/bfc_allocator.cc:1095] InUse at 7f5fad1c1400 of size 966144 next 590\n",
      "2024-02-12 21:47:33.731372: I external/local_tsl/tsl/framework/bfc_allocator.cc:1095] InUse at 7f5fad2ad200 of size 966144 next 569\n",
      "2024-02-12 21:47:33.731377: I external/local_tsl/tsl/framework/bfc_allocator.cc:1095] InUse at 7f5fad399000 of size 966144 next 570\n",
      "2024-02-12 21:47:33.731382: I external/local_tsl/tsl/framework/bfc_allocator.cc:1095] InUse at 7f5fad484e00 of size 966144 next 571\n",
      "2024-02-12 21:47:33.731387: I external/local_tsl/tsl/framework/bfc_allocator.cc:1095] InUse at 7f5fad570c00 of size 966144 next 572\n",
      "2024-02-12 21:47:33.731392: I external/local_tsl/tsl/framework/bfc_allocator.cc:1095] InUse at 7f5fad65ca00 of size 966144 next 573\n",
      "2024-02-12 21:47:33.731397: I external/local_tsl/tsl/framework/bfc_allocator.cc:1095] InUse at 7f5fad748800 of size 966144 next 574\n",
      "2024-02-12 21:47:33.731403: I external/local_tsl/tsl/framework/bfc_allocator.cc:1095] InUse at 7f5fad834600 of size 966144 next 575\n",
      "2024-02-12 21:47:33.731408: I external/local_tsl/tsl/framework/bfc_allocator.cc:1095] InUse at 7f5fad920400 of size 966144 next 576\n",
      "2024-02-12 21:47:33.731413: I external/local_tsl/tsl/framework/bfc_allocator.cc:1095] InUse at 7f5fada0c200 of size 966144 next 577\n",
      "2024-02-12 21:47:33.731418: I external/local_tsl/tsl/framework/bfc_allocator.cc:1095] InUse at 7f5fadaf8000 of size 966144 next 578\n",
      "2024-02-12 21:47:33.731423: I external/local_tsl/tsl/framework/bfc_allocator.cc:1095] InUse at 7f5fadbe3e00 of size 966144 next 579\n",
      "2024-02-12 21:47:33.731427: I external/local_tsl/tsl/framework/bfc_allocator.cc:1095] InUse at 7f5fadccfc00 of size 966144 next 580\n",
      "2024-02-12 21:47:33.731431: I external/local_tsl/tsl/framework/bfc_allocator.cc:1095] InUse at 7f5faddbba00 of size 966144 next 581\n",
      "2024-02-12 21:47:33.731435: I external/local_tsl/tsl/framework/bfc_allocator.cc:1095] InUse at 7f5fadea7800 of size 966144 next 582\n",
      "2024-02-12 21:47:33.731440: I external/local_tsl/tsl/framework/bfc_allocator.cc:1095] InUse at 7f5fadf93600 of size 966144 next 583\n",
      "2024-02-12 21:47:33.731444: I external/local_tsl/tsl/framework/bfc_allocator.cc:1095] InUse at 7f5fae07f400 of size 966144 next 584\n",
      "2024-02-12 21:47:33.731447: I external/local_tsl/tsl/framework/bfc_allocator.cc:1095] InUse at 7f5fae16b200 of size 966144 next 585\n",
      "2024-02-12 21:47:33.731451: I external/local_tsl/tsl/framework/bfc_allocator.cc:1095] InUse at 7f5fae257000 of size 966144 next 586\n",
      "2024-02-12 21:47:33.731456: I external/local_tsl/tsl/framework/bfc_allocator.cc:1095] InUse at 7f5fae342e00 of size 966144 next 634\n",
      "2024-02-12 21:47:33.731461: I external/local_tsl/tsl/framework/bfc_allocator.cc:1095] InUse at 7f5fae42ec00 of size 966144 next 635\n",
      "2024-02-12 21:47:33.731466: I external/local_tsl/tsl/framework/bfc_allocator.cc:1095] InUse at 7f5fae51aa00 of size 966144 next 636\n",
      "2024-02-12 21:47:33.731471: I external/local_tsl/tsl/framework/bfc_allocator.cc:1095] InUse at 7f5fae606800 of size 966144 next 637\n",
      "2024-02-12 21:47:33.731476: I external/local_tsl/tsl/framework/bfc_allocator.cc:1095] InUse at 7f5fae6f2600 of size 966144 next 638\n",
      "2024-02-12 21:47:33.731481: I external/local_tsl/tsl/framework/bfc_allocator.cc:1095] InUse at 7f5fae7de400 of size 966144 next 639\n",
      "2024-02-12 21:47:33.731486: I external/local_tsl/tsl/framework/bfc_allocator.cc:1095] InUse at 7f5fae8ca200 of size 966144 next 640\n",
      "2024-02-12 21:47:33.731491: I external/local_tsl/tsl/framework/bfc_allocator.cc:1095] InUse at 7f5fae9b6000 of size 966144 next 641\n",
      "2024-02-12 21:47:33.731497: I external/local_tsl/tsl/framework/bfc_allocator.cc:1095] InUse at 7f5faeaa1e00 of size 966144 next 642\n",
      "2024-02-12 21:47:33.731502: I external/local_tsl/tsl/framework/bfc_allocator.cc:1095] InUse at 7f5faeb8dc00 of size 966144 next 643\n",
      "2024-02-12 21:47:33.731507: I external/local_tsl/tsl/framework/bfc_allocator.cc:1095] InUse at 7f5faec79a00 of size 966144 next 644\n",
      "2024-02-12 21:47:33.731512: I external/local_tsl/tsl/framework/bfc_allocator.cc:1095] InUse at 7f5faed65800 of size 966144 next 645\n",
      "2024-02-12 21:47:33.731517: I external/local_tsl/tsl/framework/bfc_allocator.cc:1095] InUse at 7f5faee51600 of size 966144 next 646\n",
      "2024-02-12 21:47:33.731522: I external/local_tsl/tsl/framework/bfc_allocator.cc:1095] InUse at 7f5faef3d400 of size 966144 next 647\n",
      "2024-02-12 21:47:33.731527: I external/local_tsl/tsl/framework/bfc_allocator.cc:1095] InUse at 7f5faf029200 of size 966144 next 648\n",
      "2024-02-12 21:47:33.731532: I external/local_tsl/tsl/framework/bfc_allocator.cc:1095] InUse at 7f5faf115000 of size 966144 next 649\n",
      "2024-02-12 21:47:33.731538: I external/local_tsl/tsl/framework/bfc_allocator.cc:1095] InUse at 7f5faf200e00 of size 966144 next 650\n",
      "2024-02-12 21:47:33.731543: I external/local_tsl/tsl/framework/bfc_allocator.cc:1095] InUse at 7f5faf2ecc00 of size 966144 next 651\n",
      "2024-02-12 21:47:33.731548: I external/local_tsl/tsl/framework/bfc_allocator.cc:1095] InUse at 7f5faf3d8a00 of size 966144 next 652\n",
      "2024-02-12 21:47:33.731553: I external/local_tsl/tsl/framework/bfc_allocator.cc:1095] InUse at 7f5faf4c4800 of size 966144 next 653\n",
      "2024-02-12 21:47:33.731557: I external/local_tsl/tsl/framework/bfc_allocator.cc:1095] InUse at 7f5faf5b0600 of size 966144 next 654\n",
      "2024-02-12 21:47:33.731562: I external/local_tsl/tsl/framework/bfc_allocator.cc:1095] InUse at 7f5faf69c400 of size 966144 next 655\n",
      "2024-02-12 21:47:33.731568: I external/local_tsl/tsl/framework/bfc_allocator.cc:1095] InUse at 7f5faf788200 of size 966144 next 656\n",
      "2024-02-12 21:47:33.731573: I external/local_tsl/tsl/framework/bfc_allocator.cc:1095] InUse at 7f5faf874000 of size 966144 next 657\n",
      "2024-02-12 21:47:33.731578: I external/local_tsl/tsl/framework/bfc_allocator.cc:1095] InUse at 7f5faf95fe00 of size 966144 next 658\n",
      "2024-02-12 21:47:33.731583: I external/local_tsl/tsl/framework/bfc_allocator.cc:1095] InUse at 7f5fafa4bc00 of size 966144 next 659\n",
      "2024-02-12 21:47:33.731588: I external/local_tsl/tsl/framework/bfc_allocator.cc:1095] InUse at 7f5fafb37a00 of size 966144 next 660\n",
      "2024-02-12 21:47:33.731593: I external/local_tsl/tsl/framework/bfc_allocator.cc:1095] InUse at 7f5fafc23800 of size 966144 next 661\n",
      "2024-02-12 21:47:33.731598: I external/local_tsl/tsl/framework/bfc_allocator.cc:1095] InUse at 7f5fafd0f600 of size 966144 next 662\n",
      "2024-02-12 21:47:33.731603: I external/local_tsl/tsl/framework/bfc_allocator.cc:1095] InUse at 7f5fafdfb400 of size 966144 next 663\n",
      "2024-02-12 21:47:33.731609: I external/local_tsl/tsl/framework/bfc_allocator.cc:1095] InUse at 7f5fafee7200 of size 966144 next 664\n",
      "2024-02-12 21:47:33.731614: I external/local_tsl/tsl/framework/bfc_allocator.cc:1095] InUse at 7f5faffd3000 of size 966144 next 665\n",
      "2024-02-12 21:47:33.731619: I external/local_tsl/tsl/framework/bfc_allocator.cc:1095] InUse at 7f5fb00bee00 of size 966144 next 666\n",
      "2024-02-12 21:47:33.731623: I external/local_tsl/tsl/framework/bfc_allocator.cc:1095] InUse at 7f5fb01aac00 of size 966144 next 667\n",
      "2024-02-12 21:47:33.731629: I external/local_tsl/tsl/framework/bfc_allocator.cc:1095] InUse at 7f5fb0296a00 of size 966144 next 668\n",
      "2024-02-12 21:47:33.731633: I external/local_tsl/tsl/framework/bfc_allocator.cc:1095] InUse at 7f5fb0382800 of size 966144 next 669\n",
      "2024-02-12 21:47:33.731638: I external/local_tsl/tsl/framework/bfc_allocator.cc:1095] InUse at 7f5fb046e600 of size 966144 next 670\n",
      "2024-02-12 21:47:33.731643: I external/local_tsl/tsl/framework/bfc_allocator.cc:1095] InUse at 7f5fb055a400 of size 966144 next 671\n",
      "2024-02-12 21:47:33.731648: I external/local_tsl/tsl/framework/bfc_allocator.cc:1095] InUse at 7f5fb0646200 of size 966144 next 672\n",
      "2024-02-12 21:47:33.731653: I external/local_tsl/tsl/framework/bfc_allocator.cc:1095] InUse at 7f5fb0732000 of size 966144 next 673\n",
      "2024-02-12 21:47:33.731658: I external/local_tsl/tsl/framework/bfc_allocator.cc:1095] InUse at 7f5fb081de00 of size 966144 next 674\n",
      "2024-02-12 21:47:33.731663: I external/local_tsl/tsl/framework/bfc_allocator.cc:1095] InUse at 7f5fb0909c00 of size 966144 next 675\n",
      "2024-02-12 21:47:33.731668: I external/local_tsl/tsl/framework/bfc_allocator.cc:1095] InUse at 7f5fb09f5a00 of size 966144 next 676\n",
      "2024-02-12 21:47:33.731673: I external/local_tsl/tsl/framework/bfc_allocator.cc:1095] InUse at 7f5fb0ae1800 of size 966144 next 677\n",
      "2024-02-12 21:47:33.731678: I external/local_tsl/tsl/framework/bfc_allocator.cc:1095] InUse at 7f5fb0bcd600 of size 966144 next 678\n",
      "2024-02-12 21:47:33.731683: I external/local_tsl/tsl/framework/bfc_allocator.cc:1095] InUse at 7f5fb0cb9400 of size 966144 next 679\n",
      "2024-02-12 21:47:33.731688: I external/local_tsl/tsl/framework/bfc_allocator.cc:1095] InUse at 7f5fb0da5200 of size 966144 next 680\n",
      "2024-02-12 21:47:33.731693: I external/local_tsl/tsl/framework/bfc_allocator.cc:1095] InUse at 7f5fb0e91000 of size 966144 next 681\n",
      "2024-02-12 21:47:33.731698: I external/local_tsl/tsl/framework/bfc_allocator.cc:1095] InUse at 7f5fb0f7ce00 of size 966144 next 682\n",
      "2024-02-12 21:47:33.731703: I external/local_tsl/tsl/framework/bfc_allocator.cc:1095] InUse at 7f5fb1068c00 of size 966144 next 683\n",
      "2024-02-12 21:47:33.731708: I external/local_tsl/tsl/framework/bfc_allocator.cc:1095] InUse at 7f5fb1154a00 of size 966144 next 684\n",
      "2024-02-12 21:47:33.731713: I external/local_tsl/tsl/framework/bfc_allocator.cc:1095] InUse at 7f5fb1240800 of size 966144 next 685\n",
      "2024-02-12 21:47:33.731718: I external/local_tsl/tsl/framework/bfc_allocator.cc:1095] InUse at 7f5fb132c600 of size 966144 next 686\n",
      "2024-02-12 21:47:33.731723: I external/local_tsl/tsl/framework/bfc_allocator.cc:1095] InUse at 7f5fb1418400 of size 966144 next 687\n",
      "2024-02-12 21:47:33.731727: I external/local_tsl/tsl/framework/bfc_allocator.cc:1095] InUse at 7f5fb1504200 of size 966144 next 688\n",
      "2024-02-12 21:47:33.731733: I external/local_tsl/tsl/framework/bfc_allocator.cc:1095] InUse at 7f5fb15f0000 of size 966144 next 689\n",
      "2024-02-12 21:47:33.731738: I external/local_tsl/tsl/framework/bfc_allocator.cc:1095] InUse at 7f5fb16dbe00 of size 966144 next 690\n",
      "2024-02-12 21:47:33.731743: I external/local_tsl/tsl/framework/bfc_allocator.cc:1095] InUse at 7f5fb17c7c00 of size 966144 next 691\n",
      "2024-02-12 21:47:33.731747: I external/local_tsl/tsl/framework/bfc_allocator.cc:1095] InUse at 7f5fb18b3a00 of size 966144 next 692\n",
      "2024-02-12 21:47:33.731753: I external/local_tsl/tsl/framework/bfc_allocator.cc:1095] InUse at 7f5fb199f800 of size 966144 next 693\n",
      "2024-02-12 21:47:33.731757: I external/local_tsl/tsl/framework/bfc_allocator.cc:1095] InUse at 7f5fb1a8b600 of size 966144 next 694\n",
      "2024-02-12 21:47:33.731762: I external/local_tsl/tsl/framework/bfc_allocator.cc:1095] InUse at 7f5fb1b77400 of size 966144 next 695\n",
      "2024-02-12 21:47:33.731767: I external/local_tsl/tsl/framework/bfc_allocator.cc:1095] InUse at 7f5fb1c63200 of size 966144 next 696\n",
      "2024-02-12 21:47:33.731772: I external/local_tsl/tsl/framework/bfc_allocator.cc:1095] InUse at 7f5fb1d4f000 of size 966144 next 697\n",
      "2024-02-12 21:47:33.731777: I external/local_tsl/tsl/framework/bfc_allocator.cc:1095] InUse at 7f5fb1e3ae00 of size 966144 next 698\n",
      "2024-02-12 21:47:33.731782: I external/local_tsl/tsl/framework/bfc_allocator.cc:1095] InUse at 7f5fb1f26c00 of size 966144 next 699\n",
      "2024-02-12 21:47:33.731787: I external/local_tsl/tsl/framework/bfc_allocator.cc:1095] InUse at 7f5fb2012a00 of size 966144 next 700\n",
      "2024-02-12 21:47:33.731793: I external/local_tsl/tsl/framework/bfc_allocator.cc:1095] InUse at 7f5fb20fe800 of size 966144 next 701\n",
      "2024-02-12 21:47:33.731798: I external/local_tsl/tsl/framework/bfc_allocator.cc:1095] InUse at 7f5fb21ea600 of size 966144 next 702\n",
      "2024-02-12 21:47:33.731803: I external/local_tsl/tsl/framework/bfc_allocator.cc:1095] InUse at 7f5fb22d6400 of size 966144 next 703\n",
      "2024-02-12 21:47:33.731809: I external/local_tsl/tsl/framework/bfc_allocator.cc:1095] InUse at 7f5fb23c2200 of size 966144 next 704\n",
      "2024-02-12 21:47:33.731813: I external/local_tsl/tsl/framework/bfc_allocator.cc:1095] InUse at 7f5fb24ae000 of size 966144 next 705\n",
      "2024-02-12 21:47:33.731818: I external/local_tsl/tsl/framework/bfc_allocator.cc:1095] InUse at 7f5fb2599e00 of size 966144 next 706\n",
      "2024-02-12 21:47:33.731824: I external/local_tsl/tsl/framework/bfc_allocator.cc:1095] InUse at 7f5fb2685c00 of size 966144 next 707\n",
      "2024-02-12 21:47:33.731829: I external/local_tsl/tsl/framework/bfc_allocator.cc:1095] InUse at 7f5fb2771a00 of size 966144 next 708\n",
      "2024-02-12 21:47:33.731833: I external/local_tsl/tsl/framework/bfc_allocator.cc:1095] InUse at 7f5fb285d800 of size 966144 next 709\n",
      "2024-02-12 21:47:33.731838: I external/local_tsl/tsl/framework/bfc_allocator.cc:1095] InUse at 7f5fb2949600 of size 966144 next 710\n",
      "2024-02-12 21:47:33.731844: I external/local_tsl/tsl/framework/bfc_allocator.cc:1095] InUse at 7f5fb2a35400 of size 966144 next 711\n",
      "2024-02-12 21:47:33.731848: I external/local_tsl/tsl/framework/bfc_allocator.cc:1095] InUse at 7f5fb2b21200 of size 966144 next 712\n",
      "2024-02-12 21:47:33.731853: I external/local_tsl/tsl/framework/bfc_allocator.cc:1095] InUse at 7f5fb2c0d000 of size 966144 next 713\n",
      "2024-02-12 21:47:33.731858: I external/local_tsl/tsl/framework/bfc_allocator.cc:1095] InUse at 7f5fb2cf8e00 of size 966144 next 714\n",
      "2024-02-12 21:47:33.731863: I external/local_tsl/tsl/framework/bfc_allocator.cc:1095] InUse at 7f5fb2de4c00 of size 966144 next 715\n",
      "2024-02-12 21:47:33.731868: I external/local_tsl/tsl/framework/bfc_allocator.cc:1095] InUse at 7f5fb2ed0a00 of size 966144 next 716\n",
      "2024-02-12 21:47:33.731873: I external/local_tsl/tsl/framework/bfc_allocator.cc:1095] InUse at 7f5fb2fbc800 of size 966144 next 717\n",
      "2024-02-12 21:47:33.731878: I external/local_tsl/tsl/framework/bfc_allocator.cc:1095] InUse at 7f5fb30a8600 of size 966144 next 718\n",
      "2024-02-12 21:47:33.731883: I external/local_tsl/tsl/framework/bfc_allocator.cc:1095] InUse at 7f5fb3194400 of size 966144 next 719\n",
      "2024-02-12 21:47:33.731888: I external/local_tsl/tsl/framework/bfc_allocator.cc:1095] InUse at 7f5fb3280200 of size 966144 next 720\n",
      "2024-02-12 21:47:33.731893: I external/local_tsl/tsl/framework/bfc_allocator.cc:1095] InUse at 7f5fb336c000 of size 966144 next 721\n",
      "2024-02-12 21:47:33.731898: I external/local_tsl/tsl/framework/bfc_allocator.cc:1095] InUse at 7f5fb3457e00 of size 966144 next 722\n",
      "2024-02-12 21:47:33.731903: I external/local_tsl/tsl/framework/bfc_allocator.cc:1095] InUse at 7f5fb3543c00 of size 966144 next 723\n",
      "2024-02-12 21:47:33.731907: I external/local_tsl/tsl/framework/bfc_allocator.cc:1095] InUse at 7f5fb362fa00 of size 966144 next 724\n",
      "2024-02-12 21:47:33.731913: I external/local_tsl/tsl/framework/bfc_allocator.cc:1095] InUse at 7f5fb371b800 of size 966144 next 725\n",
      "2024-02-12 21:47:33.731918: I external/local_tsl/tsl/framework/bfc_allocator.cc:1095] InUse at 7f5fb3807600 of size 966144 next 726\n",
      "2024-02-12 21:47:33.731923: I external/local_tsl/tsl/framework/bfc_allocator.cc:1095] InUse at 7f5fb38f3400 of size 966144 next 727\n",
      "2024-02-12 21:47:33.731928: I external/local_tsl/tsl/framework/bfc_allocator.cc:1095] InUse at 7f5fb39df200 of size 966144 next 728\n",
      "2024-02-12 21:47:33.731933: I external/local_tsl/tsl/framework/bfc_allocator.cc:1095] InUse at 7f5fb3acb000 of size 966144 next 729\n",
      "2024-02-12 21:47:33.731938: I external/local_tsl/tsl/framework/bfc_allocator.cc:1095] InUse at 7f5fb3bb6e00 of size 966144 next 730\n",
      "2024-02-12 21:47:33.731943: I external/local_tsl/tsl/framework/bfc_allocator.cc:1095] InUse at 7f5fb3ca2c00 of size 966144 next 731\n",
      "2024-02-12 21:47:33.731948: I external/local_tsl/tsl/framework/bfc_allocator.cc:1095] InUse at 7f5fb3d8ea00 of size 966144 next 732\n",
      "2024-02-12 21:47:33.731953: I external/local_tsl/tsl/framework/bfc_allocator.cc:1095] InUse at 7f5fb3e7a800 of size 966144 next 733\n",
      "2024-02-12 21:47:33.731957: I external/local_tsl/tsl/framework/bfc_allocator.cc:1095] InUse at 7f5fb3f66600 of size 966144 next 734\n",
      "2024-02-12 21:47:33.731963: I external/local_tsl/tsl/framework/bfc_allocator.cc:1095] InUse at 7f5fb4052400 of size 966144 next 735\n",
      "2024-02-12 21:47:33.731967: I external/local_tsl/tsl/framework/bfc_allocator.cc:1095] InUse at 7f5fb413e200 of size 966144 next 736\n",
      "2024-02-12 21:47:33.731972: I external/local_tsl/tsl/framework/bfc_allocator.cc:1095] InUse at 7f5fb422a000 of size 966144 next 737\n",
      "2024-02-12 21:47:33.731977: I external/local_tsl/tsl/framework/bfc_allocator.cc:1095] InUse at 7f5fb4315e00 of size 966144 next 738\n",
      "2024-02-12 21:47:33.731982: I external/local_tsl/tsl/framework/bfc_allocator.cc:1095] InUse at 7f5fb4401c00 of size 966144 next 739\n",
      "2024-02-12 21:47:33.731987: I external/local_tsl/tsl/framework/bfc_allocator.cc:1095] InUse at 7f5fb44eda00 of size 966144 next 740\n",
      "2024-02-12 21:47:33.731993: I external/local_tsl/tsl/framework/bfc_allocator.cc:1095] InUse at 7f5fb45d9800 of size 966144 next 741\n",
      "2024-02-12 21:47:33.731997: I external/local_tsl/tsl/framework/bfc_allocator.cc:1095] InUse at 7f5fb46c5600 of size 966144 next 742\n",
      "2024-02-12 21:47:33.732002: I external/local_tsl/tsl/framework/bfc_allocator.cc:1095] InUse at 7f5fb47b1400 of size 966144 next 743\n",
      "2024-02-12 21:47:33.732006: I external/local_tsl/tsl/framework/bfc_allocator.cc:1095] InUse at 7f5fb489d200 of size 966144 next 744\n",
      "2024-02-12 21:47:33.732011: I external/local_tsl/tsl/framework/bfc_allocator.cc:1095] InUse at 7f5fb4989000 of size 966144 next 745\n",
      "2024-02-12 21:47:33.732015: I external/local_tsl/tsl/framework/bfc_allocator.cc:1095] InUse at 7f5fb4a74e00 of size 966144 next 746\n",
      "2024-02-12 21:47:33.732020: I external/local_tsl/tsl/framework/bfc_allocator.cc:1095] InUse at 7f5fb4b60c00 of size 966144 next 747\n",
      "2024-02-12 21:47:33.732025: I external/local_tsl/tsl/framework/bfc_allocator.cc:1095] InUse at 7f5fb4c4ca00 of size 966144 next 748\n",
      "2024-02-12 21:47:33.732030: I external/local_tsl/tsl/framework/bfc_allocator.cc:1095] InUse at 7f5fb4d38800 of size 966144 next 749\n",
      "2024-02-12 21:47:33.732035: I external/local_tsl/tsl/framework/bfc_allocator.cc:1095] InUse at 7f5fb4e24600 of size 966144 next 750\n",
      "2024-02-12 21:47:33.732040: I external/local_tsl/tsl/framework/bfc_allocator.cc:1095] InUse at 7f5fb4f10400 of size 966144 next 751\n",
      "2024-02-12 21:47:33.732045: I external/local_tsl/tsl/framework/bfc_allocator.cc:1095] InUse at 7f5fb4ffc200 of size 966144 next 752\n",
      "2024-02-12 21:47:33.732050: I external/local_tsl/tsl/framework/bfc_allocator.cc:1095] InUse at 7f5fb50e8000 of size 966144 next 753\n",
      "2024-02-12 21:47:33.732055: I external/local_tsl/tsl/framework/bfc_allocator.cc:1095] InUse at 7f5fb51d3e00 of size 966144 next 754\n",
      "2024-02-12 21:47:33.732059: I external/local_tsl/tsl/framework/bfc_allocator.cc:1095] InUse at 7f5fb52bfc00 of size 966144 next 755\n",
      "2024-02-12 21:47:33.732064: I external/local_tsl/tsl/framework/bfc_allocator.cc:1095] InUse at 7f5fb53aba00 of size 966144 next 756\n",
      "2024-02-12 21:47:33.732070: I external/local_tsl/tsl/framework/bfc_allocator.cc:1095] InUse at 7f5fb5497800 of size 966144 next 757\n",
      "2024-02-12 21:47:33.732074: I external/local_tsl/tsl/framework/bfc_allocator.cc:1095] InUse at 7f5fb5583600 of size 966144 next 758\n",
      "2024-02-12 21:47:33.732080: I external/local_tsl/tsl/framework/bfc_allocator.cc:1095] InUse at 7f5fb566f400 of size 966144 next 759\n",
      "2024-02-12 21:47:33.732085: I external/local_tsl/tsl/framework/bfc_allocator.cc:1095] InUse at 7f5fb575b200 of size 966144 next 760\n",
      "2024-02-12 21:47:33.732090: I external/local_tsl/tsl/framework/bfc_allocator.cc:1095] InUse at 7f5fb5847000 of size 966144 next 761\n",
      "2024-02-12 21:47:33.732095: I external/local_tsl/tsl/framework/bfc_allocator.cc:1095] InUse at 7f5fb5932e00 of size 966144 next 762\n",
      "2024-02-12 21:47:33.732100: I external/local_tsl/tsl/framework/bfc_allocator.cc:1095] InUse at 7f5fb5a1ec00 of size 966144 next 763\n",
      "2024-02-12 21:47:33.732105: I external/local_tsl/tsl/framework/bfc_allocator.cc:1095] InUse at 7f5fb5b0aa00 of size 966144 next 764\n",
      "2024-02-12 21:47:33.732109: I external/local_tsl/tsl/framework/bfc_allocator.cc:1095] InUse at 7f5fb5bf6800 of size 966144 next 765\n",
      "2024-02-12 21:47:33.732114: I external/local_tsl/tsl/framework/bfc_allocator.cc:1095] InUse at 7f5fb5ce2600 of size 966144 next 766\n",
      "2024-02-12 21:47:33.732120: I external/local_tsl/tsl/framework/bfc_allocator.cc:1095] InUse at 7f5fb5dce400 of size 966144 next 767\n",
      "2024-02-12 21:47:33.732124: I external/local_tsl/tsl/framework/bfc_allocator.cc:1095] InUse at 7f5fb5eba200 of size 966144 next 768\n",
      "2024-02-12 21:47:33.732130: I external/local_tsl/tsl/framework/bfc_allocator.cc:1095] InUse at 7f5fb5fa6000 of size 966144 next 769\n",
      "2024-02-12 21:47:33.732134: I external/local_tsl/tsl/framework/bfc_allocator.cc:1095] InUse at 7f5fb6091e00 of size 966144 next 770\n",
      "2024-02-12 21:47:33.732139: I external/local_tsl/tsl/framework/bfc_allocator.cc:1095] InUse at 7f5fb617dc00 of size 966144 next 771\n",
      "2024-02-12 21:47:33.732144: I external/local_tsl/tsl/framework/bfc_allocator.cc:1095] InUse at 7f5fb6269a00 of size 966144 next 772\n",
      "2024-02-12 21:47:33.732149: I external/local_tsl/tsl/framework/bfc_allocator.cc:1095] InUse at 7f5fb6355800 of size 966144 next 773\n",
      "2024-02-12 21:47:33.732154: I external/local_tsl/tsl/framework/bfc_allocator.cc:1095] InUse at 7f5fb6441600 of size 966144 next 774\n",
      "2024-02-12 21:47:33.732159: I external/local_tsl/tsl/framework/bfc_allocator.cc:1095] InUse at 7f5fb652d400 of size 966144 next 775\n",
      "2024-02-12 21:47:33.732165: I external/local_tsl/tsl/framework/bfc_allocator.cc:1095] InUse at 7f5fb6619200 of size 966144 next 776\n",
      "2024-02-12 21:47:33.732169: I external/local_tsl/tsl/framework/bfc_allocator.cc:1095] InUse at 7f5fb6705000 of size 966144 next 777\n",
      "2024-02-12 21:47:33.732174: I external/local_tsl/tsl/framework/bfc_allocator.cc:1095] InUse at 7f5fb67f0e00 of size 966144 next 778\n",
      "2024-02-12 21:47:33.732179: I external/local_tsl/tsl/framework/bfc_allocator.cc:1095] InUse at 7f5fb68dcc00 of size 966144 next 779\n",
      "2024-02-12 21:47:33.732184: I external/local_tsl/tsl/framework/bfc_allocator.cc:1095] InUse at 7f5fb69c8a00 of size 966144 next 780\n",
      "2024-02-12 21:47:33.732190: I external/local_tsl/tsl/framework/bfc_allocator.cc:1095] InUse at 7f5fb6ab4800 of size 966144 next 781\n",
      "2024-02-12 21:47:33.732194: I external/local_tsl/tsl/framework/bfc_allocator.cc:1095] InUse at 7f5fb6ba0600 of size 966144 next 782\n",
      "2024-02-12 21:47:33.732200: I external/local_tsl/tsl/framework/bfc_allocator.cc:1095] InUse at 7f5fb6c8c400 of size 966144 next 783\n",
      "2024-02-12 21:47:33.732205: I external/local_tsl/tsl/framework/bfc_allocator.cc:1095] InUse at 7f5fb6d78200 of size 966144 next 784\n",
      "2024-02-12 21:47:33.732210: I external/local_tsl/tsl/framework/bfc_allocator.cc:1095] InUse at 7f5fb6e64000 of size 966144 next 785\n",
      "2024-02-12 21:47:33.732215: I external/local_tsl/tsl/framework/bfc_allocator.cc:1095] InUse at 7f5fb6f4fe00 of size 966144 next 786\n",
      "2024-02-12 21:47:33.732220: I external/local_tsl/tsl/framework/bfc_allocator.cc:1095] InUse at 7f5fb703bc00 of size 966144 next 787\n",
      "2024-02-12 21:47:33.732225: I external/local_tsl/tsl/framework/bfc_allocator.cc:1095] InUse at 7f5fb7127a00 of size 966144 next 788\n",
      "2024-02-12 21:47:33.732230: I external/local_tsl/tsl/framework/bfc_allocator.cc:1095] InUse at 7f5fb7213800 of size 966144 next 789\n",
      "2024-02-12 21:47:33.732235: I external/local_tsl/tsl/framework/bfc_allocator.cc:1095] InUse at 7f5fb72ff600 of size 966144 next 790\n",
      "2024-02-12 21:47:33.732240: I external/local_tsl/tsl/framework/bfc_allocator.cc:1095] InUse at 7f5fb73eb400 of size 966144 next 791\n",
      "2024-02-12 21:47:33.732245: I external/local_tsl/tsl/framework/bfc_allocator.cc:1095] InUse at 7f5fb74d7200 of size 966144 next 792\n",
      "2024-02-12 21:47:33.732250: I external/local_tsl/tsl/framework/bfc_allocator.cc:1095] InUse at 7f5fb75c3000 of size 966144 next 793\n",
      "2024-02-12 21:47:33.732255: I external/local_tsl/tsl/framework/bfc_allocator.cc:1095] InUse at 7f5fb76aee00 of size 966144 next 794\n",
      "2024-02-12 21:47:33.732260: I external/local_tsl/tsl/framework/bfc_allocator.cc:1095] InUse at 7f5fb779ac00 of size 966144 next 795\n",
      "2024-02-12 21:47:33.732265: I external/local_tsl/tsl/framework/bfc_allocator.cc:1095] InUse at 7f5fb7886a00 of size 966144 next 796\n",
      "2024-02-12 21:47:33.732270: I external/local_tsl/tsl/framework/bfc_allocator.cc:1095] InUse at 7f5fb7972800 of size 966144 next 797\n",
      "2024-02-12 21:47:33.732275: I external/local_tsl/tsl/framework/bfc_allocator.cc:1095] InUse at 7f5fb7a5e600 of size 966144 next 798\n",
      "2024-02-12 21:47:33.732280: I external/local_tsl/tsl/framework/bfc_allocator.cc:1095] InUse at 7f5fb7b4a400 of size 966144 next 799\n",
      "2024-02-12 21:47:33.732285: I external/local_tsl/tsl/framework/bfc_allocator.cc:1095] InUse at 7f5fb7c36200 of size 966144 next 800\n",
      "2024-02-12 21:47:33.732290: I external/local_tsl/tsl/framework/bfc_allocator.cc:1095] InUse at 7f5fb7d22000 of size 966144 next 801\n",
      "2024-02-12 21:47:33.732295: I external/local_tsl/tsl/framework/bfc_allocator.cc:1095] InUse at 7f5fb7e0de00 of size 966144 next 802\n",
      "2024-02-12 21:47:33.732300: I external/local_tsl/tsl/framework/bfc_allocator.cc:1095] InUse at 7f5fb7ef9c00 of size 966144 next 803\n",
      "2024-02-12 21:47:33.732305: I external/local_tsl/tsl/framework/bfc_allocator.cc:1095] InUse at 7f5fb7fe5a00 of size 966144 next 804\n",
      "2024-02-12 21:47:33.732310: I external/local_tsl/tsl/framework/bfc_allocator.cc:1095] InUse at 7f5fb80d1800 of size 966144 next 805\n",
      "2024-02-12 21:47:33.732315: I external/local_tsl/tsl/framework/bfc_allocator.cc:1095] InUse at 7f5fb81bd600 of size 966144 next 806\n",
      "2024-02-12 21:47:33.732319: I external/local_tsl/tsl/framework/bfc_allocator.cc:1095] InUse at 7f5fb82a9400 of size 966144 next 807\n",
      "2024-02-12 21:47:33.732324: I external/local_tsl/tsl/framework/bfc_allocator.cc:1095] InUse at 7f5fb8395200 of size 966144 next 929\n",
      "2024-02-12 21:47:33.732328: I external/local_tsl/tsl/framework/bfc_allocator.cc:1095] InUse at 7f5fb8481000 of size 966144 next 928\n",
      "2024-02-12 21:47:33.732334: I external/local_tsl/tsl/framework/bfc_allocator.cc:1095] InUse at 7f5fb856ce00 of size 966144 next 932\n",
      "2024-02-12 21:47:33.732338: I external/local_tsl/tsl/framework/bfc_allocator.cc:1095] InUse at 7f5fb8658c00 of size 966144 next 933\n",
      "2024-02-12 21:47:33.732343: I external/local_tsl/tsl/framework/bfc_allocator.cc:1095] InUse at 7f5fb8744a00 of size 966144 next 934\n",
      "2024-02-12 21:47:33.732348: I external/local_tsl/tsl/framework/bfc_allocator.cc:1095] InUse at 7f5fb8830800 of size 966144 next 935\n",
      "2024-02-12 21:47:33.732353: I external/local_tsl/tsl/framework/bfc_allocator.cc:1095] InUse at 7f5fb891c600 of size 966144 next 936\n",
      "2024-02-12 21:47:33.732358: I external/local_tsl/tsl/framework/bfc_allocator.cc:1095] InUse at 7f5fb8a08400 of size 966144 next 937\n",
      "2024-02-12 21:47:33.732363: I external/local_tsl/tsl/framework/bfc_allocator.cc:1095] InUse at 7f5fb8af4200 of size 966144 next 938\n",
      "2024-02-12 21:47:33.732368: I external/local_tsl/tsl/framework/bfc_allocator.cc:1095] InUse at 7f5fb8be0000 of size 966144 next 939\n",
      "2024-02-12 21:47:33.732373: I external/local_tsl/tsl/framework/bfc_allocator.cc:1095] InUse at 7f5fb8ccbe00 of size 966144 next 940\n",
      "2024-02-12 21:47:33.732378: I external/local_tsl/tsl/framework/bfc_allocator.cc:1095] InUse at 7f5fb8db7c00 of size 966144 next 941\n",
      "2024-02-12 21:47:33.732383: I external/local_tsl/tsl/framework/bfc_allocator.cc:1095] InUse at 7f5fb8ea3a00 of size 966144 next 942\n",
      "2024-02-12 21:47:33.732387: I external/local_tsl/tsl/framework/bfc_allocator.cc:1095] InUse at 7f5fb8f8f800 of size 966144 next 943\n",
      "2024-02-12 21:47:33.732393: I external/local_tsl/tsl/framework/bfc_allocator.cc:1095] InUse at 7f5fb907b600 of size 966144 next 944\n",
      "2024-02-12 21:47:33.732397: I external/local_tsl/tsl/framework/bfc_allocator.cc:1095] InUse at 7f5fb9167400 of size 966144 next 945\n",
      "2024-02-12 21:47:33.732403: I external/local_tsl/tsl/framework/bfc_allocator.cc:1095] InUse at 7f5fb9253200 of size 966144 next 946\n",
      "2024-02-12 21:47:33.732407: I external/local_tsl/tsl/framework/bfc_allocator.cc:1095] InUse at 7f5fb933f000 of size 966144 next 947\n",
      "2024-02-12 21:47:33.732413: I external/local_tsl/tsl/framework/bfc_allocator.cc:1095] InUse at 7f5fb942ae00 of size 966144 next 948\n",
      "2024-02-12 21:47:33.732418: I external/local_tsl/tsl/framework/bfc_allocator.cc:1095] InUse at 7f5fb9516c00 of size 966144 next 949\n",
      "2024-02-12 21:47:33.732423: I external/local_tsl/tsl/framework/bfc_allocator.cc:1095] InUse at 7f5fb9602a00 of size 966144 next 950\n",
      "2024-02-12 21:47:33.732427: I external/local_tsl/tsl/framework/bfc_allocator.cc:1095] InUse at 7f5fb96ee800 of size 966144 next 951\n",
      "2024-02-12 21:47:33.732432: I external/local_tsl/tsl/framework/bfc_allocator.cc:1095] InUse at 7f5fb97da600 of size 966144 next 952\n",
      "2024-02-12 21:47:33.732436: I external/local_tsl/tsl/framework/bfc_allocator.cc:1095] InUse at 7f5fb98c6400 of size 966144 next 953\n",
      "2024-02-12 21:47:33.732440: I external/local_tsl/tsl/framework/bfc_allocator.cc:1095] InUse at 7f5fb99b2200 of size 966144 next 954\n",
      "2024-02-12 21:47:33.732445: I external/local_tsl/tsl/framework/bfc_allocator.cc:1095] InUse at 7f5fb9a9e000 of size 966144 next 955\n",
      "2024-02-12 21:47:33.732449: I external/local_tsl/tsl/framework/bfc_allocator.cc:1095] InUse at 7f5fb9b89e00 of size 966144 next 956\n",
      "2024-02-12 21:47:33.732454: I external/local_tsl/tsl/framework/bfc_allocator.cc:1095] InUse at 7f5fb9c75c00 of size 966144 next 957\n",
      "2024-02-12 21:47:33.732459: I external/local_tsl/tsl/framework/bfc_allocator.cc:1095] InUse at 7f5fb9d61a00 of size 966144 next 958\n",
      "2024-02-12 21:47:33.732463: I external/local_tsl/tsl/framework/bfc_allocator.cc:1095] InUse at 7f5fb9e4d800 of size 966144 next 959\n",
      "2024-02-12 21:47:33.732469: I external/local_tsl/tsl/framework/bfc_allocator.cc:1095] InUse at 7f5fb9f39600 of size 966144 next 960\n",
      "2024-02-12 21:47:33.732474: I external/local_tsl/tsl/framework/bfc_allocator.cc:1095] InUse at 7f5fba025400 of size 966144 next 961\n",
      "2024-02-12 21:47:33.732479: I external/local_tsl/tsl/framework/bfc_allocator.cc:1095] InUse at 7f5fba111200 of size 966144 next 962\n",
      "2024-02-12 21:47:33.732484: I external/local_tsl/tsl/framework/bfc_allocator.cc:1095] InUse at 7f5fba1fd000 of size 966144 next 963\n",
      "2024-02-12 21:47:33.732489: I external/local_tsl/tsl/framework/bfc_allocator.cc:1095] InUse at 7f5fba2e8e00 of size 966144 next 964\n",
      "2024-02-12 21:47:33.732494: I external/local_tsl/tsl/framework/bfc_allocator.cc:1095] InUse at 7f5fba3d4c00 of size 966144 next 965\n",
      "2024-02-12 21:47:33.732499: I external/local_tsl/tsl/framework/bfc_allocator.cc:1095] InUse at 7f5fba4c0a00 of size 966144 next 966\n",
      "2024-02-12 21:47:33.732504: I external/local_tsl/tsl/framework/bfc_allocator.cc:1095] InUse at 7f5fba5ac800 of size 966144 next 967\n",
      "2024-02-12 21:47:33.732509: I external/local_tsl/tsl/framework/bfc_allocator.cc:1095] InUse at 7f5fba698600 of size 966144 next 968\n",
      "2024-02-12 21:47:33.732514: I external/local_tsl/tsl/framework/bfc_allocator.cc:1095] InUse at 7f5fba784400 of size 966144 next 969\n",
      "2024-02-12 21:47:33.732520: I external/local_tsl/tsl/framework/bfc_allocator.cc:1095] InUse at 7f5fba870200 of size 966144 next 970\n",
      "2024-02-12 21:47:33.732524: I external/local_tsl/tsl/framework/bfc_allocator.cc:1095] InUse at 7f5fba95c000 of size 966144 next 971\n",
      "2024-02-12 21:47:33.732529: I external/local_tsl/tsl/framework/bfc_allocator.cc:1095] InUse at 7f5fbaa47e00 of size 966144 next 972\n",
      "2024-02-12 21:47:33.732534: I external/local_tsl/tsl/framework/bfc_allocator.cc:1095] InUse at 7f5fbab33c00 of size 966144 next 973\n",
      "2024-02-12 21:47:33.732539: I external/local_tsl/tsl/framework/bfc_allocator.cc:1095] InUse at 7f5fbac1fa00 of size 966144 next 974\n",
      "2024-02-12 21:47:33.732544: I external/local_tsl/tsl/framework/bfc_allocator.cc:1095] InUse at 7f5fbad0b800 of size 966144 next 975\n",
      "2024-02-12 21:47:33.732549: I external/local_tsl/tsl/framework/bfc_allocator.cc:1095] InUse at 7f5fbadf7600 of size 966144 next 976\n",
      "2024-02-12 21:47:33.732554: I external/local_tsl/tsl/framework/bfc_allocator.cc:1095] InUse at 7f5fbaee3400 of size 966144 next 977\n",
      "2024-02-12 21:47:33.732559: I external/local_tsl/tsl/framework/bfc_allocator.cc:1095] InUse at 7f5fbafcf200 of size 966144 next 978\n",
      "2024-02-12 21:47:33.732564: I external/local_tsl/tsl/framework/bfc_allocator.cc:1095] InUse at 7f5fbb0bb000 of size 966144 next 979\n",
      "2024-02-12 21:47:33.732569: I external/local_tsl/tsl/framework/bfc_allocator.cc:1095] InUse at 7f5fbb1a6e00 of size 966144 next 980\n",
      "2024-02-12 21:47:33.732574: I external/local_tsl/tsl/framework/bfc_allocator.cc:1095] InUse at 7f5fbb292c00 of size 966144 next 981\n",
      "2024-02-12 21:47:33.732578: I external/local_tsl/tsl/framework/bfc_allocator.cc:1095] InUse at 7f5fbb37ea00 of size 966144 next 982\n",
      "2024-02-12 21:47:33.732584: I external/local_tsl/tsl/framework/bfc_allocator.cc:1095] InUse at 7f5fbb46a800 of size 966144 next 983\n",
      "2024-02-12 21:47:33.732589: I external/local_tsl/tsl/framework/bfc_allocator.cc:1095] InUse at 7f5fbb556600 of size 966144 next 984\n",
      "2024-02-12 21:47:33.732594: I external/local_tsl/tsl/framework/bfc_allocator.cc:1095] InUse at 7f5fbb642400 of size 966144 next 985\n",
      "2024-02-12 21:47:33.732599: I external/local_tsl/tsl/framework/bfc_allocator.cc:1095] InUse at 7f5fbb72e200 of size 966144 next 986\n",
      "2024-02-12 21:47:33.732605: I external/local_tsl/tsl/framework/bfc_allocator.cc:1095] InUse at 7f5fbb81a000 of size 966144 next 987\n",
      "2024-02-12 21:47:33.732609: I external/local_tsl/tsl/framework/bfc_allocator.cc:1095] InUse at 7f5fbb905e00 of size 966144 next 988\n",
      "2024-02-12 21:47:33.732614: I external/local_tsl/tsl/framework/bfc_allocator.cc:1095] InUse at 7f5fbb9f1c00 of size 966144 next 989\n",
      "2024-02-12 21:47:33.732619: I external/local_tsl/tsl/framework/bfc_allocator.cc:1095] InUse at 7f5fbbadda00 of size 966144 next 990\n",
      "2024-02-12 21:47:33.732624: I external/local_tsl/tsl/framework/bfc_allocator.cc:1095] InUse at 7f5fbbbc9800 of size 966144 next 991\n",
      "2024-02-12 21:47:33.732629: I external/local_tsl/tsl/framework/bfc_allocator.cc:1095] InUse at 7f5fbbcb5600 of size 966144 next 992\n",
      "2024-02-12 21:47:33.732634: I external/local_tsl/tsl/framework/bfc_allocator.cc:1095] InUse at 7f5fbbda1400 of size 966144 next 993\n",
      "2024-02-12 21:47:33.732638: I external/local_tsl/tsl/framework/bfc_allocator.cc:1095] InUse at 7f5fbbe8d200 of size 966144 next 994\n",
      "2024-02-12 21:47:33.732644: I external/local_tsl/tsl/framework/bfc_allocator.cc:1095] InUse at 7f5fbbf79000 of size 966144 next 995\n",
      "2024-02-12 21:47:33.732649: I external/local_tsl/tsl/framework/bfc_allocator.cc:1095] InUse at 7f5fbc064e00 of size 966144 next 996\n",
      "2024-02-12 21:47:33.732654: I external/local_tsl/tsl/framework/bfc_allocator.cc:1095] InUse at 7f5fbc150c00 of size 966144 next 997\n",
      "2024-02-12 21:47:33.732659: I external/local_tsl/tsl/framework/bfc_allocator.cc:1095] InUse at 7f5fbc23ca00 of size 966144 next 998\n",
      "2024-02-12 21:47:33.732663: I external/local_tsl/tsl/framework/bfc_allocator.cc:1095] InUse at 7f5fbc328800 of size 966144 next 999\n",
      "2024-02-12 21:47:33.732669: I external/local_tsl/tsl/framework/bfc_allocator.cc:1095] InUse at 7f5fbc414600 of size 966144 next 1000\n",
      "2024-02-12 21:47:33.732674: I external/local_tsl/tsl/framework/bfc_allocator.cc:1095] InUse at 7f5fbc500400 of size 966144 next 1001\n",
      "2024-02-12 21:47:33.732678: I external/local_tsl/tsl/framework/bfc_allocator.cc:1095] InUse at 7f5fbc5ec200 of size 966144 next 1002\n",
      "2024-02-12 21:47:33.732684: I external/local_tsl/tsl/framework/bfc_allocator.cc:1095] InUse at 7f5fbc6d8000 of size 966144 next 1003\n",
      "2024-02-12 21:47:33.732688: I external/local_tsl/tsl/framework/bfc_allocator.cc:1095] InUse at 7f5fbc7c3e00 of size 966144 next 1004\n",
      "2024-02-12 21:47:33.732693: I external/local_tsl/tsl/framework/bfc_allocator.cc:1095] InUse at 7f5fbc8afc00 of size 966144 next 1005\n",
      "2024-02-12 21:47:33.732698: I external/local_tsl/tsl/framework/bfc_allocator.cc:1095] InUse at 7f5fbc99ba00 of size 966144 next 1006\n",
      "2024-02-12 21:47:33.732703: I external/local_tsl/tsl/framework/bfc_allocator.cc:1095] InUse at 7f5fbca87800 of size 966144 next 1007\n",
      "2024-02-12 21:47:33.732708: I external/local_tsl/tsl/framework/bfc_allocator.cc:1095] InUse at 7f5fbcb73600 of size 966144 next 1008\n",
      "2024-02-12 21:47:33.732713: I external/local_tsl/tsl/framework/bfc_allocator.cc:1095] InUse at 7f5fbcc5f400 of size 966144 next 1009\n",
      "2024-02-12 21:47:33.732718: I external/local_tsl/tsl/framework/bfc_allocator.cc:1095] InUse at 7f5fbcd4b200 of size 966144 next 1010\n",
      "2024-02-12 21:47:33.732723: I external/local_tsl/tsl/framework/bfc_allocator.cc:1095] InUse at 7f5fbce37000 of size 966144 next 1011\n",
      "2024-02-12 21:47:33.732728: I external/local_tsl/tsl/framework/bfc_allocator.cc:1095] InUse at 7f5fbcf22e00 of size 966144 next 1012\n",
      "2024-02-12 21:47:33.732732: I external/local_tsl/tsl/framework/bfc_allocator.cc:1095] InUse at 7f5fbd00ec00 of size 966144 next 1013\n",
      "2024-02-12 21:47:33.732738: I external/local_tsl/tsl/framework/bfc_allocator.cc:1095] InUse at 7f5fbd0faa00 of size 966144 next 1014\n",
      "2024-02-12 21:47:33.732742: I external/local_tsl/tsl/framework/bfc_allocator.cc:1095] InUse at 7f5fbd1e6800 of size 966144 next 1015\n",
      "2024-02-12 21:47:33.732747: I external/local_tsl/tsl/framework/bfc_allocator.cc:1095] InUse at 7f5fbd2d2600 of size 966144 next 1016\n",
      "2024-02-12 21:47:33.732752: I external/local_tsl/tsl/framework/bfc_allocator.cc:1095] InUse at 7f5fbd3be400 of size 966144 next 1017\n",
      "2024-02-12 21:47:33.732757: I external/local_tsl/tsl/framework/bfc_allocator.cc:1095] InUse at 7f5fbd4aa200 of size 966144 next 1018\n",
      "2024-02-12 21:47:33.732761: I external/local_tsl/tsl/framework/bfc_allocator.cc:1095] InUse at 7f5fbd596000 of size 966144 next 1019\n",
      "2024-02-12 21:47:33.732765: I external/local_tsl/tsl/framework/bfc_allocator.cc:1095] InUse at 7f5fbd681e00 of size 966144 next 1020\n",
      "2024-02-12 21:47:33.732771: I external/local_tsl/tsl/framework/bfc_allocator.cc:1095] InUse at 7f5fbd76dc00 of size 966144 next 1021\n",
      "2024-02-12 21:47:33.732775: I external/local_tsl/tsl/framework/bfc_allocator.cc:1095] InUse at 7f5fbd859a00 of size 966144 next 1022\n",
      "2024-02-12 21:47:33.732780: I external/local_tsl/tsl/framework/bfc_allocator.cc:1095] InUse at 7f5fbd945800 of size 966144 next 1023\n",
      "2024-02-12 21:47:33.732785: I external/local_tsl/tsl/framework/bfc_allocator.cc:1095] InUse at 7f5fbda31600 of size 966144 next 1024\n",
      "2024-02-12 21:47:33.732790: I external/local_tsl/tsl/framework/bfc_allocator.cc:1095] InUse at 7f5fbdb1d400 of size 966144 next 1025\n",
      "2024-02-12 21:47:33.732795: I external/local_tsl/tsl/framework/bfc_allocator.cc:1095] InUse at 7f5fbdc09200 of size 966144 next 1026\n",
      "2024-02-12 21:47:33.732800: I external/local_tsl/tsl/framework/bfc_allocator.cc:1095] InUse at 7f5fbdcf5000 of size 966144 next 1027\n",
      "2024-02-12 21:47:33.732805: I external/local_tsl/tsl/framework/bfc_allocator.cc:1095] InUse at 7f5fbdde0e00 of size 966144 next 1028\n",
      "2024-02-12 21:47:33.732810: I external/local_tsl/tsl/framework/bfc_allocator.cc:1095] InUse at 7f5fbdeccc00 of size 966144 next 1029\n",
      "2024-02-12 21:47:33.732815: I external/local_tsl/tsl/framework/bfc_allocator.cc:1095] InUse at 7f5fbdfb8a00 of size 966144 next 1030\n",
      "2024-02-12 21:47:33.732820: I external/local_tsl/tsl/framework/bfc_allocator.cc:1095] InUse at 7f5fbe0a4800 of size 966144 next 1031\n",
      "2024-02-12 21:47:33.732825: I external/local_tsl/tsl/framework/bfc_allocator.cc:1095] InUse at 7f5fbe190600 of size 966144 next 1032\n",
      "2024-02-12 21:47:33.732830: I external/local_tsl/tsl/framework/bfc_allocator.cc:1095] InUse at 7f5fbe27c400 of size 966144 next 1033\n",
      "2024-02-12 21:47:33.732835: I external/local_tsl/tsl/framework/bfc_allocator.cc:1095] InUse at 7f5fbe368200 of size 966144 next 1034\n",
      "2024-02-12 21:47:33.732840: I external/local_tsl/tsl/framework/bfc_allocator.cc:1095] InUse at 7f5fbe454000 of size 966144 next 1035\n",
      "2024-02-12 21:47:33.732845: I external/local_tsl/tsl/framework/bfc_allocator.cc:1095] InUse at 7f5fbe53fe00 of size 966144 next 1036\n",
      "2024-02-12 21:47:33.732850: I external/local_tsl/tsl/framework/bfc_allocator.cc:1095] InUse at 7f5fbe62bc00 of size 966144 next 1037\n",
      "2024-02-12 21:47:33.732855: I external/local_tsl/tsl/framework/bfc_allocator.cc:1095] InUse at 7f5fbe717a00 of size 966144 next 1038\n",
      "2024-02-12 21:47:33.732860: I external/local_tsl/tsl/framework/bfc_allocator.cc:1095] InUse at 7f5fbe803800 of size 966144 next 1039\n",
      "2024-02-12 21:47:33.732865: I external/local_tsl/tsl/framework/bfc_allocator.cc:1095] InUse at 7f5fbe8ef600 of size 966144 next 1040\n",
      "2024-02-12 21:47:33.732870: I external/local_tsl/tsl/framework/bfc_allocator.cc:1095] InUse at 7f5fbe9db400 of size 966144 next 1041\n",
      "2024-02-12 21:47:33.732875: I external/local_tsl/tsl/framework/bfc_allocator.cc:1095] InUse at 7f5fbeac7200 of size 966144 next 1042\n",
      "2024-02-12 21:47:33.732880: I external/local_tsl/tsl/framework/bfc_allocator.cc:1095] InUse at 7f5fbebb3000 of size 966144 next 1043\n",
      "2024-02-12 21:47:33.732885: I external/local_tsl/tsl/framework/bfc_allocator.cc:1095] InUse at 7f5fbec9ee00 of size 966144 next 1044\n",
      "2024-02-12 21:47:33.732890: I external/local_tsl/tsl/framework/bfc_allocator.cc:1095] InUse at 7f5fbed8ac00 of size 966144 next 1045\n",
      "2024-02-12 21:47:33.732895: I external/local_tsl/tsl/framework/bfc_allocator.cc:1095] InUse at 7f5fbee76a00 of size 1531136 next 18446744073709551615\n",
      "2024-02-12 21:47:33.732900: I external/local_tsl/tsl/framework/bfc_allocator.cc:1075] Next region of size 268435456\n",
      "2024-02-12 21:47:33.732906: I external/local_tsl/tsl/framework/bfc_allocator.cc:1095] InUse at 7f5fc0000000 of size 966144 next 330\n",
      "2024-02-12 21:47:33.732911: I external/local_tsl/tsl/framework/bfc_allocator.cc:1095] InUse at 7f5fc00ebe00 of size 966144 next 331\n",
      "2024-02-12 21:47:33.732916: I external/local_tsl/tsl/framework/bfc_allocator.cc:1095] InUse at 7f5fc01d7c00 of size 966144 next 332\n",
      "2024-02-12 21:47:33.732921: I external/local_tsl/tsl/framework/bfc_allocator.cc:1095] InUse at 7f5fc02c3a00 of size 966144 next 333\n",
      "2024-02-12 21:47:33.732928: I external/local_tsl/tsl/framework/bfc_allocator.cc:1095] InUse at 7f5fc03af800 of size 966144 next 334\n",
      "2024-02-12 21:47:33.732933: I external/local_tsl/tsl/framework/bfc_allocator.cc:1095] InUse at 7f5fc049b600 of size 966144 next 335\n",
      "2024-02-12 21:47:33.732938: I external/local_tsl/tsl/framework/bfc_allocator.cc:1095] InUse at 7f5fc0587400 of size 966144 next 336\n",
      "2024-02-12 21:47:33.732943: I external/local_tsl/tsl/framework/bfc_allocator.cc:1095] InUse at 7f5fc0673200 of size 966144 next 337\n",
      "2024-02-12 21:47:33.732948: I external/local_tsl/tsl/framework/bfc_allocator.cc:1095] InUse at 7f5fc075f000 of size 966144 next 338\n",
      "2024-02-12 21:47:33.732954: I external/local_tsl/tsl/framework/bfc_allocator.cc:1095] InUse at 7f5fc084ae00 of size 966144 next 339\n",
      "2024-02-12 21:47:33.732958: I external/local_tsl/tsl/framework/bfc_allocator.cc:1095] InUse at 7f5fc0936c00 of size 966144 next 340\n",
      "2024-02-12 21:47:33.732963: I external/local_tsl/tsl/framework/bfc_allocator.cc:1095] InUse at 7f5fc0a22a00 of size 966144 next 341\n",
      "2024-02-12 21:47:33.732968: I external/local_tsl/tsl/framework/bfc_allocator.cc:1095] InUse at 7f5fc0b0e800 of size 966144 next 342\n",
      "2024-02-12 21:47:33.732973: I external/local_tsl/tsl/framework/bfc_allocator.cc:1095] InUse at 7f5fc0bfa600 of size 966144 next 343\n",
      "2024-02-12 21:47:33.732978: I external/local_tsl/tsl/framework/bfc_allocator.cc:1095] InUse at 7f5fc0ce6400 of size 966144 next 344\n",
      "2024-02-12 21:47:33.732982: I external/local_tsl/tsl/framework/bfc_allocator.cc:1095] InUse at 7f5fc0dd2200 of size 966144 next 345\n",
      "2024-02-12 21:47:33.732987: I external/local_tsl/tsl/framework/bfc_allocator.cc:1095] InUse at 7f5fc0ebe000 of size 966144 next 346\n",
      "2024-02-12 21:47:33.732992: I external/local_tsl/tsl/framework/bfc_allocator.cc:1095] InUse at 7f5fc0fa9e00 of size 966144 next 347\n",
      "2024-02-12 21:47:33.732997: I external/local_tsl/tsl/framework/bfc_allocator.cc:1095] InUse at 7f5fc1095c00 of size 966144 next 348\n",
      "2024-02-12 21:47:33.733001: I external/local_tsl/tsl/framework/bfc_allocator.cc:1095] InUse at 7f5fc1181a00 of size 966144 next 349\n",
      "2024-02-12 21:47:33.733006: I external/local_tsl/tsl/framework/bfc_allocator.cc:1095] InUse at 7f5fc126d800 of size 966144 next 350\n",
      "2024-02-12 21:47:33.733011: I external/local_tsl/tsl/framework/bfc_allocator.cc:1095] InUse at 7f5fc1359600 of size 966144 next 351\n",
      "2024-02-12 21:47:33.733016: I external/local_tsl/tsl/framework/bfc_allocator.cc:1095] InUse at 7f5fc1445400 of size 966144 next 352\n",
      "2024-02-12 21:47:33.733020: I external/local_tsl/tsl/framework/bfc_allocator.cc:1095] InUse at 7f5fc1531200 of size 966144 next 353\n",
      "2024-02-12 21:47:33.733025: I external/local_tsl/tsl/framework/bfc_allocator.cc:1095] InUse at 7f5fc161d000 of size 966144 next 354\n",
      "2024-02-12 21:47:33.733030: I external/local_tsl/tsl/framework/bfc_allocator.cc:1095] InUse at 7f5fc1708e00 of size 966144 next 355\n",
      "2024-02-12 21:47:33.733035: I external/local_tsl/tsl/framework/bfc_allocator.cc:1095] InUse at 7f5fc17f4c00 of size 966144 next 310\n",
      "2024-02-12 21:47:33.733040: I external/local_tsl/tsl/framework/bfc_allocator.cc:1095] InUse at 7f5fc18e0a00 of size 966144 next 356\n",
      "2024-02-12 21:47:33.733045: I external/local_tsl/tsl/framework/bfc_allocator.cc:1095] InUse at 7f5fc19cc800 of size 966144 next 290\n",
      "2024-02-12 21:47:33.733050: I external/local_tsl/tsl/framework/bfc_allocator.cc:1095] InUse at 7f5fc1ab8600 of size 966144 next 291\n",
      "2024-02-12 21:47:33.733055: I external/local_tsl/tsl/framework/bfc_allocator.cc:1095] InUse at 7f5fc1ba4400 of size 966144 next 325\n",
      "2024-02-12 21:47:33.733060: I external/local_tsl/tsl/framework/bfc_allocator.cc:1095] InUse at 7f5fc1c90200 of size 966144 next 326\n",
      "2024-02-12 21:47:33.733065: I external/local_tsl/tsl/framework/bfc_allocator.cc:1095] InUse at 7f5fc1d7c000 of size 966144 next 327\n",
      "2024-02-12 21:47:33.733070: I external/local_tsl/tsl/framework/bfc_allocator.cc:1095] InUse at 7f5fc1e67e00 of size 966144 next 328\n",
      "2024-02-12 21:47:33.733075: I external/local_tsl/tsl/framework/bfc_allocator.cc:1095] InUse at 7f5fc1f53c00 of size 966144 next 329\n",
      "2024-02-12 21:47:33.733079: I external/local_tsl/tsl/framework/bfc_allocator.cc:1095] InUse at 7f5fc203fa00 of size 966144 next 284\n",
      "2024-02-12 21:47:33.733084: I external/local_tsl/tsl/framework/bfc_allocator.cc:1095] InUse at 7f5fc212b800 of size 966144 next 285\n",
      "2024-02-12 21:47:33.733088: I external/local_tsl/tsl/framework/bfc_allocator.cc:1095] InUse at 7f5fc2217600 of size 966144 next 286\n",
      "2024-02-12 21:47:33.733093: I external/local_tsl/tsl/framework/bfc_allocator.cc:1095] InUse at 7f5fc2303400 of size 966144 next 287\n",
      "2024-02-12 21:47:33.733099: I external/local_tsl/tsl/framework/bfc_allocator.cc:1095] InUse at 7f5fc23ef200 of size 966144 next 288\n",
      "2024-02-12 21:47:33.733103: I external/local_tsl/tsl/framework/bfc_allocator.cc:1095] InUse at 7f5fc24db000 of size 966144 next 283\n",
      "2024-02-12 21:47:33.733109: I external/local_tsl/tsl/framework/bfc_allocator.cc:1095] InUse at 7f5fc25c6e00 of size 966144 next 117\n",
      "2024-02-12 21:47:33.733114: I external/local_tsl/tsl/framework/bfc_allocator.cc:1095] InUse at 7f5fc26b2c00 of size 966144 next 314\n",
      "2024-02-12 21:47:33.733119: I external/local_tsl/tsl/framework/bfc_allocator.cc:1095] InUse at 7f5fc279ea00 of size 966144 next 315\n",
      "2024-02-12 21:47:33.733124: I external/local_tsl/tsl/framework/bfc_allocator.cc:1095] InUse at 7f5fc288a800 of size 966144 next 316\n",
      "2024-02-12 21:47:33.733129: I external/local_tsl/tsl/framework/bfc_allocator.cc:1095] InUse at 7f5fc2976600 of size 966144 next 317\n",
      "2024-02-12 21:47:33.733134: I external/local_tsl/tsl/framework/bfc_allocator.cc:1095] InUse at 7f5fc2a62400 of size 966144 next 318\n",
      "2024-02-12 21:47:33.733138: I external/local_tsl/tsl/framework/bfc_allocator.cc:1095] InUse at 7f5fc2b4e200 of size 966144 next 319\n",
      "2024-02-12 21:47:33.733143: I external/local_tsl/tsl/framework/bfc_allocator.cc:1095] InUse at 7f5fc2c3a000 of size 966144 next 320\n",
      "2024-02-12 21:47:33.733149: I external/local_tsl/tsl/framework/bfc_allocator.cc:1095] InUse at 7f5fc2d25e00 of size 966144 next 321\n",
      "2024-02-12 21:47:33.733153: I external/local_tsl/tsl/framework/bfc_allocator.cc:1095] InUse at 7f5fc2e11c00 of size 966144 next 322\n",
      "2024-02-12 21:47:33.733158: I external/local_tsl/tsl/framework/bfc_allocator.cc:1095] InUse at 7f5fc2efda00 of size 966144 next 323\n",
      "2024-02-12 21:47:33.733163: I external/local_tsl/tsl/framework/bfc_allocator.cc:1095] InUse at 7f5fc2fe9800 of size 966144 next 311\n",
      "2024-02-12 21:47:33.733168: I external/local_tsl/tsl/framework/bfc_allocator.cc:1095] InUse at 7f5fc30d5600 of size 966144 next 312\n",
      "2024-02-12 21:47:33.733173: I external/local_tsl/tsl/framework/bfc_allocator.cc:1095] InUse at 7f5fc31c1400 of size 966144 next 313\n",
      "2024-02-12 21:47:33.733178: I external/local_tsl/tsl/framework/bfc_allocator.cc:1095] InUse at 7f5fc32ad200 of size 966144 next 292\n",
      "2024-02-12 21:47:33.733182: I external/local_tsl/tsl/framework/bfc_allocator.cc:1095] InUse at 7f5fc3399000 of size 966144 next 293\n",
      "2024-02-12 21:47:33.733187: I external/local_tsl/tsl/framework/bfc_allocator.cc:1095] InUse at 7f5fc3484e00 of size 966144 next 294\n",
      "2024-02-12 21:47:33.733193: I external/local_tsl/tsl/framework/bfc_allocator.cc:1095] InUse at 7f5fc3570c00 of size 966144 next 295\n",
      "2024-02-12 21:47:33.733197: I external/local_tsl/tsl/framework/bfc_allocator.cc:1095] InUse at 7f5fc365ca00 of size 966144 next 296\n",
      "2024-02-12 21:47:33.733203: I external/local_tsl/tsl/framework/bfc_allocator.cc:1095] InUse at 7f5fc3748800 of size 966144 next 297\n",
      "2024-02-12 21:47:33.733207: I external/local_tsl/tsl/framework/bfc_allocator.cc:1095] InUse at 7f5fc3834600 of size 966144 next 298\n",
      "2024-02-12 21:47:33.733213: I external/local_tsl/tsl/framework/bfc_allocator.cc:1095] InUse at 7f5fc3920400 of size 966144 next 299\n",
      "2024-02-12 21:47:33.733217: I external/local_tsl/tsl/framework/bfc_allocator.cc:1095] InUse at 7f5fc3a0c200 of size 966144 next 300\n",
      "2024-02-12 21:47:33.733222: I external/local_tsl/tsl/framework/bfc_allocator.cc:1095] InUse at 7f5fc3af8000 of size 966144 next 301\n",
      "2024-02-12 21:47:33.733227: I external/local_tsl/tsl/framework/bfc_allocator.cc:1095] InUse at 7f5fc3be3e00 of size 966144 next 302\n",
      "2024-02-12 21:47:33.733232: I external/local_tsl/tsl/framework/bfc_allocator.cc:1095] InUse at 7f5fc3ccfc00 of size 966144 next 303\n",
      "2024-02-12 21:47:33.733237: I external/local_tsl/tsl/framework/bfc_allocator.cc:1095] InUse at 7f5fc3dbba00 of size 966144 next 304\n",
      "2024-02-12 21:47:33.733241: I external/local_tsl/tsl/framework/bfc_allocator.cc:1095] InUse at 7f5fc3ea7800 of size 966144 next 305\n",
      "2024-02-12 21:47:33.733247: I external/local_tsl/tsl/framework/bfc_allocator.cc:1095] InUse at 7f5fc3f93600 of size 966144 next 306\n",
      "2024-02-12 21:47:33.733251: I external/local_tsl/tsl/framework/bfc_allocator.cc:1095] InUse at 7f5fc407f400 of size 966144 next 307\n",
      "2024-02-12 21:47:33.733256: I external/local_tsl/tsl/framework/bfc_allocator.cc:1095] InUse at 7f5fc416b200 of size 966144 next 308\n",
      "2024-02-12 21:47:33.733261: I external/local_tsl/tsl/framework/bfc_allocator.cc:1095] InUse at 7f5fc4257000 of size 966144 next 309\n",
      "2024-02-12 21:47:33.733266: I external/local_tsl/tsl/framework/bfc_allocator.cc:1095] InUse at 7f5fc4342e00 of size 966144 next 357\n",
      "2024-02-12 21:47:33.733271: I external/local_tsl/tsl/framework/bfc_allocator.cc:1095] InUse at 7f5fc442ec00 of size 966144 next 358\n",
      "2024-02-12 21:47:33.733275: I external/local_tsl/tsl/framework/bfc_allocator.cc:1095] InUse at 7f5fc451aa00 of size 966144 next 359\n",
      "2024-02-12 21:47:33.733281: I external/local_tsl/tsl/framework/bfc_allocator.cc:1095] InUse at 7f5fc4606800 of size 966144 next 360\n",
      "2024-02-12 21:47:33.733285: I external/local_tsl/tsl/framework/bfc_allocator.cc:1095] InUse at 7f5fc46f2600 of size 966144 next 361\n",
      "2024-02-12 21:47:33.733290: I external/local_tsl/tsl/framework/bfc_allocator.cc:1095] InUse at 7f5fc47de400 of size 966144 next 362\n",
      "2024-02-12 21:47:33.733295: I external/local_tsl/tsl/framework/bfc_allocator.cc:1095] InUse at 7f5fc48ca200 of size 966144 next 363\n",
      "2024-02-12 21:47:33.733300: I external/local_tsl/tsl/framework/bfc_allocator.cc:1095] InUse at 7f5fc49b6000 of size 966144 next 364\n",
      "2024-02-12 21:47:33.733305: I external/local_tsl/tsl/framework/bfc_allocator.cc:1095] InUse at 7f5fc4aa1e00 of size 966144 next 365\n",
      "2024-02-12 21:47:33.733310: I external/local_tsl/tsl/framework/bfc_allocator.cc:1095] InUse at 7f5fc4b8dc00 of size 966144 next 366\n",
      "2024-02-12 21:47:33.733314: I external/local_tsl/tsl/framework/bfc_allocator.cc:1095] InUse at 7f5fc4c79a00 of size 966144 next 367\n",
      "2024-02-12 21:47:33.733319: I external/local_tsl/tsl/framework/bfc_allocator.cc:1095] InUse at 7f5fc4d65800 of size 966144 next 368\n",
      "2024-02-12 21:47:33.733324: I external/local_tsl/tsl/framework/bfc_allocator.cc:1095] InUse at 7f5fc4e51600 of size 966144 next 369\n",
      "2024-02-12 21:47:33.733328: I external/local_tsl/tsl/framework/bfc_allocator.cc:1095] InUse at 7f5fc4f3d400 of size 966144 next 370\n",
      "2024-02-12 21:47:33.733333: I external/local_tsl/tsl/framework/bfc_allocator.cc:1095] InUse at 7f5fc5029200 of size 966144 next 371\n",
      "2024-02-12 21:47:33.733337: I external/local_tsl/tsl/framework/bfc_allocator.cc:1095] InUse at 7f5fc5115000 of size 966144 next 372\n",
      "2024-02-12 21:47:33.733342: I external/local_tsl/tsl/framework/bfc_allocator.cc:1095] InUse at 7f5fc5200e00 of size 966144 next 373\n",
      "2024-02-12 21:47:33.733347: I external/local_tsl/tsl/framework/bfc_allocator.cc:1095] InUse at 7f5fc52ecc00 of size 966144 next 374\n",
      "2024-02-12 21:47:33.733352: I external/local_tsl/tsl/framework/bfc_allocator.cc:1095] InUse at 7f5fc53d8a00 of size 966144 next 375\n",
      "2024-02-12 21:47:33.733357: I external/local_tsl/tsl/framework/bfc_allocator.cc:1095] InUse at 7f5fc54c4800 of size 966144 next 376\n",
      "2024-02-12 21:47:33.733362: I external/local_tsl/tsl/framework/bfc_allocator.cc:1095] InUse at 7f5fc55b0600 of size 966144 next 377\n",
      "2024-02-12 21:47:33.733366: I external/local_tsl/tsl/framework/bfc_allocator.cc:1095] InUse at 7f5fc569c400 of size 966144 next 378\n",
      "2024-02-12 21:47:33.733371: I external/local_tsl/tsl/framework/bfc_allocator.cc:1095] InUse at 7f5fc5788200 of size 966144 next 379\n",
      "2024-02-12 21:47:33.733376: I external/local_tsl/tsl/framework/bfc_allocator.cc:1095] InUse at 7f5fc5874000 of size 966144 next 380\n",
      "2024-02-12 21:47:33.733381: I external/local_tsl/tsl/framework/bfc_allocator.cc:1095] InUse at 7f5fc595fe00 of size 966144 next 381\n",
      "2024-02-12 21:47:33.733386: I external/local_tsl/tsl/framework/bfc_allocator.cc:1095] InUse at 7f5fc5a4bc00 of size 966144 next 382\n",
      "2024-02-12 21:47:33.733391: I external/local_tsl/tsl/framework/bfc_allocator.cc:1095] InUse at 7f5fc5b37a00 of size 966144 next 383\n",
      "2024-02-12 21:47:33.733396: I external/local_tsl/tsl/framework/bfc_allocator.cc:1095] InUse at 7f5fc5c23800 of size 966144 next 384\n",
      "2024-02-12 21:47:33.733401: I external/local_tsl/tsl/framework/bfc_allocator.cc:1095] InUse at 7f5fc5d0f600 of size 966144 next 385\n",
      "2024-02-12 21:47:33.733406: I external/local_tsl/tsl/framework/bfc_allocator.cc:1095] InUse at 7f5fc5dfb400 of size 966144 next 386\n",
      "2024-02-12 21:47:33.733410: I external/local_tsl/tsl/framework/bfc_allocator.cc:1095] InUse at 7f5fc5ee7200 of size 966144 next 387\n",
      "2024-02-12 21:47:33.733415: I external/local_tsl/tsl/framework/bfc_allocator.cc:1095] InUse at 7f5fc5fd3000 of size 966144 next 388\n",
      "2024-02-12 21:47:33.733420: I external/local_tsl/tsl/framework/bfc_allocator.cc:1095] InUse at 7f5fc60bee00 of size 966144 next 389\n",
      "2024-02-12 21:47:33.733425: I external/local_tsl/tsl/framework/bfc_allocator.cc:1095] InUse at 7f5fc61aac00 of size 966144 next 390\n",
      "2024-02-12 21:47:33.733430: I external/local_tsl/tsl/framework/bfc_allocator.cc:1095] InUse at 7f5fc6296a00 of size 966144 next 391\n",
      "2024-02-12 21:47:33.733435: I external/local_tsl/tsl/framework/bfc_allocator.cc:1095] InUse at 7f5fc6382800 of size 966144 next 392\n",
      "2024-02-12 21:47:33.733439: I external/local_tsl/tsl/framework/bfc_allocator.cc:1095] InUse at 7f5fc646e600 of size 966144 next 393\n",
      "2024-02-12 21:47:33.733444: I external/local_tsl/tsl/framework/bfc_allocator.cc:1095] InUse at 7f5fc655a400 of size 966144 next 394\n",
      "2024-02-12 21:47:33.733449: I external/local_tsl/tsl/framework/bfc_allocator.cc:1095] InUse at 7f5fc6646200 of size 966144 next 395\n",
      "2024-02-12 21:47:33.733454: I external/local_tsl/tsl/framework/bfc_allocator.cc:1095] InUse at 7f5fc6732000 of size 966144 next 396\n",
      "2024-02-12 21:47:33.733459: I external/local_tsl/tsl/framework/bfc_allocator.cc:1095] InUse at 7f5fc681de00 of size 966144 next 397\n",
      "2024-02-12 21:47:33.733464: I external/local_tsl/tsl/framework/bfc_allocator.cc:1095] InUse at 7f5fc6909c00 of size 966144 next 398\n",
      "2024-02-12 21:47:33.733469: I external/local_tsl/tsl/framework/bfc_allocator.cc:1095] InUse at 7f5fc69f5a00 of size 966144 next 399\n",
      "2024-02-12 21:47:33.733474: I external/local_tsl/tsl/framework/bfc_allocator.cc:1095] InUse at 7f5fc6ae1800 of size 966144 next 400\n",
      "2024-02-12 21:47:33.733478: I external/local_tsl/tsl/framework/bfc_allocator.cc:1095] InUse at 7f5fc6bcd600 of size 966144 next 401\n",
      "2024-02-12 21:47:33.733484: I external/local_tsl/tsl/framework/bfc_allocator.cc:1095] InUse at 7f5fc6cb9400 of size 966144 next 402\n",
      "2024-02-12 21:47:33.733489: I external/local_tsl/tsl/framework/bfc_allocator.cc:1095] InUse at 7f5fc6da5200 of size 966144 next 403\n",
      "2024-02-12 21:47:33.733493: I external/local_tsl/tsl/framework/bfc_allocator.cc:1095] InUse at 7f5fc6e91000 of size 966144 next 404\n",
      "2024-02-12 21:47:33.733498: I external/local_tsl/tsl/framework/bfc_allocator.cc:1095] InUse at 7f5fc6f7ce00 of size 966144 next 405\n",
      "2024-02-12 21:47:33.733503: I external/local_tsl/tsl/framework/bfc_allocator.cc:1095] InUse at 7f5fc7068c00 of size 966144 next 406\n",
      "2024-02-12 21:47:33.733508: I external/local_tsl/tsl/framework/bfc_allocator.cc:1095] InUse at 7f5fc7154a00 of size 966144 next 407\n",
      "2024-02-12 21:47:33.733513: I external/local_tsl/tsl/framework/bfc_allocator.cc:1095] InUse at 7f5fc7240800 of size 966144 next 408\n",
      "2024-02-12 21:47:33.733518: I external/local_tsl/tsl/framework/bfc_allocator.cc:1095] InUse at 7f5fc732c600 of size 966144 next 409\n",
      "2024-02-12 21:47:33.733523: I external/local_tsl/tsl/framework/bfc_allocator.cc:1095] InUse at 7f5fc7418400 of size 966144 next 410\n",
      "2024-02-12 21:47:33.733528: I external/local_tsl/tsl/framework/bfc_allocator.cc:1095] InUse at 7f5fc7504200 of size 966144 next 411\n",
      "2024-02-12 21:47:33.733532: I external/local_tsl/tsl/framework/bfc_allocator.cc:1095] InUse at 7f5fc75f0000 of size 966144 next 412\n",
      "2024-02-12 21:47:33.733538: I external/local_tsl/tsl/framework/bfc_allocator.cc:1095] InUse at 7f5fc76dbe00 of size 966144 next 413\n",
      "2024-02-12 21:47:33.733542: I external/local_tsl/tsl/framework/bfc_allocator.cc:1095] InUse at 7f5fc77c7c00 of size 966144 next 414\n",
      "2024-02-12 21:47:33.733547: I external/local_tsl/tsl/framework/bfc_allocator.cc:1095] InUse at 7f5fc78b3a00 of size 966144 next 415\n",
      "2024-02-12 21:47:33.733552: I external/local_tsl/tsl/framework/bfc_allocator.cc:1095] InUse at 7f5fc799f800 of size 966144 next 416\n",
      "2024-02-12 21:47:33.733557: I external/local_tsl/tsl/framework/bfc_allocator.cc:1095] InUse at 7f5fc7a8b600 of size 966144 next 417\n",
      "2024-02-12 21:47:33.733562: I external/local_tsl/tsl/framework/bfc_allocator.cc:1095] InUse at 7f5fc7b77400 of size 966144 next 418\n",
      "2024-02-12 21:47:33.733567: I external/local_tsl/tsl/framework/bfc_allocator.cc:1095] InUse at 7f5fc7c63200 of size 966144 next 419\n",
      "2024-02-12 21:47:33.733572: I external/local_tsl/tsl/framework/bfc_allocator.cc:1095] InUse at 7f5fc7d4f000 of size 966144 next 420\n",
      "2024-02-12 21:47:33.733577: I external/local_tsl/tsl/framework/bfc_allocator.cc:1095] InUse at 7f5fc7e3ae00 of size 966144 next 421\n",
      "2024-02-12 21:47:33.733582: I external/local_tsl/tsl/framework/bfc_allocator.cc:1095] InUse at 7f5fc7f26c00 of size 966144 next 422\n",
      "2024-02-12 21:47:33.733587: I external/local_tsl/tsl/framework/bfc_allocator.cc:1095] InUse at 7f5fc8012a00 of size 966144 next 423\n",
      "2024-02-12 21:47:33.733591: I external/local_tsl/tsl/framework/bfc_allocator.cc:1095] InUse at 7f5fc80fe800 of size 966144 next 424\n",
      "2024-02-12 21:47:33.733597: I external/local_tsl/tsl/framework/bfc_allocator.cc:1095] InUse at 7f5fc81ea600 of size 966144 next 425\n",
      "2024-02-12 21:47:33.733601: I external/local_tsl/tsl/framework/bfc_allocator.cc:1095] InUse at 7f5fc82d6400 of size 966144 next 426\n",
      "2024-02-12 21:47:33.733606: I external/local_tsl/tsl/framework/bfc_allocator.cc:1095] InUse at 7f5fc83c2200 of size 966144 next 427\n",
      "2024-02-12 21:47:33.733611: I external/local_tsl/tsl/framework/bfc_allocator.cc:1095] InUse at 7f5fc84ae000 of size 966144 next 428\n",
      "2024-02-12 21:47:33.733616: I external/local_tsl/tsl/framework/bfc_allocator.cc:1095] InUse at 7f5fc8599e00 of size 966144 next 429\n",
      "2024-02-12 21:47:33.733622: I external/local_tsl/tsl/framework/bfc_allocator.cc:1095] InUse at 7f5fc8685c00 of size 966144 next 430\n",
      "2024-02-12 21:47:33.733627: I external/local_tsl/tsl/framework/bfc_allocator.cc:1095] InUse at 7f5fc8771a00 of size 966144 next 431\n",
      "2024-02-12 21:47:33.733632: I external/local_tsl/tsl/framework/bfc_allocator.cc:1095] InUse at 7f5fc885d800 of size 966144 next 432\n",
      "2024-02-12 21:47:33.733637: I external/local_tsl/tsl/framework/bfc_allocator.cc:1095] InUse at 7f5fc8949600 of size 966144 next 433\n",
      "2024-02-12 21:47:33.733641: I external/local_tsl/tsl/framework/bfc_allocator.cc:1095] InUse at 7f5fc8a35400 of size 966144 next 434\n",
      "2024-02-12 21:47:33.733647: I external/local_tsl/tsl/framework/bfc_allocator.cc:1095] InUse at 7f5fc8b21200 of size 966144 next 435\n",
      "2024-02-12 21:47:33.733651: I external/local_tsl/tsl/framework/bfc_allocator.cc:1095] InUse at 7f5fc8c0d000 of size 966144 next 436\n",
      "2024-02-12 21:47:33.733656: I external/local_tsl/tsl/framework/bfc_allocator.cc:1095] InUse at 7f5fc8cf8e00 of size 966144 next 437\n",
      "2024-02-12 21:47:33.733661: I external/local_tsl/tsl/framework/bfc_allocator.cc:1095] InUse at 7f5fc8de4c00 of size 966144 next 438\n",
      "2024-02-12 21:47:33.733666: I external/local_tsl/tsl/framework/bfc_allocator.cc:1095] InUse at 7f5fc8ed0a00 of size 966144 next 439\n",
      "2024-02-12 21:47:33.733671: I external/local_tsl/tsl/framework/bfc_allocator.cc:1095] InUse at 7f5fc8fbc800 of size 966144 next 440\n",
      "2024-02-12 21:47:33.733676: I external/local_tsl/tsl/framework/bfc_allocator.cc:1095] InUse at 7f5fc90a8600 of size 966144 next 441\n",
      "2024-02-12 21:47:33.733681: I external/local_tsl/tsl/framework/bfc_allocator.cc:1095] InUse at 7f5fc9194400 of size 966144 next 442\n",
      "2024-02-12 21:47:33.733686: I external/local_tsl/tsl/framework/bfc_allocator.cc:1095] InUse at 7f5fc9280200 of size 966144 next 443\n",
      "2024-02-12 21:47:33.733690: I external/local_tsl/tsl/framework/bfc_allocator.cc:1095] InUse at 7f5fc936c000 of size 966144 next 444\n",
      "2024-02-12 21:47:33.733695: I external/local_tsl/tsl/framework/bfc_allocator.cc:1095] InUse at 7f5fc9457e00 of size 966144 next 445\n",
      "2024-02-12 21:47:33.733700: I external/local_tsl/tsl/framework/bfc_allocator.cc:1095] InUse at 7f5fc9543c00 of size 966144 next 446\n",
      "2024-02-12 21:47:33.733706: I external/local_tsl/tsl/framework/bfc_allocator.cc:1095] InUse at 7f5fc962fa00 of size 966144 next 447\n",
      "2024-02-12 21:47:33.733711: I external/local_tsl/tsl/framework/bfc_allocator.cc:1095] InUse at 7f5fc971b800 of size 966144 next 448\n",
      "2024-02-12 21:47:33.733717: I external/local_tsl/tsl/framework/bfc_allocator.cc:1095] InUse at 7f5fc9807600 of size 966144 next 449\n",
      "2024-02-12 21:47:33.733721: I external/local_tsl/tsl/framework/bfc_allocator.cc:1095] InUse at 7f5fc98f3400 of size 966144 next 450\n",
      "2024-02-12 21:47:33.733726: I external/local_tsl/tsl/framework/bfc_allocator.cc:1095] InUse at 7f5fc99df200 of size 966144 next 451\n",
      "2024-02-12 21:47:33.733731: I external/local_tsl/tsl/framework/bfc_allocator.cc:1095] InUse at 7f5fc9acb000 of size 966144 next 452\n",
      "2024-02-12 21:47:33.733735: I external/local_tsl/tsl/framework/bfc_allocator.cc:1095] InUse at 7f5fc9bb6e00 of size 966144 next 453\n",
      "2024-02-12 21:47:33.733741: I external/local_tsl/tsl/framework/bfc_allocator.cc:1095] InUse at 7f5fc9ca2c00 of size 966144 next 454\n",
      "2024-02-12 21:47:33.733746: I external/local_tsl/tsl/framework/bfc_allocator.cc:1095] InUse at 7f5fc9d8ea00 of size 966144 next 455\n",
      "2024-02-12 21:47:33.733751: I external/local_tsl/tsl/framework/bfc_allocator.cc:1095] InUse at 7f5fc9e7a800 of size 966144 next 456\n",
      "2024-02-12 21:47:33.733756: I external/local_tsl/tsl/framework/bfc_allocator.cc:1095] InUse at 7f5fc9f66600 of size 966144 next 457\n",
      "2024-02-12 21:47:33.733761: I external/local_tsl/tsl/framework/bfc_allocator.cc:1095] InUse at 7f5fca052400 of size 966144 next 458\n",
      "2024-02-12 21:47:33.733765: I external/local_tsl/tsl/framework/bfc_allocator.cc:1095] InUse at 7f5fca13e200 of size 966144 next 459\n",
      "2024-02-12 21:47:33.733770: I external/local_tsl/tsl/framework/bfc_allocator.cc:1095] InUse at 7f5fca22a000 of size 966144 next 460\n",
      "2024-02-12 21:47:33.733775: I external/local_tsl/tsl/framework/bfc_allocator.cc:1095] InUse at 7f5fca315e00 of size 966144 next 461\n",
      "2024-02-12 21:47:33.733781: I external/local_tsl/tsl/framework/bfc_allocator.cc:1095] InUse at 7f5fca401c00 of size 966144 next 462\n",
      "2024-02-12 21:47:33.733785: I external/local_tsl/tsl/framework/bfc_allocator.cc:1095] InUse at 7f5fca4eda00 of size 966144 next 463\n",
      "2024-02-12 21:47:33.733790: I external/local_tsl/tsl/framework/bfc_allocator.cc:1095] InUse at 7f5fca5d9800 of size 966144 next 464\n",
      "2024-02-12 21:47:33.733795: I external/local_tsl/tsl/framework/bfc_allocator.cc:1095] InUse at 7f5fca6c5600 of size 966144 next 465\n",
      "2024-02-12 21:47:33.733799: I external/local_tsl/tsl/framework/bfc_allocator.cc:1095] InUse at 7f5fca7b1400 of size 966144 next 466\n",
      "2024-02-12 21:47:33.733805: I external/local_tsl/tsl/framework/bfc_allocator.cc:1095] InUse at 7f5fca89d200 of size 966144 next 467\n",
      "2024-02-12 21:47:33.733809: I external/local_tsl/tsl/framework/bfc_allocator.cc:1095] InUse at 7f5fca989000 of size 966144 next 468\n",
      "2024-02-12 21:47:33.733815: I external/local_tsl/tsl/framework/bfc_allocator.cc:1095] InUse at 7f5fcaa74e00 of size 966144 next 469\n",
      "2024-02-12 21:47:33.733820: I external/local_tsl/tsl/framework/bfc_allocator.cc:1095] InUse at 7f5fcab60c00 of size 966144 next 470\n",
      "2024-02-12 21:47:33.733825: I external/local_tsl/tsl/framework/bfc_allocator.cc:1095] InUse at 7f5fcac4ca00 of size 966144 next 471\n",
      "2024-02-12 21:47:33.733830: I external/local_tsl/tsl/framework/bfc_allocator.cc:1095] InUse at 7f5fcad38800 of size 966144 next 472\n",
      "2024-02-12 21:47:33.733835: I external/local_tsl/tsl/framework/bfc_allocator.cc:1095] InUse at 7f5fcae24600 of size 966144 next 473\n",
      "2024-02-12 21:47:33.733839: I external/local_tsl/tsl/framework/bfc_allocator.cc:1095] InUse at 7f5fcaf10400 of size 966144 next 474\n",
      "2024-02-12 21:47:33.733844: I external/local_tsl/tsl/framework/bfc_allocator.cc:1095] InUse at 7f5fcaffc200 of size 966144 next 475\n",
      "2024-02-12 21:47:33.733849: I external/local_tsl/tsl/framework/bfc_allocator.cc:1095] InUse at 7f5fcb0e8000 of size 966144 next 476\n",
      "2024-02-12 21:47:33.733854: I external/local_tsl/tsl/framework/bfc_allocator.cc:1095] InUse at 7f5fcb1d3e00 of size 966144 next 477\n",
      "2024-02-12 21:47:33.733859: I external/local_tsl/tsl/framework/bfc_allocator.cc:1095] InUse at 7f5fcb2bfc00 of size 966144 next 478\n",
      "2024-02-12 21:47:33.733864: I external/local_tsl/tsl/framework/bfc_allocator.cc:1095] InUse at 7f5fcb3aba00 of size 966144 next 479\n",
      "2024-02-12 21:47:33.733869: I external/local_tsl/tsl/framework/bfc_allocator.cc:1095] InUse at 7f5fcb497800 of size 966144 next 480\n",
      "2024-02-12 21:47:33.733874: I external/local_tsl/tsl/framework/bfc_allocator.cc:1095] InUse at 7f5fcb583600 of size 966144 next 481\n",
      "2024-02-12 21:47:33.733879: I external/local_tsl/tsl/framework/bfc_allocator.cc:1095] InUse at 7f5fcb66f400 of size 966144 next 482\n",
      "2024-02-12 21:47:33.733884: I external/local_tsl/tsl/framework/bfc_allocator.cc:1095] InUse at 7f5fcb75b200 of size 966144 next 483\n",
      "2024-02-12 21:47:33.733889: I external/local_tsl/tsl/framework/bfc_allocator.cc:1095] InUse at 7f5fcb847000 of size 966144 next 484\n",
      "2024-02-12 21:47:33.733893: I external/local_tsl/tsl/framework/bfc_allocator.cc:1095] InUse at 7f5fcb932e00 of size 966144 next 485\n",
      "2024-02-12 21:47:33.733899: I external/local_tsl/tsl/framework/bfc_allocator.cc:1095] InUse at 7f5fcba1ec00 of size 966144 next 486\n",
      "2024-02-12 21:47:33.733904: I external/local_tsl/tsl/framework/bfc_allocator.cc:1095] InUse at 7f5fcbb0aa00 of size 966144 next 487\n",
      "2024-02-12 21:47:33.733909: I external/local_tsl/tsl/framework/bfc_allocator.cc:1095] InUse at 7f5fcbbf6800 of size 966144 next 488\n",
      "2024-02-12 21:47:33.733914: I external/local_tsl/tsl/framework/bfc_allocator.cc:1095] InUse at 7f5fcbce2600 of size 966144 next 489\n",
      "2024-02-12 21:47:33.733918: I external/local_tsl/tsl/framework/bfc_allocator.cc:1095] InUse at 7f5fcbdce400 of size 966144 next 490\n",
      "2024-02-12 21:47:33.733923: I external/local_tsl/tsl/framework/bfc_allocator.cc:1095] InUse at 7f5fcbeba200 of size 966144 next 491\n",
      "2024-02-12 21:47:33.733928: I external/local_tsl/tsl/framework/bfc_allocator.cc:1095] InUse at 7f5fcbfa6000 of size 966144 next 492\n",
      "2024-02-12 21:47:33.733933: I external/local_tsl/tsl/framework/bfc_allocator.cc:1095] InUse at 7f5fcc091e00 of size 966144 next 493\n",
      "2024-02-12 21:47:33.733938: I external/local_tsl/tsl/framework/bfc_allocator.cc:1095] InUse at 7f5fcc17dc00 of size 966144 next 494\n",
      "2024-02-12 21:47:33.733942: I external/local_tsl/tsl/framework/bfc_allocator.cc:1095] InUse at 7f5fcc269a00 of size 966144 next 495\n",
      "2024-02-12 21:47:33.733948: I external/local_tsl/tsl/framework/bfc_allocator.cc:1095] InUse at 7f5fcc355800 of size 966144 next 496\n",
      "2024-02-12 21:47:33.733952: I external/local_tsl/tsl/framework/bfc_allocator.cc:1095] InUse at 7f5fcc441600 of size 966144 next 497\n",
      "2024-02-12 21:47:33.733957: I external/local_tsl/tsl/framework/bfc_allocator.cc:1095] InUse at 7f5fcc52d400 of size 966144 next 498\n",
      "2024-02-12 21:47:33.733962: I external/local_tsl/tsl/framework/bfc_allocator.cc:1095] InUse at 7f5fcc619200 of size 966144 next 499\n",
      "2024-02-12 21:47:33.733967: I external/local_tsl/tsl/framework/bfc_allocator.cc:1095] InUse at 7f5fcc705000 of size 966144 next 500\n",
      "2024-02-12 21:47:33.733972: I external/local_tsl/tsl/framework/bfc_allocator.cc:1095] InUse at 7f5fcc7f0e00 of size 966144 next 501\n",
      "2024-02-12 21:47:33.733977: I external/local_tsl/tsl/framework/bfc_allocator.cc:1095] InUse at 7f5fcc8dcc00 of size 966144 next 502\n",
      "2024-02-12 21:47:33.733982: I external/local_tsl/tsl/framework/bfc_allocator.cc:1095] InUse at 7f5fcc9c8a00 of size 966144 next 503\n",
      "2024-02-12 21:47:33.733986: I external/local_tsl/tsl/framework/bfc_allocator.cc:1095] InUse at 7f5fccab4800 of size 966144 next 504\n",
      "2024-02-12 21:47:33.733991: I external/local_tsl/tsl/framework/bfc_allocator.cc:1095] InUse at 7f5fccba0600 of size 966144 next 505\n",
      "2024-02-12 21:47:33.733996: I external/local_tsl/tsl/framework/bfc_allocator.cc:1095] InUse at 7f5fccc8c400 of size 966144 next 506\n",
      "2024-02-12 21:47:33.734001: I external/local_tsl/tsl/framework/bfc_allocator.cc:1095] InUse at 7f5fccd78200 of size 966144 next 507\n",
      "2024-02-12 21:47:33.734006: I external/local_tsl/tsl/framework/bfc_allocator.cc:1095] InUse at 7f5fcce64000 of size 966144 next 508\n",
      "2024-02-12 21:47:33.734012: I external/local_tsl/tsl/framework/bfc_allocator.cc:1095] InUse at 7f5fccf4fe00 of size 966144 next 509\n",
      "2024-02-12 21:47:33.734017: I external/local_tsl/tsl/framework/bfc_allocator.cc:1095] InUse at 7f5fcd03bc00 of size 966144 next 510\n",
      "2024-02-12 21:47:33.734021: I external/local_tsl/tsl/framework/bfc_allocator.cc:1095] InUse at 7f5fcd127a00 of size 966144 next 511\n",
      "2024-02-12 21:47:33.734026: I external/local_tsl/tsl/framework/bfc_allocator.cc:1095] InUse at 7f5fcd213800 of size 966144 next 512\n",
      "2024-02-12 21:47:33.734030: I external/local_tsl/tsl/framework/bfc_allocator.cc:1095] InUse at 7f5fcd2ff600 of size 966144 next 513\n",
      "2024-02-12 21:47:33.734034: I external/local_tsl/tsl/framework/bfc_allocator.cc:1095] InUse at 7f5fcd3eb400 of size 966144 next 514\n",
      "2024-02-12 21:47:33.734038: I external/local_tsl/tsl/framework/bfc_allocator.cc:1095] InUse at 7f5fcd4d7200 of size 966144 next 515\n",
      "2024-02-12 21:47:33.734044: I external/local_tsl/tsl/framework/bfc_allocator.cc:1095] InUse at 7f5fcd5c3000 of size 966144 next 516\n",
      "2024-02-12 21:47:33.734048: I external/local_tsl/tsl/framework/bfc_allocator.cc:1095] InUse at 7f5fcd6aee00 of size 966144 next 517\n",
      "2024-02-12 21:47:33.734053: I external/local_tsl/tsl/framework/bfc_allocator.cc:1095] InUse at 7f5fcd79ac00 of size 966144 next 518\n",
      "2024-02-12 21:47:33.734059: I external/local_tsl/tsl/framework/bfc_allocator.cc:1095] InUse at 7f5fcd886a00 of size 966144 next 519\n",
      "2024-02-12 21:47:33.734064: I external/local_tsl/tsl/framework/bfc_allocator.cc:1095] InUse at 7f5fcd972800 of size 966144 next 520\n",
      "2024-02-12 21:47:33.734068: I external/local_tsl/tsl/framework/bfc_allocator.cc:1095] InUse at 7f5fcda5e600 of size 966144 next 521\n",
      "2024-02-12 21:47:33.734074: I external/local_tsl/tsl/framework/bfc_allocator.cc:1095] InUse at 7f5fcdb4a400 of size 966144 next 522\n",
      "2024-02-12 21:47:33.734078: I external/local_tsl/tsl/framework/bfc_allocator.cc:1095] InUse at 7f5fcdc36200 of size 966144 next 523\n",
      "2024-02-12 21:47:33.734083: I external/local_tsl/tsl/framework/bfc_allocator.cc:1095] InUse at 7f5fcdd22000 of size 966144 next 524\n",
      "2024-02-12 21:47:33.734089: I external/local_tsl/tsl/framework/bfc_allocator.cc:1095] InUse at 7f5fcde0de00 of size 966144 next 525\n",
      "2024-02-12 21:47:33.734093: I external/local_tsl/tsl/framework/bfc_allocator.cc:1095] InUse at 7f5fcdef9c00 of size 966144 next 526\n",
      "2024-02-12 21:47:33.734099: I external/local_tsl/tsl/framework/bfc_allocator.cc:1095] InUse at 7f5fcdfe5a00 of size 966144 next 527\n",
      "2024-02-12 21:47:33.734103: I external/local_tsl/tsl/framework/bfc_allocator.cc:1095] InUse at 7f5fce0d1800 of size 966144 next 528\n",
      "2024-02-12 21:47:33.734108: I external/local_tsl/tsl/framework/bfc_allocator.cc:1095] InUse at 7f5fce1bd600 of size 966144 next 529\n",
      "2024-02-12 21:47:33.734113: I external/local_tsl/tsl/framework/bfc_allocator.cc:1095] InUse at 7f5fce2a9400 of size 966144 next 530\n",
      "2024-02-12 21:47:33.734118: I external/local_tsl/tsl/framework/bfc_allocator.cc:1095] InUse at 7f5fce395200 of size 966144 next 531\n",
      "2024-02-12 21:47:33.734123: I external/local_tsl/tsl/framework/bfc_allocator.cc:1095] InUse at 7f5fce481000 of size 966144 next 532\n",
      "2024-02-12 21:47:33.734128: I external/local_tsl/tsl/framework/bfc_allocator.cc:1095] InUse at 7f5fce56ce00 of size 966144 next 533\n",
      "2024-02-12 21:47:33.734133: I external/local_tsl/tsl/framework/bfc_allocator.cc:1095] InUse at 7f5fce658c00 of size 966144 next 534\n",
      "2024-02-12 21:47:33.734138: I external/local_tsl/tsl/framework/bfc_allocator.cc:1095] InUse at 7f5fce744a00 of size 966144 next 535\n",
      "2024-02-12 21:47:33.734143: I external/local_tsl/tsl/framework/bfc_allocator.cc:1095] InUse at 7f5fce830800 of size 966144 next 536\n",
      "2024-02-12 21:47:33.734147: I external/local_tsl/tsl/framework/bfc_allocator.cc:1095] InUse at 7f5fce91c600 of size 966144 next 537\n",
      "2024-02-12 21:47:33.734152: I external/local_tsl/tsl/framework/bfc_allocator.cc:1095] InUse at 7f5fcea08400 of size 966144 next 538\n",
      "2024-02-12 21:47:33.734157: I external/local_tsl/tsl/framework/bfc_allocator.cc:1095] InUse at 7f5fceaf4200 of size 966144 next 539\n",
      "2024-02-12 21:47:33.734162: I external/local_tsl/tsl/framework/bfc_allocator.cc:1095] InUse at 7f5fcebe0000 of size 966144 next 540\n",
      "2024-02-12 21:47:33.734167: I external/local_tsl/tsl/framework/bfc_allocator.cc:1095] InUse at 7f5fceccbe00 of size 966144 next 541\n",
      "2024-02-12 21:47:33.734172: I external/local_tsl/tsl/framework/bfc_allocator.cc:1095] InUse at 7f5fcedb7c00 of size 966144 next 542\n",
      "2024-02-12 21:47:33.734177: I external/local_tsl/tsl/framework/bfc_allocator.cc:1095] InUse at 7f5fceea3a00 of size 966144 next 543\n",
      "2024-02-12 21:47:33.734182: I external/local_tsl/tsl/framework/bfc_allocator.cc:1095] InUse at 7f5fcef8f800 of size 966144 next 544\n",
      "2024-02-12 21:47:33.734187: I external/local_tsl/tsl/framework/bfc_allocator.cc:1095] InUse at 7f5fcf07b600 of size 966144 next 545\n",
      "2024-02-12 21:47:33.734191: I external/local_tsl/tsl/framework/bfc_allocator.cc:1095] InUse at 7f5fcf167400 of size 966144 next 546\n",
      "2024-02-12 21:47:33.734196: I external/local_tsl/tsl/framework/bfc_allocator.cc:1095] InUse at 7f5fcf253200 of size 966144 next 547\n",
      "2024-02-12 21:47:33.734201: I external/local_tsl/tsl/framework/bfc_allocator.cc:1095] InUse at 7f5fcf33f000 of size 966144 next 548\n",
      "2024-02-12 21:47:33.734206: I external/local_tsl/tsl/framework/bfc_allocator.cc:1095] InUse at 7f5fcf42ae00 of size 966144 next 549\n",
      "2024-02-12 21:47:33.734211: I external/local_tsl/tsl/framework/bfc_allocator.cc:1095] InUse at 7f5fcf516c00 of size 966144 next 550\n",
      "2024-02-12 21:47:33.734216: I external/local_tsl/tsl/framework/bfc_allocator.cc:1095] InUse at 7f5fcf602a00 of size 966144 next 551\n",
      "2024-02-12 21:47:33.734220: I external/local_tsl/tsl/framework/bfc_allocator.cc:1095] InUse at 7f5fcf6ee800 of size 966144 next 552\n",
      "2024-02-12 21:47:33.734226: I external/local_tsl/tsl/framework/bfc_allocator.cc:1095] InUse at 7f5fcf7da600 of size 966144 next 553\n",
      "2024-02-12 21:47:33.734230: I external/local_tsl/tsl/framework/bfc_allocator.cc:1095] InUse at 7f5fcf8c6400 of size 966144 next 554\n",
      "2024-02-12 21:47:33.734236: I external/local_tsl/tsl/framework/bfc_allocator.cc:1095] InUse at 7f5fcf9b2200 of size 966144 next 555\n",
      "2024-02-12 21:47:33.734240: I external/local_tsl/tsl/framework/bfc_allocator.cc:1095] InUse at 7f5fcfa9e000 of size 966144 next 556\n",
      "2024-02-12 21:47:33.734245: I external/local_tsl/tsl/framework/bfc_allocator.cc:1095] InUse at 7f5fcfb89e00 of size 966144 next 557\n",
      "2024-02-12 21:47:33.734250: I external/local_tsl/tsl/framework/bfc_allocator.cc:1095] InUse at 7f5fcfc75c00 of size 966144 next 558\n",
      "2024-02-12 21:47:33.734254: I external/local_tsl/tsl/framework/bfc_allocator.cc:1095] InUse at 7f5fcfd61a00 of size 966144 next 559\n",
      "2024-02-12 21:47:33.734259: I external/local_tsl/tsl/framework/bfc_allocator.cc:1095] InUse at 7f5fcfe4d800 of size 1779712 next 18446744073709551615\n",
      "2024-02-12 21:47:33.734264: I external/local_tsl/tsl/framework/bfc_allocator.cc:1075] Next region of size 134217728\n",
      "2024-02-12 21:47:33.734269: I external/local_tsl/tsl/framework/bfc_allocator.cc:1095] InUse at 7f5fd0000000 of size 966144 next 180\n",
      "2024-02-12 21:47:33.734275: I external/local_tsl/tsl/framework/bfc_allocator.cc:1095] InUse at 7f5fd00ebe00 of size 966144 next 181\n",
      "2024-02-12 21:47:33.734280: I external/local_tsl/tsl/framework/bfc_allocator.cc:1095] InUse at 7f5fd01d7c00 of size 966144 next 182\n",
      "2024-02-12 21:47:33.734285: I external/local_tsl/tsl/framework/bfc_allocator.cc:1095] InUse at 7f5fd02c3a00 of size 966144 next 183\n",
      "2024-02-12 21:47:33.734290: I external/local_tsl/tsl/framework/bfc_allocator.cc:1095] InUse at 7f5fd03af800 of size 966144 next 184\n",
      "2024-02-12 21:47:33.734295: I external/local_tsl/tsl/framework/bfc_allocator.cc:1095] InUse at 7f5fd049b600 of size 966144 next 172\n",
      "2024-02-12 21:47:33.734300: I external/local_tsl/tsl/framework/bfc_allocator.cc:1095] InUse at 7f5fd0587400 of size 966144 next 173\n",
      "2024-02-12 21:47:33.734305: I external/local_tsl/tsl/framework/bfc_allocator.cc:1095] InUse at 7f5fd0673200 of size 966144 next 174\n",
      "2024-02-12 21:47:33.734310: I external/local_tsl/tsl/framework/bfc_allocator.cc:1095] InUse at 7f5fd075f000 of size 966144 next 153\n",
      "2024-02-12 21:47:33.734315: I external/local_tsl/tsl/framework/bfc_allocator.cc:1095] InUse at 7f5fd084ae00 of size 966144 next 154\n",
      "2024-02-12 21:47:33.734320: I external/local_tsl/tsl/framework/bfc_allocator.cc:1095] InUse at 7f5fd0936c00 of size 966144 next 155\n",
      "2024-02-12 21:47:33.734325: I external/local_tsl/tsl/framework/bfc_allocator.cc:1095] InUse at 7f5fd0a22a00 of size 966144 next 156\n",
      "2024-02-12 21:47:33.734330: I external/local_tsl/tsl/framework/bfc_allocator.cc:1095] InUse at 7f5fd0b0e800 of size 966144 next 157\n",
      "2024-02-12 21:47:33.734335: I external/local_tsl/tsl/framework/bfc_allocator.cc:1095] InUse at 7f5fd0bfa600 of size 966144 next 158\n",
      "2024-02-12 21:47:33.734340: I external/local_tsl/tsl/framework/bfc_allocator.cc:1095] InUse at 7f5fd0ce6400 of size 966144 next 159\n",
      "2024-02-12 21:47:33.734344: I external/local_tsl/tsl/framework/bfc_allocator.cc:1095] InUse at 7f5fd0dd2200 of size 966144 next 160\n",
      "2024-02-12 21:47:33.734349: I external/local_tsl/tsl/framework/bfc_allocator.cc:1095] InUse at 7f5fd0ebe000 of size 966144 next 161\n",
      "2024-02-12 21:47:33.734354: I external/local_tsl/tsl/framework/bfc_allocator.cc:1095] InUse at 7f5fd0fa9e00 of size 966144 next 162\n",
      "2024-02-12 21:47:33.734359: I external/local_tsl/tsl/framework/bfc_allocator.cc:1095] InUse at 7f5fd1095c00 of size 966144 next 163\n",
      "2024-02-12 21:47:33.734363: I external/local_tsl/tsl/framework/bfc_allocator.cc:1095] InUse at 7f5fd1181a00 of size 966144 next 164\n",
      "2024-02-12 21:47:33.734368: I external/local_tsl/tsl/framework/bfc_allocator.cc:1095] InUse at 7f5fd126d800 of size 966144 next 165\n",
      "2024-02-12 21:47:33.734374: I external/local_tsl/tsl/framework/bfc_allocator.cc:1095] InUse at 7f5fd1359600 of size 966144 next 166\n",
      "2024-02-12 21:47:33.734378: I external/local_tsl/tsl/framework/bfc_allocator.cc:1095] InUse at 7f5fd1445400 of size 966144 next 167\n",
      "2024-02-12 21:47:33.734384: I external/local_tsl/tsl/framework/bfc_allocator.cc:1095] InUse at 7f5fd1531200 of size 966144 next 168\n",
      "2024-02-12 21:47:33.734388: I external/local_tsl/tsl/framework/bfc_allocator.cc:1095] InUse at 7f5fd161d000 of size 966144 next 169\n",
      "2024-02-12 21:47:33.734393: I external/local_tsl/tsl/framework/bfc_allocator.cc:1095] InUse at 7f5fd1708e00 of size 966144 next 170\n",
      "2024-02-12 21:47:33.734398: I external/local_tsl/tsl/framework/bfc_allocator.cc:1095] InUse at 7f5fd17f4c00 of size 966144 next 171\n",
      "2024-02-12 21:47:33.734403: I external/local_tsl/tsl/framework/bfc_allocator.cc:1095] InUse at 7f5fd18e0a00 of size 966144 next 218\n",
      "2024-02-12 21:47:33.734408: I external/local_tsl/tsl/framework/bfc_allocator.cc:1095] InUse at 7f5fd19cc800 of size 966144 next 198\n",
      "2024-02-12 21:47:33.734413: I external/local_tsl/tsl/framework/bfc_allocator.cc:1095] InUse at 7f5fd1ab8600 of size 966144 next 199\n",
      "2024-02-12 21:47:33.734418: I external/local_tsl/tsl/framework/bfc_allocator.cc:1095] InUse at 7f5fd1ba4400 of size 966144 next 175\n",
      "2024-02-12 21:47:33.734423: I external/local_tsl/tsl/framework/bfc_allocator.cc:1095] InUse at 7f5fd1c90200 of size 966144 next 176\n",
      "2024-02-12 21:47:33.734428: I external/local_tsl/tsl/framework/bfc_allocator.cc:1095] InUse at 7f5fd1d7c000 of size 966144 next 177\n",
      "2024-02-12 21:47:33.734433: I external/local_tsl/tsl/framework/bfc_allocator.cc:1095] InUse at 7f5fd1e67e00 of size 966144 next 178\n",
      "2024-02-12 21:47:33.734438: I external/local_tsl/tsl/framework/bfc_allocator.cc:1095] InUse at 7f5fd1f53c00 of size 966144 next 179\n",
      "2024-02-12 21:47:33.734443: I external/local_tsl/tsl/framework/bfc_allocator.cc:1095] InUse at 7f5fd203fa00 of size 966144 next 192\n",
      "2024-02-12 21:47:33.734448: I external/local_tsl/tsl/framework/bfc_allocator.cc:1095] InUse at 7f5fd212b800 of size 966144 next 193\n",
      "2024-02-12 21:47:33.734453: I external/local_tsl/tsl/framework/bfc_allocator.cc:1095] InUse at 7f5fd2217600 of size 966144 next 194\n",
      "2024-02-12 21:47:33.734457: I external/local_tsl/tsl/framework/bfc_allocator.cc:1095] InUse at 7f5fd2303400 of size 966144 next 195\n",
      "2024-02-12 21:47:33.734462: I external/local_tsl/tsl/framework/bfc_allocator.cc:1095] InUse at 7f5fd23ef200 of size 966144 next 196\n",
      "2024-02-12 21:47:33.734467: I external/local_tsl/tsl/framework/bfc_allocator.cc:1095] InUse at 7f5fd24db000 of size 966144 next 191\n",
      "2024-02-12 21:47:33.734472: I external/local_tsl/tsl/framework/bfc_allocator.cc:1095] InUse at 7f5fd25c6e00 of size 966144 next 185\n",
      "2024-02-12 21:47:33.734477: I external/local_tsl/tsl/framework/bfc_allocator.cc:1095] InUse at 7f5fd26b2c00 of size 966144 next 187\n",
      "2024-02-12 21:47:33.734482: I external/local_tsl/tsl/framework/bfc_allocator.cc:1095] InUse at 7f5fd279ea00 of size 966144 next 188\n",
      "2024-02-12 21:47:33.734487: I external/local_tsl/tsl/framework/bfc_allocator.cc:1095] InUse at 7f5fd288a800 of size 966144 next 189\n",
      "2024-02-12 21:47:33.734491: I external/local_tsl/tsl/framework/bfc_allocator.cc:1095] InUse at 7f5fd2976600 of size 966144 next 190\n",
      "2024-02-12 21:47:33.734496: I external/local_tsl/tsl/framework/bfc_allocator.cc:1095] InUse at 7f5fd2a62400 of size 966144 next 32\n",
      "2024-02-12 21:47:33.734501: I external/local_tsl/tsl/framework/bfc_allocator.cc:1095] InUse at 7f5fd2b4e200 of size 966144 next 37\n",
      "2024-02-12 21:47:33.734507: I external/local_tsl/tsl/framework/bfc_allocator.cc:1095] InUse at 7f5fd2c3a000 of size 966144 next 99\n",
      "2024-02-12 21:47:33.734512: I external/local_tsl/tsl/framework/bfc_allocator.cc:1095] InUse at 7f5fd2d25e00 of size 966144 next 100\n",
      "2024-02-12 21:47:33.734517: I external/local_tsl/tsl/framework/bfc_allocator.cc:1095] InUse at 7f5fd2e11c00 of size 966144 next 101\n",
      "2024-02-12 21:47:33.734522: I external/local_tsl/tsl/framework/bfc_allocator.cc:1095] InUse at 7f5fd2efda00 of size 966144 next 65\n",
      "2024-02-12 21:47:33.734526: I external/local_tsl/tsl/framework/bfc_allocator.cc:1095] InUse at 7f5fd2fe9800 of size 966144 next 151\n",
      "2024-02-12 21:47:33.734531: I external/local_tsl/tsl/framework/bfc_allocator.cc:1095] InUse at 7f5fd30d5600 of size 966144 next 152\n",
      "2024-02-12 21:47:33.734536: I external/local_tsl/tsl/framework/bfc_allocator.cc:1095] InUse at 7f5fd31c1400 of size 966144 next 186\n",
      "2024-02-12 21:47:33.734541: I external/local_tsl/tsl/framework/bfc_allocator.cc:1095] InUse at 7f5fd32ad200 of size 966144 next 200\n",
      "2024-02-12 21:47:33.734546: I external/local_tsl/tsl/framework/bfc_allocator.cc:1095] InUse at 7f5fd3399000 of size 966144 next 201\n",
      "2024-02-12 21:47:33.734551: I external/local_tsl/tsl/framework/bfc_allocator.cc:1095] InUse at 7f5fd3484e00 of size 966144 next 202\n",
      "2024-02-12 21:47:33.734556: I external/local_tsl/tsl/framework/bfc_allocator.cc:1095] InUse at 7f5fd3570c00 of size 966144 next 203\n",
      "2024-02-12 21:47:33.734561: I external/local_tsl/tsl/framework/bfc_allocator.cc:1095] InUse at 7f5fd365ca00 of size 966144 next 204\n",
      "2024-02-12 21:47:33.734566: I external/local_tsl/tsl/framework/bfc_allocator.cc:1095] InUse at 7f5fd3748800 of size 966144 next 205\n",
      "2024-02-12 21:47:33.734570: I external/local_tsl/tsl/framework/bfc_allocator.cc:1095] InUse at 7f5fd3834600 of size 966144 next 206\n",
      "2024-02-12 21:47:33.734575: I external/local_tsl/tsl/framework/bfc_allocator.cc:1095] InUse at 7f5fd3920400 of size 966144 next 207\n",
      "2024-02-12 21:47:33.734580: I external/local_tsl/tsl/framework/bfc_allocator.cc:1095] InUse at 7f5fd3a0c200 of size 966144 next 208\n",
      "2024-02-12 21:47:33.734585: I external/local_tsl/tsl/framework/bfc_allocator.cc:1095] InUse at 7f5fd3af8000 of size 966144 next 209\n",
      "2024-02-12 21:47:33.734590: I external/local_tsl/tsl/framework/bfc_allocator.cc:1095] InUse at 7f5fd3be3e00 of size 966144 next 210\n",
      "2024-02-12 21:47:33.734595: I external/local_tsl/tsl/framework/bfc_allocator.cc:1095] InUse at 7f5fd3ccfc00 of size 966144 next 211\n",
      "2024-02-12 21:47:33.734600: I external/local_tsl/tsl/framework/bfc_allocator.cc:1095] InUse at 7f5fd3dbba00 of size 966144 next 212\n",
      "2024-02-12 21:47:33.734605: I external/local_tsl/tsl/framework/bfc_allocator.cc:1095] InUse at 7f5fd3ea7800 of size 966144 next 213\n",
      "2024-02-12 21:47:33.734610: I external/local_tsl/tsl/framework/bfc_allocator.cc:1095] InUse at 7f5fd3f93600 of size 966144 next 214\n",
      "2024-02-12 21:47:33.734615: I external/local_tsl/tsl/framework/bfc_allocator.cc:1095] InUse at 7f5fd407f400 of size 966144 next 215\n",
      "2024-02-12 21:47:33.734620: I external/local_tsl/tsl/framework/bfc_allocator.cc:1095] InUse at 7f5fd416b200 of size 966144 next 216\n",
      "2024-02-12 21:47:33.734625: I external/local_tsl/tsl/framework/bfc_allocator.cc:1095] InUse at 7f5fd4257000 of size 966144 next 217\n",
      "2024-02-12 21:47:33.734630: I external/local_tsl/tsl/framework/bfc_allocator.cc:1095] InUse at 7f5fd4342e00 of size 966144 next 219\n",
      "2024-02-12 21:47:33.734635: I external/local_tsl/tsl/framework/bfc_allocator.cc:1095] InUse at 7f5fd442ec00 of size 966144 next 220\n",
      "2024-02-12 21:47:33.734640: I external/local_tsl/tsl/framework/bfc_allocator.cc:1095] InUse at 7f5fd451aa00 of size 966144 next 221\n",
      "2024-02-12 21:47:33.734645: I external/local_tsl/tsl/framework/bfc_allocator.cc:1095] InUse at 7f5fd4606800 of size 966144 next 222\n",
      "2024-02-12 21:47:33.734650: I external/local_tsl/tsl/framework/bfc_allocator.cc:1095] InUse at 7f5fd46f2600 of size 966144 next 223\n",
      "2024-02-12 21:47:33.734655: I external/local_tsl/tsl/framework/bfc_allocator.cc:1095] InUse at 7f5fd47de400 of size 966144 next 224\n",
      "2024-02-12 21:47:33.734661: I external/local_tsl/tsl/framework/bfc_allocator.cc:1095] InUse at 7f5fd48ca200 of size 966144 next 225\n",
      "2024-02-12 21:47:33.734666: I external/local_tsl/tsl/framework/bfc_allocator.cc:1095] InUse at 7f5fd49b6000 of size 966144 next 226\n",
      "2024-02-12 21:47:33.734671: I external/local_tsl/tsl/framework/bfc_allocator.cc:1095] InUse at 7f5fd4aa1e00 of size 966144 next 227\n",
      "2024-02-12 21:47:33.734675: I external/local_tsl/tsl/framework/bfc_allocator.cc:1095] InUse at 7f5fd4b8dc00 of size 966144 next 228\n",
      "2024-02-12 21:47:33.734680: I external/local_tsl/tsl/framework/bfc_allocator.cc:1095] InUse at 7f5fd4c79a00 of size 966144 next 229\n",
      "2024-02-12 21:47:33.734685: I external/local_tsl/tsl/framework/bfc_allocator.cc:1095] InUse at 7f5fd4d65800 of size 966144 next 230\n",
      "2024-02-12 21:47:33.734690: I external/local_tsl/tsl/framework/bfc_allocator.cc:1095] InUse at 7f5fd4e51600 of size 966144 next 231\n",
      "2024-02-12 21:47:33.734695: I external/local_tsl/tsl/framework/bfc_allocator.cc:1095] InUse at 7f5fd4f3d400 of size 966144 next 232\n",
      "2024-02-12 21:47:33.734699: I external/local_tsl/tsl/framework/bfc_allocator.cc:1095] InUse at 7f5fd5029200 of size 966144 next 233\n",
      "2024-02-12 21:47:33.734705: I external/local_tsl/tsl/framework/bfc_allocator.cc:1095] InUse at 7f5fd5115000 of size 966144 next 234\n",
      "2024-02-12 21:47:33.734709: I external/local_tsl/tsl/framework/bfc_allocator.cc:1095] InUse at 7f5fd5200e00 of size 966144 next 235\n",
      "2024-02-12 21:47:33.734714: I external/local_tsl/tsl/framework/bfc_allocator.cc:1095] InUse at 7f5fd52ecc00 of size 966144 next 236\n",
      "2024-02-12 21:47:33.734719: I external/local_tsl/tsl/framework/bfc_allocator.cc:1095] InUse at 7f5fd53d8a00 of size 966144 next 237\n",
      "2024-02-12 21:47:33.734724: I external/local_tsl/tsl/framework/bfc_allocator.cc:1095] InUse at 7f5fd54c4800 of size 966144 next 238\n",
      "2024-02-12 21:47:33.734728: I external/local_tsl/tsl/framework/bfc_allocator.cc:1095] InUse at 7f5fd55b0600 of size 966144 next 239\n",
      "2024-02-12 21:47:33.734733: I external/local_tsl/tsl/framework/bfc_allocator.cc:1095] InUse at 7f5fd569c400 of size 966144 next 240\n",
      "2024-02-12 21:47:33.734738: I external/local_tsl/tsl/framework/bfc_allocator.cc:1095] InUse at 7f5fd5788200 of size 966144 next 241\n",
      "2024-02-12 21:47:33.734743: I external/local_tsl/tsl/framework/bfc_allocator.cc:1095] InUse at 7f5fd5874000 of size 966144 next 242\n",
      "2024-02-12 21:47:33.734748: I external/local_tsl/tsl/framework/bfc_allocator.cc:1095] InUse at 7f5fd595fe00 of size 966144 next 243\n",
      "2024-02-12 21:47:33.734753: I external/local_tsl/tsl/framework/bfc_allocator.cc:1095] InUse at 7f5fd5a4bc00 of size 966144 next 244\n",
      "2024-02-12 21:47:33.734758: I external/local_tsl/tsl/framework/bfc_allocator.cc:1095] InUse at 7f5fd5b37a00 of size 966144 next 245\n",
      "2024-02-12 21:47:33.734764: I external/local_tsl/tsl/framework/bfc_allocator.cc:1095] InUse at 7f5fd5c23800 of size 966144 next 246\n",
      "2024-02-12 21:47:33.734769: I external/local_tsl/tsl/framework/bfc_allocator.cc:1095] InUse at 7f5fd5d0f600 of size 966144 next 247\n",
      "2024-02-12 21:47:33.734773: I external/local_tsl/tsl/framework/bfc_allocator.cc:1095] InUse at 7f5fd5dfb400 of size 966144 next 248\n",
      "2024-02-12 21:47:33.734778: I external/local_tsl/tsl/framework/bfc_allocator.cc:1095] InUse at 7f5fd5ee7200 of size 966144 next 249\n",
      "2024-02-12 21:47:33.734783: I external/local_tsl/tsl/framework/bfc_allocator.cc:1095] InUse at 7f5fd5fd3000 of size 966144 next 250\n",
      "2024-02-12 21:47:33.734789: I external/local_tsl/tsl/framework/bfc_allocator.cc:1095] InUse at 7f5fd60bee00 of size 966144 next 251\n",
      "2024-02-12 21:47:33.734794: I external/local_tsl/tsl/framework/bfc_allocator.cc:1095] InUse at 7f5fd61aac00 of size 966144 next 252\n",
      "2024-02-12 21:47:33.734799: I external/local_tsl/tsl/framework/bfc_allocator.cc:1095] InUse at 7f5fd6296a00 of size 966144 next 253\n",
      "2024-02-12 21:47:33.734804: I external/local_tsl/tsl/framework/bfc_allocator.cc:1095] InUse at 7f5fd6382800 of size 966144 next 254\n",
      "2024-02-12 21:47:33.734808: I external/local_tsl/tsl/framework/bfc_allocator.cc:1095] InUse at 7f5fd646e600 of size 966144 next 255\n",
      "2024-02-12 21:47:33.734813: I external/local_tsl/tsl/framework/bfc_allocator.cc:1095] InUse at 7f5fd655a400 of size 966144 next 256\n",
      "2024-02-12 21:47:33.734818: I external/local_tsl/tsl/framework/bfc_allocator.cc:1095] InUse at 7f5fd6646200 of size 966144 next 257\n",
      "2024-02-12 21:47:33.734823: I external/local_tsl/tsl/framework/bfc_allocator.cc:1095] InUse at 7f5fd6732000 of size 966144 next 258\n",
      "2024-02-12 21:47:33.734828: I external/local_tsl/tsl/framework/bfc_allocator.cc:1095] InUse at 7f5fd681de00 of size 966144 next 259\n",
      "2024-02-12 21:47:33.734834: I external/local_tsl/tsl/framework/bfc_allocator.cc:1095] InUse at 7f5fd6909c00 of size 966144 next 260\n",
      "2024-02-12 21:47:33.734838: I external/local_tsl/tsl/framework/bfc_allocator.cc:1095] InUse at 7f5fd69f5a00 of size 966144 next 261\n",
      "2024-02-12 21:47:33.734843: I external/local_tsl/tsl/framework/bfc_allocator.cc:1095] InUse at 7f5fd6ae1800 of size 966144 next 262\n",
      "2024-02-12 21:47:33.734848: I external/local_tsl/tsl/framework/bfc_allocator.cc:1095] InUse at 7f5fd6bcd600 of size 966144 next 263\n",
      "2024-02-12 21:47:33.734853: I external/local_tsl/tsl/framework/bfc_allocator.cc:1095] InUse at 7f5fd6cb9400 of size 966144 next 264\n",
      "2024-02-12 21:47:33.734858: I external/local_tsl/tsl/framework/bfc_allocator.cc:1095] InUse at 7f5fd6da5200 of size 966144 next 265\n",
      "2024-02-12 21:47:33.734863: I external/local_tsl/tsl/framework/bfc_allocator.cc:1095] InUse at 7f5fd6e91000 of size 966144 next 266\n",
      "2024-02-12 21:47:33.734867: I external/local_tsl/tsl/framework/bfc_allocator.cc:1095] InUse at 7f5fd6f7ce00 of size 966144 next 267\n",
      "2024-02-12 21:47:33.734872: I external/local_tsl/tsl/framework/bfc_allocator.cc:1095] InUse at 7f5fd7068c00 of size 966144 next 268\n",
      "2024-02-12 21:47:33.734877: I external/local_tsl/tsl/framework/bfc_allocator.cc:1095] InUse at 7f5fd7154a00 of size 966144 next 269\n",
      "2024-02-12 21:47:33.734882: I external/local_tsl/tsl/framework/bfc_allocator.cc:1095] InUse at 7f5fd7240800 of size 966144 next 270\n",
      "2024-02-12 21:47:33.734887: I external/local_tsl/tsl/framework/bfc_allocator.cc:1095] InUse at 7f5fd732c600 of size 966144 next 271\n",
      "2024-02-12 21:47:33.734891: I external/local_tsl/tsl/framework/bfc_allocator.cc:1095] InUse at 7f5fd7418400 of size 966144 next 272\n",
      "2024-02-12 21:47:33.734896: I external/local_tsl/tsl/framework/bfc_allocator.cc:1095] InUse at 7f5fd7504200 of size 966144 next 273\n",
      "2024-02-12 21:47:33.734901: I external/local_tsl/tsl/framework/bfc_allocator.cc:1095] InUse at 7f5fd75f0000 of size 966144 next 274\n",
      "2024-02-12 21:47:33.734906: I external/local_tsl/tsl/framework/bfc_allocator.cc:1095] InUse at 7f5fd76dbe00 of size 966144 next 275\n",
      "2024-02-12 21:47:33.734911: I external/local_tsl/tsl/framework/bfc_allocator.cc:1095] InUse at 7f5fd77c7c00 of size 966144 next 276\n",
      "2024-02-12 21:47:33.734916: I external/local_tsl/tsl/framework/bfc_allocator.cc:1095] InUse at 7f5fd78b3a00 of size 966144 next 277\n",
      "2024-02-12 21:47:33.734920: I external/local_tsl/tsl/framework/bfc_allocator.cc:1095] InUse at 7f5fd799f800 of size 966144 next 278\n",
      "2024-02-12 21:47:33.734925: I external/local_tsl/tsl/framework/bfc_allocator.cc:1095] InUse at 7f5fd7a8b600 of size 966144 next 279\n",
      "2024-02-12 21:47:33.734930: I external/local_tsl/tsl/framework/bfc_allocator.cc:1095] InUse at 7f5fd7b77400 of size 966144 next 280\n",
      "2024-02-12 21:47:33.734935: I external/local_tsl/tsl/framework/bfc_allocator.cc:1095] InUse at 7f5fd7c63200 of size 966144 next 281\n",
      "2024-02-12 21:47:33.734940: I external/local_tsl/tsl/framework/bfc_allocator.cc:1095] InUse at 7f5fd7d4f000 of size 966144 next 282\n",
      "2024-02-12 21:47:33.734945: I external/local_tsl/tsl/framework/bfc_allocator.cc:1095] InUse at 7f5fd7e3ae00 of size 1856000 next 18446744073709551615\n",
      "2024-02-12 21:47:33.734950: I external/local_tsl/tsl/framework/bfc_allocator.cc:1075] Next region of size 67108864\n",
      "2024-02-12 21:47:33.734955: I external/local_tsl/tsl/framework/bfc_allocator.cc:1095] InUse at 7f5fd8000000 of size 966144 next 123\n",
      "2024-02-12 21:47:33.734961: I external/local_tsl/tsl/framework/bfc_allocator.cc:1095] InUse at 7f5fd80ebe00 of size 966144 next 124\n",
      "2024-02-12 21:47:33.734966: I external/local_tsl/tsl/framework/bfc_allocator.cc:1095] InUse at 7f5fd81d7c00 of size 966144 next 125\n",
      "2024-02-12 21:47:33.734971: I external/local_tsl/tsl/framework/bfc_allocator.cc:1095] InUse at 7f5fd82c3a00 of size 966144 next 126\n",
      "2024-02-12 21:47:33.734976: I external/local_tsl/tsl/framework/bfc_allocator.cc:1095] InUse at 7f5fd83af800 of size 966144 next 127\n",
      "2024-02-12 21:47:33.734981: I external/local_tsl/tsl/framework/bfc_allocator.cc:1095] InUse at 7f5fd849b600 of size 966144 next 128\n",
      "2024-02-12 21:47:33.734986: I external/local_tsl/tsl/framework/bfc_allocator.cc:1095] InUse at 7f5fd8587400 of size 966144 next 129\n",
      "2024-02-12 21:47:33.734990: I external/local_tsl/tsl/framework/bfc_allocator.cc:1095] InUse at 7f5fd8673200 of size 966144 next 130\n",
      "2024-02-12 21:47:33.734995: I external/local_tsl/tsl/framework/bfc_allocator.cc:1095] InUse at 7f5fd875f000 of size 966144 next 131\n",
      "2024-02-12 21:47:33.735000: I external/local_tsl/tsl/framework/bfc_allocator.cc:1095] InUse at 7f5fd884ae00 of size 966144 next 132\n",
      "2024-02-12 21:47:33.735005: I external/local_tsl/tsl/framework/bfc_allocator.cc:1095] InUse at 7f5fd8936c00 of size 966144 next 133\n",
      "2024-02-12 21:47:33.735010: I external/local_tsl/tsl/framework/bfc_allocator.cc:1095] InUse at 7f5fd8a22a00 of size 966144 next 134\n",
      "2024-02-12 21:47:33.735014: I external/local_tsl/tsl/framework/bfc_allocator.cc:1095] InUse at 7f5fd8b0e800 of size 966144 next 135\n",
      "2024-02-12 21:47:33.735020: I external/local_tsl/tsl/framework/bfc_allocator.cc:1095] InUse at 7f5fd8bfa600 of size 966144 next 136\n",
      "2024-02-12 21:47:33.735024: I external/local_tsl/tsl/framework/bfc_allocator.cc:1095] InUse at 7f5fd8ce6400 of size 966144 next 137\n",
      "2024-02-12 21:47:33.735029: I external/local_tsl/tsl/framework/bfc_allocator.cc:1095] InUse at 7f5fd8dd2200 of size 966144 next 138\n",
      "2024-02-12 21:47:33.735034: I external/local_tsl/tsl/framework/bfc_allocator.cc:1095] InUse at 7f5fd8ebe000 of size 966144 next 139\n",
      "2024-02-12 21:47:33.735039: I external/local_tsl/tsl/framework/bfc_allocator.cc:1095] InUse at 7f5fd8fa9e00 of size 966144 next 140\n",
      "2024-02-12 21:47:33.735044: I external/local_tsl/tsl/framework/bfc_allocator.cc:1095] InUse at 7f5fd9095c00 of size 966144 next 141\n",
      "2024-02-12 21:47:33.735049: I external/local_tsl/tsl/framework/bfc_allocator.cc:1095] InUse at 7f5fd9181a00 of size 966144 next 142\n",
      "2024-02-12 21:47:33.735053: I external/local_tsl/tsl/framework/bfc_allocator.cc:1095] InUse at 7f5fd926d800 of size 966144 next 143\n",
      "2024-02-12 21:47:33.735059: I external/local_tsl/tsl/framework/bfc_allocator.cc:1095] InUse at 7f5fd9359600 of size 966144 next 144\n",
      "2024-02-12 21:47:33.735063: I external/local_tsl/tsl/framework/bfc_allocator.cc:1095] InUse at 7f5fd9445400 of size 966144 next 145\n",
      "2024-02-12 21:47:33.735068: I external/local_tsl/tsl/framework/bfc_allocator.cc:1095] InUse at 7f5fd9531200 of size 966144 next 146\n",
      "2024-02-12 21:47:33.735073: I external/local_tsl/tsl/framework/bfc_allocator.cc:1095] InUse at 7f5fd961d000 of size 966144 next 147\n",
      "2024-02-12 21:47:33.735078: I external/local_tsl/tsl/framework/bfc_allocator.cc:1095] InUse at 7f5fd9708e00 of size 966144 next 148\n",
      "2024-02-12 21:47:33.735084: I external/local_tsl/tsl/framework/bfc_allocator.cc:1095] InUse at 7f5fd97f4c00 of size 966144 next 102\n",
      "2024-02-12 21:47:33.735089: I external/local_tsl/tsl/framework/bfc_allocator.cc:1095] InUse at 7f5fd98e0a00 of size 966144 next 149\n",
      "2024-02-12 21:47:33.735098: I external/local_tsl/tsl/framework/bfc_allocator.cc:1095] InUse at 7f5fd99cc800 of size 966144 next 76\n",
      "2024-02-12 21:47:33.735103: I external/local_tsl/tsl/framework/bfc_allocator.cc:1095] InUse at 7f5fd9ab8600 of size 966144 next 36\n",
      "2024-02-12 21:47:33.735108: I external/local_tsl/tsl/framework/bfc_allocator.cc:1095] InUse at 7f5fd9ba4400 of size 966144 next 118\n",
      "2024-02-12 21:47:33.735112: I external/local_tsl/tsl/framework/bfc_allocator.cc:1095] InUse at 7f5fd9c90200 of size 966144 next 119\n",
      "2024-02-12 21:47:33.735117: I external/local_tsl/tsl/framework/bfc_allocator.cc:1095] InUse at 7f5fd9d7c000 of size 966144 next 120\n",
      "2024-02-12 21:47:33.735122: I external/local_tsl/tsl/framework/bfc_allocator.cc:1095] InUse at 7f5fd9e67e00 of size 966144 next 121\n",
      "2024-02-12 21:47:33.735127: I external/local_tsl/tsl/framework/bfc_allocator.cc:1095] InUse at 7f5fd9f53c00 of size 966144 next 122\n",
      "2024-02-12 21:47:33.735131: I external/local_tsl/tsl/framework/bfc_allocator.cc:1095] InUse at 7f5fda03fa00 of size 966144 next 53\n",
      "2024-02-12 21:47:33.735136: I external/local_tsl/tsl/framework/bfc_allocator.cc:1095] InUse at 7f5fda12b800 of size 966144 next 79\n",
      "2024-02-12 21:47:33.735141: I external/local_tsl/tsl/framework/bfc_allocator.cc:1095] InUse at 7f5fda217600 of size 966144 next 81\n",
      "2024-02-12 21:47:33.735146: I external/local_tsl/tsl/framework/bfc_allocator.cc:1095] InUse at 7f5fda303400 of size 966144 next 83\n",
      "2024-02-12 21:47:33.735152: I external/local_tsl/tsl/framework/bfc_allocator.cc:1095] InUse at 7f5fda3ef200 of size 966144 next 10\n",
      "2024-02-12 21:47:33.735156: I external/local_tsl/tsl/framework/bfc_allocator.cc:1095] InUse at 7f5fda4db000 of size 966144 next 51\n",
      "2024-02-12 21:47:33.735162: I external/local_tsl/tsl/framework/bfc_allocator.cc:1095] InUse at 7f5fda5c6e00 of size 966144 next 85\n",
      "2024-02-12 21:47:33.735166: I external/local_tsl/tsl/framework/bfc_allocator.cc:1095] InUse at 7f5fda6b2c00 of size 966144 next 106\n",
      "2024-02-12 21:47:33.735171: I external/local_tsl/tsl/framework/bfc_allocator.cc:1095] InUse at 7f5fda79ea00 of size 966144 next 107\n",
      "2024-02-12 21:47:33.735176: I external/local_tsl/tsl/framework/bfc_allocator.cc:1095] InUse at 7f5fda88a800 of size 966144 next 108\n",
      "2024-02-12 21:47:33.735181: I external/local_tsl/tsl/framework/bfc_allocator.cc:1095] InUse at 7f5fda976600 of size 966144 next 109\n",
      "2024-02-12 21:47:33.735185: I external/local_tsl/tsl/framework/bfc_allocator.cc:1095] InUse at 7f5fdaa62400 of size 966144 next 110\n",
      "2024-02-12 21:47:33.735190: I external/local_tsl/tsl/framework/bfc_allocator.cc:1095] InUse at 7f5fdab4e200 of size 966144 next 111\n",
      "2024-02-12 21:47:33.735195: I external/local_tsl/tsl/framework/bfc_allocator.cc:1095] InUse at 7f5fdac3a000 of size 966144 next 112\n",
      "2024-02-12 21:47:33.735200: I external/local_tsl/tsl/framework/bfc_allocator.cc:1095] InUse at 7f5fdad25e00 of size 966144 next 113\n",
      "2024-02-12 21:47:33.735204: I external/local_tsl/tsl/framework/bfc_allocator.cc:1095] InUse at 7f5fdae11c00 of size 966144 next 114\n",
      "2024-02-12 21:47:33.735209: I external/local_tsl/tsl/framework/bfc_allocator.cc:1095] InUse at 7f5fdaefda00 of size 966144 next 116\n",
      "2024-02-12 21:47:33.735214: I external/local_tsl/tsl/framework/bfc_allocator.cc:1095] InUse at 7f5fdafe9800 of size 966144 next 103\n",
      "2024-02-12 21:47:33.735219: I external/local_tsl/tsl/framework/bfc_allocator.cc:1095] InUse at 7f5fdb0d5600 of size 966144 next 104\n",
      "2024-02-12 21:47:33.735224: I external/local_tsl/tsl/framework/bfc_allocator.cc:1095] InUse at 7f5fdb1c1400 of size 966144 next 105\n",
      "2024-02-12 21:47:33.735229: I external/local_tsl/tsl/framework/bfc_allocator.cc:1095] InUse at 7f5fdb2ad200 of size 966144 next 67\n",
      "2024-02-12 21:47:33.735234: I external/local_tsl/tsl/framework/bfc_allocator.cc:1095] InUse at 7f5fdb399000 of size 966144 next 34\n",
      "2024-02-12 21:47:33.735239: I external/local_tsl/tsl/framework/bfc_allocator.cc:1095] InUse at 7f5fdb484e00 of size 966144 next 71\n",
      "2024-02-12 21:47:33.735244: I external/local_tsl/tsl/framework/bfc_allocator.cc:1095] InUse at 7f5fdb570c00 of size 966144 next 73\n",
      "2024-02-12 21:47:33.735248: I external/local_tsl/tsl/framework/bfc_allocator.cc:1095] InUse at 7f5fdb65ca00 of size 966144 next 75\n",
      "2024-02-12 21:47:33.735253: I external/local_tsl/tsl/framework/bfc_allocator.cc:1095] InUse at 7f5fdb748800 of size 966144 next 80\n",
      "2024-02-12 21:47:33.735258: I external/local_tsl/tsl/framework/bfc_allocator.cc:1095] InUse at 7f5fdb834600 of size 966144 next 82\n",
      "2024-02-12 21:47:33.735263: I external/local_tsl/tsl/framework/bfc_allocator.cc:1095] InUse at 7f5fdb920400 of size 966144 next 88\n",
      "2024-02-12 21:47:33.735268: I external/local_tsl/tsl/framework/bfc_allocator.cc:1095] InUse at 7f5fdba0c200 of size 966144 next 22\n",
      "2024-02-12 21:47:33.735273: I external/local_tsl/tsl/framework/bfc_allocator.cc:1095] InUse at 7f5fdbaf8000 of size 966144 next 77\n",
      "2024-02-12 21:47:33.735278: I external/local_tsl/tsl/framework/bfc_allocator.cc:1095] InUse at 7f5fdbbe3e00 of size 966144 next 43\n",
      "2024-02-12 21:47:33.735283: I external/local_tsl/tsl/framework/bfc_allocator.cc:1095] InUse at 7f5fdbccfc00 of size 966144 next 46\n",
      "2024-02-12 21:47:33.735288: I external/local_tsl/tsl/framework/bfc_allocator.cc:1095] InUse at 7f5fdbdbba00 of size 966144 next 150\n",
      "2024-02-12 21:47:33.735293: I external/local_tsl/tsl/framework/bfc_allocator.cc:1095] InUse at 7f5fdbea7800 of size 1411072 next 18446744073709551615\n",
      "2024-02-12 21:47:33.735298: I external/local_tsl/tsl/framework/bfc_allocator.cc:1075] Next region of size 8388608\n",
      "2024-02-12 21:47:33.735303: I external/local_tsl/tsl/framework/bfc_allocator.cc:1095] InUse at 7f600a000000 of size 966144 next 91\n",
      "2024-02-12 21:47:33.735307: I external/local_tsl/tsl/framework/bfc_allocator.cc:1095] InUse at 7f600a0ebe00 of size 966144 next 92\n",
      "2024-02-12 21:47:33.735313: I external/local_tsl/tsl/framework/bfc_allocator.cc:1095] InUse at 7f600a1d7c00 of size 966144 next 93\n",
      "2024-02-12 21:47:33.735317: I external/local_tsl/tsl/framework/bfc_allocator.cc:1095] InUse at 7f600a2c3a00 of size 966144 next 94\n",
      "2024-02-12 21:47:33.735322: I external/local_tsl/tsl/framework/bfc_allocator.cc:1095] InUse at 7f600a3af800 of size 966144 next 95\n",
      "2024-02-12 21:47:33.735326: I external/local_tsl/tsl/framework/bfc_allocator.cc:1095] InUse at 7f600a49b600 of size 966144 next 96\n",
      "2024-02-12 21:47:33.735331: I external/local_tsl/tsl/framework/bfc_allocator.cc:1095] InUse at 7f600a587400 of size 966144 next 97\n",
      "2024-02-12 21:47:33.735336: I external/local_tsl/tsl/framework/bfc_allocator.cc:1095] InUse at 7f600a673200 of size 1625600 next 18446744073709551615\n",
      "2024-02-12 21:47:33.735341: I external/local_tsl/tsl/framework/bfc_allocator.cc:1075] Next region of size 16777216\n",
      "2024-02-12 21:47:33.735346: I external/local_tsl/tsl/framework/bfc_allocator.cc:1095] InUse at 7f600a800000 of size 966144 next 74\n",
      "2024-02-12 21:47:33.735351: I external/local_tsl/tsl/framework/bfc_allocator.cc:1095] InUse at 7f600a8ebe00 of size 966144 next 35\n",
      "2024-02-12 21:47:33.735356: I external/local_tsl/tsl/framework/bfc_allocator.cc:1095] InUse at 7f600a9d7c00 of size 966144 next 12\n",
      "2024-02-12 21:47:33.735361: I external/local_tsl/tsl/framework/bfc_allocator.cc:1095] InUse at 7f600aac3a00 of size 966144 next 15\n",
      "2024-02-12 21:47:33.735366: I external/local_tsl/tsl/framework/bfc_allocator.cc:1095] InUse at 7f600abaf800 of size 966144 next 20\n",
      "2024-02-12 21:47:33.735371: I external/local_tsl/tsl/framework/bfc_allocator.cc:1095] InUse at 7f600ac9b600 of size 966144 next 17\n",
      "2024-02-12 21:47:33.735376: I external/local_tsl/tsl/framework/bfc_allocator.cc:1095] InUse at 7f600ad87400 of size 966144 next 18\n",
      "2024-02-12 21:47:33.735381: I external/local_tsl/tsl/framework/bfc_allocator.cc:1095] InUse at 7f600ae73200 of size 966144 next 24\n",
      "2024-02-12 21:47:33.735387: I external/local_tsl/tsl/framework/bfc_allocator.cc:1095] InUse at 7f600af5f000 of size 966144 next 61\n",
      "2024-02-12 21:47:33.735392: I external/local_tsl/tsl/framework/bfc_allocator.cc:1095] InUse at 7f600b04ae00 of size 966144 next 16\n",
      "2024-02-12 21:47:33.735397: I external/local_tsl/tsl/framework/bfc_allocator.cc:1095] InUse at 7f600b136c00 of size 966144 next 64\n",
      "2024-02-12 21:47:33.735402: I external/local_tsl/tsl/framework/bfc_allocator.cc:1095] InUse at 7f600b222a00 of size 966144 next 66\n",
      "2024-02-12 21:47:33.735407: I external/local_tsl/tsl/framework/bfc_allocator.cc:1095] InUse at 7f600b30e800 of size 966144 next 68\n",
      "2024-02-12 21:47:33.735412: I external/local_tsl/tsl/framework/bfc_allocator.cc:1095] InUse at 7f600b3fa600 of size 966144 next 70\n",
      "2024-02-12 21:47:33.735417: I external/local_tsl/tsl/framework/bfc_allocator.cc:1095] InUse at 7f600b4e6400 of size 966144 next 72\n",
      "2024-02-12 21:47:33.735422: I external/local_tsl/tsl/framework/bfc_allocator.cc:1095] InUse at 7f600b5d2200 of size 966144 next 14\n",
      "2024-02-12 21:47:33.735427: I external/local_tsl/tsl/framework/bfc_allocator.cc:1095] InUse at 7f600b6be000 of size 1318912 next 18446744073709551615\n",
      "2024-02-12 21:47:33.735431: I external/local_tsl/tsl/framework/bfc_allocator.cc:1075] Next region of size 33554432\n",
      "2024-02-12 21:47:33.735437: I external/local_tsl/tsl/framework/bfc_allocator.cc:1095] InUse at 7f6012000000 of size 966144 next 40\n",
      "2024-02-12 21:47:33.735442: I external/local_tsl/tsl/framework/bfc_allocator.cc:1095] InUse at 7f60120ebe00 of size 966144 next 58\n",
      "2024-02-12 21:47:33.735447: I external/local_tsl/tsl/framework/bfc_allocator.cc:1095] InUse at 7f60121d7c00 of size 966144 next 63\n",
      "2024-02-12 21:47:33.735452: I external/local_tsl/tsl/framework/bfc_allocator.cc:1095] InUse at 7f60122c3a00 of size 966144 next 25\n",
      "2024-02-12 21:47:33.735457: I external/local_tsl/tsl/framework/bfc_allocator.cc:1095] InUse at 7f60123af800 of size 966144 next 62\n",
      "2024-02-12 21:47:33.735462: I external/local_tsl/tsl/framework/bfc_allocator.cc:1095] InUse at 7f601249b600 of size 966144 next 31\n",
      "2024-02-12 21:47:33.735468: I external/local_tsl/tsl/framework/bfc_allocator.cc:1095] InUse at 7f6012587400 of size 966144 next 11\n",
      "2024-02-12 21:47:33.735472: I external/local_tsl/tsl/framework/bfc_allocator.cc:1095] InUse at 7f6012673200 of size 966144 next 39\n",
      "2024-02-12 21:47:33.735477: I external/local_tsl/tsl/framework/bfc_allocator.cc:1095] InUse at 7f601275f000 of size 966144 next 49\n",
      "2024-02-12 21:47:33.735482: I external/local_tsl/tsl/framework/bfc_allocator.cc:1095] InUse at 7f601284ae00 of size 966144 next 13\n",
      "2024-02-12 21:47:33.735486: I external/local_tsl/tsl/framework/bfc_allocator.cc:1095] InUse at 7f6012936c00 of size 966144 next 8\n",
      "2024-02-12 21:47:33.735491: I external/local_tsl/tsl/framework/bfc_allocator.cc:1095] InUse at 7f6012a22a00 of size 966144 next 98\n",
      "2024-02-12 21:47:33.735496: I external/local_tsl/tsl/framework/bfc_allocator.cc:1095] InUse at 7f6012b0e800 of size 966144 next 59\n",
      "2024-02-12 21:47:33.735501: I external/local_tsl/tsl/framework/bfc_allocator.cc:1095] InUse at 7f6012bfa600 of size 966144 next 60\n",
      "2024-02-12 21:47:33.735506: I external/local_tsl/tsl/framework/bfc_allocator.cc:1095] InUse at 7f6012ce6400 of size 966144 next 27\n",
      "2024-02-12 21:47:33.735511: I external/local_tsl/tsl/framework/bfc_allocator.cc:1095] InUse at 7f6012dd2200 of size 966144 next 30\n",
      "2024-02-12 21:47:33.735516: I external/local_tsl/tsl/framework/bfc_allocator.cc:1095] InUse at 7f6012ebe000 of size 966144 next 33\n",
      "2024-02-12 21:47:33.735521: I external/local_tsl/tsl/framework/bfc_allocator.cc:1095] InUse at 7f6012fa9e00 of size 966144 next 38\n",
      "2024-02-12 21:47:33.735526: I external/local_tsl/tsl/framework/bfc_allocator.cc:1095] InUse at 7f6013095c00 of size 966144 next 23\n",
      "2024-02-12 21:47:33.735531: I external/local_tsl/tsl/framework/bfc_allocator.cc:1095] InUse at 7f6013181a00 of size 966144 next 44\n",
      "2024-02-12 21:47:33.735536: I external/local_tsl/tsl/framework/bfc_allocator.cc:1095] InUse at 7f601326d800 of size 966144 next 47\n",
      "2024-02-12 21:47:33.735541: I external/local_tsl/tsl/framework/bfc_allocator.cc:1095] InUse at 7f6013359600 of size 966144 next 50\n",
      "2024-02-12 21:47:33.735546: I external/local_tsl/tsl/framework/bfc_allocator.cc:1095] InUse at 7f6013445400 of size 966144 next 52\n",
      "2024-02-12 21:47:33.735551: I external/local_tsl/tsl/framework/bfc_allocator.cc:1095] InUse at 7f6013531200 of size 966144 next 54\n",
      "2024-02-12 21:47:33.735555: I external/local_tsl/tsl/framework/bfc_allocator.cc:1095] InUse at 7f601361d000 of size 966144 next 41\n",
      "2024-02-12 21:47:33.735560: I external/local_tsl/tsl/framework/bfc_allocator.cc:1095] InUse at 7f6013708e00 of size 966144 next 19\n",
      "2024-02-12 21:47:33.735565: I external/local_tsl/tsl/framework/bfc_allocator.cc:1095] InUse at 7f60137f4c00 of size 966144 next 28\n",
      "2024-02-12 21:47:33.735570: I external/local_tsl/tsl/framework/bfc_allocator.cc:1095] InUse at 7f60138e0a00 of size 966144 next 115\n",
      "2024-02-12 21:47:33.735575: I external/local_tsl/tsl/framework/bfc_allocator.cc:1095] InUse at 7f60139cc800 of size 966144 next 26\n",
      "2024-02-12 21:47:33.735580: I external/local_tsl/tsl/framework/bfc_allocator.cc:1095] InUse at 7f6013ab8600 of size 966144 next 29\n",
      "2024-02-12 21:47:33.735585: I external/local_tsl/tsl/framework/bfc_allocator.cc:1095] InUse at 7f6013ba4400 of size 966144 next 42\n",
      "2024-02-12 21:47:33.735590: I external/local_tsl/tsl/framework/bfc_allocator.cc:1095] InUse at 7f6013c90200 of size 966144 next 45\n",
      "2024-02-12 21:47:33.735595: I external/local_tsl/tsl/framework/bfc_allocator.cc:1095] InUse at 7f6013d7c000 of size 966144 next 48\n",
      "2024-02-12 21:47:33.735600: I external/local_tsl/tsl/framework/bfc_allocator.cc:1095] InUse at 7f6013e67e00 of size 1671680 next 18446744073709551615\n",
      "2024-02-12 21:47:33.735604: I external/local_tsl/tsl/framework/bfc_allocator.cc:1075] Next region of size 2097152\n",
      "2024-02-12 21:47:33.735609: I external/local_tsl/tsl/framework/bfc_allocator.cc:1095] InUse at 7f6077000000 of size 19968 next 1\n",
      "2024-02-12 21:47:33.735614: I external/local_tsl/tsl/framework/bfc_allocator.cc:1095] InUse at 7f6077004e00 of size 1280 next 2\n",
      "2024-02-12 21:47:33.735620: I external/local_tsl/tsl/framework/bfc_allocator.cc:1095] InUse at 7f6077005300 of size 256 next 6\n",
      "2024-02-12 21:47:33.735624: I external/local_tsl/tsl/framework/bfc_allocator.cc:1095] InUse at 7f6077005400 of size 256 next 9\n",
      "2024-02-12 21:47:33.735629: I external/local_tsl/tsl/framework/bfc_allocator.cc:1095] InUse at 7f6077005500 of size 6656 next 850\n",
      "2024-02-12 21:47:33.735634: I external/local_tsl/tsl/framework/bfc_allocator.cc:1095] InUse at 7f6077006f00 of size 12800 next 3\n",
      "2024-02-12 21:47:33.735640: I external/local_tsl/tsl/framework/bfc_allocator.cc:1095] InUse at 7f607700a100 of size 19968 next 4\n",
      "2024-02-12 21:47:33.735645: I external/local_tsl/tsl/framework/bfc_allocator.cc:1095] InUse at 7f607700ef00 of size 1101568 next 86\n",
      "2024-02-12 21:47:33.735650: I external/local_tsl/tsl/framework/bfc_allocator.cc:1095] InUse at 7f607711be00 of size 6656 next 894\n",
      "2024-02-12 21:47:33.735655: I external/local_tsl/tsl/framework/bfc_allocator.cc:1095] InUse at 7f607711d800 of size 6656 next 836\n",
      "2024-02-12 21:47:33.735660: I external/local_tsl/tsl/framework/bfc_allocator.cc:1095] InUse at 7f607711f200 of size 6656 next 868\n",
      "2024-02-12 21:47:33.735664: I external/local_tsl/tsl/framework/bfc_allocator.cc:1095] InUse at 7f6077120c00 of size 6656 next 808\n",
      "2024-02-12 21:47:33.735669: I external/local_tsl/tsl/framework/bfc_allocator.cc:1095] InUse at 7f6077122600 of size 6656 next 822\n",
      "2024-02-12 21:47:33.735674: I external/local_tsl/tsl/framework/bfc_allocator.cc:1095] InUse at 7f6077124000 of size 6656 next 869\n",
      "2024-02-12 21:47:33.735680: I external/local_tsl/tsl/framework/bfc_allocator.cc:1095] InUse at 7f6077125a00 of size 6656 next 926\n",
      "2024-02-12 21:47:33.735685: I external/local_tsl/tsl/framework/bfc_allocator.cc:1095] InUse at 7f6077127400 of size 256 next 927\n",
      "2024-02-12 21:47:33.735690: I external/local_tsl/tsl/framework/bfc_allocator.cc:1095] InUse at 7f6077127500 of size 256 next 930\n",
      "2024-02-12 21:47:33.735695: I external/local_tsl/tsl/framework/bfc_allocator.cc:1095] Free  at 7f6077127600 of size 887296 next 18446744073709551615\n",
      "2024-02-12 21:47:33.735700: I external/local_tsl/tsl/framework/bfc_allocator.cc:1075] Next region of size 4194304\n",
      "2024-02-12 21:47:33.735705: I external/local_tsl/tsl/framework/bfc_allocator.cc:1095] InUse at 7f6077200000 of size 6656 next 601\n",
      "2024-02-12 21:47:33.735709: I external/local_tsl/tsl/framework/bfc_allocator.cc:1095] InUse at 7f6077201a00 of size 6656 next 851\n",
      "2024-02-12 21:47:33.735714: I external/local_tsl/tsl/framework/bfc_allocator.cc:1095] InUse at 7f6077203400 of size 6656 next 840\n",
      "2024-02-12 21:47:33.735719: I external/local_tsl/tsl/framework/bfc_allocator.cc:1095] InUse at 7f6077204e00 of size 6656 next 852\n",
      "2024-02-12 21:47:33.735724: I external/local_tsl/tsl/framework/bfc_allocator.cc:1095] InUse at 7f6077206800 of size 6656 next 841\n",
      "2024-02-12 21:47:33.735729: I external/local_tsl/tsl/framework/bfc_allocator.cc:1095] InUse at 7f6077208200 of size 6656 next 853\n",
      "2024-02-12 21:47:33.735734: I external/local_tsl/tsl/framework/bfc_allocator.cc:1095] InUse at 7f6077209c00 of size 6656 next 842\n",
      "2024-02-12 21:47:33.735739: I external/local_tsl/tsl/framework/bfc_allocator.cc:1095] InUse at 7f607720b600 of size 6656 next 854\n",
      "2024-02-12 21:47:33.735744: I external/local_tsl/tsl/framework/bfc_allocator.cc:1095] InUse at 7f607720d000 of size 6656 next 843\n",
      "2024-02-12 21:47:33.735749: I external/local_tsl/tsl/framework/bfc_allocator.cc:1095] InUse at 7f607720ea00 of size 6656 next 809\n",
      "2024-02-12 21:47:33.735754: I external/local_tsl/tsl/framework/bfc_allocator.cc:1095] InUse at 7f6077210400 of size 106496 next 90\n",
      "2024-02-12 21:47:33.735759: I external/local_tsl/tsl/framework/bfc_allocator.cc:1095] InUse at 7f607722a400 of size 256 next 84\n",
      "2024-02-12 21:47:33.735764: I external/local_tsl/tsl/framework/bfc_allocator.cc:1095] InUse at 7f607722a500 of size 6656 next 855\n",
      "2024-02-12 21:47:33.735769: I external/local_tsl/tsl/framework/bfc_allocator.cc:1095] InUse at 7f607722bf00 of size 6656 next 844\n",
      "2024-02-12 21:47:33.735774: I external/local_tsl/tsl/framework/bfc_allocator.cc:1095] InUse at 7f607722d900 of size 6656 next 856\n",
      "2024-02-12 21:47:33.735779: I external/local_tsl/tsl/framework/bfc_allocator.cc:1095] InUse at 7f607722f300 of size 6656 next 810\n",
      "2024-02-12 21:47:33.735784: I external/local_tsl/tsl/framework/bfc_allocator.cc:1095] InUse at 7f6077230d00 of size 6656 next 845\n",
      "2024-02-12 21:47:33.735788: I external/local_tsl/tsl/framework/bfc_allocator.cc:1095] InUse at 7f6077232700 of size 6656 next 857\n",
      "2024-02-12 21:47:33.735793: I external/local_tsl/tsl/framework/bfc_allocator.cc:1095] InUse at 7f6077234100 of size 6656 next 811\n",
      "2024-02-12 21:47:33.735798: I external/local_tsl/tsl/framework/bfc_allocator.cc:1095] InUse at 7f6077235b00 of size 6656 next 846\n",
      "2024-02-12 21:47:33.735802: I external/local_tsl/tsl/framework/bfc_allocator.cc:1095] InUse at 7f6077237500 of size 6656 next 858\n",
      "2024-02-12 21:47:33.735807: I external/local_tsl/tsl/framework/bfc_allocator.cc:1095] InUse at 7f6077238f00 of size 6656 next 812\n",
      "2024-02-12 21:47:33.735812: I external/local_tsl/tsl/framework/bfc_allocator.cc:1095] InUse at 7f607723a900 of size 6656 next 847\n",
      "2024-02-12 21:47:33.735818: I external/local_tsl/tsl/framework/bfc_allocator.cc:1095] InUse at 7f607723c300 of size 6656 next 859\n",
      "2024-02-12 21:47:33.735823: I external/local_tsl/tsl/framework/bfc_allocator.cc:1095] InUse at 7f607723dd00 of size 6656 next 813\n",
      "2024-02-12 21:47:33.735828: I external/local_tsl/tsl/framework/bfc_allocator.cc:1095] InUse at 7f607723f700 of size 6656 next 848\n",
      "2024-02-12 21:47:33.735833: I external/local_tsl/tsl/framework/bfc_allocator.cc:1095] InUse at 7f6077241100 of size 6656 next 860\n",
      "2024-02-12 21:47:33.735838: I external/local_tsl/tsl/framework/bfc_allocator.cc:1095] InUse at 7f6077242b00 of size 6656 next 814\n",
      "2024-02-12 21:47:33.735843: I external/local_tsl/tsl/framework/bfc_allocator.cc:1095] InUse at 7f6077244500 of size 6656 next 21\n",
      "2024-02-12 21:47:33.735848: I external/local_tsl/tsl/framework/bfc_allocator.cc:1095] InUse at 7f6077245f00 of size 256 next 69\n",
      "2024-02-12 21:47:33.735852: I external/local_tsl/tsl/framework/bfc_allocator.cc:1095] InUse at 7f6077246000 of size 6656 next 849\n",
      "2024-02-12 21:47:33.735857: I external/local_tsl/tsl/framework/bfc_allocator.cc:1095] InUse at 7f6077247a00 of size 6656 next 861\n",
      "2024-02-12 21:47:33.735862: I external/local_tsl/tsl/framework/bfc_allocator.cc:1095] InUse at 7f6077249400 of size 6656 next 815\n",
      "2024-02-12 21:47:33.735867: I external/local_tsl/tsl/framework/bfc_allocator.cc:1095] InUse at 7f607724ae00 of size 6656 next 837\n",
      "2024-02-12 21:47:33.735872: I external/local_tsl/tsl/framework/bfc_allocator.cc:1095] InUse at 7f607724c800 of size 6656 next 862\n",
      "2024-02-12 21:47:33.735877: I external/local_tsl/tsl/framework/bfc_allocator.cc:1095] InUse at 7f607724e200 of size 6656 next 816\n",
      "2024-02-12 21:47:33.735881: I external/local_tsl/tsl/framework/bfc_allocator.cc:1095] InUse at 7f607724fc00 of size 6656 next 838\n",
      "2024-02-12 21:47:33.735886: I external/local_tsl/tsl/framework/bfc_allocator.cc:1095] InUse at 7f6077251600 of size 6656 next 863\n",
      "2024-02-12 21:47:33.735891: I external/local_tsl/tsl/framework/bfc_allocator.cc:1095] InUse at 7f6077253000 of size 6656 next 817\n",
      "2024-02-12 21:47:33.735896: I external/local_tsl/tsl/framework/bfc_allocator.cc:1095] InUse at 7f6077254a00 of size 6656 next 839\n",
      "2024-02-12 21:47:33.735902: I external/local_tsl/tsl/framework/bfc_allocator.cc:1095] InUse at 7f6077256400 of size 6656 next 864\n",
      "2024-02-12 21:47:33.735906: I external/local_tsl/tsl/framework/bfc_allocator.cc:1095] InUse at 7f6077257e00 of size 6656 next 818\n",
      "2024-02-12 21:47:33.735911: I external/local_tsl/tsl/framework/bfc_allocator.cc:1095] InUse at 7f6077259800 of size 6656 next 865\n",
      "2024-02-12 21:47:33.735916: I external/local_tsl/tsl/framework/bfc_allocator.cc:1095] InUse at 7f607725b200 of size 6656 next 819\n",
      "2024-02-12 21:47:33.735921: I external/local_tsl/tsl/framework/bfc_allocator.cc:1095] InUse at 7f607725cc00 of size 6656 next 866\n",
      "2024-02-12 21:47:33.735926: I external/local_tsl/tsl/framework/bfc_allocator.cc:1095] InUse at 7f607725e600 of size 6656 next 820\n",
      "2024-02-12 21:47:33.735931: I external/local_tsl/tsl/framework/bfc_allocator.cc:1095] InUse at 7f6077260000 of size 6656 next 867\n",
      "2024-02-12 21:47:33.735936: I external/local_tsl/tsl/framework/bfc_allocator.cc:1095] InUse at 7f6077261a00 of size 6656 next 821\n",
      "2024-02-12 21:47:33.735942: I external/local_tsl/tsl/framework/bfc_allocator.cc:1095] InUse at 7f6077263400 of size 6656 next 890\n",
      "2024-02-12 21:47:33.735946: I external/local_tsl/tsl/framework/bfc_allocator.cc:1095] InUse at 7f6077264e00 of size 6656 next 896\n",
      "2024-02-12 21:47:33.735951: I external/local_tsl/tsl/framework/bfc_allocator.cc:1095] InUse at 7f6077266800 of size 6656 next 824\n",
      "2024-02-12 21:47:33.735956: I external/local_tsl/tsl/framework/bfc_allocator.cc:1095] InUse at 7f6077268200 of size 6656 next 898\n",
      "2024-02-12 21:47:33.735961: I external/local_tsl/tsl/framework/bfc_allocator.cc:1095] InUse at 7f6077269c00 of size 6656 next 825\n",
      "2024-02-12 21:47:33.735966: I external/local_tsl/tsl/framework/bfc_allocator.cc:1095] InUse at 7f607726b600 of size 6656 next 897\n",
      "2024-02-12 21:47:33.735971: I external/local_tsl/tsl/framework/bfc_allocator.cc:1095] InUse at 7f607726d000 of size 6656 next 826\n",
      "2024-02-12 21:47:33.735975: I external/local_tsl/tsl/framework/bfc_allocator.cc:1095] InUse at 7f607726ea00 of size 6656 next 899\n",
      "2024-02-12 21:47:33.735980: I external/local_tsl/tsl/framework/bfc_allocator.cc:1095] InUse at 7f6077270400 of size 6656 next 827\n",
      "2024-02-12 21:47:33.735986: I external/local_tsl/tsl/framework/bfc_allocator.cc:1095] InUse at 7f6077271e00 of size 6656 next 893\n",
      "2024-02-12 21:47:33.735991: I external/local_tsl/tsl/framework/bfc_allocator.cc:1095] InUse at 7f6077273800 of size 6656 next 828\n",
      "2024-02-12 21:47:33.735996: I external/local_tsl/tsl/framework/bfc_allocator.cc:1095] InUse at 7f6077275200 of size 6656 next 871\n",
      "2024-02-12 21:47:33.736001: I external/local_tsl/tsl/framework/bfc_allocator.cc:1095] InUse at 7f6077276c00 of size 6656 next 829\n",
      "2024-02-12 21:47:33.736005: I external/local_tsl/tsl/framework/bfc_allocator.cc:1095] InUse at 7f6077278600 of size 6656 next 872\n",
      "2024-02-12 21:47:33.736010: I external/local_tsl/tsl/framework/bfc_allocator.cc:1095] InUse at 7f607727a000 of size 6656 next 830\n",
      "2024-02-12 21:47:33.736015: I external/local_tsl/tsl/framework/bfc_allocator.cc:1095] InUse at 7f607727ba00 of size 6656 next 873\n",
      "2024-02-12 21:47:33.736019: I external/local_tsl/tsl/framework/bfc_allocator.cc:1095] InUse at 7f607727d400 of size 6656 next 831\n",
      "2024-02-12 21:47:33.736024: I external/local_tsl/tsl/framework/bfc_allocator.cc:1095] InUse at 7f607727ee00 of size 6656 next 874\n",
      "2024-02-12 21:47:33.736029: I external/local_tsl/tsl/framework/bfc_allocator.cc:1095] InUse at 7f6077280800 of size 6656 next 832\n",
      "2024-02-12 21:47:33.736034: I external/local_tsl/tsl/framework/bfc_allocator.cc:1095] InUse at 7f6077282200 of size 6656 next 875\n",
      "2024-02-12 21:47:33.736040: I external/local_tsl/tsl/framework/bfc_allocator.cc:1095] InUse at 7f6077283c00 of size 6656 next 833\n",
      "2024-02-12 21:47:33.736045: I external/local_tsl/tsl/framework/bfc_allocator.cc:1095] InUse at 7f6077285600 of size 6656 next 876\n",
      "2024-02-12 21:47:33.736050: I external/local_tsl/tsl/framework/bfc_allocator.cc:1095] InUse at 7f6077287000 of size 6656 next 834\n",
      "2024-02-12 21:47:33.736054: I external/local_tsl/tsl/framework/bfc_allocator.cc:1095] InUse at 7f6077288a00 of size 6656 next 877\n",
      "2024-02-12 21:47:33.736059: I external/local_tsl/tsl/framework/bfc_allocator.cc:1095] InUse at 7f607728a400 of size 6656 next 835\n",
      "2024-02-12 21:47:33.736064: I external/local_tsl/tsl/framework/bfc_allocator.cc:1095] InUse at 7f607728be00 of size 6656 next 878\n",
      "2024-02-12 21:47:33.736069: I external/local_tsl/tsl/framework/bfc_allocator.cc:1095] InUse at 7f607728d800 of size 6656 next 883\n",
      "2024-02-12 21:47:33.736073: I external/local_tsl/tsl/framework/bfc_allocator.cc:1095] InUse at 7f607728f200 of size 6656 next 879\n",
      "2024-02-12 21:47:33.736078: I external/local_tsl/tsl/framework/bfc_allocator.cc:1095] InUse at 7f6077290c00 of size 6656 next 885\n",
      "2024-02-12 21:47:33.736084: I external/local_tsl/tsl/framework/bfc_allocator.cc:1095] InUse at 7f6077292600 of size 6656 next 880\n",
      "2024-02-12 21:47:33.736088: I external/local_tsl/tsl/framework/bfc_allocator.cc:1095] InUse at 7f6077294000 of size 6656 next 887\n",
      "2024-02-12 21:47:33.736093: I external/local_tsl/tsl/framework/bfc_allocator.cc:1095] InUse at 7f6077295a00 of size 6656 next 881\n",
      "2024-02-12 21:47:33.736098: I external/local_tsl/tsl/framework/bfc_allocator.cc:1095] InUse at 7f6077297400 of size 6656 next 892\n",
      "2024-02-12 21:47:33.736102: I external/local_tsl/tsl/framework/bfc_allocator.cc:1095] InUse at 7f6077298e00 of size 6656 next 882\n",
      "2024-02-12 21:47:33.736107: I external/local_tsl/tsl/framework/bfc_allocator.cc:1095] InUse at 7f607729a800 of size 6656 next 891\n",
      "2024-02-12 21:47:33.736112: I external/local_tsl/tsl/framework/bfc_allocator.cc:1095] InUse at 7f607729c200 of size 6656 next 884\n",
      "2024-02-12 21:47:33.736117: I external/local_tsl/tsl/framework/bfc_allocator.cc:1095] InUse at 7f607729dc00 of size 6656 next 895\n",
      "2024-02-12 21:47:33.736122: I external/local_tsl/tsl/framework/bfc_allocator.cc:1095] InUse at 7f607729f600 of size 6656 next 886\n",
      "2024-02-12 21:47:33.736127: I external/local_tsl/tsl/framework/bfc_allocator.cc:1095] InUse at 7f60772a1000 of size 103680 next 888\n",
      "2024-02-12 21:47:33.736132: I external/local_tsl/tsl/framework/bfc_allocator.cc:1095] InUse at 7f60772ba500 of size 6656 next 889\n",
      "2024-02-12 21:47:33.736137: I external/local_tsl/tsl/framework/bfc_allocator.cc:1095] InUse at 7f60772bbf00 of size 6656 next 823\n",
      "2024-02-12 21:47:33.736142: I external/local_tsl/tsl/framework/bfc_allocator.cc:1095] InUse at 7f60772bd900 of size 6656 next 870\n",
      "2024-02-12 21:47:33.736147: I external/local_tsl/tsl/framework/bfc_allocator.cc:1095] InUse at 7f60772bf300 of size 6656 next 900\n",
      "2024-02-12 21:47:33.736152: I external/local_tsl/tsl/framework/bfc_allocator.cc:1095] InUse at 7f60772c0d00 of size 6656 next 901\n",
      "2024-02-12 21:47:33.736157: I external/local_tsl/tsl/framework/bfc_allocator.cc:1095] InUse at 7f60772c2700 of size 6656 next 902\n",
      "2024-02-12 21:47:33.736162: I external/local_tsl/tsl/framework/bfc_allocator.cc:1095] InUse at 7f60772c4100 of size 6656 next 903\n",
      "2024-02-12 21:47:33.736167: I external/local_tsl/tsl/framework/bfc_allocator.cc:1095] InUse at 7f60772c5b00 of size 6656 next 904\n",
      "2024-02-12 21:47:33.736172: I external/local_tsl/tsl/framework/bfc_allocator.cc:1095] InUse at 7f60772c7500 of size 6656 next 905\n",
      "2024-02-12 21:47:33.736177: I external/local_tsl/tsl/framework/bfc_allocator.cc:1095] InUse at 7f60772c8f00 of size 6656 next 906\n",
      "2024-02-12 21:47:33.736181: I external/local_tsl/tsl/framework/bfc_allocator.cc:1095] InUse at 7f60772ca900 of size 6656 next 907\n",
      "2024-02-12 21:47:33.736186: I external/local_tsl/tsl/framework/bfc_allocator.cc:1095] InUse at 7f60772cc300 of size 6656 next 908\n",
      "2024-02-12 21:47:33.736191: I external/local_tsl/tsl/framework/bfc_allocator.cc:1095] InUse at 7f60772cdd00 of size 6656 next 909\n",
      "2024-02-12 21:47:33.736196: I external/local_tsl/tsl/framework/bfc_allocator.cc:1095] InUse at 7f60772cf700 of size 6656 next 910\n",
      "2024-02-12 21:47:33.736201: I external/local_tsl/tsl/framework/bfc_allocator.cc:1095] InUse at 7f60772d1100 of size 6656 next 911\n",
      "2024-02-12 21:47:33.736205: I external/local_tsl/tsl/framework/bfc_allocator.cc:1095] InUse at 7f60772d2b00 of size 6656 next 912\n",
      "2024-02-12 21:47:33.736211: I external/local_tsl/tsl/framework/bfc_allocator.cc:1095] InUse at 7f60772d4500 of size 6656 next 913\n",
      "2024-02-12 21:47:33.736216: I external/local_tsl/tsl/framework/bfc_allocator.cc:1095] InUse at 7f60772d5f00 of size 6656 next 914\n",
      "2024-02-12 21:47:33.736221: I external/local_tsl/tsl/framework/bfc_allocator.cc:1095] InUse at 7f60772d7900 of size 6656 next 915\n",
      "2024-02-12 21:47:33.736226: I external/local_tsl/tsl/framework/bfc_allocator.cc:1095] InUse at 7f60772d9300 of size 6656 next 916\n",
      "2024-02-12 21:47:33.736231: I external/local_tsl/tsl/framework/bfc_allocator.cc:1095] InUse at 7f60772dad00 of size 6656 next 917\n",
      "2024-02-12 21:47:33.736236: I external/local_tsl/tsl/framework/bfc_allocator.cc:1095] InUse at 7f60772dc700 of size 6656 next 918\n",
      "2024-02-12 21:47:33.736241: I external/local_tsl/tsl/framework/bfc_allocator.cc:1095] InUse at 7f60772de100 of size 6656 next 919\n",
      "2024-02-12 21:47:33.736245: I external/local_tsl/tsl/framework/bfc_allocator.cc:1095] InUse at 7f60772dfb00 of size 6656 next 920\n",
      "2024-02-12 21:47:33.736250: I external/local_tsl/tsl/framework/bfc_allocator.cc:1095] InUse at 7f60772e1500 of size 6656 next 921\n",
      "2024-02-12 21:47:33.736255: I external/local_tsl/tsl/framework/bfc_allocator.cc:1095] InUse at 7f60772e2f00 of size 6656 next 922\n",
      "2024-02-12 21:47:33.736260: I external/local_tsl/tsl/framework/bfc_allocator.cc:1095] InUse at 7f60772e4900 of size 6656 next 923\n",
      "2024-02-12 21:47:33.736266: I external/local_tsl/tsl/framework/bfc_allocator.cc:1095] InUse at 7f60772e6300 of size 6656 next 924\n",
      "2024-02-12 21:47:33.736271: I external/local_tsl/tsl/framework/bfc_allocator.cc:1095] InUse at 7f60772e7d00 of size 6656 next 925\n",
      "2024-02-12 21:47:33.736276: I external/local_tsl/tsl/framework/bfc_allocator.cc:1095] InUse at 7f60772e9700 of size 9984 next 89\n",
      "2024-02-12 21:47:33.736280: I external/local_tsl/tsl/framework/bfc_allocator.cc:1095] InUse at 7f60772ebe00 of size 966144 next 87\n",
      "2024-02-12 21:47:33.736285: I external/local_tsl/tsl/framework/bfc_allocator.cc:1095] InUse at 7f60773d7c00 of size 966144 next 56\n",
      "2024-02-12 21:47:33.736290: I external/local_tsl/tsl/framework/bfc_allocator.cc:1095] InUse at 7f60774c3a00 of size 1295872 next 18446744073709551615\n",
      "2024-02-12 21:47:33.736295: I external/local_tsl/tsl/framework/bfc_allocator.cc:1100]      Summary of in-use Chunks by size: \n",
      "2024-02-12 21:47:33.736302: I external/local_tsl/tsl/framework/bfc_allocator.cc:1103] 6 Chunks of size 256 totalling 1.5KiB\n",
      "2024-02-12 21:47:33.736308: I external/local_tsl/tsl/framework/bfc_allocator.cc:1103] 1 Chunks of size 1280 totalling 1.2KiB\n",
      "2024-02-12 21:47:33.736314: I external/local_tsl/tsl/framework/bfc_allocator.cc:1103] 120 Chunks of size 6656 totalling 780.0KiB\n",
      "2024-02-12 21:47:33.736319: I external/local_tsl/tsl/framework/bfc_allocator.cc:1103] 1 Chunks of size 9984 totalling 9.8KiB\n",
      "2024-02-12 21:47:33.736325: I external/local_tsl/tsl/framework/bfc_allocator.cc:1103] 1 Chunks of size 12800 totalling 12.5KiB\n",
      "2024-02-12 21:47:33.736331: I external/local_tsl/tsl/framework/bfc_allocator.cc:1103] 2 Chunks of size 19968 totalling 39.0KiB\n",
      "2024-02-12 21:47:33.736337: I external/local_tsl/tsl/framework/bfc_allocator.cc:1103] 1 Chunks of size 103680 totalling 101.2KiB\n",
      "2024-02-12 21:47:33.736342: I external/local_tsl/tsl/framework/bfc_allocator.cc:1103] 1 Chunks of size 106496 totalling 104.0KiB\n",
      "2024-02-12 21:47:33.736347: I external/local_tsl/tsl/framework/bfc_allocator.cc:1103] 902 Chunks of size 966144 totalling 831.09MiB\n",
      "2024-02-12 21:47:33.736353: I external/local_tsl/tsl/framework/bfc_allocator.cc:1103] 1 Chunks of size 1101568 totalling 1.05MiB\n",
      "2024-02-12 21:47:33.736358: I external/local_tsl/tsl/framework/bfc_allocator.cc:1103] 1 Chunks of size 1295872 totalling 1.24MiB\n",
      "2024-02-12 21:47:33.736364: I external/local_tsl/tsl/framework/bfc_allocator.cc:1103] 1 Chunks of size 1318912 totalling 1.26MiB\n",
      "2024-02-12 21:47:33.736369: I external/local_tsl/tsl/framework/bfc_allocator.cc:1103] 1 Chunks of size 1411072 totalling 1.35MiB\n",
      "2024-02-12 21:47:33.736375: I external/local_tsl/tsl/framework/bfc_allocator.cc:1103] 1 Chunks of size 1531136 totalling 1.46MiB\n",
      "2024-02-12 21:47:33.736380: I external/local_tsl/tsl/framework/bfc_allocator.cc:1103] 1 Chunks of size 1625600 totalling 1.55MiB\n",
      "2024-02-12 21:47:33.736386: I external/local_tsl/tsl/framework/bfc_allocator.cc:1103] 1 Chunks of size 1671680 totalling 1.59MiB\n",
      "2024-02-12 21:47:33.736391: I external/local_tsl/tsl/framework/bfc_allocator.cc:1103] 1 Chunks of size 1779712 totalling 1.70MiB\n",
      "2024-02-12 21:47:33.736397: I external/local_tsl/tsl/framework/bfc_allocator.cc:1103] 1 Chunks of size 1856000 totalling 1.77MiB\n",
      "2024-02-12 21:47:33.736402: I external/local_tsl/tsl/framework/bfc_allocator.cc:1107] Sum Total of in-use chunks: 845.08MiB\n",
      "2024-02-12 21:47:33.736407: I external/local_tsl/tsl/framework/bfc_allocator.cc:1109] Total bytes in pool: 887015168 memory_limit_: 1095892992 available bytes: 208877824 curr_region_allocation_bytes_: 1073741824\n",
      "2024-02-12 21:47:33.736416: I external/local_tsl/tsl/framework/bfc_allocator.cc:1114] Stats: \n",
      "Limit:                      1095892992\n",
      "InUse:                       886127872\n",
      "MaxInUse:                    886325248\n",
      "NumAllocs:                      559113\n",
      "MaxAllocSize:                  2377216\n",
      "Reserved:                            0\n",
      "PeakReserved:                        0\n",
      "LargestFreeBlock:                    0\n",
      "\n",
      "2024-02-12 21:47:33.736437: W external/local_tsl/tsl/framework/bfc_allocator.cc:497] ****************************************************************************************************\n",
      "2024-02-12 21:47:33.736449: W tensorflow/core/framework/op_kernel.cc:1827] RESOURCE_EXHAUSTED: failed to allocate memory\n"
     ]
    },
    {
     "ename": "ResourceExhaustedError",
     "evalue": "{{function_node __wrapped__Square_device_/job:localhost/replica:0/task:0/device:GPU:0}} failed to allocate memory [Op:Square] name: ",
     "output_type": "error",
     "traceback": [
      "\u001B[0;31m---------------------------------------------------------------------------\u001B[0m",
      "\u001B[0;31mResourceExhaustedError\u001B[0m                    Traceback (most recent call last)",
      "Cell \u001B[0;32mIn[23], line 3\u001B[0m\n\u001B[1;32m      1\u001B[0m \u001B[38;5;28;01mimport\u001B[39;00m \u001B[38;5;21;01msys\u001B[39;00m\n\u001B[0;32m----> 3\u001B[0m video_dict \u001B[38;5;241m=\u001B[39m \u001B[43mgenerate_video_dict\u001B[49m\u001B[43m(\u001B[49m\u001B[38;5;124;43m'\u001B[39;49m\u001B[38;5;124;43m./data/s10\u001B[39;49m\u001B[38;5;124;43m'\u001B[39;49m\u001B[43m)\u001B[49m\n\u001B[1;32m      4\u001B[0m \u001B[38;5;28mprint\u001B[39m(\u001B[38;5;28mlen\u001B[39m(video_dict))\n\u001B[1;32m      5\u001B[0m \u001B[38;5;66;03m# print memory in video_dict\u001B[39;00m\n",
      "Cell \u001B[0;32mIn[22], line 19\u001B[0m, in \u001B[0;36mgenerate_video_dict\u001B[0;34m(path)\u001B[0m\n\u001B[1;32m     17\u001B[0m         cap\u001B[38;5;241m.\u001B[39mrelease()\n\u001B[1;32m     18\u001B[0m         mean \u001B[38;5;241m=\u001B[39m tf\u001B[38;5;241m.\u001B[39mmath\u001B[38;5;241m.\u001B[39mreduce_mean(frames)\n\u001B[0;32m---> 19\u001B[0m         std \u001B[38;5;241m=\u001B[39m \u001B[43mtf\u001B[49m\u001B[38;5;241;43m.\u001B[39;49m\u001B[43mmath\u001B[49m\u001B[38;5;241;43m.\u001B[39;49m\u001B[43mreduce_std\u001B[49m\u001B[43m(\u001B[49m\u001B[43mtf\u001B[49m\u001B[38;5;241;43m.\u001B[39;49m\u001B[43mcast\u001B[49m\u001B[43m(\u001B[49m\u001B[43mframes\u001B[49m\u001B[43m,\u001B[49m\u001B[43m \u001B[49m\u001B[43mtf\u001B[49m\u001B[38;5;241;43m.\u001B[39;49m\u001B[43mfloat16\u001B[49m\u001B[43m)\u001B[49m\u001B[43m)\u001B[49m\n\u001B[1;32m     20\u001B[0m         video_dict[file] \u001B[38;5;241m=\u001B[39m tf\u001B[38;5;241m.\u001B[39mcast((frames \u001B[38;5;241m-\u001B[39m mean), tf\u001B[38;5;241m.\u001B[39mfloat16) \u001B[38;5;241m/\u001B[39m std\n\u001B[1;32m     21\u001B[0m \u001B[38;5;28;01mreturn\u001B[39;00m video_dict\n",
      "File \u001B[0;32m~/jobs/venv_python/lip_reading/lib/python3.10/site-packages/tensorflow/python/ops/weak_tensor_ops.py:88\u001B[0m, in \u001B[0;36mweak_tensor_unary_op_wrapper.<locals>.wrapper\u001B[0;34m(*args, **kwargs)\u001B[0m\n\u001B[1;32m     86\u001B[0m \u001B[38;5;28;01mdef\u001B[39;00m \u001B[38;5;21mwrapper\u001B[39m(\u001B[38;5;241m*\u001B[39margs, \u001B[38;5;241m*\u001B[39m\u001B[38;5;241m*\u001B[39mkwargs):\n\u001B[1;32m     87\u001B[0m   \u001B[38;5;28;01mif\u001B[39;00m \u001B[38;5;129;01mnot\u001B[39;00m ops\u001B[38;5;241m.\u001B[39mis_auto_dtype_conversion_enabled():\n\u001B[0;32m---> 88\u001B[0m     \u001B[38;5;28;01mreturn\u001B[39;00m \u001B[43mop\u001B[49m\u001B[43m(\u001B[49m\u001B[38;5;241;43m*\u001B[39;49m\u001B[43margs\u001B[49m\u001B[43m,\u001B[49m\u001B[43m \u001B[49m\u001B[38;5;241;43m*\u001B[39;49m\u001B[38;5;241;43m*\u001B[39;49m\u001B[43mkwargs\u001B[49m\u001B[43m)\u001B[49m\n\u001B[1;32m     89\u001B[0m   bound_arguments \u001B[38;5;241m=\u001B[39m signature\u001B[38;5;241m.\u001B[39mbind(\u001B[38;5;241m*\u001B[39margs, \u001B[38;5;241m*\u001B[39m\u001B[38;5;241m*\u001B[39mkwargs)\n\u001B[1;32m     90\u001B[0m   bound_arguments\u001B[38;5;241m.\u001B[39mapply_defaults()\n",
      "File \u001B[0;32m~/jobs/venv_python/lip_reading/lib/python3.10/site-packages/tensorflow/python/util/traceback_utils.py:153\u001B[0m, in \u001B[0;36mfilter_traceback.<locals>.error_handler\u001B[0;34m(*args, **kwargs)\u001B[0m\n\u001B[1;32m    151\u001B[0m \u001B[38;5;28;01mexcept\u001B[39;00m \u001B[38;5;167;01mException\u001B[39;00m \u001B[38;5;28;01mas\u001B[39;00m e:\n\u001B[1;32m    152\u001B[0m   filtered_tb \u001B[38;5;241m=\u001B[39m _process_traceback_frames(e\u001B[38;5;241m.\u001B[39m__traceback__)\n\u001B[0;32m--> 153\u001B[0m   \u001B[38;5;28;01mraise\u001B[39;00m e\u001B[38;5;241m.\u001B[39mwith_traceback(filtered_tb) \u001B[38;5;28;01mfrom\u001B[39;00m \u001B[38;5;28;01mNone\u001B[39;00m\n\u001B[1;32m    154\u001B[0m \u001B[38;5;28;01mfinally\u001B[39;00m:\n\u001B[1;32m    155\u001B[0m   \u001B[38;5;28;01mdel\u001B[39;00m filtered_tb\n",
      "File \u001B[0;32m~/jobs/venv_python/lip_reading/lib/python3.10/site-packages/tensorflow/python/framework/ops.py:5883\u001B[0m, in \u001B[0;36mraise_from_not_ok_status\u001B[0;34m(e, name)\u001B[0m\n\u001B[1;32m   5881\u001B[0m \u001B[38;5;28;01mdef\u001B[39;00m \u001B[38;5;21mraise_from_not_ok_status\u001B[39m(e, name) \u001B[38;5;241m-\u001B[39m\u001B[38;5;241m>\u001B[39m NoReturn:\n\u001B[1;32m   5882\u001B[0m   e\u001B[38;5;241m.\u001B[39mmessage \u001B[38;5;241m+\u001B[39m\u001B[38;5;241m=\u001B[39m (\u001B[38;5;124m\"\u001B[39m\u001B[38;5;124m name: \u001B[39m\u001B[38;5;124m\"\u001B[39m \u001B[38;5;241m+\u001B[39m \u001B[38;5;28mstr\u001B[39m(name \u001B[38;5;28;01mif\u001B[39;00m name \u001B[38;5;129;01mis\u001B[39;00m \u001B[38;5;129;01mnot\u001B[39;00m \u001B[38;5;28;01mNone\u001B[39;00m \u001B[38;5;28;01melse\u001B[39;00m \u001B[38;5;124m\"\u001B[39m\u001B[38;5;124m\"\u001B[39m))\n\u001B[0;32m-> 5883\u001B[0m   \u001B[38;5;28;01mraise\u001B[39;00m core\u001B[38;5;241m.\u001B[39m_status_to_exception(e) \u001B[38;5;28;01mfrom\u001B[39;00m \u001B[38;5;28;01mNone\u001B[39;00m\n",
      "\u001B[0;31mResourceExhaustedError\u001B[0m: {{function_node __wrapped__Square_device_/job:localhost/replica:0/task:0/device:GPU:0}} failed to allocate memory [Op:Square] name: "
     ]
    }
   ],
   "source": [
    "import sys\n",
    "\n",
    "video_dict = generate_video_dict('./data/s10')\n",
    "print(len(video_dict))\n",
    "# print memory in video_dict\n",
    "dict_size = sys.getsizeof(video_dict)\n",
    "print(f\"Size of video_dict: {dict_size} bytes\")\n",
    "    "
   ]
  },
  {
   "cell_type": "code",
   "execution_count": null,
   "id": "ec735e0b-ec98-4eb0-8f49-c35527d6670a",
   "metadata": {
    "tags": [],
    "ExecuteTime": {
     "start_time": "2024-02-12T21:47:05.831630744Z"
    }
   },
   "outputs": [],
   "source": [
    "vocab = [x for x in \"abcdefghijklmnopqrstuvwxyz \"]"
   ]
  },
  {
   "cell_type": "code",
   "execution_count": 27,
   "id": "be04e972-d7a5-4a72-82d8-a6bdde1f3ce6",
   "metadata": {
    "tags": [],
    "ExecuteTime": {
     "end_time": "2024-02-12T10:51:32.315548427Z",
     "start_time": "2024-02-12T10:51:32.294101887Z"
    }
   },
   "outputs": [
    {
     "name": "stdout",
     "output_type": "stream",
     "text": [
      "The vocabulary is: ['', 'a', 'b', 'c', 'd', 'e', 'f', 'g', 'h', 'i', 'j', 'k', 'l', 'm', 'n', 'o', 'p', 'q', 'r', 's', 't', 'u', 'v', 'w', 'x', 'y', 'z', ' '] (size =28)\n"
     ]
    }
   ],
   "source": [
    "char_to_num = tf.keras.layers.StringLookup(vocabulary=vocab, oov_token=\"\")\n",
    "num_to_char = tf.keras.layers.StringLookup(\n",
    "    vocabulary=char_to_num.get_vocabulary(), oov_token=\"\", invert=True\n",
    ")\n",
    "\n",
    "print(\n",
    "    f\"The vocabulary is: {char_to_num.get_vocabulary()} \"\n",
    "    f\"(size ={char_to_num.vocabulary_size()})\"\n",
    ")"
   ]
  },
  {
   "cell_type": "code",
   "execution_count": 28,
   "id": "559f7420-6802-45fa-9ca0-b1ff209b461c",
   "metadata": {
    "tags": [],
    "ExecuteTime": {
     "end_time": "2024-02-12T10:51:33.229317592Z",
     "start_time": "2024-02-12T10:51:33.221464545Z"
    }
   },
   "outputs": [
    {
     "data": {
      "text/plain": "['',\n 'a',\n 'b',\n 'c',\n 'd',\n 'e',\n 'f',\n 'g',\n 'h',\n 'i',\n 'j',\n 'k',\n 'l',\n 'm',\n 'n',\n 'o',\n 'p',\n 'q',\n 'r',\n 's',\n 't',\n 'u',\n 'v',\n 'w',\n 'x',\n 'y',\n 'z',\n ' ']"
     },
     "execution_count": 28,
     "metadata": {},
     "output_type": "execute_result"
    }
   ],
   "source": [
    "char_to_num.get_vocabulary()"
   ]
  },
  {
   "cell_type": "code",
   "execution_count": 29,
   "id": "797ff78b-b48f-4e14-bb62-8cd0ebf9501a",
   "metadata": {
    "tags": [],
    "ExecuteTime": {
     "end_time": "2024-02-12T10:51:34.495542109Z",
     "start_time": "2024-02-12T10:51:34.490372366Z"
    }
   },
   "outputs": [
    {
     "data": {
      "text/plain": "<tf.Tensor: shape=(4,), dtype=int64, numpy=array([14,  9,  3, 11])>"
     },
     "execution_count": 29,
     "metadata": {},
     "output_type": "execute_result"
    }
   ],
   "source": [
    "char_to_num(['n','i','c','k'])"
   ]
  },
  {
   "cell_type": "code",
   "execution_count": 30,
   "id": "8cd7f4f4-ae77-4509-a4f4-c723787ebad1",
   "metadata": {
    "ExecuteTime": {
     "end_time": "2024-02-12T10:51:35.216148323Z",
     "start_time": "2024-02-12T10:51:35.208502369Z"
    }
   },
   "outputs": [
    {
     "data": {
      "text/plain": "<tf.Tensor: shape=(4,), dtype=string, numpy=array([b'n', b'i', b'c', b'k'], dtype=object)>"
     },
     "execution_count": 30,
     "metadata": {},
     "output_type": "execute_result"
    }
   ],
   "source": [
    "num_to_char([14,  9,  3, 11])"
   ]
  },
  {
   "cell_type": "code",
   "execution_count": 31,
   "id": "9491bab5-6a3c-4f79-879a-8f9fbe73ae2e",
   "metadata": {
    "tags": [],
    "ExecuteTime": {
     "end_time": "2024-02-12T10:51:40.745793830Z",
     "start_time": "2024-02-12T10:51:39.193068309Z"
    }
   },
   "outputs": [],
   "source": [
    "# def load_alignments(path:str) -> List[str]: \n",
    "#     with open(path, 'r') as f: \n",
    "#         lines = f.readlines() \n",
    "#     tokens = []\n",
    "#     for line in lines:\n",
    "#         line = line.split()\n",
    "#         if line[2] != 'sil': \n",
    "#             tokens = [*tokens,' ',line[2]]\n",
    "#     return char_to_num(tf.reshape(tf.strings.unicode_split(tokens, input_encoding='UTF-8'), (-1)))[1:]\n",
    "def init_alignments(path:str) -> dict[str:List[str]]: \n",
    "    alignments = {}\n",
    "    if not os.path.exists(path): \n",
    "        raise FileNotFoundError(f'{path} does not exist')\n",
    "    for file in os.listdir(path): \n",
    "        if file.endswith('.align'): \n",
    "            with open(os.path.join(path, file), 'r') as f: \n",
    "                lines = f.readlines()\n",
    "            tokens = []\n",
    "            for line in lines:\n",
    "                line = line.split()\n",
    "                if line[2] != 'sil': \n",
    "                    tokens = [*tokens,' ',line[2]]\n",
    "            alignments[file] = char_to_num(tf.reshape(tf.strings.unicode_split(tokens, input_encoding='UTF-8'), (-1)))[1:]\n",
    "    return alignments\n",
    "alignments_dict = init_alignments('./data/alignments/s1')\n"
   ]
  },
  {
   "cell_type": "code",
   "outputs": [
    {
     "name": "stdout",
     "output_type": "stream",
     "text": [
      "1000\n"
     ]
    }
   ],
   "source": [
    "print(len(alignments_dict))"
   ],
   "metadata": {
    "collapsed": false,
    "ExecuteTime": {
     "end_time": "2024-02-12T10:51:41.402198228Z",
     "start_time": "2024-02-12T10:51:41.394006149Z"
    }
   },
   "id": "255d533c5140ad12",
   "execution_count": 32
  },
  {
   "cell_type": "code",
   "execution_count": 33,
   "id": "dd01ca9f-77fb-4643-a2aa-47dd82c5d66b",
   "metadata": {
    "tags": [],
    "ExecuteTime": {
     "end_time": "2024-02-12T10:51:44.446581483Z",
     "start_time": "2024-02-12T10:51:44.406151942Z"
    }
   },
   "outputs": [],
   "source": [
    "def load_data(path: str): \n",
    "    path = bytes.decode(path.numpy())\n",
    "    file_name = path.split('/')[-1].split('.')[0]\n",
    "    # File name splitting for windows\n",
    "    # file_name = path.split('\\\\')[-1].split('.')[0]\n",
    "    video_path = f'{file_name}.mpg'\n",
    "    alignment_path = f'{file_name}.align'\n",
    "    frames = video_dict.get(video_path)\n",
    "    alignments = alignments_dict.get(alignment_path)\n",
    "    \n",
    "    return frames, alignments"
   ]
  },
  {
   "cell_type": "code",
   "execution_count": 19,
   "id": "8cb7cc58-31ae-4904-a805-1177a82717d2",
   "metadata": {
    "tags": [],
    "ExecuteTime": {
     "end_time": "2024-02-12T10:36:09.167472845Z",
     "start_time": "2024-02-12T10:36:09.157228153Z"
    }
   },
   "outputs": [],
   "source": [
    "test_path = './data/s1/bbal6n.mpg'"
   ]
  },
  {
   "cell_type": "code",
   "execution_count": 20,
   "id": "76aa964f-0c84-490d-897a-d00e3966e2c9",
   "metadata": {
    "ExecuteTime": {
     "end_time": "2024-02-12T10:36:11.680593815Z",
     "start_time": "2024-02-12T10:36:11.659264314Z"
    }
   },
   "outputs": [
    {
     "data": {
      "text/plain": "'bbal6n'"
     },
     "execution_count": 20,
     "metadata": {},
     "output_type": "execute_result"
    }
   ],
   "source": [
    "tf.convert_to_tensor(test_path).numpy().decode('utf-8').split('/')[-1].split('.')[0] "
   ]
  },
  {
   "cell_type": "code",
   "execution_count": 21,
   "id": "eb602c71-8560-4f9e-b26b-08202febb937",
   "metadata": {
    "scrolled": true,
    "tags": [],
    "ExecuteTime": {
     "end_time": "2024-02-12T10:36:24.490407531Z",
     "start_time": "2024-02-12T10:36:24.450022087Z"
    }
   },
   "outputs": [],
   "source": [
    "frames, alignments = load_data(tf.convert_to_tensor(test_path))"
   ]
  },
  {
   "cell_type": "code",
   "outputs": [
    {
     "name": "stdout",
     "output_type": "stream",
     "text": [
      "75\n"
     ]
    }
   ],
   "source": [
    "print(len(frames))"
   ],
   "metadata": {
    "collapsed": false,
    "ExecuteTime": {
     "end_time": "2024-02-12T10:37:01.544783867Z",
     "start_time": "2024-02-12T10:37:01.534697901Z"
    }
   },
   "id": "823ce0542f1d954d",
   "execution_count": 23
  },
  {
   "cell_type": "code",
   "execution_count": 22,
   "id": "0e3184a1-6b02-4b4f-84a8-a0a65f951ea2",
   "metadata": {
    "ExecuteTime": {
     "end_time": "2024-02-12T10:36:33.722679676Z",
     "start_time": "2024-02-12T10:36:33.639713047Z"
    }
   },
   "outputs": [
    {
     "data": {
      "text/plain": "<matplotlib.image.AxesImage at 0x7ff4518716f0>"
     },
     "execution_count": 22,
     "metadata": {},
     "output_type": "execute_result"
    },
    {
     "data": {
      "text/plain": "<Figure size 640x480 with 1 Axes>",
      "image/png": "[encoded data removed]"
     },
     "metadata": {},
     "output_type": "display_data"
    }
   ],
   "source": [
    "plt.imshow(frames[40])\n"
   ]
  },
  {
   "cell_type": "code",
   "execution_count": 265,
   "id": "d7ec0833-d54b-4073-84cf-92d011c60ec1",
   "metadata": {
    "ExecuteTime": {
     "end_time": "2024-02-11T23:23:27.767609335Z",
     "start_time": "2024-02-11T23:23:27.739047372Z"
    }
   },
   "outputs": [
    {
     "data": {
      "text/plain": "<tf.Tensor: shape=(21,), dtype=int64, numpy=\narray([ 2,  9, 14, 39,  2, 12, 21,  5, 39,  1, 20, 39, 12, 39, 19,  9, 24,\n       39, 14, 15, 23])>"
     },
     "execution_count": 265,
     "metadata": {},
     "output_type": "execute_result"
    }
   ],
   "source": [
    "alignments"
   ]
  },
  {
   "cell_type": "code",
   "execution_count": 266,
   "id": "fe1ad370-b287-4b46-85a2-7c45b0bd9b10",
   "metadata": {
    "ExecuteTime": {
     "end_time": "2024-02-11T23:23:27.801914641Z",
     "start_time": "2024-02-11T23:23:27.755192413Z"
    }
   },
   "outputs": [
    {
     "data": {
      "text/plain": "<tf.Tensor: shape=(), dtype=string, numpy=b'bin blue at l six now'>"
     },
     "execution_count": 266,
     "metadata": {},
     "output_type": "execute_result"
    }
   ],
   "source": [
    "tf.strings.reduce_join([bytes.decode(x) for x in num_to_char(alignments.numpy()).numpy()])"
   ]
  },
  {
   "cell_type": "code",
   "execution_count": 34,
   "id": "6871031a-b0ba-4c76-a852-f6329b0f2606",
   "metadata": {
    "tags": [],
    "ExecuteTime": {
     "end_time": "2024-02-12T10:54:09.171303509Z",
     "start_time": "2024-02-12T10:54:09.162180157Z"
    }
   },
   "outputs": [],
   "source": [
    "def mappable_function(path:str) ->List[str]:\n",
    "    result = tf.py_function(load_data, [path], (tf.float16, tf.int64)) # py_function is used to convert a python function to a tensorflow function\n",
    "    return result"
   ]
  },
  {
   "cell_type": "markdown",
   "id": "c40a7eb4-0c3e-4eab-9291-5611cb68ce08",
   "metadata": {
    "tags": []
   },
   "source": [
    "# 2. Create Data Pipeline"
   ]
  },
  {
   "cell_type": "code",
   "execution_count": 35,
   "id": "7686355d-45aa-4c85-ad9c-053e6a9b4d81",
   "metadata": {
    "tags": [],
    "ExecuteTime": {
     "end_time": "2024-02-12T10:54:14.458487597Z",
     "start_time": "2024-02-12T10:54:14.417429941Z"
    }
   },
   "outputs": [],
   "source": [
    "from matplotlib import pyplot as plt"
   ]
  },
  {
   "cell_type": "code",
   "execution_count": 64,
   "id": "f066fea2-91b1-42ed-a67d-00566a1a53ff",
   "metadata": {
    "tags": [],
    "ExecuteTime": {
     "end_time": "2024-02-12T12:26:14.974650508Z",
     "start_time": "2024-02-12T12:26:14.926456470Z"
    }
   },
   "outputs": [],
   "source": [
    "data = tf.data.Dataset.list_files('./data/s1/*.mpg')  # list all the files\n",
    "data = data.shuffle(500, reshuffle_each_iteration=False)   # shuffle is used to shuffle the data\n",
    "data = data.map(mappable_function) # 75 frames, 46x140 pixels, 1 channel\n",
    "data = data.padded_batch(2, padded_shapes=([75,None,None,None],[40])) # 75 frames, 46x140 pixels, 1 channel\n",
    "data = data.prefetch(tf.data.AUTOTUNE) # prefetch the data\n",
    "# Added for split \n",
    "train = data.take(450) \n",
    "test = data.skip(450)"
   ]
  },
  {
   "cell_type": "code",
   "execution_count": 65,
   "id": "6b1365bd-7742-41d1-95d4-247021751c3a",
   "metadata": {
    "ExecuteTime": {
     "end_time": "2024-02-12T12:26:16.391156996Z",
     "start_time": "2024-02-12T12:26:16.384228921Z"
    }
   },
   "outputs": [
    {
     "name": "stdout",
     "output_type": "stream",
     "text": [
      "500\n",
      "450\n",
      "50\n"
     ]
    }
   ],
   "source": [
    "print(len(data))\n",
    "print(len(train))\n",
    "print(len(test))"
   ]
  },
  {
   "cell_type": "code",
   "execution_count": 271,
   "id": "5281bde8-fdc8-4da1-bd55-5a7929a9e80c",
   "metadata": {
    "ExecuteTime": {
     "end_time": "2024-02-11T23:23:27.817971812Z",
     "start_time": "2024-02-11T23:23:27.801130549Z"
    }
   },
   "outputs": [],
   "source": [
    "frames, alignments = data.as_numpy_iterator().next()"
   ]
  },
  {
   "cell_type": "code",
   "execution_count": 272,
   "id": "cbebe683-6afd-47fd-bba4-c83b4b13bb32",
   "metadata": {
    "ExecuteTime": {
     "end_time": "2024-02-11T23:23:27.857126071Z",
     "start_time": "2024-02-11T23:23:27.809780471Z"
    }
   },
   "outputs": [
    {
     "data": {
      "text/plain": "2"
     },
     "execution_count": 272,
     "metadata": {},
     "output_type": "execute_result"
    }
   ],
   "source": [
    "len(frames)"
   ]
  },
  {
   "cell_type": "code",
   "execution_count": 273,
   "id": "5cf2d676-93a9-434c-b3c7-bdcc2577b2e7",
   "metadata": {
    "tags": [],
    "ExecuteTime": {
     "end_time": "2024-02-11T23:23:27.859411367Z",
     "start_time": "2024-02-11T23:23:27.856978750Z"
    }
   },
   "outputs": [],
   "source": [
    "sample = data.as_numpy_iterator()"
   ]
  },
  {
   "cell_type": "code",
   "execution_count": 274,
   "id": "efa6cd46-7079-46c0-b45b-832f339f6cb0",
   "metadata": {
    "scrolled": true,
    "tags": [],
    "ExecuteTime": {
     "end_time": "2024-02-11T23:23:27.861906073Z",
     "start_time": "2024-02-11T23:23:27.857046831Z"
    }
   },
   "outputs": [
    {
     "data": {
      "text/plain": "array([[[[[ 1.4192083 ],\n          [ 1.4192083 ],\n          [ 1.3786595 ],\n          ...,\n          [ 0.12164643],\n          [ 0.20274405],\n          [ 0.20274405]],\n\n         [[ 1.5408548 ],\n          [ 1.4597572 ],\n          [ 1.3786595 ],\n          ...,\n          [ 0.12164643],\n          [ 0.20274405],\n          [ 0.20274405]],\n\n         [[ 1.4192083 ],\n          [ 1.4192083 ],\n          [ 1.4192083 ],\n          ...,\n          [ 0.20274405],\n          [ 0.16219524],\n          [ 0.16219524]],\n\n         ...,\n\n         [[ 0.9731714 ],\n          [ 0.9731714 ],\n          [ 0.9731714 ],\n          ...,\n          [10.299397  ],\n          [10.299397  ],\n          [10.299397  ]],\n\n         [[ 0.9326226 ],\n          [ 0.9326226 ],\n          [ 0.9326226 ],\n          ...,\n          [10.299397  ],\n          [10.299397  ],\n          [10.299397  ]],\n\n         [[ 0.8920738 ],\n          [ 0.8920738 ],\n          [ 0.8920738 ],\n          ...,\n          [10.299397  ],\n          [10.299397  ],\n          [10.299397  ]]],\n\n\n        [[[ 1.500306  ],\n          [ 1.5408548 ],\n          [ 1.5408548 ],\n          ...,\n          [ 0.20274405],\n          [ 0.16219524],\n          [ 0.16219524]],\n\n         [[ 1.5408548 ],\n          [ 1.6625012 ],\n          [ 1.4192083 ],\n          ...,\n          [ 0.20274405],\n          [ 0.16219524],\n          [ 0.16219524]],\n\n         [[ 1.4597572 ],\n          [ 1.4597572 ],\n          [ 1.4597572 ],\n          ...,\n          [ 0.28384167],\n          [ 0.20274405],\n          [ 0.20274405]],\n\n         ...,\n\n         [[ 0.9326226 ],\n          [ 0.9326226 ],\n          [ 0.9326226 ],\n          ...,\n          [10.299397  ],\n          [10.299397  ],\n          [10.299397  ]],\n\n         [[ 0.9326226 ],\n          [ 0.8920738 ],\n          [ 0.8920738 ],\n          ...,\n          [10.299397  ],\n          [10.299397  ],\n          [10.299397  ]],\n\n         [[ 0.8920738 ],\n          [ 0.8920738 ],\n          [ 0.8920738 ],\n          ...,\n          [10.299397  ],\n          [10.299397  ],\n          [10.299397  ]]],\n\n\n        [[[ 1.4597572 ],\n          [ 1.4597572 ],\n          [ 1.4597572 ],\n          ...,\n          [ 0.20274405],\n          [ 0.16219524],\n          [ 0.16219524]],\n\n         [[ 1.5814036 ],\n          [ 1.5814036 ],\n          [ 1.3786595 ],\n          ...,\n          [ 0.20274405],\n          [ 0.16219524],\n          [ 0.16219524]],\n\n         [[ 1.4192083 ],\n          [ 1.4192083 ],\n          [ 1.4192083 ],\n          ...,\n          [ 0.28384167],\n          [ 0.28384167],\n          [ 0.20274405]],\n\n         ...,\n\n         [[ 0.9731714 ],\n          [ 0.9731714 ],\n          [ 0.9731714 ],\n          ...,\n          [10.299397  ],\n          [10.299397  ],\n          [10.299397  ]],\n\n         [[ 0.9326226 ],\n          [ 0.8920738 ],\n          [ 0.8920738 ],\n          ...,\n          [10.299397  ],\n          [10.299397  ],\n          [10.299397  ]],\n\n         [[ 0.8920738 ],\n          [ 0.8920738 ],\n          [ 0.8920738 ],\n          ...,\n          [10.299397  ],\n          [10.299397  ],\n          [10.299397  ]]],\n\n\n        ...,\n\n\n        [[[ 1.500306  ],\n          [ 1.5814036 ],\n          [ 1.500306  ],\n          ...,\n          [ 0.20274405],\n          [ 0.16219524],\n          [ 0.16219524]],\n\n         [[ 1.500306  ],\n          [ 1.4597572 ],\n          [ 1.5814036 ],\n          ...,\n          [ 0.20274405],\n          [ 0.16219524],\n          [ 0.16219524]],\n\n         [[ 1.500306  ],\n          [ 1.4597572 ],\n          [ 1.500306  ],\n          ...,\n          [ 0.16219524],\n          [ 0.16219524],\n          [ 0.16219524]],\n\n         ...,\n\n         [[ 1.0137203 ],\n          [ 1.0137203 ],\n          [ 1.0137203 ],\n          ...,\n          [10.339947  ],\n          [10.339947  ],\n          [10.339947  ]],\n\n         [[ 1.0137203 ],\n          [ 1.0137203 ],\n          [ 1.0137203 ],\n          ...,\n          [10.339947  ],\n          [10.339947  ],\n          [10.339947  ]],\n\n         [[ 1.0137203 ],\n          [ 1.0137203 ],\n          [ 1.0137203 ],\n          ...,\n          [10.339947  ],\n          [10.339947  ],\n          [10.299397  ]]],\n\n\n        [[[ 1.6219524 ],\n          [ 1.6219524 ],\n          [ 1.500306  ],\n          ...,\n          [ 0.20274405],\n          [ 0.16219524],\n          [ 0.16219524]],\n\n         [[ 1.6219524 ],\n          [ 1.500306  ],\n          [ 1.5408548 ],\n          ...,\n          [ 0.20274405],\n          [ 0.16219524],\n          [ 0.16219524]],\n\n         [[ 1.4597572 ],\n          [ 1.4192083 ],\n          [ 1.4597572 ],\n          ...,\n          [ 0.16219524],\n          [ 0.16219524],\n          [ 0.16219524]],\n\n         ...,\n\n         [[ 1.0137203 ],\n          [ 1.0137203 ],\n          [ 1.0137203 ],\n          ...,\n          [10.299397  ],\n          [10.299397  ],\n          [10.299397  ]],\n\n         [[ 1.0137203 ],\n          [ 1.0137203 ],\n          [ 1.0137203 ],\n          ...,\n          [10.299397  ],\n          [10.299397  ],\n          [10.299397  ]],\n\n         [[ 1.0137203 ],\n          [ 1.0137203 ],\n          [ 1.0137203 ],\n          ...,\n          [10.299397  ],\n          [10.299397  ],\n          [10.2183    ]]],\n\n\n        [[[ 1.5814036 ],\n          [ 1.500306  ],\n          [ 1.4597572 ],\n          ...,\n          [ 0.24329285],\n          [ 0.16219524],\n          [ 0.16219524]],\n\n         [[ 1.6219524 ],\n          [ 1.500306  ],\n          [ 1.5408548 ],\n          ...,\n          [ 0.24329285],\n          [ 0.16219524],\n          [ 0.16219524]],\n\n         [[ 1.500306  ],\n          [ 1.4597572 ],\n          [ 1.500306  ],\n          ...,\n          [ 0.20274405],\n          [ 0.16219524],\n          [ 0.16219524]],\n\n         ...,\n\n         [[ 1.0137203 ],\n          [ 1.0137203 ],\n          [ 1.0137203 ],\n          ...,\n          [10.339947  ],\n          [10.339947  ],\n          [10.339947  ]],\n\n         [[ 1.0137203 ],\n          [ 1.0137203 ],\n          [ 1.0137203 ],\n          ...,\n          [10.339947  ],\n          [10.339947  ],\n          [10.339947  ]],\n\n         [[ 1.0137203 ],\n          [ 1.0137203 ],\n          [ 1.0137203 ],\n          ...,\n          [10.339947  ],\n          [10.339947  ],\n          [10.299397  ]]]],\n\n\n\n       [[[[ 1.2791858 ],\n          [ 1.2791858 ],\n          [ 1.2791858 ],\n          ...,\n          [ 0.34886885],\n          [ 0.34886885],\n          [ 0.46515846]],\n\n         [[ 1.2791858 ],\n          [ 1.2791858 ],\n          [ 1.2791858 ],\n          ...,\n          [ 0.38763204],\n          [ 0.34886885],\n          [ 0.46515846]],\n\n         [[ 1.2016593 ],\n          [ 1.2016593 ],\n          [ 1.2016593 ],\n          ...,\n          [ 0.27134243],\n          [ 0.19381602],\n          [ 0.38763204]],\n\n         ...,\n\n         [[ 0.8915537 ],\n          [ 0.8915537 ],\n          [ 0.8915537 ],\n          ...,\n          [ 0.8527905 ],\n          [ 1.0078433 ],\n          [ 9.613275  ]],\n\n         [[ 0.8140273 ],\n          [ 0.8140273 ],\n          [ 0.8140273 ],\n          ...,\n          [ 0.8527905 ],\n          [ 0.8140273 ],\n          [ 0.15505281]],\n\n         [[ 0.8140273 ],\n          [ 0.8140273 ],\n          [ 0.8140273 ],\n          ...,\n          [ 0.6977377 ],\n          [ 0.8527905 ],\n          [ 0.5039216 ]]],\n\n\n        [[[ 1.2791858 ],\n          [ 1.2791858 ],\n          [ 1.2791858 ],\n          ...,\n          [ 0.31010562],\n          [ 0.34886885],\n          [ 0.38763204]],\n\n         [[ 1.2791858 ],\n          [ 1.2791858 ],\n          [ 1.2791858 ],\n          ...,\n          [ 0.27134243],\n          [ 0.31010562],\n          [ 0.38763204]],\n\n         [[ 1.1628962 ],\n          [ 1.1628962 ],\n          [ 1.1628962 ],\n          ...,\n          [ 0.31010562],\n          [ 0.27134243],\n          [ 0.42639524]],\n\n         ...,\n\n         [[ 0.8915537 ],\n          [ 0.8915537 ],\n          [ 0.8527905 ],\n          ...,\n          [ 0.6977377 ],\n          [ 1.0078433 ],\n          [ 9.458221  ]],\n\n         [[ 0.8140273 ],\n          [ 0.8140273 ],\n          [ 0.7752641 ],\n          ...,\n          [ 0.8140273 ],\n          [ 0.7752641 ],\n          [ 0.11628962]],\n\n         [[ 0.8140273 ],\n          [ 0.8140273 ],\n          [ 0.7752641 ],\n          ...,\n          [ 0.8527905 ],\n          [ 0.8140273 ],\n          [ 0.54268485]]],\n\n\n        [[[ 1.2404225 ],\n          [ 1.2404225 ],\n          [ 1.2404225 ],\n          ...,\n          [ 0.27134243],\n          [ 0.31010562],\n          [ 0.34886885]],\n\n         [[ 1.2404225 ],\n          [ 1.2404225 ],\n          [ 1.2404225 ],\n          ...,\n          [ 0.23257923],\n          [ 0.27134243],\n          [ 0.34886885]],\n\n         [[ 1.2404225 ],\n          [ 1.2404225 ],\n          [ 1.2404225 ],\n          ...,\n          [ 0.31010562],\n          [ 0.31010562],\n          [ 0.46515846]],\n\n         ...,\n\n         [[ 0.8527905 ],\n          [ 0.8527905 ],\n          [ 0.8527905 ],\n          ...,\n          [ 0.8140273 ],\n          [ 0.9303169 ],\n          [ 9.303169  ]],\n\n         [[ 0.7752641 ],\n          [ 0.7752641 ],\n          [ 0.7752641 ],\n          ...,\n          [ 0.73650086],\n          [ 0.73650086],\n          [ 9.884617  ]],\n\n         [[ 0.7752641 ],\n          [ 0.7752641 ],\n          [ 0.7752641 ],\n          ...,\n          [ 0.8140273 ],\n          [ 0.7752641 ],\n          [ 0.54268485]]],\n\n\n        ...,\n\n\n        [[[ 1.2404225 ],\n          [ 1.2404225 ],\n          [ 1.2404225 ],\n          ...,\n          [ 0.34886885],\n          [ 0.34886885],\n          [ 0.27134243]],\n\n         [[ 1.2404225 ],\n          [ 1.2404225 ],\n          [ 1.2404225 ],\n          ...,\n          [ 0.34886885],\n          [ 0.34886885],\n          [ 0.27134243]],\n\n         [[ 1.1628962 ],\n          [ 1.1628962 ],\n          [ 1.1628962 ],\n          ...,\n          [ 0.31010562],\n          [ 0.19381602],\n          [ 0.34886885]],\n\n         ...,\n\n         [[ 0.8140273 ],\n          [ 0.8140273 ],\n          [ 0.8140273 ],\n          ...,\n          [ 0.8140273 ],\n          [ 0.8527905 ],\n          [ 8.9543    ]],\n\n         [[ 0.8140273 ],\n          [ 0.8140273 ],\n          [ 0.8140273 ],\n          ...,\n          [ 0.8140273 ],\n          [ 0.7752641 ],\n          [ 9.5357485 ]],\n\n         [[ 0.8140273 ],\n          [ 0.8140273 ],\n          [ 0.8140273 ],\n          ...,\n          [ 0.6977377 ],\n          [ 0.7752641 ],\n          [ 0.15505281]]],\n\n\n        [[[ 1.2404225 ],\n          [ 1.2404225 ],\n          [ 1.2404225 ],\n          ...,\n          [ 0.42639524],\n          [ 0.34886885],\n          [ 0.34886885]],\n\n         [[ 1.2404225 ],\n          [ 1.2404225 ],\n          [ 1.2404225 ],\n          ...,\n          [ 0.46515846],\n          [ 0.34886885],\n          [ 0.38763204]],\n\n         [[ 1.1628962 ],\n          [ 1.1628962 ],\n          [ 1.1628962 ],\n          ...,\n          [ 0.31010562],\n          [ 0.23257923],\n          [ 0.31010562]],\n\n         ...,\n\n         [[ 0.8140273 ],\n          [ 0.8140273 ],\n          [ 0.8140273 ],\n          ...,\n          [ 0.7752641 ],\n          [ 0.8527905 ],\n          [ 8.799248  ]],\n\n         [[ 0.8140273 ],\n          [ 0.8140273 ],\n          [ 0.8140273 ],\n          ...,\n          [ 0.73650086],\n          [ 0.8527905 ],\n          [ 9.380695  ]],\n\n         [[ 0.8140273 ],\n          [ 0.8140273 ],\n          [ 0.8140273 ],\n          ...,\n          [ 0.73650086],\n          [ 0.8140273 ],\n          [ 9.884617  ]]],\n\n\n        [[[ 1.2404225 ],\n          [ 1.2404225 ],\n          [ 1.2404225 ],\n          ...,\n          [ 0.46515846],\n          [ 0.34886885],\n          [ 0.38763204]],\n\n         [[ 1.2404225 ],\n          [ 1.2404225 ],\n          [ 1.2404225 ],\n          ...,\n          [ 0.34886885],\n          [ 0.31010562],\n          [ 0.34886885]],\n\n         [[ 1.1628962 ],\n          [ 1.1628962 ],\n          [ 1.1628962 ],\n          ...,\n          [ 0.34886885],\n          [ 0.31010562],\n          [ 0.34886885]],\n\n         ...,\n\n         [[ 0.8140273 ],\n          [ 0.8140273 ],\n          [ 0.8140273 ],\n          ...,\n          [ 0.62021124],\n          [ 0.7752641 ],\n          [ 8.644195  ]],\n\n         [[ 0.8140273 ],\n          [ 0.8140273 ],\n          [ 0.8140273 ],\n          ...,\n          [ 0.5814481 ],\n          [ 0.8140273 ],\n          [ 9.303169  ]],\n\n         [[ 0.8140273 ],\n          [ 0.8140273 ],\n          [ 0.8140273 ],\n          ...,\n          [ 0.62021124],\n          [ 0.8527905 ],\n          [ 9.807091  ]]]]], dtype=float32)"
     },
     "execution_count": 274,
     "metadata": {},
     "output_type": "execute_result"
    }
   ],
   "source": [
    "val = sample.next(); val[0]"
   ]
  },
  {
   "cell_type": "code",
   "execution_count": 275,
   "id": "acf5eb4f-a0da-4a9a-bf24-af13e9cc2fbe",
   "metadata": {
    "tags": [],
    "ExecuteTime": {
     "end_time": "2024-02-11T23:23:27.863066466Z",
     "start_time": "2024-02-11T23:23:27.857178221Z"
    }
   },
   "outputs": [],
   "source": [
    "# imageio.mimsave('./animation.gif', val[0][0], fps=10) # can't handle this data type:(1,1,1), <f4\n",
    "# imageio.mimsave('./animation.gif', val[0][0].astype(np.uint8), fps=10)\n"
   ]
  },
  {
   "cell_type": "code",
   "execution_count": 276,
   "id": "c33a87a2-d5e0-4ec9-b174-73ebf41bf03a",
   "metadata": {
    "tags": [],
    "ExecuteTime": {
     "end_time": "2024-02-11T23:23:27.877937623Z",
     "start_time": "2024-02-11T23:23:27.857210311Z"
    }
   },
   "outputs": [
    {
     "data": {
      "text/plain": "<matplotlib.image.AxesImage at 0x7fa4940df1c0>"
     },
     "execution_count": 276,
     "metadata": {},
     "output_type": "execute_result"
    },
    {
     "data": {
      "text/plain": "<Figure size 640x480 with 1 Axes>",
      "image/png": "[encoded data removed]"
     },
     "metadata": {},
     "output_type": "display_data"
    }
   ],
   "source": [
    "# 0:videos, 0: 1st video out of the batch,  0: return the first frame in the video \n",
    "plt.imshow(val[0][0][35])"
   ]
  },
  {
   "cell_type": "code",
   "execution_count": 277,
   "id": "84593332-133c-4205-b7a6-8e235d5e2b3b",
   "metadata": {
    "tags": [],
    "ExecuteTime": {
     "end_time": "2024-02-11T23:23:27.906307695Z",
     "start_time": "2024-02-11T23:23:27.879327157Z"
    }
   },
   "outputs": [
    {
     "data": {
      "text/plain": "<tf.Tensor: shape=(), dtype=string, numpy=b'lay white in y nine again'>"
     },
     "execution_count": 277,
     "metadata": {},
     "output_type": "execute_result"
    }
   ],
   "source": [
    "tf.strings.reduce_join([num_to_char(word) for word in val[1][0]])"
   ]
  },
  {
   "cell_type": "markdown",
   "id": "0f47733c-83bc-465c-b118-b198b492ad37",
   "metadata": {
    "tags": []
   },
   "source": [
    "# 3. Design the Deep Neural Network"
   ]
  },
  {
   "cell_type": "code",
   "execution_count": 130,
   "id": "d8e9a497-191b-4842-afbd-26f5e13c43ba",
   "metadata": {
    "tags": [],
    "ExecuteTime": {
     "end_time": "2024-02-12T14:21:56.248543591Z",
     "start_time": "2024-02-12T14:21:56.245154411Z"
    }
   },
   "outputs": [],
   "source": [
    "from tensorflow.keras.models import Sequential \n",
    "from tensorflow.keras.layers import Conv3D, LSTM, Dense, Dropout, Bidirectional, MaxPool3D, Activation, Reshape, SpatialDropout3D, BatchNormalization, TimeDistributed, Flatten\n",
    "from tensorflow.keras.optimizers import Adam\n",
    "from tensorflow.keras.callbacks import ModelCheckpoint, LearningRateScheduler\n",
    "from tensorflow.keras.applications import ResNet50"
   ]
  },
  {
   "cell_type": "code",
   "execution_count": 279,
   "id": "3f753ed2-70b9-4236-8c1c-08ca065dc8bf",
   "metadata": {
    "ExecuteTime": {
     "end_time": "2024-02-11T23:23:27.935179878Z",
     "start_time": "2024-02-11T23:23:27.932999143Z"
    }
   },
   "outputs": [
    {
     "data": {
      "text/plain": "(75, 46, 140, 1)"
     },
     "execution_count": 279,
     "metadata": {},
     "output_type": "execute_result"
    }
   ],
   "source": [
    "data.as_numpy_iterator().next()[0][0].shape"
   ]
  },
  {
   "cell_type": "code",
   "execution_count": 136,
   "id": "f9171056-a352-491a-9ed9-92b28ced268e",
   "metadata": {
    "tags": [],
    "ExecuteTime": {
     "end_time": "2024-02-12T14:26:08.237380096Z",
     "start_time": "2024-02-12T14:26:06.675683902Z"
    }
   },
   "outputs": [],
   "source": [
    "base_model = ResNet50(weights=None, include_top=False, input_shape=(46,140, 3))\n",
    "\n",
    "# If you wish to Freeze layers\n",
    "for layer in base_model.layers:\n",
    "  layer.trainable = True\n",
    "  \n",
    "model = Sequential()\n",
    "model.add(base_model)\n",
    "model = Sequential()\n",
    "model.add(Conv3D(128, 3, input_shape=(75,46,140,1), padding='same'))  # 128 filters, 3x3 kernel input shape is 75 frames, 46x140 pixels, 1 channel \n",
    "model.add(Activation('relu'))  # activation function\n",
    "model.add(MaxPool3D((1,2,2)))  # max pooling\n",
    "\n",
    "model.add(Conv3D(256, 3, padding='same'))  # 256 filters, 3x3 kernel\n",
    "model.add(Activation('relu'))  \n",
    "model.add(MaxPool3D((1,2,2)))\n",
    "\n",
    "model.add(Conv3D(75, 3, padding='same'))\n",
    "model.add(Activation('relu'))\n",
    "model.add(MaxPool3D((1,2,2)))\n",
    "\n",
    "model.add(TimeDistributed(Flatten()))  # flatten the output of the previous layer\n",
    "\n",
    "model.add(Bidirectional(LSTM(128, kernel_initializer='Orthogonal', return_sequences=True)))  # bidirectional LSTM\n",
    "model.add(Dropout(.5))  # dropout layer\n",
    "\n",
    "model.add(Bidirectional(LSTM(128, kernel_initializer='Orthogonal', return_sequences=True)))\n",
    "model.add(Dropout(.5))\n",
    "\n",
    "model.add(Dense(char_to_num.vocabulary_size()+1, kernel_initializer='he_normal', activation='softmax'))  # output layer"
   ]
  },
  {
   "cell_type": "code",
   "execution_count": 137,
   "id": "78851825-2bcd-42a9-b7f2-28bb5a6bf43a",
   "metadata": {
    "collapsed": true,
    "jupyter": {
     "outputs_hidden": true
    },
    "tags": [],
    "ExecuteTime": {
     "end_time": "2024-02-12T14:26:10.703328493Z",
     "start_time": "2024-02-12T14:26:10.654064497Z"
    }
   },
   "outputs": [
    {
     "name": "stdout",
     "output_type": "stream",
     "text": [
      "Model: \"sequential_8\"\n",
      "_________________________________________________________________\n",
      " Layer (type)                Output Shape              Param #   \n",
      "=================================================================\n",
      " conv3d_14 (Conv3D)          (None, 75, 46, 140, 128   3584      \n",
      "                             )                                   \n",
      "                                                                 \n",
      " activation_14 (Activation)  (None, 75, 46, 140, 128   0         \n",
      "                             )                                   \n",
      "                                                                 \n",
      " max_pooling3d_14 (MaxPooli  (None, 75, 23, 70, 128)   0         \n",
      " ng3D)                                                           \n",
      "                                                                 \n",
      " conv3d_15 (Conv3D)          (None, 75, 23, 70, 256)   884992    \n",
      "                                                                 \n",
      " activation_15 (Activation)  (None, 75, 23, 70, 256)   0         \n",
      "                                                                 \n",
      " max_pooling3d_15 (MaxPooli  (None, 75, 11, 35, 256)   0         \n",
      " ng3D)                                                           \n",
      "                                                                 \n",
      " conv3d_16 (Conv3D)          (None, 75, 11, 35, 75)    518475    \n",
      "                                                                 \n",
      " activation_16 (Activation)  (None, 75, 11, 35, 75)    0         \n",
      "                                                                 \n",
      " max_pooling3d_16 (MaxPooli  (None, 75, 5, 17, 75)     0         \n",
      " ng3D)                                                           \n",
      "                                                                 \n",
      " time_distributed_5 (TimeDi  (None, 75, 6375)          0         \n",
      " stributed)                                                      \n",
      "                                                                 \n",
      " bidirectional_10 (Bidirect  (None, 75, 256)           6660096   \n",
      " ional)                                                          \n",
      "                                                                 \n",
      " dropout_10 (Dropout)        (None, 75, 256)           0         \n",
      "                                                                 \n",
      " bidirectional_11 (Bidirect  (None, 75, 256)           394240    \n",
      " ional)                                                          \n",
      "                                                                 \n",
      " dropout_11 (Dropout)        (None, 75, 256)           0         \n",
      "                                                                 \n",
      " dense_5 (Dense)             (None, 75, 29)            7453      \n",
      "                                                                 \n",
      "=================================================================\n",
      "Total params: 8468840 (32.31 MB)\n",
      "Trainable params: 8468840 (32.31 MB)\n",
      "Non-trainable params: 0 (0.00 Byte)\n",
      "_________________________________________________________________\n"
     ]
    }
   ],
   "source": [
    "model.summary()"
   ]
  },
  {
   "cell_type": "code",
   "execution_count": 282,
   "id": "f4b4798c-a65a-4c47-9e2a-3b09dc98d320",
   "metadata": {
    "ExecuteTime": {
     "end_time": "2024-02-11T23:23:29.100668169Z",
     "start_time": "2024-02-11T23:23:29.089079060Z"
    }
   },
   "outputs": [
    {
     "data": {
      "text/plain": "6375"
     },
     "execution_count": 282,
     "metadata": {},
     "output_type": "execute_result"
    }
   ],
   "source": [
    "5*17*75"
   ]
  },
  {
   "cell_type": "code",
   "execution_count": 283,
   "id": "e5c2eae0-c359-41a4-97a0-75c44dccb7d1",
   "metadata": {
    "tags": [],
    "ExecuteTime": {
     "end_time": "2024-02-11T23:23:29.540398130Z",
     "start_time": "2024-02-11T23:23:29.089177660Z"
    }
   },
   "outputs": [
    {
     "name": "stdout",
     "output_type": "stream",
     "text": [
      "WARNING:tensorflow:5 out of the last 56 calls to <function Model.make_predict_function.<locals>.predict_function at 0x7fa49435d750> triggered tf.function retracing. Tracing is expensive and the excessive number of tracings could be due to (1) creating @tf.function repeatedly in a loop, (2) passing tensors with different shapes, (3) passing Python objects instead of tensors. For (1), please define your @tf.function outside of the loop. For (2), @tf.function has reduce_retracing=True option that can avoid unnecessary retracing. For (3), please refer to https://www.tensorflow.org/guide/function#controlling_retracing and https://www.tensorflow.org/api_docs/python/tf/function for  more details.\n",
      "1/1 [==============================] - 0s 474ms/step\n"
     ]
    }
   ],
   "source": [
    "yhat = model.predict(val[0])"
   ]
  },
  {
   "cell_type": "code",
   "execution_count": 284,
   "id": "ffdc7319-0d69-4f7e-a6d4-ce72deb81c0b",
   "metadata": {
    "ExecuteTime": {
     "end_time": "2024-02-11T23:23:29.575123179Z",
     "start_time": "2024-02-11T23:23:29.539984109Z"
    }
   },
   "outputs": [
    {
     "data": {
      "text/plain": "<tf.Tensor: shape=(), dtype=string, numpy=b'bbbbbbbbbbbbbbbbbbbbbbbbbbbbbbbbbbbbbbbbbbbbbbbbbbbbbbbbbbbbbbbbbbbbboooooo'>"
     },
     "execution_count": 284,
     "metadata": {},
     "output_type": "execute_result"
    }
   ],
   "source": [
    "tf.strings.reduce_join([num_to_char(x) for x in tf.argmax(yhat[0],axis=1)])"
   ]
  },
  {
   "cell_type": "code",
   "execution_count": 285,
   "id": "6ed47531-8317-4255-9a12-b757642258e6",
   "metadata": {
    "tags": [],
    "ExecuteTime": {
     "end_time": "2024-02-11T23:23:29.605487247Z",
     "start_time": "2024-02-11T23:23:29.570942617Z"
    }
   },
   "outputs": [
    {
     "data": {
      "text/plain": "<tf.Tensor: shape=(), dtype=string, numpy=b'bbbbbbbbbbbbbbbbbbbbbbbbbbbbbbbbbbbbbbbbbbbbbbbbbbbbbbbbbbbbbbbbbbbbboooooo'>"
     },
     "execution_count": 285,
     "metadata": {},
     "output_type": "execute_result"
    }
   ],
   "source": [
    "tf.strings.reduce_join([num_to_char(tf.argmax(x)) for x in yhat[0]])"
   ]
  },
  {
   "cell_type": "code",
   "execution_count": 138,
   "id": "7c37b9b9-5298-4038-9c33-5031d1b457f0",
   "metadata": {
    "tags": [],
    "ExecuteTime": {
     "end_time": "2024-02-12T14:26:22.883143927Z",
     "start_time": "2024-02-12T14:26:22.830215891Z"
    }
   },
   "outputs": [
    {
     "data": {
      "text/plain": "(None, 75, 46, 140, 1)"
     },
     "execution_count": 138,
     "metadata": {},
     "output_type": "execute_result"
    }
   ],
   "source": [
    "model.input_shape"
   ]
  },
  {
   "cell_type": "code",
   "execution_count": 139,
   "id": "98b316a4-5322-4782-8e36-4b3c1a696d85",
   "metadata": {
    "tags": [],
    "ExecuteTime": {
     "end_time": "2024-02-12T14:26:23.754189143Z",
     "start_time": "2024-02-12T14:26:23.721162455Z"
    }
   },
   "outputs": [
    {
     "data": {
      "text/plain": "(None, 75, 29)"
     },
     "execution_count": 139,
     "metadata": {},
     "output_type": "execute_result"
    }
   ],
   "source": [
    "model.output_shape"
   ]
  },
  {
   "cell_type": "markdown",
   "id": "2ec02176-5c26-46c3-aff7-8352e6563c7d",
   "metadata": {
    "tags": []
   },
   "source": [
    "# 4. Setup Training Options and Train"
   ]
  },
  {
   "cell_type": "code",
   "execution_count": 140,
   "id": "ab015fd0-7fb4-4d5d-9fa2-30a05dbd515a",
   "metadata": {
    "tags": [],
    "ExecuteTime": {
     "end_time": "2024-02-12T14:26:28.010040073Z",
     "start_time": "2024-02-12T14:26:28.006134144Z"
    }
   },
   "outputs": [],
   "source": [
    "def scheduler(epoch, lr):   # learning rate scheduler\n",
    "    if epoch < 30:\n",
    "        return lr\n",
    "    else:\n",
    "        return lr * tf.math.exp(-0.1)  "
   ]
  },
  {
   "cell_type": "code",
   "execution_count": 141,
   "id": "c564d5c9-db54-4e88-b311-9aeab7fb3e69",
   "metadata": {
    "tags": [],
    "ExecuteTime": {
     "end_time": "2024-02-12T14:26:29.276303534Z",
     "start_time": "2024-02-12T14:26:29.266732854Z"
    }
   },
   "outputs": [],
   "source": [
    "def CTCLoss(y_true, y_pred):\n",
    "    batch_len = tf.cast(tf.shape(y_true)[0], dtype=\"int64\")\n",
    "    input_length = tf.cast(tf.shape(y_pred)[1], dtype=\"int64\")\n",
    "    label_length = tf.cast(tf.shape(y_true)[1], dtype=\"int64\")\n",
    "\n",
    "    input_length = input_length * tf.ones(shape=(batch_len, 1), dtype=\"int64\")\n",
    "    label_length = label_length * tf.ones(shape=(batch_len, 1), dtype=\"int64\")\n",
    "\n",
    "    loss = tf.keras.backend.ctc_batch_cost(y_true, y_pred, input_length, label_length)\n",
    "    return loss"
   ]
  },
  {
   "cell_type": "code",
   "execution_count": 142,
   "id": "a26dc3fc-a19c-4378-bd8c-e2b597a1d15c",
   "metadata": {
    "tags": [],
    "ExecuteTime": {
     "end_time": "2024-02-12T14:26:32.136858445Z",
     "start_time": "2024-02-12T14:26:32.125834196Z"
    }
   },
   "outputs": [],
   "source": [
    "class ProduceExample(tf.keras.callbacks.Callback): \n",
    "    def __init__(self, dataset) -> None: \n",
    "        self.dataset = dataset.as_numpy_iterator()\n",
    "    \n",
    "    def on_epoch_end(self, epoch, logs=None) -> None:\n",
    "        try:\n",
    "            data = self.dataset.next()\n",
    "            yhat = self.model.predict(data[0])\n",
    "            decoded = tf.keras.backend.ctc_decode(yhat, [75,75], greedy=False)[0][0].numpy()\n",
    "            for x in range(len(yhat)):           \n",
    "                print('Original:', tf.strings.reduce_join(num_to_char(data[1][x])).numpy().decode('utf-8'))\n",
    "                print('Prediction:', tf.strings.reduce_join(num_to_char(decoded[x])).numpy().decode('utf-8'))\n",
    "                print('~'*100)\n",
    "        except StopIteration:\n",
    "            self.dataset = self.dataset.as_numpy_iterator()\n",
    "            data = self.dataset.next()\n",
    "            yhat = self.model.predict(data[0])\n",
    "            decoded = tf.keras.backend.ctc_decode(yhat, [75,75], greedy=False)[0][0].numpy()\n",
    "            for x in range(len(yhat)):           \n",
    "                print('Original:', tf.strings.reduce_join(num_to_char(data[1][x])).numpy().decode('utf-8'))\n",
    "                print('Prediction:', tf.strings.reduce_join(num_to_char(decoded[x])).numpy().decode('utf-8'))\n",
    "                print('~'*100)"
   ]
  },
  {
   "cell_type": "code",
   "execution_count": 143,
   "id": "04be90d8-2482-46f9-b513-d5f4f8001c7e",
   "metadata": {
    "tags": [],
    "ExecuteTime": {
     "end_time": "2024-02-12T14:26:37.313445687Z",
     "start_time": "2024-02-12T14:26:37.284375450Z"
    }
   },
   "outputs": [],
   "source": [
    "model.compile(optimizer=Adam(learning_rate=0.0001), loss=CTCLoss)"
   ]
  },
  {
   "cell_type": "code",
   "execution_count": 144,
   "id": "eab49367-3f1e-4464-ae76-dbd07549d97e",
   "metadata": {
    "tags": [],
    "ExecuteTime": {
     "end_time": "2024-02-12T14:26:45.640978186Z",
     "start_time": "2024-02-12T14:26:45.629485266Z"
    }
   },
   "outputs": [],
   "source": [
    "checkpoint_callback = ModelCheckpoint(os.path.join('models_4','checkpoint'), monitor='loss', save_weights_only=True) "
   ]
  },
  {
   "cell_type": "code",
   "execution_count": 145,
   "id": "e085a632-d464-46ef-8777-959cad4adb2c",
   "metadata": {
    "tags": [],
    "ExecuteTime": {
     "end_time": "2024-02-12T14:26:50.563238538Z",
     "start_time": "2024-02-12T14:26:50.552561080Z"
    }
   },
   "outputs": [],
   "source": [
    "schedule_callback = LearningRateScheduler(scheduler)"
   ]
  },
  {
   "cell_type": "code",
   "execution_count": 146,
   "id": "48eca991-90ab-4592-8a79-b50e9ca015b6",
   "metadata": {
    "tags": [],
    "ExecuteTime": {
     "end_time": "2024-02-12T14:26:51.155375137Z",
     "start_time": "2024-02-12T14:26:51.144200208Z"
    }
   },
   "outputs": [],
   "source": [
    "example_callback = ProduceExample(train)"
   ]
  },
  {
   "cell_type": "code",
   "outputs": [
    {
     "name": "stdout",
     "output_type": "stream",
     "text": [
      "Epoch 1/60\n",
      "450/450 [==============================] - 80s 178ms/step - loss: 67.9863 - val_loss: 63.7934 - lr: 1.0000e-04\n",
      "Epoch 2/60\n",
      "450/450 [==============================] - 80s 177ms/step - loss: 64.6290 - val_loss: 60.6559 - lr: 1.0000e-04\n",
      "Epoch 3/60\n",
      "450/450 [==============================] - 80s 177ms/step - loss: 62.4332 - val_loss: 59.1229 - lr: 1.0000e-04\n",
      "Epoch 4/60\n",
      "450/450 [==============================] - 80s 177ms/step - loss: 61.0217 - val_loss: 58.1548 - lr: 1.0000e-04\n",
      "Epoch 5/60\n",
      "450/450 [==============================] - 80s 177ms/step - loss: 59.3075 - val_loss: 55.7997 - lr: 1.0000e-04\n",
      "Epoch 6/60\n",
      "450/450 [==============================] - 80s 177ms/step - loss: 56.4110 - val_loss: 52.8423 - lr: 1.0000e-04\n",
      "Epoch 7/60\n",
      "450/450 [==============================] - 80s 177ms/step - loss: 53.9417 - val_loss: 49.6010 - lr: 1.0000e-04\n",
      "Epoch 8/60\n",
      "450/450 [==============================] - 80s 177ms/step - loss: 52.3977 - val_loss: 50.7214 - lr: 1.0000e-04\n",
      "Epoch 9/60\n",
      "450/450 [==============================] - 80s 177ms/step - loss: 50.3075 - val_loss: 46.2986 - lr: 1.0000e-04\n",
      "Epoch 10/60\n",
      "450/450 [==============================] - 80s 177ms/step - loss: 48.4097 - val_loss: 45.6809 - lr: 1.0000e-04\n",
      "Epoch 11/60\n",
      "450/450 [==============================] - 80s 177ms/step - loss: 46.4267 - val_loss: 41.7874 - lr: 1.0000e-04\n",
      "Epoch 12/60\n",
      "450/450 [==============================] - 80s 177ms/step - loss: 43.7498 - val_loss: 38.3765 - lr: 1.0000e-04\n",
      "Epoch 13/60\n",
      "450/450 [==============================] - 80s 177ms/step - loss: 41.7010 - val_loss: 36.7523 - lr: 1.0000e-04\n",
      "Epoch 14/60\n",
      "450/450 [==============================] - 80s 177ms/step - loss: 39.4950 - val_loss: 35.3096 - lr: 1.0000e-04\n",
      "Epoch 15/60\n",
      "450/450 [==============================] - 80s 177ms/step - loss: 37.3213 - val_loss: 32.7104 - lr: 1.0000e-04\n",
      "Epoch 16/60\n",
      "450/450 [==============================] - 80s 177ms/step - loss: 35.1901 - val_loss: 30.0844 - lr: 1.0000e-04\n",
      "Epoch 17/60\n",
      "450/450 [==============================] - 80s 177ms/step - loss: 33.1102 - val_loss: 29.0312 - lr: 1.0000e-04\n",
      "Epoch 18/60\n",
      "450/450 [==============================] - 80s 177ms/step - loss: 30.9106 - val_loss: 24.9652 - lr: 1.0000e-04\n",
      "Epoch 19/60\n",
      "450/450 [==============================] - 80s 177ms/step - loss: 28.7917 - val_loss: 23.1898 - lr: 1.0000e-04\n",
      "Epoch 20/60\n",
      "450/450 [==============================] - 80s 177ms/step - loss: 26.4099 - val_loss: 20.4224 - lr: 1.0000e-04\n",
      "Epoch 21/60\n",
      "450/450 [==============================] - 80s 177ms/step - loss: 24.1885 - val_loss: 19.2431 - lr: 1.0000e-04\n",
      "Epoch 22/60\n",
      "450/450 [==============================] - 80s 177ms/step - loss: 22.0868 - val_loss: 17.0676 - lr: 1.0000e-04\n",
      "Epoch 23/60\n",
      "450/450 [==============================] - 80s 177ms/step - loss: 20.2680 - val_loss: 15.4592 - lr: 1.0000e-04\n",
      "Epoch 24/60\n",
      "450/450 [==============================] - 80s 177ms/step - loss: 18.4148 - val_loss: 14.0474 - lr: 1.0000e-04\n",
      "Epoch 25/60\n",
      "450/450 [==============================] - 80s 177ms/step - loss: 16.9356 - val_loss: 12.9202 - lr: 1.0000e-04\n",
      "Epoch 26/60\n",
      "450/450 [==============================] - 80s 177ms/step - loss: 15.5863 - val_loss: 11.0180 - lr: 1.0000e-04\n",
      "Epoch 27/60\n",
      "450/450 [==============================] - 80s 177ms/step - loss: 14.5997 - val_loss: 10.4138 - lr: 1.0000e-04\n",
      "Epoch 28/60\n",
      "450/450 [==============================] - 80s 177ms/step - loss: 13.5398 - val_loss: 9.7023 - lr: 1.0000e-04\n",
      "Epoch 29/60\n",
      "450/450 [==============================] - 80s 177ms/step - loss: 12.4370 - val_loss: 8.7715 - lr: 1.0000e-04\n",
      "Epoch 30/60\n",
      "450/450 [==============================] - 80s 177ms/step - loss: 11.5803 - val_loss: 8.2856 - lr: 1.0000e-04\n",
      "Epoch 31/60\n",
      "450/450 [==============================] - 80s 177ms/step - loss: 10.7555 - val_loss: 7.0026 - lr: 9.0484e-05\n",
      "Epoch 32/60\n",
      "450/450 [==============================] - 80s 177ms/step - loss: 10.0229 - val_loss: 6.7588 - lr: 8.1873e-05\n",
      "Epoch 33/60\n",
      "450/450 [==============================] - 80s 177ms/step - loss: 9.4011 - val_loss: 6.3438 - lr: 7.4082e-05\n",
      "Epoch 34/60\n",
      "450/450 [==============================] - 80s 177ms/step - loss: 8.7408 - val_loss: 5.5319 - lr: 6.7032e-05\n",
      "Epoch 35/60\n",
      "450/450 [==============================] - 80s 177ms/step - loss: 8.2677 - val_loss: 5.5914 - lr: 6.0653e-05\n",
      "Epoch 36/60\n",
      "450/450 [==============================] - 80s 177ms/step - loss: 7.7417 - val_loss: 4.7988 - lr: 5.4881e-05\n",
      "Epoch 37/60\n",
      "450/450 [==============================] - 80s 177ms/step - loss: 7.3601 - val_loss: 4.6087 - lr: 4.9659e-05\n",
      "Epoch 38/60\n",
      "450/450 [==============================] - 80s 177ms/step - loss: 6.9608 - val_loss: 4.1704 - lr: 4.4933e-05\n",
      "Epoch 39/60\n",
      "450/450 [==============================] - 80s 177ms/step - loss: 6.6621 - val_loss: 3.8788 - lr: 4.0657e-05\n",
      "Epoch 40/60\n",
      "450/450 [==============================] - 80s 177ms/step - loss: 6.2322 - val_loss: 3.9239 - lr: 3.6788e-05\n",
      "Epoch 41/60\n",
      "450/450 [==============================] - 80s 177ms/step - loss: 6.0534 - val_loss: 3.1910 - lr: 3.3287e-05\n",
      "Epoch 42/60\n",
      "450/450 [==============================] - 80s 177ms/step - loss: 5.7942 - val_loss: 3.0138 - lr: 3.0119e-05\n",
      "Epoch 43/60\n",
      "450/450 [==============================] - 80s 177ms/step - loss: 5.4879 - val_loss: 2.9018 - lr: 2.7253e-05\n",
      "Epoch 44/60\n",
      "450/450 [==============================] - 80s 177ms/step - loss: 5.3089 - val_loss: 3.2475 - lr: 2.4660e-05\n",
      "Epoch 45/60\n",
      "450/450 [==============================] - 80s 177ms/step - loss: 5.2008 - val_loss: 2.6194 - lr: 2.2313e-05\n",
      "Epoch 46/60\n",
      "450/450 [==============================] - 80s 177ms/step - loss: 4.9430 - val_loss: 2.3494 - lr: 2.0190e-05\n",
      "Epoch 47/60\n",
      "450/450 [==============================] - 80s 177ms/step - loss: 4.8581 - val_loss: 2.6933 - lr: 1.8268e-05\n",
      "Epoch 48/60\n",
      "450/450 [==============================] - 80s 177ms/step - loss: 4.6869 - val_loss: 2.7154 - lr: 1.6530e-05\n",
      "Epoch 49/60\n",
      "450/450 [==============================] - 80s 177ms/step - loss: 4.5619 - val_loss: 2.4324 - lr: 1.4957e-05\n",
      "Epoch 50/60\n",
      "450/450 [==============================] - 80s 177ms/step - loss: 4.5572 - val_loss: 2.5068 - lr: 1.3534e-05\n",
      "Epoch 51/60\n",
      "450/450 [==============================] - 80s 177ms/step - loss: 4.4051 - val_loss: 2.3828 - lr: 1.2246e-05\n",
      "Epoch 52/60\n",
      "450/450 [==============================] - 80s 177ms/step - loss: 4.3044 - val_loss: 2.0411 - lr: 1.1080e-05\n",
      "Epoch 53/60\n",
      "450/450 [==============================] - 80s 177ms/step - loss: 4.2309 - val_loss: 1.8371 - lr: 1.0026e-05\n",
      "Epoch 54/60\n",
      "450/450 [==============================] - 80s 177ms/step - loss: 4.1564 - val_loss: 1.9098 - lr: 9.0718e-06\n",
      "Epoch 55/60\n",
      "450/450 [==============================] - 80s 177ms/step - loss: 4.0486 - val_loss: 1.8559 - lr: 8.2085e-06\n",
      "Epoch 56/60\n",
      "450/450 [==============================] - 80s 177ms/step - loss: 4.1022 - val_loss: 1.9716 - lr: 7.4273e-06\n",
      "Epoch 57/60\n",
      "450/450 [==============================] - 80s 177ms/step - loss: 3.9954 - val_loss: 1.8398 - lr: 6.7205e-06\n",
      "Epoch 58/60\n",
      "450/450 [==============================] - 80s 177ms/step - loss: 3.8889 - val_loss: 1.8824 - lr: 6.0810e-06\n",
      "Epoch 59/60\n",
      "450/450 [==============================] - 80s 177ms/step - loss: 4.0194 - val_loss: 1.8494 - lr: 5.5023e-06\n",
      "Epoch 60/60\n",
      "450/450 [==============================] - 80s 177ms/step - loss: 3.8173 - val_loss: 1.6660 - lr: 4.9787e-06\n"
     ]
    },
    {
     "data": {
      "text/plain": "<keras.src.callbacks.History at 0x7ff3c43ac880>"
     },
     "execution_count": 148,
     "metadata": {},
     "output_type": "execute_result"
    }
   ],
   "source": [
    "model.fit(train, validation_data=test, epochs=60, callbacks=[checkpoint_callback, schedule_callback],batch_size=400)\n",
    "\n",
    "# caculate the loss"
   ],
   "metadata": {
    "collapsed": false,
    "ExecuteTime": {
     "end_time": "2024-02-12T15:48:39.298001004Z",
     "start_time": "2024-02-12T14:29:00.171151317Z"
    }
   },
   "id": "fe16ed304f2ec4c6",
   "execution_count": 148
  },
  {
   "cell_type": "code",
   "outputs": [],
   "source": [
    "# model.evaluate(test)\n",
    "loss_history = model.history.history"
   ],
   "metadata": {
    "collapsed": false,
    "ExecuteTime": {
     "end_time": "2024-02-12T16:16:47.742268455Z",
     "start_time": "2024-02-12T16:16:47.700935155Z"
    }
   },
   "id": "ac093f42bf47aa9c",
   "execution_count": 163
  },
  {
   "cell_type": "code",
   "outputs": [
    {
     "name": "stdout",
     "output_type": "stream",
     "text": [
      "dict_keys([])\n"
     ]
    },
    {
     "ename": "KeyError",
     "evalue": "'loss'",
     "output_type": "error",
     "traceback": [
      "\u001B[0;31m---------------------------------------------------------------------------\u001B[0m",
      "\u001B[0;31mKeyError\u001B[0m                                  Traceback (most recent call last)",
      "Cell \u001B[0;32mIn[164], line 3\u001B[0m\n\u001B[1;32m      1\u001B[0m \u001B[38;5;66;03m# draw the loss curve\u001B[39;00m\n\u001B[1;32m      2\u001B[0m \u001B[38;5;28mprint\u001B[39m(loss_history\u001B[38;5;241m.\u001B[39mkeys())\n\u001B[0;32m----> 3\u001B[0m plt\u001B[38;5;241m.\u001B[39mplot(\u001B[43mloss_history\u001B[49m\u001B[43m[\u001B[49m\u001B[38;5;124;43m'\u001B[39;49m\u001B[38;5;124;43mloss\u001B[39;49m\u001B[38;5;124;43m'\u001B[39;49m\u001B[43m]\u001B[49m, label\u001B[38;5;241m=\u001B[39m\u001B[38;5;124m'\u001B[39m\u001B[38;5;124mloss\u001B[39m\u001B[38;5;124m'\u001B[39m)\n\u001B[1;32m      4\u001B[0m plt\u001B[38;5;241m.\u001B[39mplot(loss_history[\u001B[38;5;124m'\u001B[39m\u001B[38;5;124mval_loss\u001B[39m\u001B[38;5;124m'\u001B[39m], label\u001B[38;5;241m=\u001B[39m\u001B[38;5;124m'\u001B[39m\u001B[38;5;124mval_loss\u001B[39m\u001B[38;5;124m'\u001B[39m)\n\u001B[1;32m      5\u001B[0m \u001B[38;5;66;03m# x label and y label\u001B[39;00m\n",
      "\u001B[0;31mKeyError\u001B[0m: 'loss'"
     ]
    }
   ],
   "source": [
    "# draw the loss curve\n",
    "print(loss_history.keys())\n",
    "plt.plot(loss_history['loss'], label='loss')\n",
    "plt.plot(loss_history['val_loss'], label='val_loss')\n",
    "# x label and y label\n",
    "plt.xlabel('Epoch')\n",
    "plt.ylabel('Loss')\n",
    "plt.title('Loss Curve for adding resNet50')\n",
    "plt.legend(loc='upper right')\n",
    "# filename = 'loss_curve_resNet50.png'\n",
    "# plt.savefig(filename)      \n",
    "plt.show()"
   ],
   "metadata": {
    "collapsed": false,
    "ExecuteTime": {
     "end_time": "2024-02-12T16:17:07.512467682Z",
     "start_time": "2024-02-12T16:17:07.494599359Z"
    }
   },
   "id": "ab286abf5c64afc1",
   "execution_count": 164
  },
  {
   "cell_type": "markdown",
   "id": "fa8ee94b-89f7-4733-8a0c-a86f86ff590a",
   "metadata": {
    "tags": []
   },
   "source": [
    "\n",
    "# 5. Make a Prediction "
   ]
  },
  {
   "cell_type": "code",
   "execution_count": null,
   "id": "01fa7204-ce0e-49a8-8dbd-14fe5dfead40",
   "metadata": {
    "tags": [],
    "ExecuteTime": {
     "start_time": "2024-02-12T01:36:35.237003281Z"
    }
   },
   "outputs": [],
   "source": [
    "# url = 'https://drive.google.com/uc?id=1vWscXs4Vt0a_1IH1-ct2TCgXAZT-N3_Y'\n",
    "# output = 'checkpoints.zip'\n",
    "# gdown.download(url, output, quiet=False)\n",
    "# gdown.extractall('checkpoints.zip', 'models')"
   ]
  },
  {
   "cell_type": "code",
   "execution_count": 177,
   "id": "247f664d-3c87-4e96-946e-930dad0e1c2c",
   "metadata": {
    "tags": [],
    "ExecuteTime": {
     "end_time": "2024-02-12T16:28:40.636770045Z",
     "start_time": "2024-02-12T16:28:40.577401920Z"
    }
   },
   "outputs": [
    {
     "data": {
      "text/plain": "<tensorflow.python.checkpoint.checkpoint.CheckpointLoadStatus at 0x7ff3841e8160>"
     },
     "execution_count": 177,
     "metadata": {},
     "output_type": "execute_result"
    }
   ],
   "source": [
    "model.load_weights('models_4/checkpoint')\n"
   ]
  },
  {
   "cell_type": "code",
   "outputs": [
    {
     "name": "stdout",
     "output_type": "stream",
     "text": [
      "50/50 [==============================] - 3s 55ms/step - loss: 1.7416\n",
      " adding resNet50 The Test loss: 1.7415916919708252\n",
      " adding resNet50 The Test accuracy: 98.25840830802917\n",
      "450/450 [==============================] - 25s 54ms/step - loss: 1.7813\n",
      " adding resNet50 The Train loss: 1.7813000679016113\n"
     ]
    }
   ],
   "source": [
    "## test on the test data\n",
    "test_loss= model.evaluate(test)\n",
    "print(f' adding resNet50 The Test loss: {test_loss}')\n",
    "# accuracy\n",
    "accuracy = 100 - test_loss\n",
    "print(f' adding resNet50 The Test accuracy: {accuracy}')\n",
    "# test on the train data\n",
    "train_loss= model.evaluate(train)\n",
    "print(f' adding resNet50 The Train loss: {train_loss}')\n"
   ],
   "metadata": {
    "collapsed": false,
    "ExecuteTime": {
     "end_time": "2024-02-12T16:29:08.797274637Z",
     "start_time": "2024-02-12T16:28:41.307257094Z"
    }
   },
   "id": "354219c15c43d756",
   "execution_count": 178
  },
  {
   "cell_type": "code",
   "execution_count": 152,
   "id": "7f8d689f-b7bb-443c-9b88-e40c1d800828",
   "metadata": {
    "tags": [],
    "ExecuteTime": {
     "end_time": "2024-02-12T16:16:06.140454488Z",
     "start_time": "2024-02-12T16:16:06.131411928Z"
    }
   },
   "outputs": [],
   "source": [
    "test_data = test.as_numpy_iterator()"
   ]
  },
  {
   "cell_type": "code",
   "execution_count": 153,
   "id": "38546dc2-bee9-4837-864b-8a884df40ad7",
   "metadata": {
    "tags": [],
    "ExecuteTime": {
     "end_time": "2024-02-12T16:16:06.951747643Z",
     "start_time": "2024-02-12T16:16:06.670238670Z"
    }
   },
   "outputs": [],
   "source": [
    "sample = test_data.next()"
   ]
  },
  {
   "cell_type": "code",
   "execution_count": 154,
   "id": "a43621f0-229d-4c0d-9554-9c3a3da9c61a",
   "metadata": {
    "tags": [],
    "ExecuteTime": {
     "end_time": "2024-02-12T16:16:08.516138476Z",
     "start_time": "2024-02-12T16:16:07.899488508Z"
    }
   },
   "outputs": [
    {
     "name": "stdout",
     "output_type": "stream",
     "text": [
      "WARNING:tensorflow:5 out of the last 10 calls to <function Model.make_predict_function.<locals>.predict_function at 0x7ff1ec62bd90> triggered tf.function retracing. Tracing is expensive and the excessive number of tracings could be due to (1) creating @tf.function repeatedly in a loop, (2) passing tensors with different shapes, (3) passing Python objects instead of tensors. For (1), please define your @tf.function outside of the loop. For (2), @tf.function has reduce_retracing=True option that can avoid unnecessary retracing. For (3), please refer to https://www.tensorflow.org/guide/function#controlling_retracing and https://www.tensorflow.org/api_docs/python/tf/function for  more details.\n",
      "1/1 [==============================] - 1s 593ms/step\n"
     ]
    }
   ],
   "source": [
    "yhat = model.predict(sample[0])"
   ]
  },
  {
   "cell_type": "code",
   "execution_count": 155,
   "id": "ea462999-f87e-4a7e-a057-5be7b6d8f7d5",
   "metadata": {
    "tags": [],
    "ExecuteTime": {
     "end_time": "2024-02-12T16:16:13.077030066Z",
     "start_time": "2024-02-12T16:16:13.049590413Z"
    }
   },
   "outputs": [
    {
     "name": "stdout",
     "output_type": "stream",
     "text": [
      "~~~~~~~~~~~~~~~~~~~~~~~~~~~~~~~~~~~~~~~~~~~~~~~~~~~~~~~~~~~~~~~~~~~~~~~~~~~~~~~~~~~~~~~~~~~~~~~~~~~~ REAL TEXT\n"
     ]
    },
    {
     "data": {
      "text/plain": "[<tf.Tensor: shape=(), dtype=string, numpy=b'bin green at t nine soon'>,\n <tf.Tensor: shape=(), dtype=string, numpy=b'bin blue in z one soon'>]"
     },
     "execution_count": 155,
     "metadata": {},
     "output_type": "execute_result"
    }
   ],
   "source": [
    "print('~'*100, 'REAL TEXT')\n",
    "[tf.strings.reduce_join([num_to_char(word) for word in sentence]) for sentence in sample[1]]"
   ]
  },
  {
   "cell_type": "code",
   "execution_count": 156,
   "id": "82bd4c10-dd6e-411e-834b-2a3b43fd12c5",
   "metadata": {
    "tags": [],
    "ExecuteTime": {
     "end_time": "2024-02-12T16:16:16.970942685Z",
     "start_time": "2024-02-12T16:16:16.925915060Z"
    }
   },
   "outputs": [],
   "source": [
    "decoded = tf.keras.backend.ctc_decode(yhat, input_length=[75,75], greedy=True)[0][0].numpy()"
   ]
  },
  {
   "cell_type": "code",
   "execution_count": 157,
   "id": "5d68ac46-c90b-4eab-a709-f19aee569ff5",
   "metadata": {
    "tags": [],
    "ExecuteTime": {
     "end_time": "2024-02-12T16:16:17.960794568Z",
     "start_time": "2024-02-12T16:16:17.911299482Z"
    }
   },
   "outputs": [
    {
     "name": "stdout",
     "output_type": "stream",
     "text": [
      "~~~~~~~~~~~~~~~~~~~~~~~~~~~~~~~~~~~~~~~~~~~~~~~~~~~~~~~~~~~~~~~~~~~~~~~~~~~~~~~~~~~~~~~~~~~~~~~~~~~~ PREDICTIONS\n"
     ]
    },
    {
     "data": {
      "text/plain": "[<tf.Tensor: shape=(), dtype=string, numpy=b'bin green at t nine soon'>,\n <tf.Tensor: shape=(), dtype=string, numpy=b'bin blue in one soon'>]"
     },
     "execution_count": 157,
     "metadata": {},
     "output_type": "execute_result"
    }
   ],
   "source": [
    "print('~'*100, 'PREDICTIONS')\n",
    "[tf.strings.reduce_join([num_to_char(word) for word in sentence]) for sentence in decoded]"
   ]
  },
  {
   "cell_type": "markdown",
   "id": "64622f98-e99b-4fed-a2cc-f0da82eb5431",
   "metadata": {},
   "source": [
    "# Test on a Video"
   ]
  },
  {
   "cell_type": "code",
   "execution_count": 158,
   "id": "a8b0c4d0-2031-4331-b91d-d87b1ae6f6e2",
   "metadata": {
    "ExecuteTime": {
     "end_time": "2024-02-12T16:16:24.734922400Z",
     "start_time": "2024-02-12T16:16:24.731180228Z"
    }
   },
   "outputs": [],
   "source": [
    "sample = load_data(tf.convert_to_tensor('./data/s1/bbal6n.mpg'))"
   ]
  },
  {
   "cell_type": "code",
   "execution_count": 159,
   "id": "0cca60e4-47a9-4683-8a75-48f4684f723d",
   "metadata": {
    "ExecuteTime": {
     "end_time": "2024-02-12T16:16:25.299730281Z",
     "start_time": "2024-02-12T16:16:25.268328124Z"
    }
   },
   "outputs": [
    {
     "name": "stdout",
     "output_type": "stream",
     "text": [
      "~~~~~~~~~~~~~~~~~~~~~~~~~~~~~~~~~~~~~~~~~~~~~~~~~~~~~~~~~~~~~~~~~~~~~~~~~~~~~~~~~~~~~~~~~~~~~~~~~~~~ REAL TEXT\n"
     ]
    },
    {
     "data": {
      "text/plain": "[<tf.Tensor: shape=(), dtype=string, numpy=b'bin blue at l six now'>]"
     },
     "execution_count": 159,
     "metadata": {},
     "output_type": "execute_result"
    }
   ],
   "source": [
    "print('~'*100, 'REAL TEXT')\n",
    "[tf.strings.reduce_join([num_to_char(word) for word in sentence]) for sentence in [sample[1]]]"
   ]
  },
  {
   "cell_type": "code",
   "execution_count": 160,
   "id": "8cc5037c-1e32-435c-b0cc-01e1fb3b863c",
   "metadata": {
    "ExecuteTime": {
     "end_time": "2024-02-12T16:16:27.165946148Z",
     "start_time": "2024-02-12T16:16:26.526485904Z"
    }
   },
   "outputs": [
    {
     "name": "stdout",
     "output_type": "stream",
     "text": [
      "WARNING:tensorflow:6 out of the last 11 calls to <function Model.make_predict_function.<locals>.predict_function at 0x7ff1ec62bd90> triggered tf.function retracing. Tracing is expensive and the excessive number of tracings could be due to (1) creating @tf.function repeatedly in a loop, (2) passing tensors with different shapes, (3) passing Python objects instead of tensors. For (1), please define your @tf.function outside of the loop. For (2), @tf.function has reduce_retracing=True option that can avoid unnecessary retracing. For (3), please refer to https://www.tensorflow.org/guide/function#controlling_retracing and https://www.tensorflow.org/api_docs/python/tf/function for  more details.\n",
      "1/1 [==============================] - 1s 610ms/step\n"
     ]
    }
   ],
   "source": [
    "yhat = model.predict(tf.expand_dims(sample[0], axis=0))"
   ]
  },
  {
   "cell_type": "code",
   "execution_count": 161,
   "id": "22c4f77d-715d-409f-bc5e-3ebe48704e8f",
   "metadata": {
    "ExecuteTime": {
     "end_time": "2024-02-12T16:16:27.214791467Z",
     "start_time": "2024-02-12T16:16:27.165556587Z"
    }
   },
   "outputs": [],
   "source": [
    "decoded = tf.keras.backend.ctc_decode(yhat, input_length=[75], greedy=True)[0][0].numpy()"
   ]
  },
  {
   "cell_type": "code",
   "execution_count": 162,
   "id": "e4d12ecc-b634-499e-a4bc-db9f010835fb",
   "metadata": {
    "ExecuteTime": {
     "end_time": "2024-02-12T16:16:28.583399003Z",
     "start_time": "2024-02-12T16:16:28.551488071Z"
    }
   },
   "outputs": [
    {
     "name": "stdout",
     "output_type": "stream",
     "text": [
      "~~~~~~~~~~~~~~~~~~~~~~~~~~~~~~~~~~~~~~~~~~~~~~~~~~~~~~~~~~~~~~~~~~~~~~~~~~~~~~~~~~~~~~~~~~~~~~~~~~~~ PREDICTIONS\n"
     ]
    },
    {
     "data": {
      "text/plain": "[<tf.Tensor: shape=(), dtype=string, numpy=b'bin blue at l six now'>]"
     },
     "execution_count": 162,
     "metadata": {},
     "output_type": "execute_result"
    }
   ],
   "source": [
    "print('~'*100, 'PREDICTIONS')\n",
    "[tf.strings.reduce_join([num_to_char(word) for word in sentence]) for sentence in decoded]"
   ]
  },
  {
   "cell_type": "code",
   "outputs": [],
   "source": [],
   "metadata": {
    "collapsed": false
   },
   "id": "9d22c61452e9e439"
  },
  {
   "cell_type": "code",
   "execution_count": null,
   "id": "551dfea2-de6b-4400-b71a-a17631529e3f",
   "metadata": {
    "ExecuteTime": {
     "start_time": "2024-02-12T01:36:35.237326162Z"
    }
   },
   "outputs": [],
   "source": []
  },
  {
   "cell_type": "code",
   "execution_count": null,
   "id": "fa95863d-3832-47bf-8a77-ebaa38054ace",
   "metadata": {
    "ExecuteTime": {
     "start_time": "2024-02-12T01:36:35.257872173Z"
    }
   },
   "outputs": [],
   "source": []
  }
 ],
 "metadata": {
  "kernelspec": {
   "name": "python3",
   "language": "python",
   "display_name": "Python 3 (ipykernel)"
  },
  "language_info": {
   "codemirror_mode": {
    "name": "ipython",
    "version": 3
   },
   "file_extension": ".py",
   "mimetype": "text/x-python",
   "name": "python",
   "nbconvert_exporter": "python",
   "pygments_lexer": "ipython3",
   "version": "3.9.12"
  }
 },
 "nbformat": 4,
 "nbformat_minor": 5
}
