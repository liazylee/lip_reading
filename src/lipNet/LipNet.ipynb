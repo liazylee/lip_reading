{
 "cells": [
  {
   "cell_type": "markdown",
   "id": "a3573a47-3689-4668-b62f-5c8451b2b4e9",
   "metadata": {
    "tags": []
   },
   "source": [
    "# 0. Install and Import Dependencies"
   ]
  },
  {
   "cell_type": "code",
   "execution_count": 246,
   "id": "ddfbccbe-41ae-4c23-98b1-a13868e2b499",
   "metadata": {
    "scrolled": true,
    "tags": [],
    "ExecuteTime": {
     "end_time": "2024-02-11T23:22:16.733901227Z",
     "start_time": "2024-02-11T23:22:16.215288834Z"
    }
   },
   "outputs": [
    {
     "name": "stdout",
     "output_type": "stream",
     "text": [
      "Package                      Version\r\n",
      "---------------------------- ---------------\r\n",
      "absl-py                      2.1.0\r\n",
      "anyio                        4.2.0\r\n",
      "argon2-cffi                  23.1.0\r\n",
      "argon2-cffi-bindings         21.2.0\r\n",
      "arrow                        1.3.0\r\n",
      "asttokens                    2.4.1\r\n",
      "astunparse                   1.6.3\r\n",
      "async-lru                    2.0.4\r\n",
      "attrs                        23.2.0\r\n",
      "Babel                        2.14.0\r\n",
      "beautifulsoup4               4.12.3\r\n",
      "bleach                       6.1.0\r\n",
      "cachetools                   5.3.2\r\n",
      "certifi                      2024.2.2\r\n",
      "cffi                         1.16.0\r\n",
      "charset-normalizer           3.3.2\r\n",
      "comm                         0.2.1\r\n",
      "contourpy                    1.2.0\r\n",
      "cycler                       0.12.1\r\n",
      "debugpy                      1.8.1\r\n",
      "decorator                    5.1.1\r\n",
      "defusedxml                   0.7.1\r\n",
      "exceptiongroup               1.2.0\r\n",
      "executing                    2.0.1\r\n",
      "fastjsonschema               2.19.1\r\n",
      "filelock                     3.13.1\r\n",
      "flatbuffers                  23.5.26\r\n",
      "fonttools                    4.48.1\r\n",
      "fqdn                         1.5.1\r\n",
      "fsspec                       2023.4.0\r\n",
      "gast                         0.5.4\r\n",
      "gdown                        5.1.0\r\n",
      "google-auth                  2.27.0\r\n",
      "google-auth-oauthlib         1.2.0\r\n",
      "google-pasta                 0.2.0\r\n",
      "grpcio                       1.60.1\r\n",
      "h5py                         3.10.0\r\n",
      "idna                         3.6\r\n",
      "imageio                      2.33.1\r\n",
      "ipykernel                    6.29.2\r\n",
      "ipython                      8.21.0\r\n",
      "ipywidgets                   8.1.2\r\n",
      "isoduration                  20.11.0\r\n",
      "jedi                         0.19.1\r\n",
      "Jinja2                       3.1.3\r\n",
      "json5                        0.9.14\r\n",
      "jsonpointer                  2.4\r\n",
      "jsonschema                   4.21.1\r\n",
      "jsonschema-specifications    2023.12.1\r\n",
      "jupyter                      1.0.0\r\n",
      "jupyter_client               8.6.0\r\n",
      "jupyter-console              6.6.3\r\n",
      "jupyter_core                 5.7.1\r\n",
      "jupyter-events               0.9.0\r\n",
      "jupyter-lsp                  2.2.2\r\n",
      "jupyter_server               2.12.5\r\n",
      "jupyter_server_terminals     0.5.2\r\n",
      "jupyterlab                   4.0.12\r\n",
      "jupyterlab_pygments          0.3.0\r\n",
      "jupyterlab_server            2.25.2\r\n",
      "jupyterlab_widgets           3.0.10\r\n",
      "keras                        2.15.0\r\n",
      "kiwisolver                   1.4.5\r\n",
      "libclang                     16.0.6\r\n",
      "Markdown                     3.5.2\r\n",
      "MarkupSafe                   2.1.5\r\n",
      "matplotlib                   3.8.2\r\n",
      "matplotlib-inline            0.1.6\r\n",
      "mistune                      3.0.2\r\n",
      "ml-dtypes                    0.2.0\r\n",
      "mpmath                       1.3.0\r\n",
      "nbclient                     0.9.0\r\n",
      "nbconvert                    7.16.0\r\n",
      "nbformat                     5.9.2\r\n",
      "nest-asyncio                 1.6.0\r\n",
      "networkx                     3.2.1\r\n",
      "notebook                     7.0.8\r\n",
      "notebook_shim                0.2.3\r\n",
      "numpy                        1.26.4\r\n",
      "nvidia-cublas-cu12           12.2.5.6\r\n",
      "nvidia-cuda-cupti-cu12       12.2.142\r\n",
      "nvidia-cuda-nvcc-cu12        12.2.140\r\n",
      "nvidia-cuda-nvrtc-cu12       12.2.140\r\n",
      "nvidia-cuda-runtime-cu12     12.2.140\r\n",
      "nvidia-cudnn-cu12            8.9.4.25\r\n",
      "nvidia-cufft-cu12            11.0.8.103\r\n",
      "nvidia-curand-cu12           10.3.3.141\r\n",
      "nvidia-cusolver-cu12         11.5.2.141\r\n",
      "nvidia-cusparse-cu12         12.1.2.141\r\n",
      "nvidia-nccl-cu12             2.16.5\r\n",
      "nvidia-nvjitlink-cu12        12.2.140\r\n",
      "oauthlib                     3.2.2\r\n",
      "opencv-python                4.9.0.80\r\n",
      "opt-einsum                   3.3.0\r\n",
      "overrides                    7.7.0\r\n",
      "packaging                    23.2\r\n",
      "pandocfilters                1.5.1\r\n",
      "parso                        0.8.3\r\n",
      "pexpect                      4.9.0\r\n",
      "pillow                       10.2.0\r\n",
      "pip                          24.0\r\n",
      "platformdirs                 4.2.0\r\n",
      "prometheus-client            0.19.0\r\n",
      "prompt-toolkit               3.0.43\r\n",
      "protobuf                     4.25.2\r\n",
      "psutil                       5.9.8\r\n",
      "ptyprocess                   0.7.0\r\n",
      "pure-eval                    0.2.2\r\n",
      "pyasn1                       0.5.1\r\n",
      "pyasn1-modules               0.3.0\r\n",
      "pycparser                    2.21\r\n",
      "Pygments                     2.17.2\r\n",
      "pyparsing                    3.1.1\r\n",
      "PySocks                      1.7.1\r\n",
      "python-dateutil              2.8.2\r\n",
      "python-json-logger           2.0.7\r\n",
      "PyYAML                       6.0.1\r\n",
      "pyzmq                        25.1.2\r\n",
      "qtconsole                    5.5.1\r\n",
      "QtPy                         2.4.1\r\n",
      "referencing                  0.33.0\r\n",
      "requests                     2.31.0\r\n",
      "requests-oauthlib            1.3.1\r\n",
      "rfc3339-validator            0.1.4\r\n",
      "rfc3986-validator            0.1.1\r\n",
      "rpds-py                      0.17.1\r\n",
      "rsa                          4.9\r\n",
      "Send2Trash                   1.8.2\r\n",
      "setuptools                   68.2.0\r\n",
      "six                          1.16.0\r\n",
      "sniffio                      1.3.0\r\n",
      "soupsieve                    2.5\r\n",
      "stack-data                   0.6.3\r\n",
      "sympy                        1.12\r\n",
      "tensorboard                  2.15.2\r\n",
      "tensorboard-data-server      0.7.2\r\n",
      "tensorflow                   2.15.0.post1\r\n",
      "tensorflow-estimator         2.15.0\r\n",
      "tensorflow-io-gcs-filesystem 0.36.0\r\n",
      "termcolor                    2.4.0\r\n",
      "terminado                    0.18.0\r\n",
      "tinycss2                     1.2.1\r\n",
      "tomli                        2.0.1\r\n",
      "torch                        2.2.0+cu118\r\n",
      "torchaudio                   2.2.0+cu118\r\n",
      "torchvision                  0.17.0+cu118\r\n",
      "tornado                      6.4\r\n",
      "tqdm                         4.66.2\r\n",
      "traitlets                    5.14.1\r\n",
      "triton                       2.2.0\r\n",
      "types-python-dateutil        2.8.19.20240106\r\n",
      "typing_extensions            4.9.0\r\n",
      "uri-template                 1.3.0\r\n",
      "urllib3                      2.2.0\r\n",
      "wcwidth                      0.2.13\r\n",
      "webcolors                    1.13\r\n",
      "webencodings                 0.5.1\r\n",
      "websocket-client             1.7.0\r\n",
      "Werkzeug                     3.0.1\r\n",
      "wheel                        0.41.2\r\n",
      "widgetsnbextension           4.0.10\r\n",
      "wrapt                        1.14.1\r\n"
     ]
    }
   ],
   "source": [
    "!pip list"
   ]
  },
  {
   "cell_type": "code",
   "execution_count": 247,
   "id": "02f907ea-f669-46c7-adcf-7f257e663448",
   "metadata": {
    "tags": [],
    "ExecuteTime": {
     "end_time": "2024-02-11T23:22:17.635781318Z",
     "start_time": "2024-02-11T23:22:16.727081490Z"
    }
   },
   "outputs": [
    {
     "name": "stdout",
     "output_type": "stream",
     "text": [
      "Requirement already satisfied: opencv-python in /home/liazylee/jobs/venv_python/lip_reading/lib/python3.10/site-packages (4.9.0.80)\r\n",
      "Requirement already satisfied: matplotlib in /home/liazylee/jobs/venv_python/lip_reading/lib/python3.10/site-packages (3.8.2)\r\n",
      "Requirement already satisfied: imageio in /home/liazylee/jobs/venv_python/lip_reading/lib/python3.10/site-packages (2.33.1)\r\n",
      "Requirement already satisfied: gdown in /home/liazylee/jobs/venv_python/lip_reading/lib/python3.10/site-packages (5.1.0)\r\n",
      "Requirement already satisfied: tensorflow in /home/liazylee/jobs/venv_python/lip_reading/lib/python3.10/site-packages (2.15.0.post1)\r\n",
      "Requirement already satisfied: numpy>=1.21.2 in /home/liazylee/jobs/venv_python/lip_reading/lib/python3.10/site-packages (from opencv-python) (1.26.4)\r\n",
      "Requirement already satisfied: contourpy>=1.0.1 in /home/liazylee/jobs/venv_python/lip_reading/lib/python3.10/site-packages (from matplotlib) (1.2.0)\r\n",
      "Requirement already satisfied: cycler>=0.10 in /home/liazylee/jobs/venv_python/lip_reading/lib/python3.10/site-packages (from matplotlib) (0.12.1)\r\n",
      "Requirement already satisfied: fonttools>=4.22.0 in /home/liazylee/jobs/venv_python/lip_reading/lib/python3.10/site-packages (from matplotlib) (4.48.1)\r\n",
      "Requirement already satisfied: kiwisolver>=1.3.1 in /home/liazylee/jobs/venv_python/lip_reading/lib/python3.10/site-packages (from matplotlib) (1.4.5)\r\n",
      "Requirement already satisfied: packaging>=20.0 in /home/liazylee/jobs/venv_python/lip_reading/lib/python3.10/site-packages (from matplotlib) (23.2)\r\n",
      "Requirement already satisfied: pillow>=8 in /home/liazylee/jobs/venv_python/lip_reading/lib/python3.10/site-packages (from matplotlib) (10.2.0)\r\n",
      "Requirement already satisfied: pyparsing>=2.3.1 in /home/liazylee/jobs/venv_python/lip_reading/lib/python3.10/site-packages (from matplotlib) (3.1.1)\r\n",
      "Requirement already satisfied: python-dateutil>=2.7 in /home/liazylee/jobs/venv_python/lip_reading/lib/python3.10/site-packages (from matplotlib) (2.8.2)\r\n",
      "Requirement already satisfied: beautifulsoup4 in /home/liazylee/jobs/venv_python/lip_reading/lib/python3.10/site-packages (from gdown) (4.12.3)\r\n",
      "Requirement already satisfied: filelock in /home/liazylee/jobs/venv_python/lip_reading/lib/python3.10/site-packages (from gdown) (3.13.1)\r\n",
      "Requirement already satisfied: requests[socks] in /home/liazylee/jobs/venv_python/lip_reading/lib/python3.10/site-packages (from gdown) (2.31.0)\r\n",
      "Requirement already satisfied: tqdm in /home/liazylee/jobs/venv_python/lip_reading/lib/python3.10/site-packages (from gdown) (4.66.2)\r\n",
      "Requirement already satisfied: absl-py>=1.0.0 in /home/liazylee/jobs/venv_python/lip_reading/lib/python3.10/site-packages (from tensorflow) (2.1.0)\r\n",
      "Requirement already satisfied: astunparse>=1.6.0 in /home/liazylee/jobs/venv_python/lip_reading/lib/python3.10/site-packages (from tensorflow) (1.6.3)\r\n",
      "Requirement already satisfied: flatbuffers>=23.5.26 in /home/liazylee/jobs/venv_python/lip_reading/lib/python3.10/site-packages (from tensorflow) (23.5.26)\r\n",
      "Requirement already satisfied: gast!=0.5.0,!=0.5.1,!=0.5.2,>=0.2.1 in /home/liazylee/jobs/venv_python/lip_reading/lib/python3.10/site-packages (from tensorflow) (0.5.4)\r\n",
      "Requirement already satisfied: google-pasta>=0.1.1 in /home/liazylee/jobs/venv_python/lip_reading/lib/python3.10/site-packages (from tensorflow) (0.2.0)\r\n",
      "Requirement already satisfied: h5py>=2.9.0 in /home/liazylee/jobs/venv_python/lip_reading/lib/python3.10/site-packages (from tensorflow) (3.10.0)\r\n",
      "Requirement already satisfied: libclang>=13.0.0 in /home/liazylee/jobs/venv_python/lip_reading/lib/python3.10/site-packages (from tensorflow) (16.0.6)\r\n",
      "Requirement already satisfied: ml-dtypes~=0.2.0 in /home/liazylee/jobs/venv_python/lip_reading/lib/python3.10/site-packages (from tensorflow) (0.2.0)\r\n",
      "Requirement already satisfied: opt-einsum>=2.3.2 in /home/liazylee/jobs/venv_python/lip_reading/lib/python3.10/site-packages (from tensorflow) (3.3.0)\r\n",
      "Requirement already satisfied: protobuf!=4.21.0,!=4.21.1,!=4.21.2,!=4.21.3,!=4.21.4,!=4.21.5,<5.0.0dev,>=3.20.3 in /home/liazylee/jobs/venv_python/lip_reading/lib/python3.10/site-packages (from tensorflow) (4.25.2)\r\n",
      "Requirement already satisfied: setuptools in /home/liazylee/jobs/venv_python/lip_reading/lib/python3.10/site-packages (from tensorflow) (68.2.0)\r\n",
      "Requirement already satisfied: six>=1.12.0 in /home/liazylee/jobs/venv_python/lip_reading/lib/python3.10/site-packages (from tensorflow) (1.16.0)\r\n",
      "Requirement already satisfied: termcolor>=1.1.0 in /home/liazylee/jobs/venv_python/lip_reading/lib/python3.10/site-packages (from tensorflow) (2.4.0)\r\n",
      "Requirement already satisfied: typing-extensions>=3.6.6 in /home/liazylee/jobs/venv_python/lip_reading/lib/python3.10/site-packages (from tensorflow) (4.9.0)\r\n",
      "Requirement already satisfied: wrapt<1.15,>=1.11.0 in /home/liazylee/jobs/venv_python/lip_reading/lib/python3.10/site-packages (from tensorflow) (1.14.1)\r\n",
      "Requirement already satisfied: tensorflow-io-gcs-filesystem>=0.23.1 in /home/liazylee/jobs/venv_python/lip_reading/lib/python3.10/site-packages (from tensorflow) (0.36.0)\r\n",
      "Requirement already satisfied: grpcio<2.0,>=1.24.3 in /home/liazylee/jobs/venv_python/lip_reading/lib/python3.10/site-packages (from tensorflow) (1.60.1)\r\n",
      "Requirement already satisfied: tensorboard<2.16,>=2.15 in /home/liazylee/jobs/venv_python/lip_reading/lib/python3.10/site-packages (from tensorflow) (2.15.2)\r\n",
      "Requirement already satisfied: tensorflow-estimator<2.16,>=2.15.0 in /home/liazylee/jobs/venv_python/lip_reading/lib/python3.10/site-packages (from tensorflow) (2.15.0)\r\n",
      "Requirement already satisfied: keras<2.16,>=2.15.0 in /home/liazylee/jobs/venv_python/lip_reading/lib/python3.10/site-packages (from tensorflow) (2.15.0)\r\n",
      "Requirement already satisfied: wheel<1.0,>=0.23.0 in /home/liazylee/jobs/venv_python/lip_reading/lib/python3.10/site-packages (from astunparse>=1.6.0->tensorflow) (0.41.2)\r\n",
      "Requirement already satisfied: google-auth<3,>=1.6.3 in /home/liazylee/jobs/venv_python/lip_reading/lib/python3.10/site-packages (from tensorboard<2.16,>=2.15->tensorflow) (2.27.0)\r\n",
      "Requirement already satisfied: google-auth-oauthlib<2,>=0.5 in /home/liazylee/jobs/venv_python/lip_reading/lib/python3.10/site-packages (from tensorboard<2.16,>=2.15->tensorflow) (1.2.0)\r\n",
      "Requirement already satisfied: markdown>=2.6.8 in /home/liazylee/jobs/venv_python/lip_reading/lib/python3.10/site-packages (from tensorboard<2.16,>=2.15->tensorflow) (3.5.2)\r\n",
      "Requirement already satisfied: tensorboard-data-server<0.8.0,>=0.7.0 in /home/liazylee/jobs/venv_python/lip_reading/lib/python3.10/site-packages (from tensorboard<2.16,>=2.15->tensorflow) (0.7.2)\r\n",
      "Requirement already satisfied: werkzeug>=1.0.1 in /home/liazylee/jobs/venv_python/lip_reading/lib/python3.10/site-packages (from tensorboard<2.16,>=2.15->tensorflow) (3.0.1)\r\n",
      "Requirement already satisfied: soupsieve>1.2 in /home/liazylee/jobs/venv_python/lip_reading/lib/python3.10/site-packages (from beautifulsoup4->gdown) (2.5)\r\n",
      "Requirement already satisfied: charset-normalizer<4,>=2 in /home/liazylee/jobs/venv_python/lip_reading/lib/python3.10/site-packages (from requests[socks]->gdown) (3.3.2)\r\n",
      "Requirement already satisfied: idna<4,>=2.5 in /home/liazylee/jobs/venv_python/lip_reading/lib/python3.10/site-packages (from requests[socks]->gdown) (3.6)\r\n",
      "Requirement already satisfied: urllib3<3,>=1.21.1 in /home/liazylee/jobs/venv_python/lip_reading/lib/python3.10/site-packages (from requests[socks]->gdown) (2.2.0)\r\n",
      "Requirement already satisfied: certifi>=2017.4.17 in /home/liazylee/jobs/venv_python/lip_reading/lib/python3.10/site-packages (from requests[socks]->gdown) (2024.2.2)\r\n",
      "Requirement already satisfied: PySocks!=1.5.7,>=1.5.6 in /home/liazylee/jobs/venv_python/lip_reading/lib/python3.10/site-packages (from requests[socks]->gdown) (1.7.1)\r\n",
      "Requirement already satisfied: cachetools<6.0,>=2.0.0 in /home/liazylee/jobs/venv_python/lip_reading/lib/python3.10/site-packages (from google-auth<3,>=1.6.3->tensorboard<2.16,>=2.15->tensorflow) (5.3.2)\r\n",
      "Requirement already satisfied: pyasn1-modules>=0.2.1 in /home/liazylee/jobs/venv_python/lip_reading/lib/python3.10/site-packages (from google-auth<3,>=1.6.3->tensorboard<2.16,>=2.15->tensorflow) (0.3.0)\r\n",
      "Requirement already satisfied: rsa<5,>=3.1.4 in /home/liazylee/jobs/venv_python/lip_reading/lib/python3.10/site-packages (from google-auth<3,>=1.6.3->tensorboard<2.16,>=2.15->tensorflow) (4.9)\r\n",
      "Requirement already satisfied: requests-oauthlib>=0.7.0 in /home/liazylee/jobs/venv_python/lip_reading/lib/python3.10/site-packages (from google-auth-oauthlib<2,>=0.5->tensorboard<2.16,>=2.15->tensorflow) (1.3.1)\r\n",
      "Requirement already satisfied: MarkupSafe>=2.1.1 in /home/liazylee/jobs/venv_python/lip_reading/lib/python3.10/site-packages (from werkzeug>=1.0.1->tensorboard<2.16,>=2.15->tensorflow) (2.1.5)\r\n",
      "Requirement already satisfied: pyasn1<0.6.0,>=0.4.6 in /home/liazylee/jobs/venv_python/lip_reading/lib/python3.10/site-packages (from pyasn1-modules>=0.2.1->google-auth<3,>=1.6.3->tensorboard<2.16,>=2.15->tensorflow) (0.5.1)\r\n",
      "Requirement already satisfied: oauthlib>=3.0.0 in /home/liazylee/jobs/venv_python/lip_reading/lib/python3.10/site-packages (from requests-oauthlib>=0.7.0->google-auth-oauthlib<2,>=0.5->tensorboard<2.16,>=2.15->tensorflow) (3.2.2)\r\n"
     ]
    }
   ],
   "source": [
    "!pip install opencv-python matplotlib imageio gdown tensorflow"
   ]
  },
  {
   "cell_type": "code",
   "execution_count": 1,
   "id": "b24af50c-20b8-409d-ad78-30a933fdd669",
   "metadata": {
    "tags": [],
    "pycharm": {
     "is_executing": true
    },
    "ExecuteTime": {
     "end_time": "2024-02-22T20:16:44.590860773Z",
     "start_time": "2024-02-22T20:16:43.132038454Z"
    }
   },
   "outputs": [
    {
     "name": "stderr",
     "output_type": "stream",
     "text": [
      "2024-02-22 20:16:43.398529: I tensorflow/core/util/port.cc:113] oneDNN custom operations are on. You may see slightly different numerical results due to floating-point round-off errors from different computation orders. To turn them off, set the environment variable `TF_ENABLE_ONEDNN_OPTS=0`.\n",
      "2024-02-22 20:16:43.431406: E external/local_xla/xla/stream_executor/cuda/cuda_dnn.cc:9261] Unable to register cuDNN factory: Attempting to register factory for plugin cuDNN when one has already been registered\n",
      "2024-02-22 20:16:43.431438: E external/local_xla/xla/stream_executor/cuda/cuda_fft.cc:607] Unable to register cuFFT factory: Attempting to register factory for plugin cuFFT when one has already been registered\n",
      "2024-02-22 20:16:43.432411: E external/local_xla/xla/stream_executor/cuda/cuda_blas.cc:1515] Unable to register cuBLAS factory: Attempting to register factory for plugin cuBLAS when one has already been registered\n",
      "2024-02-22 20:16:43.437840: I tensorflow/core/platform/cpu_feature_guard.cc:182] This TensorFlow binary is optimized to use available CPU instructions in performance-critical operations.\n",
      "To enable the following instructions: AVX2 AVX512F AVX512_VNNI AVX512_BF16 FMA, in other operations, rebuild TensorFlow with the appropriate compiler flags.\n",
      "2024-02-22 20:16:43.919355: W tensorflow/compiler/tf2tensorrt/utils/py_utils.cc:38] TF-TRT Warning: Could not find TensorRT\n"
     ]
    }
   ],
   "source": [
    "import os\n",
    "import cv2\n",
    "import tensorflow as tf\n",
    "import numpy as np\n",
    "from typing import List\n",
    "from matplotlib import pyplot as plt\n",
    "import imageio"
   ]
  },
  {
   "cell_type": "code",
   "execution_count": 2,
   "id": "1e3db0b0-e559-4ad6-91fd-e7414b7d75e6",
   "metadata": {
    "ExecuteTime": {
     "end_time": "2024-02-22T20:16:47.010492891Z",
     "start_time": "2024-02-22T20:16:47.007541913Z"
    }
   },
   "outputs": [
    {
     "name": "stderr",
     "output_type": "stream",
     "text": [
      "2024-02-22 20:16:46.976041: I external/local_xla/xla/stream_executor/cuda/cuda_executor.cc:901] successful NUMA node read from SysFS had negative value (-1), but there must be at least one NUMA node, so returning NUMA node zero. See more at https://github.com/torvalds/linux/blob/v6.0/Documentation/ABI/testing/sysfs-bus-pci#L344-L355\n",
      "2024-02-22 20:16:47.004654: I external/local_xla/xla/stream_executor/cuda/cuda_executor.cc:901] successful NUMA node read from SysFS had negative value (-1), but there must be at least one NUMA node, so returning NUMA node zero. See more at https://github.com/torvalds/linux/blob/v6.0/Documentation/ABI/testing/sysfs-bus-pci#L344-L355\n",
      "2024-02-22 20:16:47.004825: I external/local_xla/xla/stream_executor/cuda/cuda_executor.cc:901] successful NUMA node read from SysFS had negative value (-1), but there must be at least one NUMA node, so returning NUMA node zero. See more at https://github.com/torvalds/linux/blob/v6.0/Documentation/ABI/testing/sysfs-bus-pci#L344-L355\n"
     ]
    },
    {
     "data": {
      "text/plain": "[PhysicalDevice(name='/physical_device:GPU:0', device_type='GPU')]"
     },
     "execution_count": 2,
     "metadata": {},
     "output_type": "execute_result"
    }
   ],
   "source": [
    "\n",
    "gpu_devices = tf.config.experimental.list_physical_devices('GPU')\n",
    "for device in gpu_devices:\n",
    "    tf.config.experimental.set_memory_growth(device, True)\n",
    "tf.config.list_physical_devices('GPU')"
   ]
  },
  {
   "cell_type": "code",
   "execution_count": 3,
   "id": "378d045a-3003-4f93-b7d2-a25a97774a68",
   "metadata": {
    "tags": [],
    "ExecuteTime": {
     "end_time": "2024-02-22T20:16:50.075073796Z",
     "start_time": "2024-02-22T20:16:50.066747133Z"
    }
   },
   "outputs": [],
   "source": [
    "physical_devices = tf.config.list_physical_devices('GPU')\n",
    "try:\n",
    "    tf.config.experimental.set_memory_growth(physical_devices[0], True)\n",
    "except:\n",
    "    pass"
   ]
  },
  {
   "cell_type": "markdown",
   "id": "7a19e88e-c7b9-45c1-ae1e-f2109329c71b",
   "metadata": {
    "tags": []
   },
   "source": [
    "# 1. Build Data Loading Functions"
   ]
  },
  {
   "cell_type": "code",
   "execution_count": 251,
   "id": "8fb99c90-e05a-437f-839d-6e772f8c1dd5",
   "metadata": {
    "tags": [],
    "ExecuteTime": {
     "end_time": "2024-02-11T23:22:17.680812784Z",
     "start_time": "2024-02-11T23:22:17.677111654Z"
    }
   },
   "outputs": [],
   "source": [
    "import gdown"
   ]
  },
  {
   "cell_type": "code",
   "execution_count": 4,
   "id": "c019e4c6-2af3-4160-99ea-5c8cb009f1a7",
   "metadata": {
    "tags": [],
    "ExecuteTime": {
     "end_time": "2024-02-22T20:16:55.173865554Z",
     "start_time": "2024-02-22T20:16:55.157617299Z"
    }
   },
   "outputs": [],
   "source": [
    "# url = 'https://drive.google.com/uc?id=1YlvpDLix3S-U8fd-gqRwPcWXAXm8JwjL'\n",
    "# output = 'data.zip'\n",
    "# gdown.download(url, output, quiet=False)\n",
    "# gdown.extractall('data.zip')\n",
    "def generate_video_dict(path:str) -> dict[str:List[float]]: \n",
    "    video_dict= {}\n",
    "    if not os.path.exists(path): \n",
    "        raise FileNotFoundError(f'{path} does not exist')\n",
    "    for file in os.listdir(path): \n",
    "        if file.endswith('.mpg'): \n",
    "            cap = cv2.VideoCapture(os.path.join(path, file))\n",
    "            frames = []\n",
    "            for _ in range(int(cap.get(cv2.CAP_PROP_FRAME_COUNT))):  \n",
    "                ret, frame = cap.read()\n",
    "                frame = tf.image.rgb_to_grayscale(frame)\n",
    "                frames.append(frame[190:236,80:220,:])\n",
    "            cap.release()\n",
    "            mean = tf.math.reduce_mean(frames)\n",
    "            std = tf.math.reduce_std(tf.cast(frames, tf.float16))\n",
    "            video_dict[file] = tf.cast((frames - mean), tf.float16) / std\n",
    "    return video_dict\n",
    "cv2_base_dir = os.path.dirname(os.path.abspath(cv2.__file__))\n",
    "haar_model = os.path.join(cv2_base_dir, 'data/haarcascade_frontalface_default.xml')\n",
    "\n",
    "lip_cascade = cv2.CascadeClassifier(haar_model)\n",
    "\n",
    "def generate_mounth_video_dict(path:str) -> dict[str:List[float]]:\n",
    "    video_dict= {}\n",
    "    if not os.path.exists(path):\n",
    "        raise FileNotFoundError(f'{path} does not exist')\n",
    "    for file in os.listdir(path):\n",
    "        if file.endswith('.mpg'):\n",
    "            cap = cv2.VideoCapture(os.path.join(path, file))\n",
    "            frames = []\n",
    "            for _ in range(int(cap.get(cv2.CAP_PROP_FRAME_COUNT))):\n",
    "                ret, frame = cap.read()\n",
    "                # frame = tf.image.rgb_to_grayscale(frame)\n",
    "                gray_frame = cv2.cvtColor(frame, cv2.COLOR_BGR2GRAY)\n",
    "                lips = lip_cascade.detectMultiScale(gray_frame, 1.1, 4)\n",
    "                for (x, y, w, h) in lips:\n",
    "                    frame = gray_frame[y:y + h, x:x + w]\n",
    "                    frame = tf.image.resize(frame, [46, 140, 1])\n",
    "                frames.append(frame)\n",
    "\n",
    "                frames.append(frame)\n",
    "            cap.release()\n",
    "            mean = tf.math.reduce_mean(frames)\n",
    "            std = tf.math.reduce_std(tf.cast(frames, tf.float16))\n",
    "            video_dict[file] = tf.cast((frames - mean), tf.float16) / std\n",
    "    return video_dict\n",
    "def load_video(path:str) -> List[float]:\n",
    "\n",
    "    cap = cv2.VideoCapture(path)\n",
    "    frames = []\n",
    "    for _ in range(int(cap.get(cv2.CAP_PROP_FRAME_COUNT))):\n",
    "        ret, frame = cap.read()\n",
    "        frame = tf.image.rgb_to_grayscale(frame)\n",
    "        frames.append(frame[190:236,80:220,:])\n",
    "    cap.release()  # close the video file\n",
    "\n",
    "    mean = tf.math.reduce_mean(frames)  # compute the mean\n",
    "    std = tf.math.reduce_std(tf.cast(frames, tf.float32)) # compute the standard deviation\n",
    "    return tf.cast((frames - mean), tf.float32) / std # normalize to zero mean and unit variance\n",
    "video_dict=None"
   ]
  },
  {
   "cell_type": "code",
   "execution_count": 5,
   "id": "8548cc59-6dfc-4acc-abc3-3e65212db02e",
   "metadata": {
    "tags": [],
    "ExecuteTime": {
     "end_time": "2024-02-22T20:18:06.755459573Z",
     "start_time": "2024-02-22T20:16:57.873508526Z"
    }
   },
   "outputs": [
    {
     "name": "stderr",
     "output_type": "stream",
     "text": [
      "2024-02-22 20:16:57.877849: I external/local_xla/xla/stream_executor/cuda/cuda_executor.cc:901] successful NUMA node read from SysFS had negative value (-1), but there must be at least one NUMA node, so returning NUMA node zero. See more at https://github.com/torvalds/linux/blob/v6.0/Documentation/ABI/testing/sysfs-bus-pci#L344-L355\n",
      "2024-02-22 20:16:57.878117: I external/local_xla/xla/stream_executor/cuda/cuda_executor.cc:901] successful NUMA node read from SysFS had negative value (-1), but there must be at least one NUMA node, so returning NUMA node zero. See more at https://github.com/torvalds/linux/blob/v6.0/Documentation/ABI/testing/sysfs-bus-pci#L344-L355\n",
      "2024-02-22 20:16:57.878267: I external/local_xla/xla/stream_executor/cuda/cuda_executor.cc:901] successful NUMA node read from SysFS had negative value (-1), but there must be at least one NUMA node, so returning NUMA node zero. See more at https://github.com/torvalds/linux/blob/v6.0/Documentation/ABI/testing/sysfs-bus-pci#L344-L355\n",
      "2024-02-22 20:16:57.939398: I external/local_xla/xla/stream_executor/cuda/cuda_executor.cc:901] successful NUMA node read from SysFS had negative value (-1), but there must be at least one NUMA node, so returning NUMA node zero. See more at https://github.com/torvalds/linux/blob/v6.0/Documentation/ABI/testing/sysfs-bus-pci#L344-L355\n",
      "2024-02-22 20:16:57.939543: I external/local_xla/xla/stream_executor/cuda/cuda_executor.cc:901] successful NUMA node read from SysFS had negative value (-1), but there must be at least one NUMA node, so returning NUMA node zero. See more at https://github.com/torvalds/linux/blob/v6.0/Documentation/ABI/testing/sysfs-bus-pci#L344-L355\n",
      "2024-02-22 20:16:57.939660: I external/local_xla/xla/stream_executor/cuda/cuda_executor.cc:901] successful NUMA node read from SysFS had negative value (-1), but there must be at least one NUMA node, so returning NUMA node zero. See more at https://github.com/torvalds/linux/blob/v6.0/Documentation/ABI/testing/sysfs-bus-pci#L344-L355\n",
      "2024-02-22 20:16:57.939751: I tensorflow/core/common_runtime/gpu/gpu_device.cc:1929] Created device /job:localhost/replica:0/task:0/device:GPU:0 with 14414 MB memory:  -> device: 0, name: NVIDIA GeForce RTX 4060 Ti, pci bus id: 0000:01:00.0, compute capability: 8.9\n",
      "2024-02-22 20:16:58.085150: I external/local_tsl/tsl/platform/default/subprocess.cc:304] Start cannot spawn child process: No such file or directory\n",
      "[mpeg1video @ 0x55efb229d540] ac-tex damaged at 22 17\n",
      "[mpeg1video @ 0x55efb229d540] Warning MVs not available\n"
     ]
    },
    {
     "name": "stdout",
     "output_type": "stream",
     "text": [
      "1000\n",
      "Size of video_dict: 36960 bytes\n"
     ]
    }
   ],
   "source": [
    "import sys\n",
    "\n",
    "video_dict = generate_video_dict('./data/s10')\n",
    "print(len(video_dict))\n",
    "# print memory in video_dict\n",
    "dict_size = sys.getsizeof(video_dict)\n",
    "print(f\"Size of video_dict: {dict_size} bytes\")\n",
    "    "
   ]
  },
  {
   "cell_type": "code",
   "outputs": [
    {
     "ename": "NameError",
     "evalue": "name 'video_dict' is not defined",
     "output_type": "error",
     "traceback": [
      "\u001B[0;31m---------------------------------------------------------------------------\u001B[0m",
      "\u001B[0;31mNameError\u001B[0m                                 Traceback (most recent call last)",
      "Cell \u001B[0;32mIn[28], line 1\u001B[0m\n\u001B[0;32m----> 1\u001B[0m \u001B[38;5;28;01mdel\u001B[39;00m video_dict\n\u001B[1;32m      2\u001B[0m \u001B[38;5;28mprint\u001B[39m(video_dict)\n",
      "\u001B[0;31mNameError\u001B[0m: name 'video_dict' is not defined"
     ]
    }
   ],
   "source": [
    "vocab = [x for x in \"abcdefghijklmnopqrstuvwxyz \"]"
   ],
   "metadata": {
    "collapsed": false,
    "ExecuteTime": {
     "end_time": "2024-02-18T11:57:22.157052623Z",
     "start_time": "2024-02-18T11:57:22.113185715Z"
    }
   },
   "id": "a9a23f64ae4ee129",
   "execution_count": 28
  },
  {
   "cell_type": "code",
   "execution_count": 6,
   "id": "ec735e0b-ec98-4eb0-8f49-c35527d6670a",
   "metadata": {
    "tags": [],
    "ExecuteTime": {
     "end_time": "2024-02-22T20:18:06.758786740Z",
     "start_time": "2024-02-22T20:18:06.755487253Z"
    }
   },
   "outputs": [],
   "source": [
    "char_to_num = tf.keras.layers.StringLookup(vocabulary=vocab, oov_token=\"\")\n",
    "num_to_char = tf.keras.layers.StringLookup(\n",
    "    vocabulary=char_to_num.get_vocabulary(), oov_token=\"\", invert=True\n",
    ")\n",
    "\n",
    "print(\n",
    "    f\"The vocabulary is: {char_to_num.get_vocabulary()} \"\n",
    "    f\"(size ={char_to_num.vocabulary_size()})\"\n",
    ")"
   ]
  },
  {
   "cell_type": "code",
   "execution_count": 7,
   "id": "be04e972-d7a5-4a72-82d8-a6bdde1f3ce6",
   "metadata": {
    "tags": [],
    "ExecuteTime": {
     "end_time": "2024-02-22T20:18:22.098302125Z",
     "start_time": "2024-02-22T20:18:22.055801199Z"
    }
   },
   "outputs": [
    {
     "name": "stdout",
     "output_type": "stream",
     "text": [
      "The vocabulary is: ['', 'a', 'b', 'c', 'd', 'e', 'f', 'g', 'h', 'i', 'j', 'k', 'l', 'm', 'n', 'o', 'p', 'q', 'r', 's', 't', 'u', 'v', 'w', 'x', 'y', 'z', ' '] (size =28)\n"
     ]
    }
   ],
   "source": [
    "char_to_num.get_vocabulary()"
   ]
  },
  {
   "cell_type": "code",
   "execution_count": 8,
   "id": "559f7420-6802-45fa-9ca0-b1ff209b461c",
   "metadata": {
    "tags": [],
    "ExecuteTime": {
     "end_time": "2024-02-22T20:18:23.533000080Z",
     "start_time": "2024-02-22T20:18:23.526712559Z"
    }
   },
   "outputs": [
    {
     "data": {
      "text/plain": "['',\n 'a',\n 'b',\n 'c',\n 'd',\n 'e',\n 'f',\n 'g',\n 'h',\n 'i',\n 'j',\n 'k',\n 'l',\n 'm',\n 'n',\n 'o',\n 'p',\n 'q',\n 'r',\n 's',\n 't',\n 'u',\n 'v',\n 'w',\n 'x',\n 'y',\n 'z',\n ' ']"
     },
     "execution_count": 8,
     "metadata": {},
     "output_type": "execute_result"
    }
   ],
   "source": [
    "char_to_num(['n','i','c','k'])"
   ]
  },
  {
   "cell_type": "code",
   "execution_count": 9,
   "id": "797ff78b-b48f-4e14-bb62-8cd0ebf9501a",
   "metadata": {
    "tags": [],
    "ExecuteTime": {
     "end_time": "2024-02-22T20:18:24.471032429Z",
     "start_time": "2024-02-22T20:18:24.462595105Z"
    }
   },
   "outputs": [
    {
     "data": {
      "text/plain": "<tf.Tensor: shape=(4,), dtype=int64, numpy=array([14,  9,  3, 11])>"
     },
     "execution_count": 9,
     "metadata": {},
     "output_type": "execute_result"
    }
   ],
   "source": [
    "num_to_char([14,  9,  3, 11])"
   ]
  },
  {
   "cell_type": "code",
   "execution_count": 10,
   "id": "8cd7f4f4-ae77-4509-a4f4-c723787ebad1",
   "metadata": {
    "ExecuteTime": {
     "end_time": "2024-02-22T20:18:25.257311597Z",
     "start_time": "2024-02-22T20:18:25.236237690Z"
    }
   },
   "outputs": [
    {
     "data": {
      "text/plain": "<tf.Tensor: shape=(4,), dtype=string, numpy=array([b'n', b'i', b'c', b'k'], dtype=object)>"
     },
     "execution_count": 10,
     "metadata": {},
     "output_type": "execute_result"
    }
   ],
   "source": [
    "# def load_alignments(path:str) -> List[str]: \n",
    "#     with open(path, 'r') as f: \n",
    "#         lines = f.readlines() \n",
    "#     tokens = []\n",
    "#     for line in lines:\n",
    "#         line = line.split()\n",
    "#         if line[2] != 'sil': \n",
    "#             tokens = [*tokens,' ',line[2]]\n",
    "#     return char_to_num(tf.reshape(tf.strings.unicode_split(tokens, input_encoding='UTF-8'), (-1)))[1:]\n",
    "def init_alignments(path:str) -> dict[str:List[str]]: \n",
    "    alignments = {}\n",
    "    if not os.path.exists(path): \n",
    "        raise FileNotFoundError(f'{path} does not exist')\n",
    "    for file in os.listdir(path): \n",
    "        if file.endswith('.align'): \n",
    "            with open(os.path.join(path, file), 'r') as f: \n",
    "                lines = f.readlines()\n",
    "            tokens = []\n",
    "            for line in lines:\n",
    "                line = line.split()\n",
    "                if line[2] != 'sil': \n",
    "                    tokens = [*tokens,' ',line[2]]\n",
    "            alignments[file] = char_to_num(tf.reshape(tf.strings.unicode_split(tokens, input_encoding='UTF-8'), (-1)))[1:]\n",
    "    return alignments\n",
    "alignments_dict = init_alignments('./data/alignments/s1')\n"
   ]
  },
  {
   "cell_type": "code",
   "execution_count": 11,
   "id": "9491bab5-6a3c-4f79-879a-8f9fbe73ae2e",
   "metadata": {
    "tags": [],
    "ExecuteTime": {
     "end_time": "2024-02-22T20:18:36.617850978Z",
     "start_time": "2024-02-22T20:18:35.011078752Z"
    }
   },
   "outputs": [],
   "source": [
    "print(len(alignments_dict))"
   ]
  },
  {
   "cell_type": "code",
   "outputs": [
    {
     "name": "stdout",
     "output_type": "stream",
     "text": [
      "1000\n"
     ]
    }
   ],
   "source": [
    "def load_data(path: str): \n",
    "    path = bytes.decode(path.numpy())\n",
    "    file_name = path.split('/')[-1].split('.')[0]\n",
    "    # File name splitting for windows\n",
    "    # file_name = path.split('\\\\')[-1].split('.')[0]\n",
    "    video_path = f'{file_name}.mpg'\n",
    "    alignment_path = f'{file_name}.align'\n",
    "    frames = video_dict.get(video_path)\n",
    "    alignments = alignments_dict.get(alignment_path)\n",
    "    \n",
    "    return frames, alignments"
   ],
   "metadata": {
    "collapsed": false,
    "ExecuteTime": {
     "end_time": "2024-02-22T20:18:38.020629381Z",
     "start_time": "2024-02-22T20:18:38.012152227Z"
    }
   },
   "id": "255d533c5140ad12",
   "execution_count": 12
  },
  {
   "cell_type": "code",
   "execution_count": 13,
   "id": "dd01ca9f-77fb-4643-a2aa-47dd82c5d66b",
   "metadata": {
    "tags": [],
    "ExecuteTime": {
     "end_time": "2024-02-22T20:18:38.706029490Z",
     "start_time": "2024-02-22T20:18:38.698459137Z"
    }
   },
   "outputs": [],
   "source": [
    "test_path = './data/s1/bbal6n.mpg'"
   ]
  },
  {
   "cell_type": "code",
   "execution_count": 14,
   "id": "8cb7cc58-31ae-4904-a805-1177a82717d2",
   "metadata": {
    "tags": [],
    "ExecuteTime": {
     "end_time": "2024-02-22T20:18:50.688153583Z",
     "start_time": "2024-02-22T20:18:50.643391088Z"
    }
   },
   "outputs": [],
   "source": [
    "tf.convert_to_tensor(test_path).numpy().decode('utf-8').split('/')[-1].split('.')[0] "
   ]
  },
  {
   "cell_type": "code",
   "execution_count": 15,
   "id": "76aa964f-0c84-490d-897a-d00e3966e2c9",
   "metadata": {
    "ExecuteTime": {
     "end_time": "2024-02-22T20:18:51.168678285Z",
     "start_time": "2024-02-22T20:18:51.162134666Z"
    }
   },
   "outputs": [
    {
     "data": {
      "text/plain": "'bbal6n'"
     },
     "execution_count": 15,
     "metadata": {},
     "output_type": "execute_result"
    }
   ],
   "source": [
    "frames, alignments = load_data(tf.convert_to_tensor(test_path))"
   ]
  },
  {
   "cell_type": "code",
   "execution_count": 16,
   "id": "eb602c71-8560-4f9e-b26b-08202febb937",
   "metadata": {
    "scrolled": true,
    "tags": [],
    "ExecuteTime": {
     "end_time": "2024-02-22T20:18:51.967277962Z",
     "start_time": "2024-02-22T20:18:51.958933580Z"
    }
   },
   "outputs": [],
   "source": [
    "print(len(frames))"
   ]
  },
  {
   "cell_type": "code",
   "outputs": [
    {
     "name": "stdout",
     "output_type": "stream",
     "text": [
      "75\n"
     ]
    }
   ],
   "source": [
    "plt.imshow(frames[40])\n"
   ],
   "metadata": {
    "collapsed": false,
    "ExecuteTime": {
     "end_time": "2024-02-22T20:18:52.556083166Z",
     "start_time": "2024-02-22T20:18:52.548706425Z"
    }
   },
   "id": "823ce0542f1d954d",
   "execution_count": 17
  },
  {
   "cell_type": "code",
   "execution_count": 18,
   "id": "0e3184a1-6b02-4b4f-84a8-a0a65f951ea2",
   "metadata": {
    "ExecuteTime": {
     "end_time": "2024-02-22T20:18:53.114361122Z",
     "start_time": "2024-02-22T20:18:53.050369769Z"
    }
   },
   "outputs": [
    {
     "data": {
      "text/plain": "<matplotlib.image.AxesImage at 0x7fb46d3290c0>"
     },
     "execution_count": 18,
     "metadata": {},
     "output_type": "execute_result"
    },
    {
     "data": {
      "text/plain": "<Figure size 640x480 with 1 Axes>",
      "image/png": "[encoded data removed]"
     },
     "metadata": {},
     "output_type": "display_data"
    }
   ],
   "source": [
    "alignments"
   ]
  },
  {
   "cell_type": "code",
   "execution_count": 19,
   "id": "d7ec0833-d54b-4073-84cf-92d011c60ec1",
   "metadata": {
    "ExecuteTime": {
     "end_time": "2024-02-22T20:18:53.929481348Z",
     "start_time": "2024-02-22T20:18:53.885199163Z"
    }
   },
   "outputs": [
    {
     "data": {
      "text/plain": "<tf.Tensor: shape=(21,), dtype=int64, numpy=\narray([ 2,  9, 14, 27,  2, 12, 21,  5, 27,  1, 20, 27, 12, 27, 19,  9, 24,\n       27, 14, 15, 23])>"
     },
     "execution_count": 19,
     "metadata": {},
     "output_type": "execute_result"
    }
   ],
   "source": [
    "tf.strings.reduce_join([bytes.decode(x) for x in num_to_char(alignments.numpy()).numpy()])"
   ]
  },
  {
   "cell_type": "code",
   "execution_count": 20,
   "id": "fe1ad370-b287-4b46-85a2-7c45b0bd9b10",
   "metadata": {
    "ExecuteTime": {
     "end_time": "2024-02-22T20:18:54.977212034Z",
     "start_time": "2024-02-22T20:18:54.971630106Z"
    }
   },
   "outputs": [
    {
     "data": {
      "text/plain": "<tf.Tensor: shape=(), dtype=string, numpy=b'bin blue at l six now'>"
     },
     "execution_count": 20,
     "metadata": {},
     "output_type": "execute_result"
    }
   ],
   "source": [
    "def mappable_function(path:str) ->List[str]:\n",
    "    result = tf.py_function(load_data, [path], (tf.float16, tf.int64)) # py_function is used to convert a python function to a tensorflow function\n",
    "    return result"
   ]
  },
  {
   "cell_type": "markdown",
   "source": [
    "# 2. Create Data Pipeline"
   ],
   "metadata": {
    "collapsed": false
   },
   "id": "df3f59140fe002b5"
  },
  {
   "cell_type": "code",
   "outputs": [],
   "source": [
    "from matplotlib import pyplot as plt"
   ],
   "metadata": {
    "collapsed": false
   },
   "id": "ca426bc98f41070d"
  },
  {
   "cell_type": "code",
   "execution_count": 22,
   "id": "7686355d-45aa-4c85-ad9c-053e6a9b4d81",
   "metadata": {
    "tags": [],
    "ExecuteTime": {
     "end_time": "2024-02-22T20:18:56.806441363Z",
     "start_time": "2024-02-22T20:18:56.797624061Z"
    }
   },
   "outputs": [],
   "source": [
    "data = tf.data.Dataset.list_files('./data/s1/*.mpg')  # list all the files\n",
    "data = data.shuffle(500, reshuffle_each_iteration=False)   # shuffle is used to shuffle the data\n",
    "data = data.map(mappable_function) # 75 frames, 46x140 pixels, 1 channel\n",
    "data = data.padded_batch(2, padded_shapes=([75,None,None,None],[40])) # 75 frames, 46x140 pixels, 1 channel\n",
    "data = data.prefetch(tf.data.AUTOTUNE) # prefetch the data\n",
    "# Added for split \n",
    "train = data.take(450) \n",
    "test = data.skip(450)"
   ]
  },
  {
   "cell_type": "code",
   "execution_count": 23,
   "id": "f066fea2-91b1-42ed-a67d-00566a1a53ff",
   "metadata": {
    "tags": [],
    "ExecuteTime": {
     "end_time": "2024-02-22T20:18:57.728672262Z",
     "start_time": "2024-02-22T20:18:57.557421959Z"
    }
   },
   "outputs": [],
   "source": [
    "print(len(data))\n",
    "print(len(train))\n",
    "print(len(test))"
   ]
  },
  {
   "cell_type": "code",
   "execution_count": 24,
   "id": "6b1365bd-7742-41d1-95d4-247021751c3a",
   "metadata": {
    "ExecuteTime": {
     "end_time": "2024-02-22T20:18:59.083619130Z",
     "start_time": "2024-02-22T20:18:59.073920116Z"
    }
   },
   "outputs": [
    {
     "name": "stdout",
     "output_type": "stream",
     "text": [
      "500\n",
      "450\n",
      "50\n"
     ]
    }
   ],
   "source": [
    "frames, alignments = data.as_numpy_iterator().next()"
   ]
  },
  {
   "cell_type": "code",
   "execution_count": 25,
   "id": "5281bde8-fdc8-4da1-bd55-5a7929a9e80c",
   "metadata": {
    "ExecuteTime": {
     "end_time": "2024-02-22T20:18:59.381135486Z",
     "start_time": "2024-02-22T20:18:59.355124499Z"
    }
   },
   "outputs": [],
   "source": [
    "len(frames)"
   ]
  },
  {
   "cell_type": "code",
   "execution_count": 26,
   "id": "cbebe683-6afd-47fd-bba4-c83b4b13bb32",
   "metadata": {
    "ExecuteTime": {
     "end_time": "2024-02-22T20:19:00.331198211Z",
     "start_time": "2024-02-22T20:19:00.305663485Z"
    }
   },
   "outputs": [
    {
     "data": {
      "text/plain": "2"
     },
     "execution_count": 26,
     "metadata": {},
     "output_type": "execute_result"
    }
   ],
   "source": [
    "sample = data.as_numpy_iterator()"
   ]
  },
  {
   "cell_type": "code",
   "execution_count": 27,
   "id": "5cf2d676-93a9-434c-b3c7-bdcc2577b2e7",
   "metadata": {
    "tags": [],
    "ExecuteTime": {
     "end_time": "2024-02-22T20:19:00.857856752Z",
     "start_time": "2024-02-22T20:19:00.850455271Z"
    }
   },
   "outputs": [],
   "source": [
    "val = sample.next(); val[0]"
   ]
  },
  {
   "cell_type": "code",
   "execution_count": 28,
   "id": "efa6cd46-7079-46c0-b45b-832f339f6cb0",
   "metadata": {
    "scrolled": true,
    "tags": [],
    "ExecuteTime": {
     "end_time": "2024-02-22T20:19:01.255540841Z",
     "start_time": "2024-02-22T20:19:01.246413458Z"
    }
   },
   "outputs": [
    {
     "data": {
      "text/plain": "array([[[[[ 1.483  ],\n          [ 1.483  ],\n          [ 1.442  ],\n          ...,\n          [ 0.12366],\n          [ 0.12366],\n          [ 0.12366]],\n\n         [[ 1.483  ],\n          [ 1.483  ],\n          [ 1.442  ],\n          ...,\n          [ 0.12366],\n          [ 0.12366],\n          [ 0.12366]],\n\n         [[ 1.524  ],\n          [ 1.524  ],\n          [ 1.483  ],\n          ...,\n          [ 0.12366],\n          [ 0.12366],\n          [ 0.12366]],\n\n         ...,\n\n         [[ 0.9893 ],\n          [ 0.9893 ],\n          [ 0.9893 ],\n          ...,\n          [10.305  ],\n          [10.305  ],\n          [10.305  ]],\n\n         [[ 0.865  ],\n          [ 0.865  ],\n          [ 0.7417 ],\n          ...,\n          [10.305  ],\n          [10.305  ],\n          [10.305  ]],\n\n         [[ 0.7417 ],\n          [ 0.7007 ],\n          [ 0.659  ],\n          ...,\n          [10.305  ],\n          [10.305  ],\n          [10.305  ]]],\n\n\n        [[[ 1.442  ],\n          [ 1.442  ],\n          [ 1.483  ],\n          ...,\n          [ 0.1648 ],\n          [ 0.12366],\n          [ 0.12366]],\n\n         [[ 1.442  ],\n          [ 1.442  ],\n          [ 1.483  ],\n          ...,\n          [ 0.12366],\n          [ 0.0824 ],\n          [ 0.0824 ]],\n\n         [[ 1.483  ],\n          [ 1.483  ],\n          [ 1.524  ],\n          ...,\n          [ 0.12366],\n          [ 0.0824 ],\n          [ 0.0824 ]],\n\n         ...,\n\n         [[ 1.03   ],\n          [ 1.03   ],\n          [ 1.071  ],\n          ...,\n          [10.305  ],\n          [10.26   ],\n          [10.26   ]],\n\n         [[ 0.9478 ],\n          [ 0.9478 ],\n          [ 0.9478 ],\n          ...,\n          [10.305  ],\n          [10.26   ],\n          [10.26   ]],\n\n         [[ 0.783  ],\n          [ 0.7417 ],\n          [ 0.7417 ],\n          ...,\n          [10.26   ],\n          [10.22   ],\n          [10.22   ]]],\n\n\n        [[[ 1.483  ],\n          [ 1.483  ],\n          [ 1.524  ],\n          ...,\n          [ 0.12366],\n          [ 0.0824 ],\n          [ 0.0824 ]],\n\n         [[ 1.483  ],\n          [ 1.483  ],\n          [ 1.524  ],\n          ...,\n          [ 0.1648 ],\n          [ 0.12366],\n          [ 0.12366]],\n\n         [[ 1.483  ],\n          [ 1.483  ],\n          [ 1.524  ],\n          ...,\n          [ 0.12366],\n          [ 0.0824 ],\n          [ 0.0824 ]],\n\n         ...,\n\n         [[ 1.03   ],\n          [ 0.9893 ],\n          [ 1.03   ],\n          ...,\n          [10.22   ],\n          [10.22   ],\n          [10.22   ]],\n\n         [[ 0.9478 ],\n          [ 0.9893 ],\n          [ 1.03   ],\n          ...,\n          [10.22   ],\n          [10.22   ],\n          [10.22   ]],\n\n         [[ 0.783  ],\n          [ 0.7417 ],\n          [ 0.783  ],\n          ...,\n          [10.18   ],\n          [10.18   ],\n          [10.18   ]]],\n\n\n        ...,\n\n\n        [[[ 1.483  ],\n          [ 1.483  ],\n          [ 1.483  ],\n          ...,\n          [ 0.0412 ],\n          [ 0.0412 ],\n          [ 0.0412 ]],\n\n         [[ 1.442  ],\n          [ 1.442  ],\n          [ 1.442  ],\n          ...,\n          [ 0.0412 ],\n          [ 0.0412 ],\n          [ 0.0412 ]],\n\n         [[ 1.401  ],\n          [ 1.401  ],\n          [ 1.401  ],\n          ...,\n          [ 0.0412 ],\n          [ 0.0412 ],\n          [ 0.0412 ]],\n\n         ...,\n\n         [[ 0.865  ],\n          [ 0.9067 ],\n          [ 0.824  ],\n          ...,\n          [10.26   ],\n          [10.26   ],\n          [10.26   ]],\n\n         [[ 0.577  ],\n          [ 0.7417 ],\n          [ 0.865  ],\n          ...,\n          [10.26   ],\n          [10.22   ],\n          [10.22   ]],\n\n         [[ 0.659  ],\n          [ 0.865  ],\n          [ 1.03   ],\n          ...,\n          [10.22   ],\n          [10.22   ],\n          [10.22   ]]],\n\n\n        [[[ 1.483  ],\n          [ 1.566  ],\n          [ 1.524  ],\n          ...,\n          [ 0.0412 ],\n          [ 0.0412 ],\n          [ 0.0412 ]],\n\n         [[ 1.483  ],\n          [ 1.483  ],\n          [ 1.442  ],\n          ...,\n          [ 0.0412 ],\n          [ 0.0412 ],\n          [ 0.0412 ]],\n\n         [[ 1.442  ],\n          [ 1.442  ],\n          [ 1.401  ],\n          ...,\n          [ 0.0412 ],\n          [ 0.0412 ],\n          [ 0.0412 ]],\n\n         ...,\n\n         [[ 0.9478 ],\n          [ 0.9478 ],\n          [ 0.865  ],\n          ...,\n          [10.26   ],\n          [10.26   ],\n          [10.26   ]],\n\n         [[ 0.618  ],\n          [ 0.7417 ],\n          [ 0.865  ],\n          ...,\n          [10.26   ],\n          [10.26   ],\n          [10.22   ]],\n\n         [[ 0.7417 ],\n          [ 0.865  ],\n          [ 0.9893 ],\n          ...,\n          [10.26   ],\n          [10.22   ],\n          [10.22   ]]],\n\n\n        [[[ 1.524  ],\n          [ 1.524  ],\n          [ 1.524  ],\n          ...,\n          [ 0.0824 ],\n          [ 0.0824 ],\n          [ 0.0412 ]],\n\n         [[ 1.442  ],\n          [ 1.442  ],\n          [ 1.442  ],\n          ...,\n          [ 0.0824 ],\n          [ 0.0824 ],\n          [ 0.0412 ]],\n\n         [[ 1.442  ],\n          [ 1.442  ],\n          [ 1.401  ],\n          ...,\n          [ 0.0824 ],\n          [ 0.0412 ],\n          [ 0.0412 ]],\n\n         ...,\n\n         [[ 1.03   ],\n          [ 0.9893 ],\n          [ 0.9478 ],\n          ...,\n          [10.22   ],\n          [10.22   ],\n          [10.22   ]],\n\n         [[ 0.7417 ],\n          [ 0.783  ],\n          [ 0.9067 ],\n          ...,\n          [10.22   ],\n          [10.22   ],\n          [10.22   ]],\n\n         [[ 0.7417 ],\n          [ 0.865  ],\n          [ 0.9893 ],\n          ...,\n          [10.22   ],\n          [10.22   ],\n          [10.18   ]]]],\n\n\n\n       [[[[ 0.8784 ],\n          [ 1.413  ],\n          [ 1.871  ],\n          ...,\n          [ 0.3054 ],\n          [ 0.3054 ],\n          [ 0.3054 ]],\n\n         [[ 0.8403 ],\n          [ 1.298  ],\n          [ 1.757  ],\n          ...,\n          [ 0.3054 ],\n          [ 0.3054 ],\n          [ 0.3054 ]],\n\n         [[ 0.9165 ],\n          [ 1.222  ],\n          [ 1.681  ],\n          ...,\n          [ 0.3054 ],\n          [ 0.3054 ],\n          [ 0.3054 ]],\n\n         ...,\n\n         [[ 1.107  ],\n          [ 1.26   ],\n          [ 0.3818 ],\n          ...,\n          [ 9.7    ],\n          [ 9.7    ],\n          [ 9.7    ]],\n\n         [[ 1.26   ],\n          [ 1.222  ],\n          [ 9.7    ],\n          ...,\n          [ 9.7    ],\n          [ 9.7    ],\n          [ 9.7    ]],\n\n         [[ 1.489  ],\n          [ 1.1455 ],\n          [ 9.43   ],\n          ...,\n          [ 9.7    ],\n          [ 9.7    ],\n          [ 9.7    ]]],\n\n\n        [[[ 0.8403 ],\n          [ 1.337  ],\n          [ 1.985  ],\n          ...,\n          [ 0.3054 ],\n          [ 0.3054 ],\n          [ 0.3054 ]],\n\n         [[ 0.802  ],\n          [ 1.222  ],\n          [ 1.795  ],\n          ...,\n          [ 0.3054 ],\n          [ 0.3054 ],\n          [ 0.3054 ]],\n\n         [[ 0.9546 ],\n          [ 1.184  ],\n          [ 1.681  ],\n          ...,\n          [ 0.3054 ],\n          [ 0.3054 ],\n          [ 0.3054 ]],\n\n         ...,\n\n         [[ 0.9546 ],\n          [ 1.375  ],\n          [ 0.3054 ],\n          ...,\n          [ 9.664  ],\n          [ 9.664  ],\n          [ 9.664  ]],\n\n         [[ 1.107  ],\n          [ 1.337  ],\n          [ 9.586  ],\n          ...,\n          [ 9.7    ],\n          [ 9.7    ],\n          [ 9.7    ]],\n\n         [[ 1.451  ],\n          [ 1.26   ],\n          [ 9.36   ],\n          ...,\n          [ 9.7    ],\n          [ 9.7    ],\n          [ 9.7    ]]],\n\n\n        [[[ 0.7637 ],\n          [ 1.451  ],\n          [ 1.871  ],\n          ...,\n          [ 0.3438 ],\n          [ 0.3054 ],\n          [ 0.3054 ]],\n\n         [[ 0.802  ],\n          [ 1.222  ],\n          [ 1.795  ],\n          ...,\n          [ 0.3438 ],\n          [ 0.3054 ],\n          [ 0.3054 ]],\n\n         [[ 1.031  ],\n          [ 1.1455 ],\n          [ 1.719  ],\n          ...,\n          [ 0.3438 ],\n          [ 0.3054 ],\n          [ 0.3054 ]],\n\n         ...,\n\n         [[ 0.8784 ],\n          [ 1.413  ],\n          [ 0.2291 ],\n          ...,\n          [ 9.7    ],\n          [ 9.734  ],\n          [ 9.734  ]],\n\n         [[ 1.031  ],\n          [ 1.375  ],\n          [ 9.43   ],\n          ...,\n          [ 9.734  ],\n          [ 9.734  ],\n          [ 9.734  ]],\n\n         [[ 1.489  ],\n          [ 1.222  ],\n          [ 9.28   ],\n          ...,\n          [ 9.734  ],\n          [ 9.734  ],\n          [ 9.734  ]]],\n\n\n        ...,\n\n\n        [[[ 0.7637 ],\n          [ 1.795  ],\n          [ 2.062  ],\n          ...,\n          [ 0.3054 ],\n          [ 0.3054 ],\n          [ 0.3054 ]],\n\n         [[ 0.6875 ],\n          [ 1.604  ],\n          [ 1.947  ],\n          ...,\n          [ 0.3054 ],\n          [ 0.3054 ],\n          [ 0.3054 ]],\n\n         [[ 0.7637 ],\n          [ 1.489  ],\n          [ 1.909  ],\n          ...,\n          [ 0.3054 ],\n          [ 0.3054 ],\n          [ 0.3054 ]],\n\n         ...,\n\n         [[ 1.031  ],\n          [ 1.107  ],\n          [ 9.7    ],\n          ...,\n          [ 9.664  ],\n          [ 9.664  ],\n          [ 9.664  ]],\n\n         [[ 1.184  ],\n          [ 1.031  ],\n          [ 9.28   ],\n          ...,\n          [ 9.7    ],\n          [ 9.625  ],\n          [ 9.625  ]],\n\n         [[ 1.413  ],\n          [ 0.9165 ],\n          [ 9.086  ],\n          ...,\n          [ 9.625  ],\n          [ 9.625  ],\n          [ 9.625  ]]],\n\n\n        [[[ 0.7637 ],\n          [ 1.795  ],\n          [ 1.947  ],\n          ...,\n          [ 0.3054 ],\n          [ 0.3054 ],\n          [ 0.3054 ]],\n\n         [[ 0.6875 ],\n          [ 1.565  ],\n          [ 1.871  ],\n          ...,\n          [ 0.3054 ],\n          [ 0.3054 ],\n          [ 0.3054 ]],\n\n         [[ 0.802  ],\n          [ 1.413  ],\n          [ 1.909  ],\n          ...,\n          [ 0.3054 ],\n          [ 0.3054 ],\n          [ 0.3054 ]],\n\n         ...,\n\n         [[ 0.8403 ],\n          [ 1.107  ],\n          [ 9.664  ],\n          ...,\n          [ 9.664  ],\n          [ 9.664  ],\n          [ 9.664  ]],\n\n         [[ 1.1455 ],\n          [ 0.9546 ],\n          [ 9.164  ],\n          ...,\n          [ 9.664  ],\n          [ 9.586  ],\n          [ 9.586  ]],\n\n         [[ 1.565  ],\n          [ 0.8784 ],\n          [ 9.086  ],\n          ...,\n          [ 9.586  ],\n          [ 9.586  ],\n          [ 9.586  ]]],\n\n\n        [[[ 0.7637 ],\n          [ 1.757  ],\n          [ 1.947  ],\n          ...,\n          [ 0.3054 ],\n          [ 0.3054 ],\n          [ 0.3054 ]],\n\n         [[ 0.6875 ],\n          [ 1.489  ],\n          [ 1.871  ],\n          ...,\n          [ 0.3054 ],\n          [ 0.3054 ],\n          [ 0.3054 ]],\n\n         [[ 0.8403 ],\n          [ 1.413  ],\n          [ 1.909  ],\n          ...,\n          [ 0.3054 ],\n          [ 0.3054 ],\n          [ 0.3054 ]],\n\n         ...,\n\n         [[ 0.7256 ],\n          [ 1.337  ],\n          [ 9.734  ],\n          ...,\n          [ 9.7    ],\n          [ 9.7    ],\n          [ 9.7    ]],\n\n         [[ 0.9927 ],\n          [ 1.1455 ],\n          [ 9.2    ],\n          ...,\n          [ 9.7    ],\n          [ 9.664  ],\n          [ 9.664  ]],\n\n         [[ 1.527  ],\n          [ 0.9927 ],\n          [ 9.125  ],\n          ...,\n          [ 9.664  ],\n          [ 9.664  ],\n          [ 9.664  ]]]]], dtype=float16)"
     },
     "execution_count": 28,
     "metadata": {},
     "output_type": "execute_result"
    }
   ],
   "source": [
    "# imageio.mimsave('./animation.gif', val[0][0], fps=10) # can't handle this data type:(1,1,1), <f4\n",
    "# imageio.mimsave('./animation.gif', val[0][0].astype(np.uint8), fps=10)\n"
   ]
  },
  {
   "cell_type": "code",
   "execution_count": 29,
   "id": "acf5eb4f-a0da-4a9a-bf24-af13e9cc2fbe",
   "metadata": {
    "tags": [],
    "ExecuteTime": {
     "end_time": "2024-02-22T20:19:02.147781711Z",
     "start_time": "2024-02-22T20:19:02.139735249Z"
    }
   },
   "outputs": [],
   "source": [
    "# 0:videos, 0: 1st video out of the batch,  0: return the first frame in the video \n",
    "plt.imshow(val[0][0][35])"
   ]
  },
  {
   "cell_type": "code",
   "execution_count": 30,
   "id": "c33a87a2-d5e0-4ec9-b174-73ebf41bf03a",
   "metadata": {
    "tags": [],
    "ExecuteTime": {
     "end_time": "2024-02-22T20:19:02.633729785Z",
     "start_time": "2024-02-22T20:19:02.587451411Z"
    }
   },
   "outputs": [
    {
     "data": {
      "text/plain": "<matplotlib.image.AxesImage at 0x7fb46ca269e0>"
     },
     "execution_count": 30,
     "metadata": {},
     "output_type": "execute_result"
    },
    {
     "data": {
      "text/plain": "<Figure size 640x480 with 1 Axes>",
      "image/png": "[encoded data removed]"
     },
     "metadata": {},
     "output_type": "display_data"
    }
   ],
   "source": [
    "tf.strings.reduce_join([num_to_char(word) for word in val[1][0]])"
   ]
  },
  {
   "cell_type": "markdown",
   "source": [
    "# 3. Design the Deep Neural Network"
   ],
   "metadata": {
    "collapsed": false
   },
   "id": "9d39042b159dcd84"
  },
  {
   "cell_type": "code",
   "outputs": [],
   "source": [
    "from tensorflow.keras.models import Sequential \n",
    "from tensorflow.keras.layers import Conv3D, LSTM, Dense, Dropout, Bidirectional, MaxPool3D, Activation, Reshape, SpatialDropout3D, BatchNormalization, TimeDistributed, Flatten\n",
    "from tensorflow.keras.optimizers import Adam\n",
    "from tensorflow.keras.callbacks import ModelCheckpoint, LearningRateScheduler\n",
    "from tensorflow.keras.applications import ResNet50"
   ],
   "metadata": {
    "collapsed": false
   },
   "id": "f02926768b94ee79"
  },
  {
   "cell_type": "code",
   "execution_count": 32,
   "id": "d8e9a497-191b-4842-afbd-26f5e13c43ba",
   "metadata": {
    "tags": [],
    "ExecuteTime": {
     "end_time": "2024-02-22T20:19:07.032793532Z",
     "start_time": "2024-02-22T20:19:07.024705631Z"
    }
   },
   "outputs": [],
   "source": [
    "data.as_numpy_iterator().next()[0][0].shape"
   ]
  },
  {
   "cell_type": "code",
   "execution_count": 33,
   "id": "3f753ed2-70b9-4236-8c1c-08ca065dc8bf",
   "metadata": {
    "ExecuteTime": {
     "end_time": "2024-02-22T20:19:07.488500694Z",
     "start_time": "2024-02-22T20:19:07.457587003Z"
    }
   },
   "outputs": [
    {
     "data": {
      "text/plain": "(75, 46, 140, 1)"
     },
     "execution_count": 33,
     "metadata": {},
     "output_type": "execute_result"
    }
   ],
   "source": [
    "base_model = ResNet50(weights=None, include_top=False, input_shape=(46,140, 3))\n",
    "\n",
    "# If you wish to Freeze layers\n",
    "for layer in base_model.layers:\n",
    "  layer.trainable = True\n",
    "  \n",
    "model = Sequential()\n",
    "model.add(base_model)\n",
    "model = Sequential()\n",
    "model.add(Conv3D(128, 3, input_shape=(75,46,140,1), padding='same'))  # 128 filters, 3x3 kernel input shape is 75 frames, 46x140 pixels, 1 channel \n",
    "model.add(Activation('relu'))  # activation function\n",
    "model.add(MaxPool3D((1,2,2)))  # max pooling\n",
    "\n",
    "model.add(Conv3D(256, 3, padding='same'))  # 256 filters, 3x3 kernel\n",
    "model.add(Activation('relu'))  \n",
    "model.add(MaxPool3D((1,2,2)))\n",
    "\n",
    "model.add(Conv3D(75, 3, padding='same'))\n",
    "model.add(Activation('relu'))\n",
    "model.add(MaxPool3D((1,2,2)))\n",
    "\n",
    "model.add(TimeDistributed(Flatten()))  # flatten the output of the previous layer\n",
    "\n",
    "model.add(Bidirectional(LSTM(128, kernel_initializer='Orthogonal', return_sequences=True)))  # bidirectional LSTM\n",
    "model.add(Dropout(.5))  # dropout layer\n",
    "\n",
    "model.add(Bidirectional(LSTM(128, kernel_initializer='Orthogonal', return_sequences=True)))\n",
    "model.add(Dropout(.5))\n",
    "\n",
    "model.add(Dense(char_to_num.vocabulary_size()+1, kernel_initializer='he_normal', activation='softmax'))  # output layer"
   ]
  },
  {
   "cell_type": "code",
   "execution_count": 34,
   "id": "f9171056-a352-491a-9ed9-92b28ced268e",
   "metadata": {
    "tags": [],
    "ExecuteTime": {
     "end_time": "2024-02-22T20:19:10.601566905Z",
     "start_time": "2024-02-22T20:19:08.588297693Z"
    }
   },
   "outputs": [],
   "source": [
    "model.summary()"
   ]
  },
  {
   "cell_type": "code",
   "execution_count": 35,
   "id": "78851825-2bcd-42a9-b7f2-28bb5a6bf43a",
   "metadata": {
    "collapsed": true,
    "jupyter": {
     "outputs_hidden": true
    },
    "tags": [],
    "ExecuteTime": {
     "end_time": "2024-02-22T20:19:13.725775109Z",
     "start_time": "2024-02-22T20:19:13.702701480Z"
    }
   },
   "outputs": [
    {
     "name": "stdout",
     "output_type": "stream",
     "text": [
      "Model: \"sequential_1\"\n",
      "_________________________________________________________________\n",
      " Layer (type)                Output Shape              Param #   \n",
      "=================================================================\n",
      " conv3d (Conv3D)             (None, 75, 46, 140, 128   3584      \n",
      "                             )                                   \n",
      "                                                                 \n",
      " activation (Activation)     (None, 75, 46, 140, 128   0         \n",
      "                             )                                   \n",
      "                                                                 \n",
      " max_pooling3d (MaxPooling3  (None, 75, 23, 70, 128)   0         \n",
      " D)                                                              \n",
      "                                                                 \n",
      " conv3d_1 (Conv3D)           (None, 75, 23, 70, 256)   884992    \n",
      "                                                                 \n",
      " activation_1 (Activation)   (None, 75, 23, 70, 256)   0         \n",
      "                                                                 \n",
      " max_pooling3d_1 (MaxPoolin  (None, 75, 11, 35, 256)   0         \n",
      " g3D)                                                            \n",
      "                                                                 \n",
      " conv3d_2 (Conv3D)           (None, 75, 11, 35, 75)    518475    \n",
      "                                                                 \n",
      " activation_2 (Activation)   (None, 75, 11, 35, 75)    0         \n",
      "                                                                 \n",
      " max_pooling3d_2 (MaxPoolin  (None, 75, 5, 17, 75)     0         \n",
      " g3D)                                                            \n",
      "                                                                 \n",
      " time_distributed (TimeDist  (None, 75, 6375)          0         \n",
      " ributed)                                                        \n",
      "                                                                 \n",
      " bidirectional (Bidirection  (None, 75, 256)           6660096   \n",
      " al)                                                             \n",
      "                                                                 \n",
      " dropout (Dropout)           (None, 75, 256)           0         \n",
      "                                                                 \n",
      " bidirectional_1 (Bidirecti  (None, 75, 256)           394240    \n",
      " onal)                                                           \n",
      "                                                                 \n",
      " dropout_1 (Dropout)         (None, 75, 256)           0         \n",
      "                                                                 \n",
      " dense (Dense)               (None, 75, 29)            7453      \n",
      "                                                                 \n",
      "=================================================================\n",
      "Total params: 8468840 (32.31 MB)\n",
      "Trainable params: 8468840 (32.31 MB)\n",
      "Non-trainable params: 0 (0.00 Byte)\n",
      "_________________________________________________________________\n"
     ]
    }
   ],
   "source": [
    "5*17*75"
   ]
  },
  {
   "cell_type": "code",
   "execution_count": 52,
   "id": "f4b4798c-a65a-4c47-9e2a-3b09dc98d320",
   "metadata": {
    "ExecuteTime": {
     "end_time": "2024-02-22T20:30:14.946348413Z",
     "start_time": "2024-02-22T20:30:14.896151411Z"
    }
   },
   "outputs": [
    {
     "data": {
      "text/plain": "(2, 75, 46, 140, 1)"
     },
     "execution_count": 52,
     "metadata": {},
     "output_type": "execute_result"
    }
   ],
   "source": [
    "yhat = model.predict(val[0])"
   ]
  },
  {
   "cell_type": "code",
   "execution_count": 36,
   "id": "e5c2eae0-c359-41a4-97a0-75c44dccb7d1",
   "metadata": {
    "tags": [],
    "ExecuteTime": {
     "end_time": "2024-02-22T20:19:22.416428674Z",
     "start_time": "2024-02-22T20:19:17.988269473Z"
    }
   },
   "outputs": [
    {
     "name": "stderr",
     "output_type": "stream",
     "text": [
      "2024-02-22 20:19:18.630819: I external/local_xla/xla/stream_executor/cuda/cuda_dnn.cc:454] Loaded cuDNN version 8902\n",
      "2024-02-22 20:19:18.714614: I external/local_tsl/tsl/platform/default/subprocess.cc:304] Start cannot spawn child process: No such file or directory\n"
     ]
    },
    {
     "name": "stdout",
     "output_type": "stream",
     "text": [
      "1/1 [==============================] - 4s 4s/step\n"
     ]
    }
   ],
   "source": [
    "tf.strings.reduce_join([num_to_char(x) for x in tf.argmax(yhat[0],axis=1)])"
   ]
  },
  {
   "cell_type": "code",
   "execution_count": 37,
   "id": "ffdc7319-0d69-4f7e-a6d4-ce72deb81c0b",
   "metadata": {
    "ExecuteTime": {
     "end_time": "2024-02-22T20:19:25.222016418Z",
     "start_time": "2024-02-22T20:19:25.187099528Z"
    }
   },
   "outputs": [
    {
     "data": {
      "text/plain": "<tf.Tensor: shape=(), dtype=string, numpy=b'ccccccccccccccccccccccccccccccccccccccccccccccccccccccccccccccccccccccccccc'>"
     },
     "execution_count": 37,
     "metadata": {},
     "output_type": "execute_result"
    }
   ],
   "source": [
    "tf.strings.reduce_join([num_to_char(tf.argmax(x)) for x in yhat[0]])"
   ]
  },
  {
   "cell_type": "code",
   "execution_count": 38,
   "id": "6ed47531-8317-4255-9a12-b757642258e6",
   "metadata": {
    "tags": [],
    "ExecuteTime": {
     "end_time": "2024-02-22T20:19:26.323395129Z",
     "start_time": "2024-02-22T20:19:26.281377102Z"
    }
   },
   "outputs": [
    {
     "data": {
      "text/plain": "<tf.Tensor: shape=(), dtype=string, numpy=b'ccccccccccccccccccccccccccccccccccccccccccccccccccccccccccccccccccccccccccc'>"
     },
     "execution_count": 38,
     "metadata": {},
     "output_type": "execute_result"
    }
   ],
   "source": [
    "model.input_shape"
   ]
  },
  {
   "cell_type": "code",
   "execution_count": 39,
   "id": "7c37b9b9-5298-4038-9c33-5031d1b457f0",
   "metadata": {
    "tags": [],
    "ExecuteTime": {
     "end_time": "2024-02-22T20:19:27.690738272Z",
     "start_time": "2024-02-22T20:19:27.684228864Z"
    }
   },
   "outputs": [
    {
     "data": {
      "text/plain": "(None, 75, 46, 140, 1)"
     },
     "execution_count": 39,
     "metadata": {},
     "output_type": "execute_result"
    }
   ],
   "source": [
    "model.output_shape"
   ]
  },
  {
   "cell_type": "markdown",
   "source": [
    "# 4. Setup Training Options and Train"
   ],
   "metadata": {
    "collapsed": false
   },
   "id": "512b49b76d6cdd37"
  },
  {
   "cell_type": "code",
   "outputs": [],
   "source": [
    "def scheduler(epoch, lr):   # learning rate scheduler\n",
    "    if epoch < 30:\n",
    "        return lr\n",
    "    else:\n",
    "        return lr * tf.math.exp(-0.1)  "
   ],
   "metadata": {
    "collapsed": false
   },
   "id": "3379cebe0d6a247f"
  },
  {
   "cell_type": "code",
   "execution_count": 41,
   "id": "ab015fd0-7fb4-4d5d-9fa2-30a05dbd515a",
   "metadata": {
    "tags": [],
    "ExecuteTime": {
     "end_time": "2024-02-22T20:19:43.564158290Z",
     "start_time": "2024-02-22T20:19:43.521155187Z"
    }
   },
   "outputs": [],
   "source": [
    "def CTCLoss(y_true, y_pred):\n",
    "    batch_len = tf.cast(tf.shape(y_true)[0], dtype=\"int64\")\n",
    "    input_length = tf.cast(tf.shape(y_pred)[1], dtype=\"int64\")\n",
    "    label_length = tf.cast(tf.shape(y_true)[1], dtype=\"int64\")\n",
    "\n",
    "    input_length = input_length * tf.ones(shape=(batch_len, 1), dtype=\"int64\")\n",
    "    label_length = label_length * tf.ones(shape=(batch_len, 1), dtype=\"int64\")\n",
    "\n",
    "    loss = tf.keras.backend.ctc_batch_cost(y_true, y_pred, input_length, label_length)\n",
    "    return loss"
   ]
  },
  {
   "cell_type": "code",
   "execution_count": 42,
   "id": "c564d5c9-db54-4e88-b311-9aeab7fb3e69",
   "metadata": {
    "tags": [],
    "ExecuteTime": {
     "end_time": "2024-02-22T20:19:44.016404910Z",
     "start_time": "2024-02-22T20:19:44.003000196Z"
    }
   },
   "outputs": [],
   "source": [
    "class ProduceExample(tf.keras.callbacks.Callback): \n",
    "    def __init__(self, dataset) -> None: \n",
    "        self.dataset = dataset.as_numpy_iterator()\n",
    "    \n",
    "    def on_epoch_end(self, epoch, logs=None) -> None:\n",
    "        try:\n",
    "            data = self.dataset.next()\n",
    "            yhat = self.model.predict(data[0])\n",
    "            decoded = tf.keras.backend.ctc_decode(yhat, [75,75], greedy=False)[0][0].numpy()\n",
    "            for x in range(len(yhat)):           \n",
    "                print('Original:', tf.strings.reduce_join(num_to_char(data[1][x])).numpy().decode('utf-8'))\n",
    "                print('Prediction:', tf.strings.reduce_join(num_to_char(decoded[x])).numpy().decode('utf-8'))\n",
    "                print('~'*100)\n",
    "        except StopIteration:\n",
    "            self.dataset = self.dataset.as_numpy_iterator()\n",
    "            data = self.dataset.next()\n",
    "            yhat = self.model.predict(data[0])\n",
    "            decoded = tf.keras.backend.ctc_decode(yhat, [75,75], greedy=False)[0][0].numpy()\n",
    "            for x in range(len(yhat)):           \n",
    "                print('Original:', tf.strings.reduce_join(num_to_char(data[1][x])).numpy().decode('utf-8'))\n",
    "                print('Prediction:', tf.strings.reduce_join(num_to_char(decoded[x])).numpy().decode('utf-8'))\n",
    "                print('~'*100)"
   ]
  },
  {
   "cell_type": "code",
   "execution_count": 43,
   "id": "a26dc3fc-a19c-4378-bd8c-e2b597a1d15c",
   "metadata": {
    "tags": [],
    "ExecuteTime": {
     "end_time": "2024-02-22T20:19:44.612783318Z",
     "start_time": "2024-02-22T20:19:44.600299566Z"
    }
   },
   "outputs": [],
   "source": [
    "model.compile(optimizer=Adam(learning_rate=0.0001), loss=CTCLoss)"
   ]
  },
  {
   "cell_type": "code",
   "execution_count": 44,
   "id": "04be90d8-2482-46f9-b513-d5f4f8001c7e",
   "metadata": {
    "tags": [],
    "ExecuteTime": {
     "end_time": "2024-02-22T20:19:45.396934819Z",
     "start_time": "2024-02-22T20:19:45.378098401Z"
    }
   },
   "outputs": [],
   "source": [
    "checkpoint_callback = ModelCheckpoint(os.path.join('models_4','checkpoint'), monitor='loss', save_weights_only=True) "
   ]
  },
  {
   "cell_type": "code",
   "execution_count": 46,
   "id": "eab49367-3f1e-4464-ae76-dbd07549d97e",
   "metadata": {
    "tags": [],
    "ExecuteTime": {
     "end_time": "2024-02-22T20:19:54.731576101Z",
     "start_time": "2024-02-22T20:19:54.708916270Z"
    }
   },
   "outputs": [],
   "source": [
    "schedule_callback = LearningRateScheduler(scheduler)"
   ]
  },
  {
   "cell_type": "code",
   "execution_count": 47,
   "id": "e085a632-d464-46ef-8777-959cad4adb2c",
   "metadata": {
    "tags": [],
    "ExecuteTime": {
     "end_time": "2024-02-22T20:19:55.416250114Z",
     "start_time": "2024-02-22T20:19:55.405324244Z"
    }
   },
   "outputs": [],
   "source": [
    "example_callback = ProduceExample(train)"
   ]
  },
  {
   "cell_type": "code",
   "execution_count": 48,
   "id": "48eca991-90ab-4592-8a79-b50e9ca015b6",
   "metadata": {
    "tags": [],
    "ExecuteTime": {
     "end_time": "2024-02-22T20:19:57.302453162Z",
     "start_time": "2024-02-22T20:19:57.269848133Z"
    }
   },
   "outputs": [],
   "source": [
    "model.fit(train, validation_data=test, epochs=60, callbacks=[checkpoint_callback, schedule_callback],batch_size=400)\n",
    "\n",
    "# caculate the loss"
   ]
  },
  {
   "cell_type": "code",
   "outputs": [
    {
     "name": "stdout",
     "output_type": "stream",
     "text": [
      "Epoch 1/60\n"
     ]
    },
    {
     "name": "stderr",
     "output_type": "stream",
     "text": [
      "2024-02-18 12:03:27.076344: I external/local_xla/xla/service/service.cc:168] XLA service 0x7fe6cc1aae50 initialized for platform CUDA (this does not guarantee that XLA will be used). Devices:\n",
      "2024-02-18 12:03:27.076358: I external/local_xla/xla/service/service.cc:176]   StreamExecutor device (0): NVIDIA GeForce RTX 4060 Ti, Compute Capability 8.9\n",
      "2024-02-18 12:03:27.084683: I tensorflow/compiler/mlir/tensorflow/utils/dump_mlir_util.cc:269] disabling MLIR crash reproducer, set env var `MLIR_CRASH_REPRODUCER_DIRECTORY` to enable.\n",
      "WARNING: All log messages before absl::InitializeLog() is called are written to STDERR\n",
      "I0000 00:00:1708257807.142641    4736 device_compiler.h:186] Compiled cluster using XLA!  This line is logged at most once for the lifetime of the process.\n"
     ]
    },
    {
     "name": "stdout",
     "output_type": "stream",
     "text": [
      "450/450 [==============================] - 91s 179ms/step - loss: 83.8198 - val_loss: 71.2452 - lr: 1.0000e-04\n",
      "Epoch 2/60\n",
      "450/450 [==============================] - 80s 177ms/step - loss: 72.2615 - val_loss: 67.7371 - lr: 1.0000e-04\n",
      "Epoch 3/60\n",
      "450/450 [==============================] - 80s 177ms/step - loss: 69.1459 - val_loss: 63.1106 - lr: 1.0000e-04\n",
      "Epoch 4/60\n",
      "450/450 [==============================] - 80s 177ms/step - loss: 66.6024 - val_loss: 61.7896 - lr: 1.0000e-04\n",
      "Epoch 5/60\n",
      "450/450 [==============================] - 80s 177ms/step - loss: 64.2782 - val_loss: 61.3682 - lr: 1.0000e-04\n",
      "Epoch 6/60\n",
      "450/450 [==============================] - 80s 177ms/step - loss: 63.0311 - val_loss: 60.7375 - lr: 1.0000e-04\n",
      "Epoch 7/60\n",
      "450/450 [==============================] - 80s 177ms/step - loss: 61.9308 - val_loss: 58.4117 - lr: 1.0000e-04\n",
      "Epoch 8/60\n",
      "450/450 [==============================] - 80s 177ms/step - loss: 60.9039 - val_loss: 58.3614 - lr: 1.0000e-04\n",
      "Epoch 9/60\n",
      "450/450 [==============================] - 80s 177ms/step - loss: 59.9291 - val_loss: 55.9256 - lr: 1.0000e-04\n",
      "Epoch 10/60\n",
      "450/450 [==============================] - 80s 177ms/step - loss: 59.2515 - val_loss: 56.0289 - lr: 1.0000e-04\n",
      "Epoch 11/60\n",
      "450/450 [==============================] - 80s 177ms/step - loss: 55.9740 - val_loss: 52.3014 - lr: 1.0000e-04\n",
      "Epoch 12/60\n",
      "450/450 [==============================] - 80s 177ms/step - loss: 54.2049 - val_loss: 50.9958 - lr: 1.0000e-04\n",
      "Epoch 13/60\n",
      "450/450 [==============================] - 79s 177ms/step - loss: 53.1124 - val_loss: 49.9299 - lr: 1.0000e-04\n",
      "Epoch 14/60\n",
      "450/450 [==============================] - 79s 177ms/step - loss: 52.1072 - val_loss: 47.2395 - lr: 1.0000e-04\n",
      "Epoch 15/60\n",
      "450/450 [==============================] - 79s 177ms/step - loss: 50.9704 - val_loss: 48.8865 - lr: 1.0000e-04\n",
      "Epoch 16/60\n",
      "450/450 [==============================] - 79s 177ms/step - loss: 50.1008 - val_loss: 46.9644 - lr: 1.0000e-04\n",
      "Epoch 17/60\n",
      "450/450 [==============================] - 79s 176ms/step - loss: 49.1736 - val_loss: 46.1690 - lr: 1.0000e-04\n",
      "Epoch 18/60\n",
      "450/450 [==============================] - 79s 177ms/step - loss: 48.1076 - val_loss: 43.6414 - lr: 1.0000e-04\n",
      "Epoch 19/60\n",
      "450/450 [==============================] - 79s 177ms/step - loss: 46.6629 - val_loss: 43.3161 - lr: 1.0000e-04\n",
      "Epoch 20/60\n",
      "450/450 [==============================] - 79s 177ms/step - loss: 45.1821 - val_loss: 39.6466 - lr: 1.0000e-04\n",
      "Epoch 21/60\n",
      "450/450 [==============================] - 79s 176ms/step - loss: 43.2140 - val_loss: 37.0190 - lr: 1.0000e-04\n",
      "Epoch 22/60\n",
      "450/450 [==============================] - 79s 176ms/step - loss: 40.9167 - val_loss: 35.1006 - lr: 1.0000e-04\n",
      "Epoch 23/60\n",
      "450/450 [==============================] - 79s 176ms/step - loss: 38.2850 - val_loss: 32.0921 - lr: 1.0000e-04\n",
      "Epoch 24/60\n",
      "450/450 [==============================] - 79s 177ms/step - loss: 35.8380 - val_loss: 29.1498 - lr: 1.0000e-04\n",
      "Epoch 25/60\n",
      "450/450 [==============================] - 79s 177ms/step - loss: 33.2982 - val_loss: 26.4889 - lr: 1.0000e-04\n",
      "Epoch 26/60\n",
      "450/450 [==============================] - 79s 177ms/step - loss: 30.9674 - val_loss: 25.4984 - lr: 1.0000e-04\n",
      "Epoch 27/60\n",
      "450/450 [==============================] - 79s 177ms/step - loss: 28.4641 - val_loss: 23.4659 - lr: 1.0000e-04\n",
      "Epoch 28/60\n",
      "450/450 [==============================] - 79s 177ms/step - loss: 26.4202 - val_loss: 20.9601 - lr: 1.0000e-04\n",
      "Epoch 29/60\n",
      "450/450 [==============================] - 79s 177ms/step - loss: 24.2335 - val_loss: 18.9452 - lr: 1.0000e-04\n",
      "Epoch 30/60\n",
      "450/450 [==============================] - 79s 177ms/step - loss: 22.4342 - val_loss: 17.7590 - lr: 1.0000e-04\n",
      "Epoch 31/60\n",
      "450/450 [==============================] - 79s 177ms/step - loss: 20.7169 - val_loss: 15.7925 - lr: 9.0484e-05\n",
      "Epoch 32/60\n",
      "450/450 [==============================] - 79s 177ms/step - loss: 18.9983 - val_loss: 14.3425 - lr: 8.1873e-05\n",
      "Epoch 33/60\n",
      "450/450 [==============================] - 79s 177ms/step - loss: 17.6200 - val_loss: 12.6871 - lr: 7.4082e-05\n",
      "Epoch 34/60\n",
      "450/450 [==============================] - 79s 177ms/step - loss: 16.4641 - val_loss: 11.5249 - lr: 6.7032e-05\n",
      "Epoch 35/60\n",
      "450/450 [==============================] - 79s 177ms/step - loss: 15.3850 - val_loss: 10.8154 - lr: 6.0653e-05\n",
      "Epoch 36/60\n",
      "450/450 [==============================] - 79s 177ms/step - loss: 14.5438 - val_loss: 10.0118 - lr: 5.4881e-05\n",
      "Epoch 37/60\n",
      "450/450 [==============================] - 79s 177ms/step - loss: 13.6952 - val_loss: 9.6313 - lr: 4.9659e-05\n",
      "Epoch 38/60\n",
      "450/450 [==============================] - 80s 177ms/step - loss: 13.0298 - val_loss: 8.5644 - lr: 4.4933e-05\n",
      "Epoch 39/60\n",
      "450/450 [==============================] - 79s 177ms/step - loss: 12.4126 - val_loss: 8.6963 - lr: 4.0657e-05\n",
      "Epoch 40/60\n",
      "450/450 [==============================] - 80s 177ms/step - loss: 11.9885 - val_loss: 7.8432 - lr: 3.6788e-05\n",
      "Epoch 41/60\n",
      "450/450 [==============================] - 80s 177ms/step - loss: 11.3767 - val_loss: 8.1532 - lr: 3.3287e-05\n",
      "Epoch 42/60\n",
      "450/450 [==============================] - 80s 177ms/step - loss: 11.0581 - val_loss: 7.1500 - lr: 3.0119e-05\n",
      "Epoch 43/60\n",
      "450/450 [==============================] - 80s 177ms/step - loss: 10.5923 - val_loss: 7.4067 - lr: 2.7253e-05\n",
      "Epoch 44/60\n",
      "450/450 [==============================] - 80s 177ms/step - loss: 10.2153 - val_loss: 6.2561 - lr: 2.4660e-05\n",
      "Epoch 45/60\n",
      "450/450 [==============================] - 80s 177ms/step - loss: 9.9418 - val_loss: 6.4693 - lr: 2.2313e-05\n",
      "Epoch 46/60\n",
      "450/450 [==============================] - 80s 177ms/step - loss: 9.6671 - val_loss: 6.5488 - lr: 2.0190e-05\n",
      "Epoch 47/60\n",
      "450/450 [==============================] - 80s 177ms/step - loss: 9.4411 - val_loss: 5.8044 - lr: 1.8268e-05\n",
      "Epoch 48/60\n",
      "450/450 [==============================] - 80s 177ms/step - loss: 9.1712 - val_loss: 5.7100 - lr: 1.6530e-05\n",
      "Epoch 49/60\n",
      "450/450 [==============================] - 80s 177ms/step - loss: 8.9879 - val_loss: 5.5689 - lr: 1.4957e-05\n",
      "Epoch 50/60\n",
      "450/450 [==============================] - 80s 177ms/step - loss: 8.7393 - val_loss: 5.7953 - lr: 1.3534e-05\n",
      "Epoch 51/60\n",
      "450/450 [==============================] - 80s 177ms/step - loss: 8.7078 - val_loss: 5.4763 - lr: 1.2246e-05\n",
      "Epoch 52/60\n",
      "450/450 [==============================] - 80s 177ms/step - loss: 8.3584 - val_loss: 4.8454 - lr: 1.1080e-05\n",
      "Epoch 53/60\n",
      "450/450 [==============================] - 80s 177ms/step - loss: 8.1855 - val_loss: 4.7899 - lr: 1.0026e-05\n",
      "Epoch 54/60\n",
      "450/450 [==============================] - 80s 177ms/step - loss: 8.2099 - val_loss: 5.3046 - lr: 9.0718e-06\n",
      "Epoch 55/60\n",
      "450/450 [==============================] - 80s 177ms/step - loss: 8.1478 - val_loss: 5.0479 - lr: 8.2085e-06\n",
      "Epoch 56/60\n",
      "450/450 [==============================] - 80s 177ms/step - loss: 8.0638 - val_loss: 4.4426 - lr: 7.4273e-06\n",
      "Epoch 57/60\n",
      "450/450 [==============================] - 80s 177ms/step - loss: 7.9843 - val_loss: 4.4954 - lr: 6.7205e-06\n",
      "Epoch 58/60\n",
      "450/450 [==============================] - 80s 177ms/step - loss: 7.8770 - val_loss: 4.8899 - lr: 6.0810e-06\n",
      "Epoch 59/60\n",
      "450/450 [==============================] - 80s 177ms/step - loss: 7.7517 - val_loss: 4.6675 - lr: 5.5023e-06\n",
      "Epoch 60/60\n",
      "450/450 [==============================] - 80s 177ms/step - loss: 7.6741 - val_loss: 4.5985 - lr: 4.9787e-06\n"
     ]
    },
    {
     "data": {
      "text/plain": "<keras.src.callbacks.History at 0x7fe7381d3e80>"
     },
     "execution_count": 105,
     "metadata": {},
     "output_type": "execute_result"
    }
   ],
   "source": [
    "# model.evaluate(test)\n",
    "loss_history = model.history.history"
   ],
   "metadata": {
    "collapsed": false,
    "ExecuteTime": {
     "end_time": "2024-02-18T13:23:04.236616832Z",
     "start_time": "2024-02-18T12:03:21.324114304Z"
    }
   },
   "id": "fe16ed304f2ec4c6",
   "execution_count": 105
  },
  {
   "cell_type": "code",
   "outputs": [],
   "source": [
    "# draw the loss curve\n",
    "print(loss_history.keys())\n",
    "plt.plot(loss_history['loss'], label='loss')\n",
    "plt.plot(loss_history['val_loss'], label='val_loss')\n",
    "# x label and y label\n",
    "plt.xlabel('Epoch')\n",
    "plt.ylabel('Loss')\n",
    "plt.title('Loss Curve for adding resNet50')\n",
    "plt.legend(loc='upper right')\n",
    "# filename = 'loss_curve_resNet50.png'\n",
    "# plt.savefig(filename)      \n",
    "plt.show()"
   ],
   "metadata": {
    "collapsed": false,
    "ExecuteTime": {
     "end_time": "2024-02-18T15:02:17.840650667Z",
     "start_time": "2024-02-18T15:02:17.796653298Z"
    }
   },
   "id": "ac093f42bf47aa9c",
   "execution_count": 106
  },
  {
   "cell_type": "markdown",
   "source": [
    "\n",
    "# 5. Make a Prediction "
   ],
   "metadata": {
    "collapsed": false
   },
   "id": "691cf1b9fd7203eb"
  },
  {
   "cell_type": "code",
   "outputs": [],
   "source": [
    "# url = 'https://drive.google.com/uc?id=1vWscXs4Vt0a_1IH1-ct2TCgXAZT-N3_Y'\n",
    "# output = 'checkpoints.zip'\n",
    "# gdown.download(url, output, quiet=False)\n",
    "# gdown.extractall('checkpoints.zip', 'models')"
   ],
   "metadata": {
    "collapsed": false
   },
   "id": "4b090fc31aa79104"
  },
  {
   "cell_type": "code",
   "execution_count": null,
   "id": "01fa7204-ce0e-49a8-8dbd-14fe5dfead40",
   "metadata": {
    "tags": [],
    "ExecuteTime": {
     "start_time": "2024-02-12T01:36:35.237003281Z"
    }
   },
   "outputs": [],
   "source": [
    "model.load_weights('models_4/checkpoint')\n"
   ]
  },
  {
   "cell_type": "code",
   "execution_count": 53,
   "id": "247f664d-3c87-4e96-946e-930dad0e1c2c",
   "metadata": {
    "tags": [],
    "ExecuteTime": {
     "end_time": "2024-02-22T20:33:50.232226392Z",
     "start_time": "2024-02-22T20:33:50.185490705Z"
    }
   },
   "outputs": [
    {
     "data": {
      "text/plain": "<tensorflow.python.checkpoint.checkpoint.CheckpointLoadStatus at 0x7fb460173e20>"
     },
     "execution_count": 53,
     "metadata": {},
     "output_type": "execute_result"
    }
   ],
   "source": [
    "## test on the test data\n",
    "test_loss= model.evaluate(test)\n",
    "print(f' adding resNet50 The Test loss: {test_loss}')\n",
    "# accuracy\n",
    "accuracy = 100 - test_loss\n",
    "print(f' adding resNet50 The Test accuracy: {accuracy}')\n",
    "# test on the train data\n",
    "train_loss= model.evaluate(train)\n",
    "print(f' adding resNet50 The Train loss: {train_loss}')\n"
   ]
  },
  {
   "cell_type": "code",
   "outputs": [
    {
     "name": "stdout",
     "output_type": "stream",
     "text": [
      "50/50 [==============================] - 4s 54ms/step - loss: 103.2302\n",
      " adding resNet50 for dataset S10 The Test loss: 103.23021697998047\n",
      " adding resNet50 for dataset S10 The Test accuracy: -3.2302169799804688\n",
      "450/450 [==============================] - 24s 54ms/step - loss: 101.0674\n",
      " adding resNet50 for dataset S10 The Train loss: 101.0674057006836\n"
     ]
    }
   ],
   "source": [
    "test_data = test.as_numpy_iterator()"
   ],
   "metadata": {
    "collapsed": false,
    "ExecuteTime": {
     "end_time": "2024-02-22T20:20:37.714371686Z",
     "start_time": "2024-02-22T20:20:09.346774955Z"
    }
   },
   "id": "354219c15c43d756",
   "execution_count": 51
  },
  {
   "cell_type": "code",
   "execution_count": 152,
   "id": "7f8d689f-b7bb-443c-9b88-e40c1d800828",
   "metadata": {
    "tags": [],
    "ExecuteTime": {
     "end_time": "2024-02-12T16:16:06.140454488Z",
     "start_time": "2024-02-12T16:16:06.131411928Z"
    }
   },
   "outputs": [],
   "source": [
    "sample = test_data.next()"
   ]
  },
  {
   "cell_type": "code",
   "execution_count": 153,
   "id": "38546dc2-bee9-4837-864b-8a884df40ad7",
   "metadata": {
    "tags": [],
    "ExecuteTime": {
     "end_time": "2024-02-12T16:16:06.951747643Z",
     "start_time": "2024-02-12T16:16:06.670238670Z"
    }
   },
   "outputs": [],
   "source": [
    "yhat = model.predict(sample[0])"
   ]
  },
  {
   "cell_type": "code",
   "execution_count": 154,
   "id": "a43621f0-229d-4c0d-9554-9c3a3da9c61a",
   "metadata": {
    "tags": [],
    "ExecuteTime": {
     "end_time": "2024-02-12T16:16:08.516138476Z",
     "start_time": "2024-02-12T16:16:07.899488508Z"
    }
   },
   "outputs": [
    {
     "name": "stdout",
     "output_type": "stream",
     "text": [
      "WARNING:tensorflow:5 out of the last 10 calls to <function Model.make_predict_function.<locals>.predict_function at 0x7ff1ec62bd90> triggered tf.function retracing. Tracing is expensive and the excessive number of tracings could be due to (1) creating @tf.function repeatedly in a loop, (2) passing tensors with different shapes, (3) passing Python objects instead of tensors. For (1), please define your @tf.function outside of the loop. For (2), @tf.function has reduce_retracing=True option that can avoid unnecessary retracing. For (3), please refer to https://www.tensorflow.org/guide/function#controlling_retracing and https://www.tensorflow.org/api_docs/python/tf/function for  more details.\n",
      "1/1 [==============================] - 1s 593ms/step\n"
     ]
    }
   ],
   "source": [
    "print('~'*100, 'REAL TEXT')\n",
    "[tf.strings.reduce_join([num_to_char(word) for word in sentence]) for sentence in sample[1]]"
   ]
  },
  {
   "cell_type": "code",
   "execution_count": 155,
   "id": "ea462999-f87e-4a7e-a057-5be7b6d8f7d5",
   "metadata": {
    "tags": [],
    "ExecuteTime": {
     "end_time": "2024-02-12T16:16:13.077030066Z",
     "start_time": "2024-02-12T16:16:13.049590413Z"
    }
   },
   "outputs": [
    {
     "name": "stdout",
     "output_type": "stream",
     "text": [
      "~~~~~~~~~~~~~~~~~~~~~~~~~~~~~~~~~~~~~~~~~~~~~~~~~~~~~~~~~~~~~~~~~~~~~~~~~~~~~~~~~~~~~~~~~~~~~~~~~~~~ REAL TEXT\n"
     ]
    },
    {
     "data": {
      "text/plain": "[<tf.Tensor: shape=(), dtype=string, numpy=b'bin green at t nine soon'>,\n <tf.Tensor: shape=(), dtype=string, numpy=b'bin blue in z one soon'>]"
     },
     "execution_count": 155,
     "metadata": {},
     "output_type": "execute_result"
    }
   ],
   "source": [
    "decoded = tf.keras.backend.ctc_decode(yhat, input_length=[75,75], greedy=True)[0][0].numpy()"
   ]
  },
  {
   "cell_type": "code",
   "execution_count": 156,
   "id": "82bd4c10-dd6e-411e-834b-2a3b43fd12c5",
   "metadata": {
    "tags": [],
    "ExecuteTime": {
     "end_time": "2024-02-12T16:16:16.970942685Z",
     "start_time": "2024-02-12T16:16:16.925915060Z"
    }
   },
   "outputs": [],
   "source": [
    "print('~'*100, 'PREDICTIONS')\n",
    "[tf.strings.reduce_join([num_to_char(word) for word in sentence]) for sentence in decoded]"
   ]
  },
  {
   "cell_type": "markdown",
   "source": [
    "# Test on a Video"
   ],
   "metadata": {
    "collapsed": false
   },
   "id": "262ccad62384a235"
  },
  {
   "cell_type": "code",
   "outputs": [],
   "source": [
    "sample = load_data(tf.convert_to_tensor('./data/s1/bbal6n.mpg'))"
   ],
   "metadata": {
    "collapsed": false
   },
   "id": "958c9c4b43e74e89"
  },
  {
   "cell_type": "code",
   "execution_count": 158,
   "id": "a8b0c4d0-2031-4331-b91d-d87b1ae6f6e2",
   "metadata": {
    "ExecuteTime": {
     "end_time": "2024-02-12T16:16:24.734922400Z",
     "start_time": "2024-02-12T16:16:24.731180228Z"
    }
   },
   "outputs": [],
   "source": [
    "print('~'*100, 'REAL TEXT')\n",
    "[tf.strings.reduce_join([num_to_char(word) for word in sentence]) for sentence in [sample[1]]]"
   ]
  },
  {
   "cell_type": "code",
   "execution_count": 159,
   "id": "0cca60e4-47a9-4683-8a75-48f4684f723d",
   "metadata": {
    "ExecuteTime": {
     "end_time": "2024-02-12T16:16:25.299730281Z",
     "start_time": "2024-02-12T16:16:25.268328124Z"
    }
   },
   "outputs": [
    {
     "name": "stdout",
     "output_type": "stream",
     "text": [
      "~~~~~~~~~~~~~~~~~~~~~~~~~~~~~~~~~~~~~~~~~~~~~~~~~~~~~~~~~~~~~~~~~~~~~~~~~~~~~~~~~~~~~~~~~~~~~~~~~~~~ REAL TEXT\n"
     ]
    },
    {
     "data": {
      "text/plain": "[<tf.Tensor: shape=(), dtype=string, numpy=b'bin blue at l six now'>]"
     },
     "execution_count": 159,
     "metadata": {},
     "output_type": "execute_result"
    }
   ],
   "source": [
    "yhat = model.predict(tf.expand_dims(sample[0], axis=0))"
   ]
  },
  {
   "cell_type": "code",
   "execution_count": 160,
   "id": "8cc5037c-1e32-435c-b0cc-01e1fb3b863c",
   "metadata": {
    "ExecuteTime": {
     "end_time": "2024-02-12T16:16:27.165946148Z",
     "start_time": "2024-02-12T16:16:26.526485904Z"
    }
   },
   "outputs": [
    {
     "name": "stdout",
     "output_type": "stream",
     "text": [
      "WARNING:tensorflow:6 out of the last 11 calls to <function Model.make_predict_function.<locals>.predict_function at 0x7ff1ec62bd90> triggered tf.function retracing. Tracing is expensive and the excessive number of tracings could be due to (1) creating @tf.function repeatedly in a loop, (2) passing tensors with different shapes, (3) passing Python objects instead of tensors. For (1), please define your @tf.function outside of the loop. For (2), @tf.function has reduce_retracing=True option that can avoid unnecessary retracing. For (3), please refer to https://www.tensorflow.org/guide/function#controlling_retracing and https://www.tensorflow.org/api_docs/python/tf/function for  more details.\n",
      "1/1 [==============================] - 1s 610ms/step\n"
     ]
    }
   ],
   "source": [
    "decoded = tf.keras.backend.ctc_decode(yhat, input_length=[75], greedy=True)[0][0].numpy()"
   ]
  },
  {
   "cell_type": "code",
   "execution_count": 161,
   "id": "22c4f77d-715d-409f-bc5e-3ebe48704e8f",
   "metadata": {
    "ExecuteTime": {
     "end_time": "2024-02-12T16:16:27.214791467Z",
     "start_time": "2024-02-12T16:16:27.165556587Z"
    }
   },
   "outputs": [],
   "source": [
    "print('~'*100, 'PREDICTIONS')\n",
    "[tf.strings.reduce_join([num_to_char(word) for word in sentence]) for sentence in decoded]"
   ]
  },
  {
   "cell_type": "code",
   "execution_count": 162,
   "id": "e4d12ecc-b634-499e-a4bc-db9f010835fb",
   "metadata": {
    "ExecuteTime": {
     "end_time": "2024-02-12T16:16:28.583399003Z",
     "start_time": "2024-02-12T16:16:28.551488071Z"
    }
   },
   "outputs": [
    {
     "name": "stdout",
     "output_type": "stream",
     "text": [
      "~~~~~~~~~~~~~~~~~~~~~~~~~~~~~~~~~~~~~~~~~~~~~~~~~~~~~~~~~~~~~~~~~~~~~~~~~~~~~~~~~~~~~~~~~~~~~~~~~~~~ PREDICTIONS\n"
     ]
    },
    {
     "data": {
      "text/plain": "[<tf.Tensor: shape=(), dtype=string, numpy=b'bin blue at l six now'>]"
     },
     "execution_count": 162,
     "metadata": {},
     "output_type": "execute_result"
    }
   ],
   "source": []
  },
  {
   "cell_type": "code",
   "outputs": [],
   "source": [],
   "metadata": {
    "collapsed": false
   },
   "id": "9d22c61452e9e439"
  },
  {
   "cell_type": "code",
   "execution_count": null,
   "id": "551dfea2-de6b-4400-b71a-a17631529e3f",
   "metadata": {
    "ExecuteTime": {
     "start_time": "2024-02-12T01:36:35.237326162Z"
    }
   },
   "outputs": [],
   "source": []
  },
  {
   "cell_type": "code",
   "execution_count": null,
   "id": "fa95863d-3832-47bf-8a77-ebaa38054ace",
   "metadata": {
    "ExecuteTime": {
     "start_time": "2024-02-12T01:36:35.257872173Z"
    }
   },
   "outputs": [],
   "source": []
  }
 ],
 "metadata": {
  "kernelspec": {
   "name": "python3",
   "language": "python",
   "display_name": "Python 3 (ipykernel)"
  },
  "language_info": {
   "codemirror_mode": {
    "name": "ipython",
    "version": 3
   },
   "file_extension": ".py",
   "mimetype": "text/x-python",
   "name": "python",
   "nbconvert_exporter": "python",
   "pygments_lexer": "ipython3",
   "version": "3.9.12"
  }
 },
 "nbformat": 4,
 "nbformat_minor": 5
}
